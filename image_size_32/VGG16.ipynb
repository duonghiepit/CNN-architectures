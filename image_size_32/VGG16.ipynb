{
 "cells": [
  {
   "cell_type": "code",
   "execution_count": 1,
   "id": "d4e45a49-974f-4f9c-8642-42e2c45aab71",
   "metadata": {},
   "outputs": [],
   "source": [
    "import os\n",
    "os.environ['CUDA_VISIBLE_DEVICES'] = '2'\n",
    "\n",
    "import torch\n",
    "import torchvision.transforms as transforms\n",
    "import torch.nn as nn\n",
    "import torch.nn.functional as F\n",
    "\n",
    "import numpy as np\n",
    "import matplotlib.pyplot as plt\n",
    "\n",
    "from torchvision.datasets import CIFAR10\n",
    "from torch.utils.data import DataLoader \n",
    "from torch.optim import Adam\n",
    "import torchvision\n",
    "import torchvision.models as models\n",
    "from torchsummary import summary\n",
    "\n",
    "torch.manual_seed(1)\n",
    "device = 'cuda' if torch.cuda.is_available() else 'cpu'"
   ]
  },
  {
   "cell_type": "code",
   "execution_count": null,
   "metadata": {},
   "outputs": [],
   "source": []
  },
  {
   "cell_type": "markdown",
   "id": "f913360b-019e-4d69-a540-b7b5715544e1",
   "metadata": {},
   "source": [
    "## Data"
   ]
  },
  {
   "cell_type": "code",
   "execution_count": 2,
   "id": "3ad21976-2d99-49b7-b0b5-84e9ebcd371e",
   "metadata": {},
   "outputs": [
    {
     "name": "stdout",
     "output_type": "stream",
     "text": [
      "Files already downloaded and verified\n",
      "Files already downloaded and verified\n"
     ]
    }
   ],
   "source": [
    "batch_size = 256\n",
    "train_transform = transforms.Compose(\n",
    "    [\n",
    "        transforms.ToTensor(),\n",
    "        transforms.Normalize([0.4914, 0.4822, 0.4465], \n",
    "                             [0.2470, 0.2435, 0.2616]),\n",
    "    ])\n",
    "\n",
    "val_transform = transforms.Compose(\n",
    "    [\n",
    "        transforms.ToTensor(),\n",
    "        transforms.Normalize([0.4914, 0.4822, 0.4465], \n",
    "                             [0.2470, 0.2435, 0.2616])\n",
    "    ])\n",
    "\n",
    "train_set = CIFAR10(\n",
    "    root='./data', \n",
    "    train=True,\n",
    "    download=True, \n",
    "    transform=train_transform\n",
    ")\n",
    "\n",
    "val_set = CIFAR10(\n",
    "    root='./data', \n",
    "    train=False,\n",
    "    download=True, \n",
    "    transform=val_transform\n",
    ")\n",
    "\n",
    "trainloader = DataLoader(\n",
    "    train_set, \n",
    "    batch_size=batch_size,\n",
    "    shuffle=True,\n",
    "    num_workers=4,\n",
    ")\n",
    "\n",
    "testloader = DataLoader(\n",
    "    val_set, \n",
    "    batch_size=batch_size,\n",
    "    shuffle=False, \n",
    "    num_workers=4,\n",
    ")"
   ]
  },
  {
   "cell_type": "code",
   "execution_count": null,
   "id": "cf229497-4b6e-443d-b330-66b6fa139fcd",
   "metadata": {},
   "outputs": [],
   "source": []
  },
  {
   "cell_type": "markdown",
   "id": "6ea0dde8-29e7-4096-bd15-6a5ed74655f0",
   "metadata": {},
   "source": [
    "## Model"
   ]
  },
  {
   "cell_type": "code",
   "execution_count": 3,
   "metadata": {},
   "outputs": [],
   "source": [
    "from torchvision.models import vgg16\n",
    "model = vgg16()\n",
    "model.classifier[-1] = nn.Linear(in_features=4096, out_features=10)\n",
    "\n",
    "model = model.to(device)"
   ]
  },
  {
   "cell_type": "code",
   "execution_count": 4,
   "id": "c8516821-d41b-42a8-9e51-ddfb8f9ec87e",
   "metadata": {},
   "outputs": [
    {
     "name": "stdout",
     "output_type": "stream",
     "text": [
      "----------------------------------------------------------------\n",
      "        Layer (type)               Output Shape         Param #\n",
      "================================================================\n",
      "            Conv2d-1           [-1, 64, 32, 32]           1,792\n",
      "              ReLU-2           [-1, 64, 32, 32]               0\n",
      "            Conv2d-3           [-1, 64, 32, 32]          36,928\n",
      "              ReLU-4           [-1, 64, 32, 32]               0\n",
      "         MaxPool2d-5           [-1, 64, 16, 16]               0\n",
      "            Conv2d-6          [-1, 128, 16, 16]          73,856\n",
      "              ReLU-7          [-1, 128, 16, 16]               0\n",
      "            Conv2d-8          [-1, 128, 16, 16]         147,584\n",
      "              ReLU-9          [-1, 128, 16, 16]               0\n",
      "        MaxPool2d-10            [-1, 128, 8, 8]               0\n",
      "           Conv2d-11            [-1, 256, 8, 8]         295,168\n",
      "             ReLU-12            [-1, 256, 8, 8]               0\n",
      "           Conv2d-13            [-1, 256, 8, 8]         590,080\n",
      "             ReLU-14            [-1, 256, 8, 8]               0\n",
      "           Conv2d-15            [-1, 256, 8, 8]         590,080\n",
      "             ReLU-16            [-1, 256, 8, 8]               0\n",
      "        MaxPool2d-17            [-1, 256, 4, 4]               0\n",
      "           Conv2d-18            [-1, 512, 4, 4]       1,180,160\n",
      "             ReLU-19            [-1, 512, 4, 4]               0\n",
      "           Conv2d-20            [-1, 512, 4, 4]       2,359,808\n",
      "             ReLU-21            [-1, 512, 4, 4]               0\n",
      "           Conv2d-22            [-1, 512, 4, 4]       2,359,808\n",
      "             ReLU-23            [-1, 512, 4, 4]               0\n",
      "        MaxPool2d-24            [-1, 512, 2, 2]               0\n",
      "           Conv2d-25            [-1, 512, 2, 2]       2,359,808\n",
      "             ReLU-26            [-1, 512, 2, 2]               0\n",
      "           Conv2d-27            [-1, 512, 2, 2]       2,359,808\n",
      "             ReLU-28            [-1, 512, 2, 2]               0\n",
      "           Conv2d-29            [-1, 512, 2, 2]       2,359,808\n",
      "             ReLU-30            [-1, 512, 2, 2]               0\n",
      "        MaxPool2d-31            [-1, 512, 1, 1]               0\n",
      "AdaptiveAvgPool2d-32            [-1, 512, 7, 7]               0\n",
      "           Linear-33                 [-1, 4096]     102,764,544\n",
      "             ReLU-34                 [-1, 4096]               0\n",
      "          Dropout-35                 [-1, 4096]               0\n",
      "           Linear-36                 [-1, 4096]      16,781,312\n",
      "             ReLU-37                 [-1, 4096]               0\n",
      "          Dropout-38                 [-1, 4096]               0\n",
      "           Linear-39                   [-1, 10]          40,970\n",
      "================================================================\n",
      "Total params: 134,301,514\n",
      "Trainable params: 134,301,514\n",
      "Non-trainable params: 0\n",
      "----------------------------------------------------------------\n",
      "Input size (MB): 0.01\n",
      "Forward/backward pass size (MB): 4.84\n",
      "Params size (MB): 512.32\n",
      "Estimated Total Size (MB): 517.17\n",
      "----------------------------------------------------------------\n"
     ]
    }
   ],
   "source": [
    "summary(model, (3, 32, 32))"
   ]
  },
  {
   "cell_type": "markdown",
   "id": "43c7b151-a199-4e2a-8015-fdfb5f166284",
   "metadata": {},
   "source": [
    "# Train"
   ]
  },
  {
   "cell_type": "code",
   "execution_count": 5,
   "id": "1464e2bd-b627-475d-9941-f2a930d69a14",
   "metadata": {},
   "outputs": [],
   "source": [
    "criterion = nn.CrossEntropyLoss()\n",
    "optimizer = Adam(model.parameters(), lr=2e-4)"
   ]
  },
  {
   "cell_type": "code",
   "execution_count": 6,
   "id": "04744c84-1e6d-4bfb-8dd5-abbdc91f102e",
   "metadata": {},
   "outputs": [],
   "source": [
    "# Function to compute loss and accuracy for test set\n",
    "def evaluate(model, testloader, criterion):\n",
    "    model.eval()\n",
    "    test_loss = 0.0\n",
    "    running_correct = 0\n",
    "    total = 0\n",
    "    with torch.no_grad():\n",
    "        for images, labels in testloader:\n",
    "            # Move inputs and labels to the device\n",
    "            images, labels = images.to(device), labels.to(device)\n",
    "\n",
    "            outputs = model(images)\n",
    "            loss = criterion(outputs, labels)\n",
    "            test_loss += loss.item()\n",
    "            \n",
    "            _, predicted = torch.max(outputs.data, 1)\n",
    "            total += labels.size(0)\n",
    "            running_correct += (predicted == labels).sum().item()\n",
    "\n",
    "    accuracy = 100 * running_correct / total\n",
    "    test_loss = test_loss / len(testloader)\n",
    "    return test_loss, accuracy"
   ]
  },
  {
   "cell_type": "code",
   "execution_count": 7,
   "id": "f2402591-e7f7-4bdd-8962-c029cfcd9307",
   "metadata": {},
   "outputs": [],
   "source": [
    "# some parameter\n",
    "train_losses = []\n",
    "train_accuracies = []\n",
    "test_losses = []\n",
    "test_accuracies = []\n",
    "max_epoch = 150"
   ]
  },
  {
   "cell_type": "code",
   "execution_count": 8,
   "id": "190a58e1-0864-4818-a8d2-0f83212c6d13",
   "metadata": {},
   "outputs": [
    {
     "name": "stdout",
     "output_type": "stream",
     "text": [
      "Epoch [  1/150] \t Loss: 1.92238     Accuracy: 22.11% \t Test Loss: 1.65901     Test Accuracy: 34.14%\n",
      "Epoch [  2/150] \t Loss: 1.44941     Accuracy: 43.87% \t Test Loss: 1.25730     Test Accuracy: 53.50%\n",
      "Epoch [  3/150] \t Loss: 1.11920     Accuracy: 59.18% \t Test Loss: 1.07474     Test Accuracy: 61.84%\n",
      "Epoch [  4/150] \t Loss: 0.90229     Accuracy: 67.97% \t Test Loss: 1.00326     Test Accuracy: 65.31%\n",
      "Epoch [  5/150] \t Loss: 0.73465     Accuracy: 74.07% \t Test Loss: 0.89755     Test Accuracy: 68.67%\n",
      "Epoch [  6/150] \t Loss: 0.58209     Accuracy: 79.81% \t Test Loss: 0.92455     Test Accuracy: 70.20%\n",
      "Epoch [  7/150] \t Loss: 0.45764     Accuracy: 84.16% \t Test Loss: 0.88519     Test Accuracy: 73.03%\n",
      "Epoch [  8/150] \t Loss: 0.35877     Accuracy: 87.67% \t Test Loss: 0.90292     Test Accuracy: 73.24%\n",
      "Epoch [  9/150] \t Loss: 0.26870     Accuracy: 90.88% \t Test Loss: 1.02606     Test Accuracy: 73.27%\n",
      "Epoch [ 10/150] \t Loss: 0.23062     Accuracy: 92.23% \t Test Loss: 1.05426     Test Accuracy: 73.65%\n",
      "Epoch [ 11/150] \t Loss: 0.17282     Accuracy: 94.12% \t Test Loss: 1.14361     Test Accuracy: 74.08%\n",
      "Epoch [ 12/150] \t Loss: 0.14931     Accuracy: 94.90% \t Test Loss: 1.08853     Test Accuracy: 74.47%\n",
      "Epoch [ 13/150] \t Loss: 0.11478     Accuracy: 96.21% \t Test Loss: 1.18708     Test Accuracy: 73.71%\n",
      "Epoch [ 14/150] \t Loss: 0.11019     Accuracy: 96.25% \t Test Loss: 1.10902     Test Accuracy: 74.70%\n",
      "Epoch [ 15/150] \t Loss: 0.09074     Accuracy: 96.94% \t Test Loss: 1.37419     Test Accuracy: 73.77%\n",
      "Epoch [ 16/150] \t Loss: 0.08307     Accuracy: 97.25% \t Test Loss: 1.22820     Test Accuracy: 75.18%\n",
      "Epoch [ 17/150] \t Loss: 0.08048     Accuracy: 97.42% \t Test Loss: 1.26334     Test Accuracy: 74.80%\n",
      "Epoch [ 18/150] \t Loss: 0.06659     Accuracy: 97.81% \t Test Loss: 1.37088     Test Accuracy: 75.15%\n",
      "Epoch [ 19/150] \t Loss: 0.06641     Accuracy: 97.80% \t Test Loss: 1.42682     Test Accuracy: 74.78%\n",
      "Epoch [ 20/150] \t Loss: 0.05997     Accuracy: 98.12% \t Test Loss: 1.30267     Test Accuracy: 75.17%\n",
      "Epoch [ 21/150] \t Loss: 0.05290     Accuracy: 98.33% \t Test Loss: 1.32309     Test Accuracy: 74.50%\n",
      "Epoch [ 22/150] \t Loss: 0.05643     Accuracy: 98.17% \t Test Loss: 1.31866     Test Accuracy: 75.23%\n",
      "Epoch [ 23/150] \t Loss: 0.05364     Accuracy: 98.22% \t Test Loss: 1.25151     Test Accuracy: 75.69%\n",
      "Epoch [ 24/150] \t Loss: 0.04689     Accuracy: 98.48% \t Test Loss: 1.35553     Test Accuracy: 75.49%\n",
      "Epoch [ 25/150] \t Loss: 0.04422     Accuracy: 98.56% \t Test Loss: 1.35281     Test Accuracy: 74.87%\n",
      "Epoch [ 26/150] \t Loss: 0.05715     Accuracy: 98.19% \t Test Loss: 1.33810     Test Accuracy: 75.71%\n",
      "Epoch [ 27/150] \t Loss: 0.04733     Accuracy: 98.49% \t Test Loss: 1.26630     Test Accuracy: 75.15%\n",
      "Epoch [ 28/150] \t Loss: 0.04171     Accuracy: 98.62% \t Test Loss: 1.36667     Test Accuracy: 76.05%\n",
      "Epoch [ 29/150] \t Loss: 0.04923     Accuracy: 98.40% \t Test Loss: 1.33801     Test Accuracy: 74.96%\n",
      "Epoch [ 30/150] \t Loss: 0.04230     Accuracy: 98.59% \t Test Loss: 1.42596     Test Accuracy: 75.33%\n",
      "Epoch [ 31/150] \t Loss: 0.04913     Accuracy: 98.45% \t Test Loss: 1.36711     Test Accuracy: 76.24%\n",
      "Epoch [ 32/150] \t Loss: 0.03902     Accuracy: 98.77% \t Test Loss: 1.56549     Test Accuracy: 75.44%\n",
      "Epoch [ 33/150] \t Loss: 0.04775     Accuracy: 98.58% \t Test Loss: 1.32917     Test Accuracy: 76.46%\n",
      "Epoch [ 34/150] \t Loss: 0.04342     Accuracy: 98.73% \t Test Loss: 1.51227     Test Accuracy: 76.26%\n",
      "Epoch [ 35/150] \t Loss: 0.03544     Accuracy: 98.91% \t Test Loss: 1.45039     Test Accuracy: 75.46%\n",
      "Epoch [ 36/150] \t Loss: 0.04068     Accuracy: 98.75% \t Test Loss: 1.27032     Test Accuracy: 75.43%\n",
      "Epoch [ 37/150] \t Loss: 0.03455     Accuracy: 98.89% \t Test Loss: 1.48652     Test Accuracy: 75.23%\n",
      "Epoch [ 38/150] \t Loss: 0.03310     Accuracy: 98.97% \t Test Loss: 1.31441     Test Accuracy: 75.51%\n",
      "Epoch [ 39/150] \t Loss: 0.03518     Accuracy: 98.87% \t Test Loss: 1.35393     Test Accuracy: 76.07%\n",
      "Epoch [ 40/150] \t Loss: 0.03113     Accuracy: 98.99% \t Test Loss: 1.43656     Test Accuracy: 76.39%\n",
      "Epoch [ 41/150] \t Loss: 0.03604     Accuracy: 98.91% \t Test Loss: 1.39419     Test Accuracy: 76.00%\n",
      "Epoch [ 42/150] \t Loss: 0.03831     Accuracy: 98.77% \t Test Loss: 1.55525     Test Accuracy: 75.32%\n",
      "Epoch [ 43/150] \t Loss: 0.03457     Accuracy: 98.93% \t Test Loss: 1.52359     Test Accuracy: 74.94%\n",
      "Epoch [ 44/150] \t Loss: 0.03271     Accuracy: 98.99% \t Test Loss: 1.39678     Test Accuracy: 76.21%\n",
      "Epoch [ 45/150] \t Loss: 0.03303     Accuracy: 99.02% \t Test Loss: 1.33197     Test Accuracy: 76.15%\n",
      "Epoch [ 46/150] \t Loss: 0.03240     Accuracy: 98.99% \t Test Loss: 1.38009     Test Accuracy: 75.55%\n",
      "Epoch [ 47/150] \t Loss: 0.03197     Accuracy: 99.06% \t Test Loss: 1.43221     Test Accuracy: 75.68%\n",
      "Epoch [ 48/150] \t Loss: 0.03516     Accuracy: 98.96% \t Test Loss: 1.48530     Test Accuracy: 75.81%\n",
      "Epoch [ 49/150] \t Loss: 0.03606     Accuracy: 98.98% \t Test Loss: 1.48798     Test Accuracy: 76.28%\n",
      "Epoch [ 50/150] \t Loss: 0.02591     Accuracy: 99.18% \t Test Loss: 1.50062     Test Accuracy: 75.67%\n",
      "Epoch [ 51/150] \t Loss: 0.03074     Accuracy: 99.05% \t Test Loss: 1.62424     Test Accuracy: 75.85%\n",
      "Epoch [ 52/150] \t Loss: 0.02803     Accuracy: 99.12% \t Test Loss: 1.45378     Test Accuracy: 75.88%\n",
      "Epoch [ 53/150] \t Loss: 0.03173     Accuracy: 99.03% \t Test Loss: 1.43551     Test Accuracy: 76.97%\n",
      "Epoch [ 54/150] \t Loss: 0.02846     Accuracy: 99.07% \t Test Loss: 1.58286     Test Accuracy: 75.33%\n",
      "Epoch [ 55/150] \t Loss: 0.03062     Accuracy: 99.09% \t Test Loss: 1.52013     Test Accuracy: 76.56%\n",
      "Epoch [ 56/150] \t Loss: 0.02278     Accuracy: 99.31% \t Test Loss: 1.49651     Test Accuracy: 77.04%\n",
      "Epoch [ 57/150] \t Loss: 0.03215     Accuracy: 99.01% \t Test Loss: 1.66886     Test Accuracy: 76.06%\n",
      "Epoch [ 58/150] \t Loss: 0.02875     Accuracy: 99.08% \t Test Loss: 1.58612     Test Accuracy: 76.13%\n",
      "Epoch [ 59/150] \t Loss: 0.02567     Accuracy: 99.23% \t Test Loss: 1.39185     Test Accuracy: 76.38%\n",
      "Epoch [ 60/150] \t Loss: 0.02796     Accuracy: 99.23% \t Test Loss: 1.40962     Test Accuracy: 77.24%\n",
      "Epoch [ 61/150] \t Loss: 0.03086     Accuracy: 99.08% \t Test Loss: 1.43903     Test Accuracy: 76.66%\n",
      "Epoch [ 62/150] \t Loss: 0.02768     Accuracy: 99.15% \t Test Loss: 1.52399     Test Accuracy: 77.04%\n",
      "Epoch [ 63/150] \t Loss: 0.02158     Accuracy: 99.34% \t Test Loss: 1.54724     Test Accuracy: 76.42%\n",
      "Epoch [ 64/150] \t Loss: 0.02995     Accuracy: 99.13% \t Test Loss: 1.44794     Test Accuracy: 76.21%\n",
      "Epoch [ 65/150] \t Loss: 0.02908     Accuracy: 99.15% \t Test Loss: 1.55296     Test Accuracy: 76.22%\n",
      "Epoch [ 66/150] \t Loss: 0.02554     Accuracy: 99.21% \t Test Loss: 1.77210     Test Accuracy: 77.00%\n",
      "Epoch [ 67/150] \t Loss: 0.02842     Accuracy: 99.16% \t Test Loss: 1.46652     Test Accuracy: 76.53%\n",
      "Epoch [ 68/150] \t Loss: 0.02548     Accuracy: 99.25% \t Test Loss: 1.36367     Test Accuracy: 76.66%\n",
      "Epoch [ 69/150] \t Loss: 0.02129     Accuracy: 99.38% \t Test Loss: 1.52883     Test Accuracy: 77.07%\n",
      "Epoch [ 70/150] \t Loss: 0.02206     Accuracy: 99.30% \t Test Loss: 1.41216     Test Accuracy: 77.28%\n",
      "Epoch [ 71/150] \t Loss: 0.01973     Accuracy: 99.45% \t Test Loss: 1.53691     Test Accuracy: 76.73%\n",
      "Epoch [ 72/150] \t Loss: 0.02834     Accuracy: 99.07% \t Test Loss: 1.42852     Test Accuracy: 77.02%\n",
      "Epoch [ 73/150] \t Loss: 0.01915     Accuracy: 99.45% \t Test Loss: 1.57887     Test Accuracy: 77.30%\n",
      "Epoch [ 74/150] \t Loss: 0.02132     Accuracy: 99.41% \t Test Loss: 1.52924     Test Accuracy: 76.51%\n",
      "Epoch [ 75/150] \t Loss: 0.02062     Accuracy: 99.37% \t Test Loss: 1.58545     Test Accuracy: 76.93%\n",
      "Epoch [ 76/150] \t Loss: 0.02777     Accuracy: 99.22% \t Test Loss: 1.55403     Test Accuracy: 76.88%\n",
      "Epoch [ 77/150] \t Loss: 0.02206     Accuracy: 99.38% \t Test Loss: 1.66050     Test Accuracy: 76.12%\n",
      "Epoch [ 78/150] \t Loss: 0.02467     Accuracy: 99.23% \t Test Loss: 1.55612     Test Accuracy: 76.41%\n",
      "Epoch [ 79/150] \t Loss: 0.02059     Accuracy: 99.37% \t Test Loss: 1.76845     Test Accuracy: 75.31%\n",
      "Epoch [ 80/150] \t Loss: 0.02530     Accuracy: 99.33% \t Test Loss: 1.37483     Test Accuracy: 76.51%\n",
      "Epoch [ 81/150] \t Loss: 0.02210     Accuracy: 99.37% \t Test Loss: 1.58224     Test Accuracy: 77.13%\n",
      "Epoch [ 82/150] \t Loss: 0.02160     Accuracy: 99.34% \t Test Loss: 1.50222     Test Accuracy: 77.19%\n",
      "Epoch [ 83/150] \t Loss: 0.01884     Accuracy: 99.44% \t Test Loss: 1.85868     Test Accuracy: 76.90%\n",
      "Epoch [ 84/150] \t Loss: 0.03118     Accuracy: 99.12% \t Test Loss: 1.41292     Test Accuracy: 78.24%\n",
      "Epoch [ 85/150] \t Loss: 0.01337     Accuracy: 99.60% \t Test Loss: 1.71064     Test Accuracy: 76.66%\n",
      "Epoch [ 86/150] \t Loss: 0.01823     Accuracy: 99.51% \t Test Loss: 1.49317     Test Accuracy: 77.26%\n",
      "Epoch [ 87/150] \t Loss: 0.01675     Accuracy: 99.52% \t Test Loss: 1.56721     Test Accuracy: 77.38%\n",
      "Epoch [ 88/150] \t Loss: 0.02370     Accuracy: 99.26% \t Test Loss: 1.58403     Test Accuracy: 77.60%\n",
      "Epoch [ 89/150] \t Loss: 0.02132     Accuracy: 99.40% \t Test Loss: 1.49028     Test Accuracy: 76.76%\n",
      "Epoch [ 90/150] \t Loss: 0.01783     Accuracy: 99.49% \t Test Loss: 1.42278     Test Accuracy: 77.23%\n",
      "Epoch [ 91/150] \t Loss: 0.01584     Accuracy: 99.51% \t Test Loss: 1.75973     Test Accuracy: 77.63%\n",
      "Epoch [ 92/150] \t Loss: 0.01655     Accuracy: 99.55% \t Test Loss: 1.54433     Test Accuracy: 76.16%\n",
      "Epoch [ 93/150] \t Loss: 0.01996     Accuracy: 99.42% \t Test Loss: 1.70852     Test Accuracy: 76.89%\n",
      "Epoch [ 94/150] \t Loss: 0.02053     Accuracy: 99.47% \t Test Loss: 1.59515     Test Accuracy: 76.72%\n",
      "Epoch [ 95/150] \t Loss: 0.02169     Accuracy: 99.41% \t Test Loss: 1.59924     Test Accuracy: 77.92%\n",
      "Epoch [ 96/150] \t Loss: 0.01473     Accuracy: 99.59% \t Test Loss: 1.65166     Test Accuracy: 77.31%\n",
      "Epoch [ 97/150] \t Loss: 0.01943     Accuracy: 99.46% \t Test Loss: 1.56635     Test Accuracy: 78.18%\n",
      "Epoch [ 98/150] \t Loss: 0.01900     Accuracy: 99.49% \t Test Loss: 1.61618     Test Accuracy: 77.18%\n",
      "Epoch [ 99/150] \t Loss: 0.01870     Accuracy: 99.48% \t Test Loss: 1.63486     Test Accuracy: 76.87%\n",
      "Epoch [100/150] \t Loss: 0.02088     Accuracy: 99.39% \t Test Loss: 1.78009     Test Accuracy: 77.43%\n",
      "Epoch [101/150] \t Loss: 0.02210     Accuracy: 99.40% \t Test Loss: 1.57052     Test Accuracy: 76.86%\n",
      "Epoch [102/150] \t Loss: 0.02260     Accuracy: 99.37% \t Test Loss: 1.61291     Test Accuracy: 76.24%\n",
      "Epoch [103/150] \t Loss: 0.01934     Accuracy: 99.45% \t Test Loss: 1.46455     Test Accuracy: 77.03%\n",
      "Epoch [104/150] \t Loss: 0.01529     Accuracy: 99.58% \t Test Loss: 1.73017     Test Accuracy: 77.12%\n",
      "Epoch [105/150] \t Loss: 0.02017     Accuracy: 99.43% \t Test Loss: 1.65129     Test Accuracy: 77.21%\n",
      "Epoch [106/150] \t Loss: 0.01432     Accuracy: 99.60% \t Test Loss: 1.90890     Test Accuracy: 76.94%\n",
      "Epoch [107/150] \t Loss: 0.01748     Accuracy: 99.47% \t Test Loss: 1.65691     Test Accuracy: 77.70%\n",
      "Epoch [108/150] \t Loss: 0.01811     Accuracy: 99.47% \t Test Loss: 1.53633     Test Accuracy: 77.72%\n",
      "Epoch [109/150] \t Loss: 0.02133     Accuracy: 99.37% \t Test Loss: 1.70395     Test Accuracy: 77.97%\n",
      "Epoch [110/150] \t Loss: 0.02282     Accuracy: 99.38% \t Test Loss: 1.52541     Test Accuracy: 76.55%\n",
      "Epoch [111/150] \t Loss: 0.01571     Accuracy: 99.51% \t Test Loss: 1.99937     Test Accuracy: 77.62%\n",
      "Epoch [112/150] \t Loss: 0.01636     Accuracy: 99.51% \t Test Loss: 1.69914     Test Accuracy: 78.30%\n",
      "Epoch [113/150] \t Loss: 0.01490     Accuracy: 99.58% \t Test Loss: 1.75862     Test Accuracy: 78.39%\n",
      "Epoch [114/150] \t Loss: 0.01443     Accuracy: 99.58% \t Test Loss: 1.68048     Test Accuracy: 78.30%\n",
      "Epoch [115/150] \t Loss: 0.02470     Accuracy: 99.26% \t Test Loss: 1.68676     Test Accuracy: 77.71%\n",
      "Epoch [116/150] \t Loss: 0.01697     Accuracy: 99.57% \t Test Loss: 1.64644     Test Accuracy: 78.05%\n",
      "Epoch [117/150] \t Loss: 0.01764     Accuracy: 99.51% \t Test Loss: 1.30209     Test Accuracy: 76.95%\n",
      "Epoch [118/150] \t Loss: 0.01884     Accuracy: 99.44% \t Test Loss: 1.75641     Test Accuracy: 77.87%\n",
      "Epoch [119/150] \t Loss: 0.01671     Accuracy: 99.57% \t Test Loss: 1.69316     Test Accuracy: 77.31%\n",
      "Epoch [120/150] \t Loss: 0.01453     Accuracy: 99.58% \t Test Loss: 1.83801     Test Accuracy: 78.16%\n",
      "Epoch [121/150] \t Loss: 0.01416     Accuracy: 99.61% \t Test Loss: 1.51791     Test Accuracy: 78.09%\n",
      "Epoch [122/150] \t Loss: 0.01301     Accuracy: 99.65% \t Test Loss: 2.12658     Test Accuracy: 77.80%\n",
      "Epoch [123/150] \t Loss: 0.02121     Accuracy: 99.41% \t Test Loss: 1.70259     Test Accuracy: 78.33%\n",
      "Epoch [124/150] \t Loss: 0.01338     Accuracy: 99.62% \t Test Loss: 1.57961     Test Accuracy: 77.85%\n",
      "Epoch [125/150] \t Loss: 0.01958     Accuracy: 99.48% \t Test Loss: 1.75462     Test Accuracy: 77.32%\n",
      "Epoch [126/150] \t Loss: 0.02027     Accuracy: 99.44% \t Test Loss: 1.74287     Test Accuracy: 77.52%\n",
      "Epoch [127/150] \t Loss: 0.01688     Accuracy: 99.54% \t Test Loss: 1.61643     Test Accuracy: 78.16%\n",
      "Epoch [128/150] \t Loss: 0.00898     Accuracy: 99.72% \t Test Loss: 1.87913     Test Accuracy: 78.11%\n",
      "Epoch [129/150] \t Loss: 0.01249     Accuracy: 99.64% \t Test Loss: 1.67540     Test Accuracy: 77.05%\n",
      "Epoch [130/150] \t Loss: 0.02295     Accuracy: 99.38% \t Test Loss: 1.46016     Test Accuracy: 78.22%\n",
      "Epoch [131/150] \t Loss: 0.01552     Accuracy: 99.55% \t Test Loss: 1.74435     Test Accuracy: 78.33%\n",
      "Epoch [132/150] \t Loss: 0.01915     Accuracy: 99.46% \t Test Loss: 2.02218     Test Accuracy: 77.58%\n",
      "Epoch [133/150] \t Loss: 0.02432     Accuracy: 99.41% \t Test Loss: 1.44427     Test Accuracy: 76.56%\n",
      "Epoch [134/150] \t Loss: 0.01057     Accuracy: 99.71% \t Test Loss: 1.62248     Test Accuracy: 78.15%\n",
      "Epoch [135/150] \t Loss: 0.01459     Accuracy: 99.67% \t Test Loss: 1.43355     Test Accuracy: 74.91%\n",
      "Epoch [136/150] \t Loss: 0.02969     Accuracy: 99.21% \t Test Loss: 1.69296     Test Accuracy: 78.51%\n",
      "Epoch [137/150] \t Loss: 0.00805     Accuracy: 99.77% \t Test Loss: 1.73843     Test Accuracy: 78.43%\n",
      "Epoch [138/150] \t Loss: 0.00840     Accuracy: 99.77% \t Test Loss: 1.89660     Test Accuracy: 78.36%\n",
      "Epoch [139/150] \t Loss: 0.01025     Accuracy: 99.71% \t Test Loss: 1.70409     Test Accuracy: 76.77%\n",
      "Epoch [140/150] \t Loss: 0.01737     Accuracy: 99.50% \t Test Loss: 1.69735     Test Accuracy: 77.97%\n",
      "Epoch [141/150] \t Loss: 0.01629     Accuracy: 99.53% \t Test Loss: 1.52003     Test Accuracy: 77.80%\n",
      "Epoch [142/150] \t Loss: 0.02545     Accuracy: 99.30% \t Test Loss: 1.80238     Test Accuracy: 77.78%\n",
      "Epoch [143/150] \t Loss: 0.01259     Accuracy: 99.62% \t Test Loss: 2.09387     Test Accuracy: 77.66%\n",
      "Epoch [144/150] \t Loss: 0.02085     Accuracy: 99.44% \t Test Loss: 1.78913     Test Accuracy: 78.44%\n",
      "Epoch [145/150] \t Loss: 0.00997     Accuracy: 99.75% \t Test Loss: 1.78854     Test Accuracy: 78.07%\n",
      "Epoch [146/150] \t Loss: 0.01584     Accuracy: 99.53% \t Test Loss: 1.73544     Test Accuracy: 78.21%\n",
      "Epoch [147/150] \t Loss: 0.01510     Accuracy: 99.57% \t Test Loss: 1.96053     Test Accuracy: 78.13%\n",
      "Epoch [148/150] \t Loss: 0.01371     Accuracy: 99.63% \t Test Loss: 1.50029     Test Accuracy: 77.10%\n",
      "Epoch [149/150] \t Loss: 0.01690     Accuracy: 99.55% \t Test Loss: 1.84779     Test Accuracy: 78.07%\n",
      "Epoch [150/150] \t Loss: 0.01437     Accuracy: 99.61% \t Test Loss: 2.03140     Test Accuracy: 78.91%\n"
     ]
    }
   ],
   "source": [
    "# train\n",
    "for epoch in range(max_epoch):\n",
    "    model.train()\n",
    "    running_loss = 0.0\n",
    "    running_correct = 0   # to track number of correct predictions\n",
    "    total = 0             # to track total number of samples\n",
    "\n",
    "    for i, (inputs, labels) in enumerate(trainloader, 0):\n",
    "        # Move inputs and labels to the device\n",
    "        inputs, labels = inputs.to(device), labels.to(device)\n",
    "\n",
    "        # Zero the parameter gradients\n",
    "        optimizer.zero_grad()\n",
    "\n",
    "        # Forward pass\n",
    "        outputs = model(inputs)\n",
    "        loss = criterion(outputs, labels)\n",
    "        running_loss += loss.item()\n",
    "\n",
    "        # Backward pass and optimization\n",
    "        loss.backward()\n",
    "        optimizer.step()  \n",
    "    \n",
    "        # Determine class predictions and track accuracy\n",
    "        _, predicted = torch.max(outputs.data, 1)\n",
    "        total += labels.size(0)\n",
    "        running_correct += (predicted == labels).sum().item()\n",
    "\n",
    "\n",
    "    epoch_accuracy = 100 * running_correct / total\n",
    "    epoch_loss = running_loss / (i + 1)\n",
    "    \n",
    "    test_loss, test_accuracy = evaluate(model, testloader, criterion)\n",
    "    print(f\"Epoch [{(epoch + 1):3}/{max_epoch:3}] \\t Loss: {epoch_loss:<11.5f} Accuracy: {epoch_accuracy:.2f}% \\t Test Loss: {test_loss:<11.5f} Test Accuracy: {test_accuracy:.2f}%\")\n",
    "    \n",
    "    # save for plot\n",
    "    train_losses.append(epoch_loss)\n",
    "    train_accuracies.append(epoch_accuracy)\n",
    "    test_losses.append(test_loss)\n",
    "    test_accuracies.append(test_accuracy)"
   ]
  },
  {
   "cell_type": "code",
   "execution_count": 9,
   "id": "cebcb439-88f2-40b6-9a17-4990ad324731",
   "metadata": {},
   "outputs": [
    {
     "name": "stdout",
     "output_type": "stream",
     "text": [
      "\n",
      "Best epoch: 150 with test accuracy: 78.91%\n"
     ]
    }
   ],
   "source": [
    "# the best accuracy\n",
    "best_epoch = np.argmax(test_accuracies)\n",
    "print(f\"\\nBest epoch: {best_epoch + 1} with test accuracy: {test_accuracies[best_epoch]:.2f}%\")"
   ]
  },
  {
   "cell_type": "markdown",
   "metadata": {},
   "source": [
    "# Plot results"
   ]
  },
  {
   "cell_type": "code",
   "execution_count": 10,
   "id": "DkC3_902Lgn-",
   "metadata": {
    "executionInfo": {
     "elapsed": 3,
     "status": "ok",
     "timestamp": 1673091684322,
     "user": {
      "displayName": "Thắng Dương Đình",
      "userId": "02196529682032971345"
     },
     "user_tz": -420
    },
    "id": "DkC3_902Lgn-"
   },
   "outputs": [
    {
     "data": {
      "text/plain": [
       "<matplotlib.legend.Legend at 0x7f1ec1d8b6a0>"
      ]
     },
     "execution_count": 10,
     "metadata": {},
     "output_type": "execute_result"
    },
    {
     "data": {
      "image/png": "[encoded data removed]",
      "text/plain": [
       "<Figure size 640x480 with 1 Axes>"
      ]
     },
     "metadata": {},
     "output_type": "display_data"
    }
   ],
   "source": [
    "plt.plot(train_losses, label='train_losses')\n",
    "plt.plot(test_losses, label='test_losses')\n",
    "plt.legend()"
   ]
  },
  {
   "cell_type": "code",
   "execution_count": 11,
   "id": "794f4e81",
   "metadata": {
    "executionInfo": {
     "elapsed": 8,
     "status": "ok",
     "timestamp": 1673092872464,
     "user": {
      "displayName": "Thắng Dương Đình",
      "userId": "02196529682032971345"
     },
     "user_tz": -420
    },
    "id": "794f4e81"
   },
   "outputs": [
    {
     "data": {
      "text/plain": [
       "<matplotlib.legend.Legend at 0x7f1ec1c0ddf0>"
      ]
     },
     "execution_count": 11,
     "metadata": {},
     "output_type": "execute_result"
    },
    {
     "data": {
      "image/png": "[encoded data removed]",
      "text/plain": [
       "<Figure size 640x480 with 1 Axes>"
      ]
     },
     "metadata": {},
     "output_type": "display_data"
    }
   ],
   "source": [
    "plt.plot(train_accuracies, label='train_accuracy')\n",
    "plt.plot(test_accuracies, label='test_accuracy')\n",
    "plt.legend()"
   ]
  },
  {
   "cell_type": "code",
   "execution_count": null,
   "id": "a2ec7c96-ff05-4863-92e7-c45f2f0e3d03",
   "metadata": {},
   "outputs": [],
   "source": []
  },
  {
   "cell_type": "code",
   "execution_count": null,
   "id": "8c86325e-7b6c-43a6-b315-93e02bcdb264",
   "metadata": {},
   "outputs": [],
   "source": []
  }
 ],
 "metadata": {
  "accelerator": "GPU",
  "colab": {
   "provenance": []
  },
  "gpuClass": "standard",
  "kernelspec": {
   "display_name": "Python 3 (ipykernel)",
   "language": "python",
   "name": "python3"
  },
  "language_info": {
   "codemirror_mode": {
    "name": "ipython",
    "version": 3
   },
   "file_extension": ".py",
   "mimetype": "text/x-python",
   "name": "python",
   "nbconvert_exporter": "python",
   "pygments_lexer": "ipython3",
   "version": "3.8.0"
  },
  "widgets": {
   "application/vnd.jupyter.widget-state+json": {
    "00397590a13d454d8b16fd8d15ae9b41": {
     "model_module": "@jupyter-widgets/controls",
     "model_module_version": "1.5.0",
     "model_name": "DescriptionStyleModel",
     "state": {
      "_model_module": "@jupyter-widgets/controls",
      "_model_module_version": "1.5.0",
      "_model_name": "DescriptionStyleModel",
      "_view_count": null,
      "_view_module": "@jupyter-widgets/base",
      "_view_module_version": "1.2.0",
      "_view_name": "StyleView",
      "description_width": ""
     }
    },
    "0a3d339ba81a4f22b893250502c493af": {
     "model_module": "@jupyter-widgets/base",
     "model_module_version": "1.2.0",
     "model_name": "LayoutModel",
     "state": {
      "_model_module": "@jupyter-widgets/base",
      "_model_module_version": "1.2.0",
      "_model_name": "LayoutModel",
      "_view_count": null,
      "_view_module": "@jupyter-widgets/base",
      "_view_module_version": "1.2.0",
      "_view_name": "LayoutView",
      "align_content": null,
      "align_items": null,
      "align_self": null,
      "border": null,
      "bottom": null,
      "display": null,
      "flex": null,
      "flex_flow": null,
      "grid_area": null,
      "grid_auto_columns": null,
      "grid_auto_flow": null,
      "grid_auto_rows": null,
      "grid_column": null,
      "grid_gap": null,
      "grid_row": null,
      "grid_template_areas": null,
      "grid_template_columns": null,
      "grid_template_rows": null,
      "height": null,
      "justify_content": null,
      "justify_items": null,
      "left": null,
      "margin": null,
      "max_height": null,
      "max_width": null,
      "min_height": null,
      "min_width": null,
      "object_fit": null,
      "object_position": null,
      "order": null,
      "overflow": null,
      "overflow_x": null,
      "overflow_y": null,
      "padding": null,
      "right": null,
      "top": null,
      "visibility": null,
      "width": null
     }
    },
    "4691e220a8cb466bb46540f16f65e864": {
     "model_module": "@jupyter-widgets/controls",
     "model_module_version": "1.5.0",
     "model_name": "ProgressStyleModel",
     "state": {
      "_model_module": "@jupyter-widgets/controls",
      "_model_module_version": "1.5.0",
      "_model_name": "ProgressStyleModel",
      "_view_count": null,
      "_view_module": "@jupyter-widgets/base",
      "_view_module_version": "1.2.0",
      "_view_name": "StyleView",
      "bar_color": null,
      "description_width": ""
     }
    },
    "56c90ad0a7fb47d08727a7dac3f68f39": {
     "model_module": "@jupyter-widgets/base",
     "model_module_version": "1.2.0",
     "model_name": "LayoutModel",
     "state": {
      "_model_module": "@jupyter-widgets/base",
      "_model_module_version": "1.2.0",
      "_model_name": "LayoutModel",
      "_view_count": null,
      "_view_module": "@jupyter-widgets/base",
      "_view_module_version": "1.2.0",
      "_view_name": "LayoutView",
      "align_content": null,
      "align_items": null,
      "align_self": null,
      "border": null,
      "bottom": null,
      "display": null,
      "flex": null,
      "flex_flow": null,
      "grid_area": null,
      "grid_auto_columns": null,
      "grid_auto_flow": null,
      "grid_auto_rows": null,
      "grid_column": null,
      "grid_gap": null,
      "grid_row": null,
      "grid_template_areas": null,
      "grid_template_columns": null,
      "grid_template_rows": null,
      "height": null,
      "justify_content": null,
      "justify_items": null,
      "left": null,
      "margin": null,
      "max_height": null,
      "max_width": null,
      "min_height": null,
      "min_width": null,
      "object_fit": null,
      "object_position": null,
      "order": null,
      "overflow": null,
      "overflow_x": null,
      "overflow_y": null,
      "padding": null,
      "right": null,
      "top": null,
      "visibility": null,
      "width": null
     }
    },
    "619c9ef51fc5497f81b4af88db9214cc": {
     "model_module": "@jupyter-widgets/controls",
     "model_module_version": "1.5.0",
     "model_name": "DescriptionStyleModel",
     "state": {
      "_model_module": "@jupyter-widgets/controls",
      "_model_module_version": "1.5.0",
      "_model_name": "DescriptionStyleModel",
      "_view_count": null,
      "_view_module": "@jupyter-widgets/base",
      "_view_module_version": "1.2.0",
      "_view_name": "StyleView",
      "description_width": ""
     }
    },
    "7c95c188ecf242de9776dcfd3e3fc8d2": {
     "model_module": "@jupyter-widgets/base",
     "model_module_version": "1.2.0",
     "model_name": "LayoutModel",
     "state": {
      "_model_module": "@jupyter-widgets/base",
      "_model_module_version": "1.2.0",
      "_model_name": "LayoutModel",
      "_view_count": null,
      "_view_module": "@jupyter-widgets/base",
      "_view_module_version": "1.2.0",
      "_view_name": "LayoutView",
      "align_content": null,
      "align_items": null,
      "align_self": null,
      "border": null,
      "bottom": null,
      "display": null,
      "flex": null,
      "flex_flow": null,
      "grid_area": null,
      "grid_auto_columns": null,
      "grid_auto_flow": null,
      "grid_auto_rows": null,
      "grid_column": null,
      "grid_gap": null,
      "grid_row": null,
      "grid_template_areas": null,
      "grid_template_columns": null,
      "grid_template_rows": null,
      "height": null,
      "justify_content": null,
      "justify_items": null,
      "left": null,
      "margin": null,
      "max_height": null,
      "max_width": null,
      "min_height": null,
      "min_width": null,
      "object_fit": null,
      "object_position": null,
      "order": null,
      "overflow": null,
      "overflow_x": null,
      "overflow_y": null,
      "padding": null,
      "right": null,
      "top": null,
      "visibility": null,
      "width": null
     }
    },
    "8a6ed597588f4c07bff4271aeba7c1bb": {
     "model_module": "@jupyter-widgets/controls",
     "model_module_version": "1.5.0",
     "model_name": "HBoxModel",
     "state": {
      "_dom_classes": [],
      "_model_module": "@jupyter-widgets/controls",
      "_model_module_version": "1.5.0",
      "_model_name": "HBoxModel",
      "_view_count": null,
      "_view_module": "@jupyter-widgets/controls",
      "_view_module_version": "1.5.0",
      "_view_name": "HBoxView",
      "box_style": "",
      "children": [
       "IPY_MODEL_e09dd53ac3044e3097ed084354a52e13",
       "IPY_MODEL_8b2a0088b39741f6968c95f40ff787e6",
       "IPY_MODEL_cf5fb8e067be464bb14a1cf5e8b4e2de"
      ],
      "layout": "IPY_MODEL_0a3d339ba81a4f22b893250502c493af"
     }
    },
    "8b2a0088b39741f6968c95f40ff787e6": {
     "model_module": "@jupyter-widgets/controls",
     "model_module_version": "1.5.0",
     "model_name": "FloatProgressModel",
     "state": {
      "_dom_classes": [],
      "_model_module": "@jupyter-widgets/controls",
      "_model_module_version": "1.5.0",
      "_model_name": "FloatProgressModel",
      "_view_count": null,
      "_view_module": "@jupyter-widgets/controls",
      "_view_module_version": "1.5.0",
      "_view_name": "ProgressView",
      "bar_style": "success",
      "description": "",
      "description_tooltip": null,
      "layout": "IPY_MODEL_56c90ad0a7fb47d08727a7dac3f68f39",
      "max": 170498071,
      "min": 0,
      "orientation": "horizontal",
      "style": "IPY_MODEL_4691e220a8cb466bb46540f16f65e864",
      "value": 170498071
     }
    },
    "cf5fb8e067be464bb14a1cf5e8b4e2de": {
     "model_module": "@jupyter-widgets/controls",
     "model_module_version": "1.5.0",
     "model_name": "HTMLModel",
     "state": {
      "_dom_classes": [],
      "_model_module": "@jupyter-widgets/controls",
      "_model_module_version": "1.5.0",
      "_model_name": "HTMLModel",
      "_view_count": null,
      "_view_module": "@jupyter-widgets/controls",
      "_view_module_version": "1.5.0",
      "_view_name": "HTMLView",
      "description": "",
      "description_tooltip": null,
      "layout": "IPY_MODEL_7c95c188ecf242de9776dcfd3e3fc8d2",
      "placeholder": "​",
      "style": "IPY_MODEL_619c9ef51fc5497f81b4af88db9214cc",
      "value": " 170498071/170498071 [00:01&lt;00:00, 97303096.82it/s]"
     }
    },
    "e09dd53ac3044e3097ed084354a52e13": {
     "model_module": "@jupyter-widgets/controls",
     "model_module_version": "1.5.0",
     "model_name": "HTMLModel",
     "state": {
      "_dom_classes": [],
      "_model_module": "@jupyter-widgets/controls",
      "_model_module_version": "1.5.0",
      "_model_name": "HTMLModel",
      "_view_count": null,
      "_view_module": "@jupyter-widgets/controls",
      "_view_module_version": "1.5.0",
      "_view_name": "HTMLView",
      "description": "",
      "description_tooltip": null,
      "layout": "IPY_MODEL_f4c44a600db84290a51877583e18ee26",
      "placeholder": "​",
      "style": "IPY_MODEL_00397590a13d454d8b16fd8d15ae9b41",
      "value": "100%"
     }
    },
    "f4c44a600db84290a51877583e18ee26": {
     "model_module": "@jupyter-widgets/base",
     "model_module_version": "1.2.0",
     "model_name": "LayoutModel",
     "state": {
      "_model_module": "@jupyter-widgets/base",
      "_model_module_version": "1.2.0",
      "_model_name": "LayoutModel",
      "_view_count": null,
      "_view_module": "@jupyter-widgets/base",
      "_view_module_version": "1.2.0",
      "_view_name": "LayoutView",
      "align_content": null,
      "align_items": null,
      "align_self": null,
      "border": null,
      "bottom": null,
      "display": null,
      "flex": null,
      "flex_flow": null,
      "grid_area": null,
      "grid_auto_columns": null,
      "grid_auto_flow": null,
      "grid_auto_rows": null,
      "grid_column": null,
      "grid_gap": null,
      "grid_row": null,
      "grid_template_areas": null,
      "grid_template_columns": null,
      "grid_template_rows": null,
      "height": null,
      "justify_content": null,
      "justify_items": null,
      "left": null,
      "margin": null,
      "max_height": null,
      "max_width": null,
      "min_height": null,
      "min_width": null,
      "object_fit": null,
      "object_position": null,
      "order": null,
      "overflow": null,
      "overflow_x": null,
      "overflow_y": null,
      "padding": null,
      "right": null,
      "top": null,
      "visibility": null,
      "width": null
     }
    }
   }
  }
 },
 "nbformat": 4,
 "nbformat_minor": 5
}
