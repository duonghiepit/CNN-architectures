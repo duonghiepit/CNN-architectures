{
 "cells": [
  {
   "cell_type": "code",
   "execution_count": 1,
   "id": "d4e45a49-974f-4f9c-8642-42e2c45aab71",
   "metadata": {},
   "outputs": [],
   "source": [
    "import os\n",
    "os.environ['CUDA_VISIBLE_DEVICES'] = '0'\n",
    "\n",
    "import torch\n",
    "import torchvision.transforms as transforms\n",
    "import torch.nn as nn\n",
    "import torch.nn.functional as F\n",
    "\n",
    "import numpy as np\n",
    "import matplotlib.pyplot as plt\n",
    "\n",
    "from torchvision.datasets import CIFAR10\n",
    "from torch.utils.data import DataLoader \n",
    "from torch.optim import Adam\n",
    "import torchvision\n",
    "import torchvision.models as models\n",
    "from torchsummary import summary\n",
    "\n",
    "torch.manual_seed(1)\n",
    "device = 'cuda' if torch.cuda.is_available() else 'cpu'"
   ]
  },
  {
   "cell_type": "code",
   "execution_count": null,
   "metadata": {},
   "outputs": [],
   "source": []
  },
  {
   "cell_type": "markdown",
   "id": "f913360b-019e-4d69-a540-b7b5715544e1",
   "metadata": {},
   "source": [
    "## Data"
   ]
  },
  {
   "cell_type": "code",
   "execution_count": 2,
   "id": "3ad21976-2d99-49b7-b0b5-84e9ebcd371e",
   "metadata": {},
   "outputs": [
    {
     "name": "stdout",
     "output_type": "stream",
     "text": [
      "Files already downloaded and verified\n",
      "Files already downloaded and verified\n"
     ]
    }
   ],
   "source": [
    "batch_size = 64\n",
    "train_transform = transforms.Compose(\n",
    "    [\n",
    "        transforms.Resize((224,224)),\n",
    "        transforms.ToTensor(),\n",
    "        transforms.Normalize([0.4914, 0.4822, 0.4465], \n",
    "                             [0.2470, 0.2435, 0.2616]),\n",
    "    ])\n",
    "\n",
    "val_transform = transforms.Compose(\n",
    "    [\n",
    "        transforms.Resize((224,224)),\n",
    "        transforms.ToTensor(),\n",
    "        transforms.Normalize([0.4914, 0.4822, 0.4465], \n",
    "                             [0.2470, 0.2435, 0.2616])\n",
    "    ])\n",
    "\n",
    "train_set = CIFAR10(\n",
    "    root='./data', \n",
    "    train=True,\n",
    "    download=True, \n",
    "    transform=train_transform\n",
    ")\n",
    "\n",
    "val_set = CIFAR10(\n",
    "    root='./data', \n",
    "    train=False,\n",
    "    download=True, \n",
    "    transform=val_transform\n",
    ")\n",
    "\n",
    "trainloader = DataLoader(\n",
    "    train_set, \n",
    "    batch_size=batch_size,\n",
    "    shuffle=True,\n",
    "    num_workers=4,\n",
    ")\n",
    "\n",
    "testloader = DataLoader(\n",
    "    val_set, \n",
    "    batch_size=batch_size,\n",
    "    shuffle=False, \n",
    "    num_workers=4,\n",
    ")"
   ]
  },
  {
   "cell_type": "code",
   "execution_count": null,
   "id": "cf229497-4b6e-443d-b330-66b6fa139fcd",
   "metadata": {},
   "outputs": [],
   "source": []
  },
  {
   "cell_type": "markdown",
   "id": "6ea0dde8-29e7-4096-bd15-6a5ed74655f0",
   "metadata": {},
   "source": [
    "## Model"
   ]
  },
  {
   "cell_type": "code",
   "execution_count": 3,
   "id": "81be3191-980a-4b94-8537-5dba83109866",
   "metadata": {},
   "outputs": [],
   "source": [
    "class MobileNetV1(nn.Module):\n",
    "    def __init__(self, ch_in, num_classes):\n",
    "        super(MobileNetV1, self).__init__()\n",
    "\n",
    "        def conv_bn(inp, oup, stride):\n",
    "            return nn.Sequential(\n",
    "                nn.Conv2d(inp, oup, 3, stride, 1, bias=False),\n",
    "                nn.BatchNorm2d(oup),\n",
    "                nn.ReLU(inplace=True)\n",
    "                )\n",
    "\n",
    "        def conv_dw(inp, oup, stride):\n",
    "            return nn.Sequential(\n",
    "                # dw\n",
    "                nn.Conv2d(inp, inp, 3, stride, 1, groups=inp, bias=False),\n",
    "                nn.BatchNorm2d(inp),\n",
    "                nn.ReLU(inplace=True),\n",
    "\n",
    "                # pw\n",
    "                nn.Conv2d(inp, oup, 1, 1, 0, bias=False),\n",
    "                nn.BatchNorm2d(oup),\n",
    "                nn.ReLU(inplace=True),\n",
    "                )\n",
    "\n",
    "        self.model = nn.Sequential(\n",
    "            conv_bn(ch_in, 32, 2),\n",
    "            conv_dw(32, 64, 1),\n",
    "            conv_dw(64, 128, 2),\n",
    "            conv_dw(128, 128, 1),\n",
    "            conv_dw(128, 256, 2),\n",
    "            conv_dw(256, 256, 1),\n",
    "            conv_dw(256, 512, 2),\n",
    "            conv_dw(512, 512, 1),\n",
    "            conv_dw(512, 512, 1),\n",
    "            conv_dw(512, 512, 1),\n",
    "            conv_dw(512, 512, 1),\n",
    "            conv_dw(512, 512, 1),\n",
    "            conv_dw(512, 1024, 2),\n",
    "            conv_dw(1024, 1024, 1),\n",
    "            nn.AdaptiveAvgPool2d(1)\n",
    "        )\n",
    "        self.fc = nn.Linear(1024, num_classes)\n",
    "\n",
    "    def forward(self, x):\n",
    "        x = self.model(x)\n",
    "        x = x.view(-1, 1024)\n",
    "        x = self.fc(x)\n",
    "        return x"
   ]
  },
  {
   "cell_type": "code",
   "execution_count": 4,
   "id": "985f35fe",
   "metadata": {},
   "outputs": [],
   "source": [
    "model = MobileNetV1(ch_in=3, num_classes=10).to(device)"
   ]
  },
  {
   "cell_type": "code",
   "execution_count": 5,
   "id": "c8516821-d41b-42a8-9e51-ddfb8f9ec87e",
   "metadata": {},
   "outputs": [
    {
     "name": "stdout",
     "output_type": "stream",
     "text": [
      "----------------------------------------------------------------\n",
      "        Layer (type)               Output Shape         Param #\n",
      "================================================================\n",
      "            Conv2d-1         [-1, 32, 112, 112]             864\n",
      "       BatchNorm2d-2         [-1, 32, 112, 112]              64\n",
      "              ReLU-3         [-1, 32, 112, 112]               0\n",
      "            Conv2d-4         [-1, 32, 112, 112]             288\n",
      "       BatchNorm2d-5         [-1, 32, 112, 112]              64\n",
      "              ReLU-6         [-1, 32, 112, 112]               0\n",
      "            Conv2d-7         [-1, 64, 112, 112]           2,048\n",
      "       BatchNorm2d-8         [-1, 64, 112, 112]             128\n",
      "              ReLU-9         [-1, 64, 112, 112]               0\n",
      "           Conv2d-10           [-1, 64, 56, 56]             576\n",
      "      BatchNorm2d-11           [-1, 64, 56, 56]             128\n",
      "             ReLU-12           [-1, 64, 56, 56]               0\n",
      "           Conv2d-13          [-1, 128, 56, 56]           8,192\n",
      "      BatchNorm2d-14          [-1, 128, 56, 56]             256\n",
      "             ReLU-15          [-1, 128, 56, 56]               0\n",
      "           Conv2d-16          [-1, 128, 56, 56]           1,152\n",
      "      BatchNorm2d-17          [-1, 128, 56, 56]             256\n",
      "             ReLU-18          [-1, 128, 56, 56]               0\n",
      "           Conv2d-19          [-1, 128, 56, 56]          16,384\n",
      "      BatchNorm2d-20          [-1, 128, 56, 56]             256\n",
      "             ReLU-21          [-1, 128, 56, 56]               0\n",
      "           Conv2d-22          [-1, 128, 28, 28]           1,152\n",
      "      BatchNorm2d-23          [-1, 128, 28, 28]             256\n",
      "             ReLU-24          [-1, 128, 28, 28]               0\n",
      "           Conv2d-25          [-1, 256, 28, 28]          32,768\n",
      "      BatchNorm2d-26          [-1, 256, 28, 28]             512\n",
      "             ReLU-27          [-1, 256, 28, 28]               0\n",
      "           Conv2d-28          [-1, 256, 28, 28]           2,304\n",
      "      BatchNorm2d-29          [-1, 256, 28, 28]             512\n",
      "             ReLU-30          [-1, 256, 28, 28]               0\n",
      "           Conv2d-31          [-1, 256, 28, 28]          65,536\n",
      "      BatchNorm2d-32          [-1, 256, 28, 28]             512\n",
      "             ReLU-33          [-1, 256, 28, 28]               0\n",
      "           Conv2d-34          [-1, 256, 14, 14]           2,304\n",
      "      BatchNorm2d-35          [-1, 256, 14, 14]             512\n",
      "             ReLU-36          [-1, 256, 14, 14]               0\n",
      "           Conv2d-37          [-1, 512, 14, 14]         131,072\n",
      "      BatchNorm2d-38          [-1, 512, 14, 14]           1,024\n",
      "             ReLU-39          [-1, 512, 14, 14]               0\n",
      "           Conv2d-40          [-1, 512, 14, 14]           4,608\n",
      "      BatchNorm2d-41          [-1, 512, 14, 14]           1,024\n",
      "             ReLU-42          [-1, 512, 14, 14]               0\n",
      "           Conv2d-43          [-1, 512, 14, 14]         262,144\n",
      "      BatchNorm2d-44          [-1, 512, 14, 14]           1,024\n",
      "             ReLU-45          [-1, 512, 14, 14]               0\n",
      "           Conv2d-46          [-1, 512, 14, 14]           4,608\n",
      "      BatchNorm2d-47          [-1, 512, 14, 14]           1,024\n",
      "             ReLU-48          [-1, 512, 14, 14]               0\n",
      "           Conv2d-49          [-1, 512, 14, 14]         262,144\n",
      "      BatchNorm2d-50          [-1, 512, 14, 14]           1,024\n",
      "             ReLU-51          [-1, 512, 14, 14]               0\n",
      "           Conv2d-52          [-1, 512, 14, 14]           4,608\n",
      "      BatchNorm2d-53          [-1, 512, 14, 14]           1,024\n",
      "             ReLU-54          [-1, 512, 14, 14]               0\n",
      "           Conv2d-55          [-1, 512, 14, 14]         262,144\n",
      "      BatchNorm2d-56          [-1, 512, 14, 14]           1,024\n",
      "             ReLU-57          [-1, 512, 14, 14]               0\n",
      "           Conv2d-58          [-1, 512, 14, 14]           4,608\n",
      "      BatchNorm2d-59          [-1, 512, 14, 14]           1,024\n",
      "             ReLU-60          [-1, 512, 14, 14]               0\n",
      "           Conv2d-61          [-1, 512, 14, 14]         262,144\n",
      "      BatchNorm2d-62          [-1, 512, 14, 14]           1,024\n",
      "             ReLU-63          [-1, 512, 14, 14]               0\n",
      "           Conv2d-64          [-1, 512, 14, 14]           4,608\n",
      "      BatchNorm2d-65          [-1, 512, 14, 14]           1,024\n",
      "             ReLU-66          [-1, 512, 14, 14]               0\n",
      "           Conv2d-67          [-1, 512, 14, 14]         262,144\n",
      "      BatchNorm2d-68          [-1, 512, 14, 14]           1,024\n",
      "             ReLU-69          [-1, 512, 14, 14]               0\n",
      "           Conv2d-70            [-1, 512, 7, 7]           4,608\n",
      "      BatchNorm2d-71            [-1, 512, 7, 7]           1,024\n",
      "             ReLU-72            [-1, 512, 7, 7]               0\n",
      "           Conv2d-73           [-1, 1024, 7, 7]         524,288\n",
      "      BatchNorm2d-74           [-1, 1024, 7, 7]           2,048\n",
      "             ReLU-75           [-1, 1024, 7, 7]               0\n",
      "           Conv2d-76           [-1, 1024, 7, 7]           9,216\n",
      "      BatchNorm2d-77           [-1, 1024, 7, 7]           2,048\n",
      "             ReLU-78           [-1, 1024, 7, 7]               0\n",
      "           Conv2d-79           [-1, 1024, 7, 7]       1,048,576\n",
      "      BatchNorm2d-80           [-1, 1024, 7, 7]           2,048\n",
      "             ReLU-81           [-1, 1024, 7, 7]               0\n",
      "AdaptiveAvgPool2d-82           [-1, 1024, 1, 1]               0\n",
      "           Linear-83                   [-1, 10]          10,250\n",
      "================================================================\n",
      "Total params: 3,217,226\n",
      "Trainable params: 3,217,226\n",
      "Non-trainable params: 0\n",
      "----------------------------------------------------------------\n",
      "Input size (MB): 0.57\n",
      "Forward/backward pass size (MB): 115.43\n",
      "Params size (MB): 12.27\n",
      "Estimated Total Size (MB): 128.27\n",
      "----------------------------------------------------------------\n"
     ]
    }
   ],
   "source": [
    "summary(model, (3, 224, 224))"
   ]
  },
  {
   "cell_type": "markdown",
   "id": "43c7b151-a199-4e2a-8015-fdfb5f166284",
   "metadata": {},
   "source": [
    "# Train"
   ]
  },
  {
   "cell_type": "code",
   "execution_count": 6,
   "id": "1464e2bd-b627-475d-9941-f2a930d69a14",
   "metadata": {},
   "outputs": [],
   "source": [
    "criterion = nn.CrossEntropyLoss()\n",
    "optimizer = Adam(model.parameters(), lr=1e-3)  "
   ]
  },
  {
   "cell_type": "code",
   "execution_count": 7,
   "id": "04744c84-1e6d-4bfb-8dd5-abbdc91f102e",
   "metadata": {},
   "outputs": [],
   "source": [
    "# Function to compute loss and accuracy for test set\n",
    "def evaluate(model, testloader, criterion):\n",
    "    model.eval()\n",
    "    test_loss = 0.0\n",
    "    running_correct = 0\n",
    "    total = 0\n",
    "    with torch.no_grad():\n",
    "        for images, labels in testloader:\n",
    "            # Move inputs and labels to the device\n",
    "            images, labels = images.to(device), labels.to(device)\n",
    "\n",
    "            outputs = model(images)\n",
    "            loss = criterion(outputs, labels)\n",
    "            test_loss += loss.item()\n",
    "            \n",
    "            _, predicted = torch.max(outputs.data, 1)\n",
    "            total += labels.size(0)\n",
    "            running_correct += (predicted == labels).sum().item()\n",
    "\n",
    "    accuracy = 100 * running_correct / total\n",
    "    test_loss = test_loss / len(testloader)\n",
    "    return test_loss, accuracy"
   ]
  },
  {
   "cell_type": "code",
   "execution_count": 8,
   "id": "f2402591-e7f7-4bdd-8962-c029cfcd9307",
   "metadata": {},
   "outputs": [],
   "source": [
    "# some parameter\n",
    "train_losses = []\n",
    "train_accuracies = []\n",
    "test_losses = []\n",
    "test_accuracies = []\n",
    "max_epoch = 30"
   ]
  },
  {
   "cell_type": "code",
   "execution_count": 9,
   "id": "190a58e1-0864-4818-a8d2-0f83212c6d13",
   "metadata": {},
   "outputs": [
    {
     "name": "stdout",
     "output_type": "stream",
     "text": [
      "Epoch [  1/ 30] \t Loss: 1.29212     Accuracy: 53.28% \t Test Loss: 0.99914     Test Accuracy: 65.16%\n",
      "Epoch [  2/ 30] \t Loss: 0.78822     Accuracy: 72.30% \t Test Loss: 0.70336     Test Accuracy: 75.88%\n",
      "Epoch [  3/ 30] \t Loss: 0.58221     Accuracy: 79.73% \t Test Loss: 0.69736     Test Accuracy: 76.54%\n",
      "Epoch [  4/ 30] \t Loss: 0.46160     Accuracy: 83.83% \t Test Loss: 0.59659     Test Accuracy: 79.94%\n",
      "Epoch [  5/ 30] \t Loss: 0.36695     Accuracy: 87.26% \t Test Loss: 0.60388     Test Accuracy: 80.21%\n",
      "Epoch [  6/ 30] \t Loss: 0.29861     Accuracy: 89.60% \t Test Loss: 0.53977     Test Accuracy: 82.38%\n",
      "Epoch [  7/ 30] \t Loss: 0.24340     Accuracy: 91.46% \t Test Loss: 0.57742     Test Accuracy: 82.05%\n",
      "Epoch [  8/ 30] \t Loss: 0.19207     Accuracy: 93.29% \t Test Loss: 0.56292     Test Accuracy: 82.78%\n",
      "Epoch [  9/ 30] \t Loss: 0.15507     Accuracy: 94.54% \t Test Loss: 0.60124     Test Accuracy: 82.68%\n",
      "Epoch [ 10/ 30] \t Loss: 0.14086     Accuracy: 95.12% \t Test Loss: 0.62232     Test Accuracy: 83.29%\n",
      "Epoch [ 11/ 30] \t Loss: 0.12157     Accuracy: 95.80% \t Test Loss: 0.66007     Test Accuracy: 83.13%\n",
      "Epoch [ 12/ 30] \t Loss: 0.11354     Accuracy: 96.07% \t Test Loss: 0.66730     Test Accuracy: 82.83%\n",
      "Epoch [ 13/ 30] \t Loss: 0.09491     Accuracy: 96.63% \t Test Loss: 0.60969     Test Accuracy: 84.08%\n",
      "Epoch [ 14/ 30] \t Loss: 0.08146     Accuracy: 97.14% \t Test Loss: 0.61744     Test Accuracy: 85.00%\n",
      "Epoch [ 15/ 30] \t Loss: 0.08556     Accuracy: 97.01% \t Test Loss: 0.66570     Test Accuracy: 84.51%\n",
      "Epoch [ 16/ 30] \t Loss: 0.08471     Accuracy: 96.95% \t Test Loss: 0.68348     Test Accuracy: 83.97%\n",
      "Epoch [ 17/ 30] \t Loss: 0.06858     Accuracy: 97.60% \t Test Loss: 0.64921     Test Accuracy: 84.35%\n",
      "Epoch [ 18/ 30] \t Loss: 0.06809     Accuracy: 97.64% \t Test Loss: 0.67181     Test Accuracy: 84.22%\n",
      "Epoch [ 19/ 30] \t Loss: 0.06240     Accuracy: 97.82% \t Test Loss: 0.65351     Test Accuracy: 84.61%\n",
      "Epoch [ 20/ 30] \t Loss: 0.06229     Accuracy: 97.70% \t Test Loss: 0.77282     Test Accuracy: 83.61%\n",
      "Epoch [ 21/ 30] \t Loss: 0.06310     Accuracy: 97.79% \t Test Loss: 0.77473     Test Accuracy: 83.49%\n",
      "Epoch [ 22/ 30] \t Loss: 0.05176     Accuracy: 98.26% \t Test Loss: 0.69413     Test Accuracy: 84.80%\n",
      "Epoch [ 23/ 30] \t Loss: 0.05194     Accuracy: 98.16% \t Test Loss: 0.73036     Test Accuracy: 84.70%\n",
      "Epoch [ 24/ 30] \t Loss: 0.05447     Accuracy: 98.04% \t Test Loss: 0.75978     Test Accuracy: 84.10%\n",
      "Epoch [ 25/ 30] \t Loss: 0.04903     Accuracy: 98.22% \t Test Loss: 0.68080     Test Accuracy: 84.78%\n",
      "Epoch [ 26/ 30] \t Loss: 0.04503     Accuracy: 98.39% \t Test Loss: 0.70393     Test Accuracy: 84.96%\n",
      "Epoch [ 27/ 30] \t Loss: 0.04330     Accuracy: 98.50% \t Test Loss: 0.68967     Test Accuracy: 85.56%\n",
      "Epoch [ 28/ 30] \t Loss: 0.04503     Accuracy: 98.46% \t Test Loss: 0.77478     Test Accuracy: 84.21%\n",
      "Epoch [ 29/ 30] \t Loss: 0.04415     Accuracy: 98.46% \t Test Loss: 0.75436     Test Accuracy: 84.97%\n",
      "Epoch [ 30/ 30] \t Loss: 0.03928     Accuracy: 98.60% \t Test Loss: 0.73347     Test Accuracy: 85.07%\n"
     ]
    }
   ],
   "source": [
    "# train\n",
    "for epoch in range(max_epoch):\n",
    "    model.train()\n",
    "    running_loss = 0.0\n",
    "    running_correct = 0   # to track number of correct predictions\n",
    "    total = 0             # to track total number of samples\n",
    "\n",
    "    for i, (inputs, labels) in enumerate(trainloader, 0):\n",
    "        # Move inputs and labels to the device\n",
    "        inputs, labels = inputs.to(device), labels.to(device)\n",
    "\n",
    "        # Zero the parameter gradients\n",
    "        optimizer.zero_grad()\n",
    "\n",
    "        # Forward pass\n",
    "        outputs = model(inputs)\n",
    "        loss = criterion(outputs, labels)\n",
    "        running_loss += loss.item()\n",
    "\n",
    "        # Backward pass and optimization\n",
    "        loss.backward()\n",
    "        optimizer.step()  \n",
    "    \n",
    "        # Determine class predictions and track accuracy\n",
    "        _, predicted = torch.max(outputs.data, 1)\n",
    "        total += labels.size(0)\n",
    "        running_correct += (predicted == labels).sum().item()\n",
    "\n",
    "\n",
    "    epoch_accuracy = 100 * running_correct / total\n",
    "    epoch_loss = running_loss / (i + 1)\n",
    "    \n",
    "    test_loss, test_accuracy = evaluate(model, testloader, criterion)\n",
    "    print(f\"Epoch [{(epoch + 1):3}/{max_epoch:3}] \\t Loss: {epoch_loss:<11.5f} Accuracy: {epoch_accuracy:.2f}% \\t Test Loss: {test_loss:<11.5f} Test Accuracy: {test_accuracy:.2f}%\")\n",
    "    \n",
    "    # save for plot\n",
    "    train_losses.append(epoch_loss)\n",
    "    train_accuracies.append(epoch_accuracy)\n",
    "    test_losses.append(test_loss)\n",
    "    test_accuracies.append(test_accuracy)"
   ]
  },
  {
   "cell_type": "code",
   "execution_count": 10,
   "id": "cebcb439-88f2-40b6-9a17-4990ad324731",
   "metadata": {},
   "outputs": [
    {
     "name": "stdout",
     "output_type": "stream",
     "text": [
      "\n",
      "Best epoch: 27 with test accuracy: 85.56%\n"
     ]
    }
   ],
   "source": [
    "# the best accuracy\n",
    "best_epoch = np.argmax(test_accuracies)\n",
    "print(f\"\\nBest epoch: {best_epoch + 1} with test accuracy: {test_accuracies[best_epoch]:.2f}%\")"
   ]
  },
  {
   "cell_type": "markdown",
   "metadata": {},
   "source": [
    "# Plot results"
   ]
  },
  {
   "cell_type": "code",
   "execution_count": 11,
   "id": "DkC3_902Lgn-",
   "metadata": {
    "executionInfo": {
     "elapsed": 3,
     "status": "ok",
     "timestamp": 1673091684322,
     "user": {
      "displayName": "Thắng Dương Đình",
      "userId": "02196529682032971345"
     },
     "user_tz": -420
    },
    "id": "DkC3_902Lgn-"
   },
   "outputs": [
    {
     "data": {
      "text/plain": [
       "<matplotlib.legend.Legend at 0x7f553bd0b910>"
      ]
     },
     "execution_count": 11,
     "metadata": {},
     "output_type": "execute_result"
    },
    {
     "data": {
      "image/png": "[encoded data removed]",
      "text/plain": [
       "<Figure size 640x480 with 1 Axes>"
      ]
     },
     "metadata": {},
     "output_type": "display_data"
    }
   ],
   "source": [
    "plt.plot(train_losses, label='train_losses')\n",
    "plt.plot(test_losses, label='test_losses')\n",
    "plt.legend()"
   ]
  },
  {
   "cell_type": "code",
   "execution_count": 12,
   "id": "794f4e81",
   "metadata": {
    "executionInfo": {
     "elapsed": 8,
     "status": "ok",
     "timestamp": 1673092872464,
     "user": {
      "displayName": "Thắng Dương Đình",
      "userId": "02196529682032971345"
     },
     "user_tz": -420
    },
    "id": "794f4e81"
   },
   "outputs": [
    {
     "data": {
      "text/plain": [
       "<matplotlib.legend.Legend at 0x7f553bce3d60>"
      ]
     },
     "execution_count": 12,
     "metadata": {},
     "output_type": "execute_result"
    },
    {
     "data": {
      "image/png": "[encoded data removed]",
      "text/plain": [
       "<Figure size 640x480 with 1 Axes>"
      ]
     },
     "metadata": {},
     "output_type": "display_data"
    }
   ],
   "source": [
    "plt.plot(train_accuracies, label='train_accuracy')\n",
    "plt.plot(test_accuracies, label='test_accuracy')\n",
    "plt.legend()"
   ]
  },
  {
   "cell_type": "code",
   "execution_count": null,
   "id": "a2ec7c96-ff05-4863-92e7-c45f2f0e3d03",
   "metadata": {},
   "outputs": [],
   "source": []
  },
  {
   "cell_type": "code",
   "execution_count": null,
   "id": "8c86325e-7b6c-43a6-b315-93e02bcdb264",
   "metadata": {},
   "outputs": [],
   "source": []
  }
 ],
 "metadata": {
  "accelerator": "GPU",
  "colab": {
   "provenance": []
  },
  "gpuClass": "standard",
  "kernelspec": {
   "display_name": "Python 3 (ipykernel)",
   "language": "python",
   "name": "python3"
  },
  "language_info": {
   "codemirror_mode": {
    "name": "ipython",
    "version": 3
   },
   "file_extension": ".py",
   "mimetype": "text/x-python",
   "name": "python",
   "nbconvert_exporter": "python",
   "pygments_lexer": "ipython3",
   "version": "3.8.0"
  },
  "widgets": {
   "application/vnd.jupyter.widget-state+json": {
    "00397590a13d454d8b16fd8d15ae9b41": {
     "model_module": "@jupyter-widgets/controls",
     "model_module_version": "1.5.0",
     "model_name": "DescriptionStyleModel",
     "state": {
      "_model_module": "@jupyter-widgets/controls",
      "_model_module_version": "1.5.0",
      "_model_name": "DescriptionStyleModel",
      "_view_count": null,
      "_view_module": "@jupyter-widgets/base",
      "_view_module_version": "1.2.0",
      "_view_name": "StyleView",
      "description_width": ""
     }
    },
    "0a3d339ba81a4f22b893250502c493af": {
     "model_module": "@jupyter-widgets/base",
     "model_module_version": "1.2.0",
     "model_name": "LayoutModel",
     "state": {
      "_model_module": "@jupyter-widgets/base",
      "_model_module_version": "1.2.0",
      "_model_name": "LayoutModel",
      "_view_count": null,
      "_view_module": "@jupyter-widgets/base",
      "_view_module_version": "1.2.0",
      "_view_name": "LayoutView",
      "align_content": null,
      "align_items": null,
      "align_self": null,
      "border": null,
      "bottom": null,
      "display": null,
      "flex": null,
      "flex_flow": null,
      "grid_area": null,
      "grid_auto_columns": null,
      "grid_auto_flow": null,
      "grid_auto_rows": null,
      "grid_column": null,
      "grid_gap": null,
      "grid_row": null,
      "grid_template_areas": null,
      "grid_template_columns": null,
      "grid_template_rows": null,
      "height": null,
      "justify_content": null,
      "justify_items": null,
      "left": null,
      "margin": null,
      "max_height": null,
      "max_width": null,
      "min_height": null,
      "min_width": null,
      "object_fit": null,
      "object_position": null,
      "order": null,
      "overflow": null,
      "overflow_x": null,
      "overflow_y": null,
      "padding": null,
      "right": null,
      "top": null,
      "visibility": null,
      "width": null
     }
    },
    "4691e220a8cb466bb46540f16f65e864": {
     "model_module": "@jupyter-widgets/controls",
     "model_module_version": "1.5.0",
     "model_name": "ProgressStyleModel",
     "state": {
      "_model_module": "@jupyter-widgets/controls",
      "_model_module_version": "1.5.0",
      "_model_name": "ProgressStyleModel",
      "_view_count": null,
      "_view_module": "@jupyter-widgets/base",
      "_view_module_version": "1.2.0",
      "_view_name": "StyleView",
      "bar_color": null,
      "description_width": ""
     }
    },
    "56c90ad0a7fb47d08727a7dac3f68f39": {
     "model_module": "@jupyter-widgets/base",
     "model_module_version": "1.2.0",
     "model_name": "LayoutModel",
     "state": {
      "_model_module": "@jupyter-widgets/base",
      "_model_module_version": "1.2.0",
      "_model_name": "LayoutModel",
      "_view_count": null,
      "_view_module": "@jupyter-widgets/base",
      "_view_module_version": "1.2.0",
      "_view_name": "LayoutView",
      "align_content": null,
      "align_items": null,
      "align_self": null,
      "border": null,
      "bottom": null,
      "display": null,
      "flex": null,
      "flex_flow": null,
      "grid_area": null,
      "grid_auto_columns": null,
      "grid_auto_flow": null,
      "grid_auto_rows": null,
      "grid_column": null,
      "grid_gap": null,
      "grid_row": null,
      "grid_template_areas": null,
      "grid_template_columns": null,
      "grid_template_rows": null,
      "height": null,
      "justify_content": null,
      "justify_items": null,
      "left": null,
      "margin": null,
      "max_height": null,
      "max_width": null,
      "min_height": null,
      "min_width": null,
      "object_fit": null,
      "object_position": null,
      "order": null,
      "overflow": null,
      "overflow_x": null,
      "overflow_y": null,
      "padding": null,
      "right": null,
      "top": null,
      "visibility": null,
      "width": null
     }
    },
    "619c9ef51fc5497f81b4af88db9214cc": {
     "model_module": "@jupyter-widgets/controls",
     "model_module_version": "1.5.0",
     "model_name": "DescriptionStyleModel",
     "state": {
      "_model_module": "@jupyter-widgets/controls",
      "_model_module_version": "1.5.0",
      "_model_name": "DescriptionStyleModel",
      "_view_count": null,
      "_view_module": "@jupyter-widgets/base",
      "_view_module_version": "1.2.0",
      "_view_name": "StyleView",
      "description_width": ""
     }
    },
    "7c95c188ecf242de9776dcfd3e3fc8d2": {
     "model_module": "@jupyter-widgets/base",
     "model_module_version": "1.2.0",
     "model_name": "LayoutModel",
     "state": {
      "_model_module": "@jupyter-widgets/base",
      "_model_module_version": "1.2.0",
      "_model_name": "LayoutModel",
      "_view_count": null,
      "_view_module": "@jupyter-widgets/base",
      "_view_module_version": "1.2.0",
      "_view_name": "LayoutView",
      "align_content": null,
      "align_items": null,
      "align_self": null,
      "border": null,
      "bottom": null,
      "display": null,
      "flex": null,
      "flex_flow": null,
      "grid_area": null,
      "grid_auto_columns": null,
      "grid_auto_flow": null,
      "grid_auto_rows": null,
      "grid_column": null,
      "grid_gap": null,
      "grid_row": null,
      "grid_template_areas": null,
      "grid_template_columns": null,
      "grid_template_rows": null,
      "height": null,
      "justify_content": null,
      "justify_items": null,
      "left": null,
      "margin": null,
      "max_height": null,
      "max_width": null,
      "min_height": null,
      "min_width": null,
      "object_fit": null,
      "object_position": null,
      "order": null,
      "overflow": null,
      "overflow_x": null,
      "overflow_y": null,
      "padding": null,
      "right": null,
      "top": null,
      "visibility": null,
      "width": null
     }
    },
    "8a6ed597588f4c07bff4271aeba7c1bb": {
     "model_module": "@jupyter-widgets/controls",
     "model_module_version": "1.5.0",
     "model_name": "HBoxModel",
     "state": {
      "_dom_classes": [],
      "_model_module": "@jupyter-widgets/controls",
      "_model_module_version": "1.5.0",
      "_model_name": "HBoxModel",
      "_view_count": null,
      "_view_module": "@jupyter-widgets/controls",
      "_view_module_version": "1.5.0",
      "_view_name": "HBoxView",
      "box_style": "",
      "children": [
       "IPY_MODEL_e09dd53ac3044e3097ed084354a52e13",
       "IPY_MODEL_8b2a0088b39741f6968c95f40ff787e6",
       "IPY_MODEL_cf5fb8e067be464bb14a1cf5e8b4e2de"
      ],
      "layout": "IPY_MODEL_0a3d339ba81a4f22b893250502c493af"
     }
    },
    "8b2a0088b39741f6968c95f40ff787e6": {
     "model_module": "@jupyter-widgets/controls",
     "model_module_version": "1.5.0",
     "model_name": "FloatProgressModel",
     "state": {
      "_dom_classes": [],
      "_model_module": "@jupyter-widgets/controls",
      "_model_module_version": "1.5.0",
      "_model_name": "FloatProgressModel",
      "_view_count": null,
      "_view_module": "@jupyter-widgets/controls",
      "_view_module_version": "1.5.0",
      "_view_name": "ProgressView",
      "bar_style": "success",
      "description": "",
      "description_tooltip": null,
      "layout": "IPY_MODEL_56c90ad0a7fb47d08727a7dac3f68f39",
      "max": 170498071,
      "min": 0,
      "orientation": "horizontal",
      "style": "IPY_MODEL_4691e220a8cb466bb46540f16f65e864",
      "value": 170498071
     }
    },
    "cf5fb8e067be464bb14a1cf5e8b4e2de": {
     "model_module": "@jupyter-widgets/controls",
     "model_module_version": "1.5.0",
     "model_name": "HTMLModel",
     "state": {
      "_dom_classes": [],
      "_model_module": "@jupyter-widgets/controls",
      "_model_module_version": "1.5.0",
      "_model_name": "HTMLModel",
      "_view_count": null,
      "_view_module": "@jupyter-widgets/controls",
      "_view_module_version": "1.5.0",
      "_view_name": "HTMLView",
      "description": "",
      "description_tooltip": null,
      "layout": "IPY_MODEL_7c95c188ecf242de9776dcfd3e3fc8d2",
      "placeholder": "​",
      "style": "IPY_MODEL_619c9ef51fc5497f81b4af88db9214cc",
      "value": " 170498071/170498071 [00:01&lt;00:00, 97303096.82it/s]"
     }
    },
    "e09dd53ac3044e3097ed084354a52e13": {
     "model_module": "@jupyter-widgets/controls",
     "model_module_version": "1.5.0",
     "model_name": "HTMLModel",
     "state": {
      "_dom_classes": [],
      "_model_module": "@jupyter-widgets/controls",
      "_model_module_version": "1.5.0",
      "_model_name": "HTMLModel",
      "_view_count": null,
      "_view_module": "@jupyter-widgets/controls",
      "_view_module_version": "1.5.0",
      "_view_name": "HTMLView",
      "description": "",
      "description_tooltip": null,
      "layout": "IPY_MODEL_f4c44a600db84290a51877583e18ee26",
      "placeholder": "​",
      "style": "IPY_MODEL_00397590a13d454d8b16fd8d15ae9b41",
      "value": "100%"
     }
    },
    "f4c44a600db84290a51877583e18ee26": {
     "model_module": "@jupyter-widgets/base",
     "model_module_version": "1.2.0",
     "model_name": "LayoutModel",
     "state": {
      "_model_module": "@jupyter-widgets/base",
      "_model_module_version": "1.2.0",
      "_model_name": "LayoutModel",
      "_view_count": null,
      "_view_module": "@jupyter-widgets/base",
      "_view_module_version": "1.2.0",
      "_view_name": "LayoutView",
      "align_content": null,
      "align_items": null,
      "align_self": null,
      "border": null,
      "bottom": null,
      "display": null,
      "flex": null,
      "flex_flow": null,
      "grid_area": null,
      "grid_auto_columns": null,
      "grid_auto_flow": null,
      "grid_auto_rows": null,
      "grid_column": null,
      "grid_gap": null,
      "grid_row": null,
      "grid_template_areas": null,
      "grid_template_columns": null,
      "grid_template_rows": null,
      "height": null,
      "justify_content": null,
      "justify_items": null,
      "left": null,
      "margin": null,
      "max_height": null,
      "max_width": null,
      "min_height": null,
      "min_width": null,
      "object_fit": null,
      "object_position": null,
      "order": null,
      "overflow": null,
      "overflow_x": null,
      "overflow_y": null,
      "padding": null,
      "right": null,
      "top": null,
      "visibility": null,
      "width": null
     }
    }
   }
  }
 },
 "nbformat": 4,
 "nbformat_minor": 5
}
