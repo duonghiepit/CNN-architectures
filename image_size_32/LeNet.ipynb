{
 "cells": [
  {
   "cell_type": "code",
   "execution_count": 1,
   "id": "d4e45a49-974f-4f9c-8642-42e2c45aab71",
   "metadata": {},
   "outputs": [],
   "source": [
    "import os\n",
    "os.environ['CUDA_VISIBLE_DEVICES'] = '3'\n",
    "\n",
    "import torch\n",
    "import torchvision.transforms as transforms\n",
    "import torch.nn as nn\n",
    "import torch.nn.functional as F\n",
    "\n",
    "import numpy as np\n",
    "import matplotlib.pyplot as plt\n",
    "\n",
    "from torchvision.datasets import CIFAR10\n",
    "from torch.utils.data import DataLoader \n",
    "from torch.optim import Adam\n",
    "import torchvision\n",
    "from torchsummary import summary\n",
    "\n",
    "torch.manual_seed(1)\n",
    "device = 'cuda' if torch.cuda.is_available() else 'cpu'"
   ]
  },
  {
   "cell_type": "code",
   "execution_count": null,
   "metadata": {},
   "outputs": [],
   "source": []
  },
  {
   "cell_type": "markdown",
   "id": "f913360b-019e-4d69-a540-b7b5715544e1",
   "metadata": {},
   "source": [
    "## Data"
   ]
  },
  {
   "cell_type": "code",
   "execution_count": 2,
   "id": "3ad21976-2d99-49b7-b0b5-84e9ebcd371e",
   "metadata": {},
   "outputs": [
    {
     "name": "stdout",
     "output_type": "stream",
     "text": [
      "Files already downloaded and verified\n",
      "Files already downloaded and verified\n"
     ]
    }
   ],
   "source": [
    "batch_size = 256\n",
    "train_transform = transforms.Compose(\n",
    "    [\n",
    "        transforms.ToTensor(),\n",
    "        transforms.Normalize([0.4914, 0.4822, 0.4465], \n",
    "                             [0.2470, 0.2435, 0.2616]),\n",
    "    ])\n",
    "\n",
    "val_transform = transforms.Compose(\n",
    "    [\n",
    "        transforms.ToTensor(),\n",
    "        transforms.Normalize([0.4914, 0.4822, 0.4465], \n",
    "                             [0.2470, 0.2435, 0.2616])\n",
    "    ])\n",
    "\n",
    "train_set = CIFAR10(\n",
    "    root='../data', \n",
    "    train=True,\n",
    "    download=True, \n",
    "    transform=train_transform\n",
    ")\n",
    "\n",
    "val_set = CIFAR10(\n",
    "    root='../data', \n",
    "    train=False,\n",
    "    download=True, \n",
    "    transform=val_transform\n",
    ")\n",
    "\n",
    "trainloader = DataLoader(\n",
    "    train_set, \n",
    "    batch_size=batch_size,\n",
    "    shuffle=True,\n",
    "    num_workers=4,\n",
    ")\n",
    "\n",
    "testloader = DataLoader(\n",
    "    val_set, \n",
    "    batch_size=batch_size,\n",
    "    shuffle=False, \n",
    "    num_workers=4,\n",
    ")"
   ]
  },
  {
   "cell_type": "code",
   "execution_count": null,
   "id": "cf229497-4b6e-443d-b330-66b6fa139fcd",
   "metadata": {},
   "outputs": [],
   "source": []
  },
  {
   "cell_type": "markdown",
   "id": "6ea0dde8-29e7-4096-bd15-6a5ed74655f0",
   "metadata": {},
   "source": [
    "## Model"
   ]
  },
  {
   "cell_type": "code",
   "execution_count": 3,
   "metadata": {},
   "outputs": [],
   "source": [
    "class LeNet(nn.Module):\n",
    "    def __init__(self, imdim=3, num_classes=10):\n",
    "        super(LeNet, self).__init__()\n",
    "\n",
    "        self.conv1 = nn.Conv2d(imdim, 64, kernel_size=5, stride=1, padding=0)\n",
    "        self.mp = nn.MaxPool2d(2)\n",
    "        self.relu1 = nn.ReLU(inplace=True)\n",
    "        self.conv2 = nn.Conv2d(64, 128, kernel_size=5, stride=1, padding=0)\n",
    "        self.relu2 = nn.ReLU(inplace=True)\n",
    "        self.fc1 = nn.Linear(128*5*5, 1024)\n",
    "        self.relu3 = nn.ReLU(inplace=True)\n",
    "        self.fc2 = nn.Linear(1024, 1024)\n",
    "        self.relu4 = nn.ReLU(inplace=True)\n",
    "        \n",
    "        self.fc3 = nn.Linear(1024, num_classes)\n",
    "\n",
    "    def forward(self, x):\n",
    "        in_size = x.size(0)\n",
    "        out1 = self.mp(self.relu1(self.conv1(x)))\n",
    "        out2 = self.mp(self.relu2(self.conv2(out1)))\n",
    "        out2 = out2.view(in_size, -1)\n",
    "        out3 = self.relu3(self.fc1(out2))\n",
    "        out = self.relu4(self.fc2(out3))\n",
    "        \n",
    "        return self.fc3(out)"
   ]
  },
  {
   "cell_type": "code",
   "execution_count": 4,
   "id": "81be3191-980a-4b94-8537-5dba83109866",
   "metadata": {},
   "outputs": [],
   "source": [
    "model = LeNet(num_classes=10).to(device)"
   ]
  },
  {
   "cell_type": "code",
   "execution_count": 5,
   "id": "c8516821-d41b-42a8-9e51-ddfb8f9ec87e",
   "metadata": {},
   "outputs": [
    {
     "name": "stdout",
     "output_type": "stream",
     "text": [
      "----------------------------------------------------------------\n",
      "        Layer (type)               Output Shape         Param #\n",
      "================================================================\n",
      "            Conv2d-1           [-1, 64, 28, 28]           4,864\n",
      "              ReLU-2           [-1, 64, 28, 28]               0\n",
      "         MaxPool2d-3           [-1, 64, 14, 14]               0\n",
      "            Conv2d-4          [-1, 128, 10, 10]         204,928\n",
      "              ReLU-5          [-1, 128, 10, 10]               0\n",
      "         MaxPool2d-6            [-1, 128, 5, 5]               0\n",
      "            Linear-7                 [-1, 1024]       3,277,824\n",
      "              ReLU-8                 [-1, 1024]               0\n",
      "            Linear-9                 [-1, 1024]       1,049,600\n",
      "             ReLU-10                 [-1, 1024]               0\n",
      "           Linear-11                   [-1, 10]          10,250\n",
      "================================================================\n",
      "Total params: 4,547,466\n",
      "Trainable params: 4,547,466\n",
      "Non-trainable params: 0\n",
      "----------------------------------------------------------------\n",
      "Input size (MB): 0.01\n",
      "Forward/backward pass size (MB): 1.11\n",
      "Params size (MB): 17.35\n",
      "Estimated Total Size (MB): 18.47\n",
      "----------------------------------------------------------------\n"
     ]
    }
   ],
   "source": [
    "summary(model, (3, 32, 32))"
   ]
  },
  {
   "cell_type": "markdown",
   "id": "43c7b151-a199-4e2a-8015-fdfb5f166284",
   "metadata": {},
   "source": [
    "# Train"
   ]
  },
  {
   "cell_type": "code",
   "execution_count": 6,
   "id": "1464e2bd-b627-475d-9941-f2a930d69a14",
   "metadata": {},
   "outputs": [],
   "source": [
    "criterion = nn.CrossEntropyLoss()\n",
    "optimizer = Adam(model.parameters(), lr=1e-3)  "
   ]
  },
  {
   "cell_type": "code",
   "execution_count": 7,
   "id": "04744c84-1e6d-4bfb-8dd5-abbdc91f102e",
   "metadata": {},
   "outputs": [],
   "source": [
    "# Function to compute loss and accuracy for test set\n",
    "def evaluate(model, testloader, criterion):\n",
    "    model.eval()\n",
    "    test_loss = 0.0\n",
    "    running_correct = 0\n",
    "    total = 0\n",
    "    with torch.no_grad():\n",
    "        for images, labels in testloader:\n",
    "            # Move inputs and labels to the device\n",
    "            images, labels = images.to(device), labels.to(device)\n",
    "\n",
    "            outputs = model(images)\n",
    "            loss = criterion(outputs, labels)\n",
    "            test_loss += loss.item()\n",
    "            \n",
    "            _, predicted = torch.max(outputs.data, 1)\n",
    "            total += labels.size(0)\n",
    "            running_correct += (predicted == labels).sum().item()\n",
    "\n",
    "    accuracy = 100 * running_correct / total\n",
    "    test_loss = test_loss / len(testloader)\n",
    "    return test_loss, accuracy"
   ]
  },
  {
   "cell_type": "code",
   "execution_count": 8,
   "id": "f2402591-e7f7-4bdd-8962-c029cfcd9307",
   "metadata": {},
   "outputs": [],
   "source": [
    "# some parameter\n",
    "train_losses = []\n",
    "train_accuracies = []\n",
    "test_losses = []\n",
    "test_accuracies = []\n",
    "max_epoch = 150"
   ]
  },
  {
   "cell_type": "code",
   "execution_count": 9,
   "id": "190a58e1-0864-4818-a8d2-0f83212c6d13",
   "metadata": {},
   "outputs": [
    {
     "name": "stdout",
     "output_type": "stream",
     "text": [
      "Epoch [  1/150] \t Loss: 1.47032     Accuracy: 46.11% \t Test Loss: 1.20125     Test Accuracy: 57.40%\n",
      "Epoch [  2/150] \t Loss: 1.03027     Accuracy: 63.47% \t Test Loss: 0.97433     Test Accuracy: 66.00%\n",
      "Epoch [  3/150] \t Loss: 0.82455     Accuracy: 71.00% \t Test Loss: 0.86220     Test Accuracy: 70.42%\n",
      "Epoch [  4/150] \t Loss: 0.67546     Accuracy: 76.05% \t Test Loss: 0.84965     Test Accuracy: 71.80%\n",
      "Epoch [  5/150] \t Loss: 0.53681     Accuracy: 81.14% \t Test Loss: 0.84638     Test Accuracy: 71.89%\n",
      "Epoch [  6/150] \t Loss: 0.40384     Accuracy: 85.85% \t Test Loss: 0.87175     Test Accuracy: 72.73%\n",
      "Epoch [  7/150] \t Loss: 0.28710     Accuracy: 89.90% \t Test Loss: 0.98855     Test Accuracy: 72.31%\n",
      "Epoch [  8/150] \t Loss: 0.20728     Accuracy: 92.61% \t Test Loss: 1.13234     Test Accuracy: 71.86%\n",
      "Epoch [  9/150] \t Loss: 0.15134     Accuracy: 94.70% \t Test Loss: 1.31449     Test Accuracy: 72.16%\n",
      "Epoch [ 10/150] \t Loss: 0.12344     Accuracy: 95.69% \t Test Loss: 1.37563     Test Accuracy: 72.44%\n",
      "Epoch [ 11/150] \t Loss: 0.10538     Accuracy: 96.30% \t Test Loss: 1.49745     Test Accuracy: 72.04%\n",
      "Epoch [ 12/150] \t Loss: 0.09321     Accuracy: 96.82% \t Test Loss: 1.69436     Test Accuracy: 71.95%\n",
      "Epoch [ 13/150] \t Loss: 0.08280     Accuracy: 97.17% \t Test Loss: 1.62954     Test Accuracy: 71.18%\n",
      "Epoch [ 14/150] \t Loss: 0.06839     Accuracy: 97.77% \t Test Loss: 1.77538     Test Accuracy: 71.78%\n",
      "Epoch [ 15/150] \t Loss: 0.07718     Accuracy: 97.40% \t Test Loss: 1.64777     Test Accuracy: 71.85%\n",
      "Epoch [ 16/150] \t Loss: 0.06048     Accuracy: 97.98% \t Test Loss: 1.75410     Test Accuracy: 72.47%\n",
      "Epoch [ 17/150] \t Loss: 0.04337     Accuracy: 98.58% \t Test Loss: 2.09975     Test Accuracy: 70.34%\n",
      "Epoch [ 18/150] \t Loss: 0.05502     Accuracy: 98.19% \t Test Loss: 1.92562     Test Accuracy: 71.96%\n",
      "Epoch [ 19/150] \t Loss: 0.05251     Accuracy: 98.25% \t Test Loss: 1.98412     Test Accuracy: 72.02%\n",
      "Epoch [ 20/150] \t Loss: 0.04669     Accuracy: 98.50% \t Test Loss: 1.92183     Test Accuracy: 72.35%\n",
      "Epoch [ 21/150] \t Loss: 0.04472     Accuracy: 98.56% \t Test Loss: 2.13657     Test Accuracy: 71.81%\n",
      "Epoch [ 22/150] \t Loss: 0.04676     Accuracy: 98.51% \t Test Loss: 2.05167     Test Accuracy: 71.25%\n",
      "Epoch [ 23/150] \t Loss: 0.05317     Accuracy: 98.32% \t Test Loss: 1.98124     Test Accuracy: 71.88%\n",
      "Epoch [ 24/150] \t Loss: 0.03942     Accuracy: 98.77% \t Test Loss: 2.09936     Test Accuracy: 71.74%\n",
      "Epoch [ 25/150] \t Loss: 0.04474     Accuracy: 98.56% \t Test Loss: 2.15283     Test Accuracy: 72.09%\n",
      "Epoch [ 26/150] \t Loss: 0.04415     Accuracy: 98.58% \t Test Loss: 2.11252     Test Accuracy: 71.31%\n",
      "Epoch [ 27/150] \t Loss: 0.03523     Accuracy: 98.94% \t Test Loss: 2.29773     Test Accuracy: 71.35%\n",
      "Epoch [ 28/150] \t Loss: 0.04333     Accuracy: 98.67% \t Test Loss: 2.23492     Test Accuracy: 71.34%\n",
      "Epoch [ 29/150] \t Loss: 0.03979     Accuracy: 98.76% \t Test Loss: 2.24375     Test Accuracy: 70.85%\n",
      "Epoch [ 30/150] \t Loss: 0.04037     Accuracy: 98.71% \t Test Loss: 2.28353     Test Accuracy: 71.95%\n",
      "Epoch [ 31/150] \t Loss: 0.04213     Accuracy: 98.67% \t Test Loss: 2.23051     Test Accuracy: 70.48%\n",
      "Epoch [ 32/150] \t Loss: 0.04130     Accuracy: 98.72% \t Test Loss: 2.25920     Test Accuracy: 71.58%\n",
      "Epoch [ 33/150] \t Loss: 0.03270     Accuracy: 98.97% \t Test Loss: 2.46304     Test Accuracy: 71.51%\n",
      "Epoch [ 34/150] \t Loss: 0.04199     Accuracy: 98.68% \t Test Loss: 2.38164     Test Accuracy: 71.45%\n",
      "Epoch [ 35/150] \t Loss: 0.04404     Accuracy: 98.59% \t Test Loss: 2.29460     Test Accuracy: 71.09%\n",
      "Epoch [ 36/150] \t Loss: 0.03260     Accuracy: 98.95% \t Test Loss: 2.40095     Test Accuracy: 71.94%\n",
      "Epoch [ 37/150] \t Loss: 0.03577     Accuracy: 98.93% \t Test Loss: 2.36961     Test Accuracy: 71.14%\n",
      "Epoch [ 38/150] \t Loss: 0.02632     Accuracy: 99.20% \t Test Loss: 2.47243     Test Accuracy: 71.81%\n",
      "Epoch [ 39/150] \t Loss: 0.04653     Accuracy: 98.64% \t Test Loss: 2.43401     Test Accuracy: 70.34%\n",
      "Epoch [ 40/150] \t Loss: 0.03753     Accuracy: 98.88% \t Test Loss: 2.35181     Test Accuracy: 70.82%\n",
      "Epoch [ 41/150] \t Loss: 0.02781     Accuracy: 99.16% \t Test Loss: 2.47591     Test Accuracy: 70.99%\n",
      "Epoch [ 42/150] \t Loss: 0.02750     Accuracy: 99.18% \t Test Loss: 2.54367     Test Accuracy: 70.11%\n",
      "Epoch [ 43/150] \t Loss: 0.02454     Accuracy: 99.21% \t Test Loss: 2.71804     Test Accuracy: 71.71%\n",
      "Epoch [ 44/150] \t Loss: 0.03034     Accuracy: 99.10% \t Test Loss: 2.75321     Test Accuracy: 70.42%\n",
      "Epoch [ 45/150] \t Loss: 0.04738     Accuracy: 98.66% \t Test Loss: 2.52084     Test Accuracy: 70.79%\n",
      "Epoch [ 46/150] \t Loss: 0.03310     Accuracy: 99.00% \t Test Loss: 2.53860     Test Accuracy: 72.11%\n",
      "Epoch [ 47/150] \t Loss: 0.02450     Accuracy: 99.21% \t Test Loss: 2.62701     Test Accuracy: 71.08%\n",
      "Epoch [ 48/150] \t Loss: 0.02678     Accuracy: 99.18% \t Test Loss: 2.59922     Test Accuracy: 71.68%\n",
      "Epoch [ 49/150] \t Loss: 0.03277     Accuracy: 99.03% \t Test Loss: 2.65374     Test Accuracy: 70.82%\n",
      "Epoch [ 50/150] \t Loss: 0.03455     Accuracy: 99.01% \t Test Loss: 2.77679     Test Accuracy: 71.13%\n",
      "Epoch [ 51/150] \t Loss: 0.02357     Accuracy: 99.25% \t Test Loss: 2.74094     Test Accuracy: 71.31%\n",
      "Epoch [ 52/150] \t Loss: 0.02970     Accuracy: 99.13% \t Test Loss: 2.88047     Test Accuracy: 71.02%\n",
      "Epoch [ 53/150] \t Loss: 0.03595     Accuracy: 98.98% \t Test Loss: 2.75172     Test Accuracy: 70.50%\n",
      "Epoch [ 54/150] \t Loss: 0.03522     Accuracy: 99.00% \t Test Loss: 2.75328     Test Accuracy: 70.11%\n",
      "Epoch [ 55/150] \t Loss: 0.02251     Accuracy: 99.31% \t Test Loss: 2.91610     Test Accuracy: 71.68%\n",
      "Epoch [ 56/150] \t Loss: 0.02857     Accuracy: 99.21% \t Test Loss: 2.73092     Test Accuracy: 71.28%\n",
      "Epoch [ 57/150] \t Loss: 0.02142     Accuracy: 99.37% \t Test Loss: 2.95355     Test Accuracy: 70.96%\n",
      "Epoch [ 58/150] \t Loss: 0.02978     Accuracy: 99.17% \t Test Loss: 2.99055     Test Accuracy: 70.56%\n",
      "Epoch [ 59/150] \t Loss: 0.02714     Accuracy: 99.15% \t Test Loss: 2.98185     Test Accuracy: 71.53%\n",
      "Epoch [ 60/150] \t Loss: 0.04282     Accuracy: 98.82% \t Test Loss: 3.01930     Test Accuracy: 70.86%\n",
      "Epoch [ 61/150] \t Loss: 0.03232     Accuracy: 99.13% \t Test Loss: 3.00792     Test Accuracy: 71.12%\n",
      "Epoch [ 62/150] \t Loss: 0.02650     Accuracy: 99.19% \t Test Loss: 3.05969     Test Accuracy: 70.74%\n",
      "Epoch [ 63/150] \t Loss: 0.02816     Accuracy: 99.18% \t Test Loss: 3.07268     Test Accuracy: 71.19%\n",
      "Epoch [ 64/150] \t Loss: 0.02301     Accuracy: 99.35% \t Test Loss: 3.10543     Test Accuracy: 71.13%\n",
      "Epoch [ 65/150] \t Loss: 0.02319     Accuracy: 99.37% \t Test Loss: 3.42428     Test Accuracy: 70.56%\n",
      "Epoch [ 66/150] \t Loss: 0.03808     Accuracy: 99.06% \t Test Loss: 3.13747     Test Accuracy: 70.28%\n",
      "Epoch [ 67/150] \t Loss: 0.03536     Accuracy: 99.03% \t Test Loss: 3.12247     Test Accuracy: 70.59%\n",
      "Epoch [ 68/150] \t Loss: 0.02684     Accuracy: 99.20% \t Test Loss: 3.29430     Test Accuracy: 71.26%\n",
      "Epoch [ 69/150] \t Loss: 0.02906     Accuracy: 99.15% \t Test Loss: 3.27160     Test Accuracy: 71.49%\n",
      "Epoch [ 70/150] \t Loss: 0.01853     Accuracy: 99.47% \t Test Loss: 3.27637     Test Accuracy: 72.09%\n",
      "Epoch [ 71/150] \t Loss: 0.02120     Accuracy: 99.40% \t Test Loss: 3.19735     Test Accuracy: 71.38%\n",
      "Epoch [ 72/150] \t Loss: 0.02449     Accuracy: 99.34% \t Test Loss: 3.43853     Test Accuracy: 71.76%\n",
      "Epoch [ 73/150] \t Loss: 0.02861     Accuracy: 99.30% \t Test Loss: 3.26162     Test Accuracy: 70.65%\n",
      "Epoch [ 74/150] \t Loss: 0.02397     Accuracy: 99.34% \t Test Loss: 3.47420     Test Accuracy: 70.78%\n",
      "Epoch [ 75/150] \t Loss: 0.03033     Accuracy: 99.18% \t Test Loss: 3.27266     Test Accuracy: 71.21%\n",
      "Epoch [ 76/150] \t Loss: 0.03329     Accuracy: 99.16% \t Test Loss: 3.56066     Test Accuracy: 71.02%\n",
      "Epoch [ 77/150] \t Loss: 0.03262     Accuracy: 99.14% \t Test Loss: 3.41601     Test Accuracy: 70.70%\n",
      "Epoch [ 78/150] \t Loss: 0.02847     Accuracy: 99.23% \t Test Loss: 3.54834     Test Accuracy: 70.87%\n",
      "Epoch [ 79/150] \t Loss: 0.02087     Accuracy: 99.41% \t Test Loss: 3.36785     Test Accuracy: 71.09%\n",
      "Epoch [ 80/150] \t Loss: 0.01803     Accuracy: 99.52% \t Test Loss: 3.70393     Test Accuracy: 70.80%\n",
      "Epoch [ 81/150] \t Loss: 0.02563     Accuracy: 99.33% \t Test Loss: 3.52301     Test Accuracy: 71.23%\n",
      "Epoch [ 82/150] \t Loss: 0.02607     Accuracy: 99.26% \t Test Loss: 3.47673     Test Accuracy: 71.49%\n",
      "Epoch [ 83/150] \t Loss: 0.03145     Accuracy: 99.19% \t Test Loss: 3.66855     Test Accuracy: 69.96%\n",
      "Epoch [ 84/150] \t Loss: 0.03293     Accuracy: 99.20% \t Test Loss: 3.50430     Test Accuracy: 70.75%\n",
      "Epoch [ 85/150] \t Loss: 0.03037     Accuracy: 99.22% \t Test Loss: 3.25494     Test Accuracy: 71.10%\n",
      "Epoch [ 86/150] \t Loss: 0.01839     Accuracy: 99.50% \t Test Loss: 3.70264     Test Accuracy: 70.29%\n",
      "Epoch [ 87/150] \t Loss: 0.02458     Accuracy: 99.35% \t Test Loss: 3.57942     Test Accuracy: 70.77%\n",
      "Epoch [ 88/150] \t Loss: 0.02638     Accuracy: 99.28% \t Test Loss: 3.57472     Test Accuracy: 70.90%\n",
      "Epoch [ 89/150] \t Loss: 0.02996     Accuracy: 99.26% \t Test Loss: 3.69008     Test Accuracy: 71.02%\n",
      "Epoch [ 90/150] \t Loss: 0.03537     Accuracy: 99.14% \t Test Loss: 3.71318     Test Accuracy: 70.98%\n",
      "Epoch [ 91/150] \t Loss: 0.02501     Accuracy: 99.37% \t Test Loss: 3.92339     Test Accuracy: 70.98%\n",
      "Epoch [ 92/150] \t Loss: 0.02364     Accuracy: 99.38% \t Test Loss: 3.80748     Test Accuracy: 70.41%\n",
      "Epoch [ 93/150] \t Loss: 0.02397     Accuracy: 99.44% \t Test Loss: 3.73761     Test Accuracy: 70.85%\n",
      "Epoch [ 94/150] \t Loss: 0.01653     Accuracy: 99.62% \t Test Loss: 3.93896     Test Accuracy: 70.94%\n",
      "Epoch [ 95/150] \t Loss: 0.02973     Accuracy: 99.27% \t Test Loss: 3.70774     Test Accuracy: 70.57%\n",
      "Epoch [ 96/150] \t Loss: 0.03034     Accuracy: 99.27% \t Test Loss: 3.71256     Test Accuracy: 71.19%\n",
      "Epoch [ 97/150] \t Loss: 0.02030     Accuracy: 99.52% \t Test Loss: 3.82353     Test Accuracy: 70.85%\n",
      "Epoch [ 98/150] \t Loss: 0.02561     Accuracy: 99.35% \t Test Loss: 3.86143     Test Accuracy: 70.61%\n",
      "Epoch [ 99/150] \t Loss: 0.01355     Accuracy: 99.64% \t Test Loss: 3.94764     Test Accuracy: 70.83%\n",
      "Epoch [100/150] \t Loss: 0.02804     Accuracy: 99.32% \t Test Loss: 4.10116     Test Accuracy: 70.19%\n",
      "Epoch [101/150] \t Loss: 0.03530     Accuracy: 99.15% \t Test Loss: 4.07447     Test Accuracy: 70.45%\n",
      "Epoch [102/150] \t Loss: 0.04041     Accuracy: 99.07% \t Test Loss: 3.87219     Test Accuracy: 70.78%\n",
      "Epoch [103/150] \t Loss: 0.02259     Accuracy: 99.48% \t Test Loss: 4.13871     Test Accuracy: 71.24%\n",
      "Epoch [104/150] \t Loss: 0.01746     Accuracy: 99.56% \t Test Loss: 4.20658     Test Accuracy: 70.69%\n",
      "Epoch [105/150] \t Loss: 0.01750     Accuracy: 99.58% \t Test Loss: 4.26851     Test Accuracy: 70.33%\n",
      "Epoch [106/150] \t Loss: 0.02924     Accuracy: 99.32% \t Test Loss: 4.18659     Test Accuracy: 70.48%\n",
      "Epoch [107/150] \t Loss: 0.04148     Accuracy: 99.10% \t Test Loss: 3.84368     Test Accuracy: 71.26%\n",
      "Epoch [108/150] \t Loss: 0.02225     Accuracy: 99.48% \t Test Loss: 4.08496     Test Accuracy: 70.67%\n",
      "Epoch [109/150] \t Loss: 0.02335     Accuracy: 99.45% \t Test Loss: 4.19198     Test Accuracy: 71.22%\n",
      "Epoch [110/150] \t Loss: 0.01850     Accuracy: 99.53% \t Test Loss: 4.11820     Test Accuracy: 71.51%\n",
      "Epoch [111/150] \t Loss: 0.01559     Accuracy: 99.59% \t Test Loss: 4.48660     Test Accuracy: 70.71%\n",
      "Epoch [112/150] \t Loss: 0.03214     Accuracy: 99.36% \t Test Loss: 4.13808     Test Accuracy: 71.20%\n",
      "Epoch [113/150] \t Loss: 0.02622     Accuracy: 99.42% \t Test Loss: 4.50394     Test Accuracy: 71.27%\n",
      "Epoch [114/150] \t Loss: 0.02467     Accuracy: 99.44% \t Test Loss: 4.15397     Test Accuracy: 71.11%\n",
      "Epoch [115/150] \t Loss: 0.02525     Accuracy: 99.46% \t Test Loss: 4.22634     Test Accuracy: 71.66%\n",
      "Epoch [116/150] \t Loss: 0.02711     Accuracy: 99.40% \t Test Loss: 4.48635     Test Accuracy: 71.01%\n",
      "Epoch [117/150] \t Loss: 0.03024     Accuracy: 99.31% \t Test Loss: 4.27729     Test Accuracy: 70.47%\n",
      "Epoch [118/150] \t Loss: 0.02562     Accuracy: 99.39% \t Test Loss: 4.18869     Test Accuracy: 70.51%\n",
      "Epoch [119/150] \t Loss: 0.01595     Accuracy: 99.64% \t Test Loss: 4.50126     Test Accuracy: 71.34%\n",
      "Epoch [120/150] \t Loss: 0.02255     Accuracy: 99.51% \t Test Loss: 4.42264     Test Accuracy: 71.32%\n",
      "Epoch [121/150] \t Loss: 0.02359     Accuracy: 99.45% \t Test Loss: 4.64803     Test Accuracy: 72.01%\n",
      "Epoch [122/150] \t Loss: 0.02768     Accuracy: 99.38% \t Test Loss: 4.82380     Test Accuracy: 70.81%\n",
      "Epoch [123/150] \t Loss: 0.02992     Accuracy: 99.37% \t Test Loss: 4.75861     Test Accuracy: 71.48%\n",
      "Epoch [124/150] \t Loss: 0.02719     Accuracy: 99.40% \t Test Loss: 4.70054     Test Accuracy: 71.78%\n",
      "Epoch [125/150] \t Loss: 0.01283     Accuracy: 99.66% \t Test Loss: 4.79652     Test Accuracy: 71.15%\n",
      "Epoch [126/150] \t Loss: 0.03097     Accuracy: 99.33% \t Test Loss: 4.60838     Test Accuracy: 71.36%\n",
      "Epoch [127/150] \t Loss: 0.02753     Accuracy: 99.41% \t Test Loss: 4.62204     Test Accuracy: 70.78%\n",
      "Epoch [128/150] \t Loss: 0.04276     Accuracy: 99.22% \t Test Loss: 4.52237     Test Accuracy: 70.41%\n",
      "Epoch [129/150] \t Loss: 0.03128     Accuracy: 99.40% \t Test Loss: 4.58457     Test Accuracy: 71.42%\n",
      "Epoch [130/150] \t Loss: 0.01976     Accuracy: 99.55% \t Test Loss: 4.64862     Test Accuracy: 71.22%\n",
      "Epoch [131/150] \t Loss: 0.01335     Accuracy: 99.67% \t Test Loss: 4.75883     Test Accuracy: 71.18%\n",
      "Epoch [132/150] \t Loss: 0.01958     Accuracy: 99.58% \t Test Loss: 4.58049     Test Accuracy: 71.12%\n",
      "Epoch [133/150] \t Loss: 0.02038     Accuracy: 99.57% \t Test Loss: 4.64642     Test Accuracy: 70.82%\n",
      "Epoch [134/150] \t Loss: 0.02417     Accuracy: 99.50% \t Test Loss: 4.80510     Test Accuracy: 71.27%\n",
      "Epoch [135/150] \t Loss: 0.01633     Accuracy: 99.64% \t Test Loss: 5.08173     Test Accuracy: 70.54%\n",
      "Epoch [136/150] \t Loss: 0.02625     Accuracy: 99.48% \t Test Loss: 4.77951     Test Accuracy: 70.97%\n",
      "Epoch [137/150] \t Loss: 0.04128     Accuracy: 99.15% \t Test Loss: 5.09970     Test Accuracy: 70.16%\n",
      "Epoch [138/150] \t Loss: 0.02361     Accuracy: 99.49% \t Test Loss: 4.94297     Test Accuracy: 71.41%\n",
      "Epoch [139/150] \t Loss: 0.01816     Accuracy: 99.63% \t Test Loss: 5.26253     Test Accuracy: 71.12%\n",
      "Epoch [140/150] \t Loss: 0.02682     Accuracy: 99.45% \t Test Loss: 5.22985     Test Accuracy: 70.99%\n",
      "Epoch [141/150] \t Loss: 0.03028     Accuracy: 99.41% \t Test Loss: 5.55399     Test Accuracy: 70.66%\n",
      "Epoch [142/150] \t Loss: 0.02398     Accuracy: 99.49% \t Test Loss: 5.24573     Test Accuracy: 70.93%\n",
      "Epoch [143/150] \t Loss: 0.03950     Accuracy: 99.25% \t Test Loss: 5.52066     Test Accuracy: 70.77%\n",
      "Epoch [144/150] \t Loss: 0.03514     Accuracy: 99.35% \t Test Loss: 5.20218     Test Accuracy: 70.95%\n",
      "Epoch [145/150] \t Loss: 0.02212     Accuracy: 99.56% \t Test Loss: 5.19896     Test Accuracy: 70.96%\n",
      "Epoch [146/150] \t Loss: 0.02802     Accuracy: 99.47% \t Test Loss: 5.19731     Test Accuracy: 71.26%\n",
      "Epoch [147/150] \t Loss: 0.02624     Accuracy: 99.47% \t Test Loss: 5.38610     Test Accuracy: 71.09%\n",
      "Epoch [148/150] \t Loss: 0.02906     Accuracy: 99.44% \t Test Loss: 5.42863     Test Accuracy: 71.45%\n",
      "Epoch [149/150] \t Loss: 0.03131     Accuracy: 99.45% \t Test Loss: 5.37257     Test Accuracy: 71.38%\n",
      "Epoch [150/150] \t Loss: 0.02777     Accuracy: 99.46% \t Test Loss: 5.50109     Test Accuracy: 71.24%\n"
     ]
    }
   ],
   "source": [
    "# train\n",
    "for epoch in range(max_epoch):\n",
    "    model.train()\n",
    "    running_loss = 0.0\n",
    "    running_correct = 0   # to track number of correct predictions\n",
    "    total = 0             # to track total number of samples\n",
    "\n",
    "    for i, (inputs, labels) in enumerate(trainloader, 0):\n",
    "        # Move inputs and labels to the device\n",
    "        inputs, labels = inputs.to(device), labels.to(device)\n",
    "\n",
    "        # Zero the parameter gradients\n",
    "        optimizer.zero_grad()\n",
    "\n",
    "        # Forward pass\n",
    "        outputs = model(inputs)\n",
    "        loss = criterion(outputs, labels)\n",
    "        running_loss += loss.item()\n",
    "\n",
    "        # Backward pass and optimization\n",
    "        loss.backward()\n",
    "        optimizer.step()  \n",
    "    \n",
    "        # Determine class predictions and track accuracy\n",
    "        _, predicted = torch.max(outputs.data, 1)\n",
    "        total += labels.size(0)\n",
    "        running_correct += (predicted == labels).sum().item()\n",
    "\n",
    "\n",
    "    epoch_accuracy = 100 * running_correct / total\n",
    "    epoch_loss = running_loss / (i + 1)\n",
    "    \n",
    "    test_loss, test_accuracy = evaluate(model, testloader, criterion)\n",
    "    print(f\"Epoch [{(epoch + 1):3}/{max_epoch:3}] \\t Loss: {epoch_loss:<11.5f} Accuracy: {epoch_accuracy:.2f}% \\t Test Loss: {test_loss:<11.5f} Test Accuracy: {test_accuracy:.2f}%\")\n",
    "    \n",
    "    # save for plot\n",
    "    train_losses.append(epoch_loss)\n",
    "    train_accuracies.append(epoch_accuracy)\n",
    "    test_losses.append(test_loss)\n",
    "    test_accuracies.append(test_accuracy)"
   ]
  },
  {
   "cell_type": "code",
   "execution_count": 10,
   "id": "cebcb439-88f2-40b6-9a17-4990ad324731",
   "metadata": {},
   "outputs": [
    {
     "name": "stdout",
     "output_type": "stream",
     "text": [
      "\n",
      "Best epoch: 6 with test accuracy: 72.73%\n"
     ]
    }
   ],
   "source": [
    "# the best accuracy\n",
    "best_epoch = np.argmax(test_accuracies)\n",
    "print(f\"\\nBest epoch: {best_epoch + 1} with test accuracy: {test_accuracies[best_epoch]:.2f}%\")"
   ]
  },
  {
   "cell_type": "markdown",
   "metadata": {},
   "source": [
    "# Plot results"
   ]
  },
  {
   "cell_type": "code",
   "execution_count": 11,
   "id": "DkC3_902Lgn-",
   "metadata": {
    "executionInfo": {
     "elapsed": 3,
     "status": "ok",
     "timestamp": 1673091684322,
     "user": {
      "displayName": "Thắng Dương Đình",
      "userId": "02196529682032971345"
     },
     "user_tz": -420
    },
    "id": "DkC3_902Lgn-"
   },
   "outputs": [
    {
     "data": {
      "text/plain": [
       "<matplotlib.legend.Legend at 0x7f589b65e670>"
      ]
     },
     "execution_count": 11,
     "metadata": {},
     "output_type": "execute_result"
    },
    {
     "data": {
      "image/png": "[encoded data removed]",
      "text/plain": [
       "<Figure size 640x480 with 1 Axes>"
      ]
     },
     "metadata": {},
     "output_type": "display_data"
    }
   ],
   "source": [
    "plt.plot(train_losses, label='train_losses')\n",
    "plt.plot(test_losses, label='test_losses')\n",
    "plt.legend()"
   ]
  },
  {
   "cell_type": "code",
   "execution_count": 12,
   "id": "794f4e81",
   "metadata": {
    "executionInfo": {
     "elapsed": 8,
     "status": "ok",
     "timestamp": 1673092872464,
     "user": {
      "displayName": "Thắng Dương Đình",
      "userId": "02196529682032971345"
     },
     "user_tz": -420
    },
    "id": "794f4e81"
   },
   "outputs": [
    {
     "data": {
      "text/plain": [
       "<matplotlib.legend.Legend at 0x7f589b3079a0>"
      ]
     },
     "execution_count": 12,
     "metadata": {},
     "output_type": "execute_result"
    },
    {
     "data": {
      "image/png": "[encoded data removed]",
      "text/plain": [
       "<Figure size 640x480 with 1 Axes>"
      ]
     },
     "metadata": {},
     "output_type": "display_data"
    }
   ],
   "source": [
    "plt.plot(train_accuracies, label='train_accuracy')\n",
    "plt.plot(test_accuracies, label='test_accuracy')\n",
    "plt.legend()"
   ]
  },
  {
   "cell_type": "code",
   "execution_count": null,
   "id": "a2ec7c96-ff05-4863-92e7-c45f2f0e3d03",
   "metadata": {},
   "outputs": [],
   "source": []
  },
  {
   "cell_type": "code",
   "execution_count": null,
   "id": "8c86325e-7b6c-43a6-b315-93e02bcdb264",
   "metadata": {},
   "outputs": [],
   "source": []
  }
 ],
 "metadata": {
  "accelerator": "GPU",
  "colab": {
   "provenance": []
  },
  "gpuClass": "standard",
  "kernelspec": {
   "display_name": "Python 3 (ipykernel)",
   "language": "python",
   "name": "python3"
  },
  "language_info": {
   "codemirror_mode": {
    "name": "ipython",
    "version": 3
   },
   "file_extension": ".py",
   "mimetype": "text/x-python",
   "name": "python",
   "nbconvert_exporter": "python",
   "pygments_lexer": "ipython3",
   "version": "3.8.0"
  },
  "widgets": {
   "application/vnd.jupyter.widget-state+json": {
    "00397590a13d454d8b16fd8d15ae9b41": {
     "model_module": "@jupyter-widgets/controls",
     "model_module_version": "1.5.0",
     "model_name": "DescriptionStyleModel",
     "state": {
      "_model_module": "@jupyter-widgets/controls",
      "_model_module_version": "1.5.0",
      "_model_name": "DescriptionStyleModel",
      "_view_count": null,
      "_view_module": "@jupyter-widgets/base",
      "_view_module_version": "1.2.0",
      "_view_name": "StyleView",
      "description_width": ""
     }
    },
    "0a3d339ba81a4f22b893250502c493af": {
     "model_module": "@jupyter-widgets/base",
     "model_module_version": "1.2.0",
     "model_name": "LayoutModel",
     "state": {
      "_model_module": "@jupyter-widgets/base",
      "_model_module_version": "1.2.0",
      "_model_name": "LayoutModel",
      "_view_count": null,
      "_view_module": "@jupyter-widgets/base",
      "_view_module_version": "1.2.0",
      "_view_name": "LayoutView",
      "align_content": null,
      "align_items": null,
      "align_self": null,
      "border": null,
      "bottom": null,
      "display": null,
      "flex": null,
      "flex_flow": null,
      "grid_area": null,
      "grid_auto_columns": null,
      "grid_auto_flow": null,
      "grid_auto_rows": null,
      "grid_column": null,
      "grid_gap": null,
      "grid_row": null,
      "grid_template_areas": null,
      "grid_template_columns": null,
      "grid_template_rows": null,
      "height": null,
      "justify_content": null,
      "justify_items": null,
      "left": null,
      "margin": null,
      "max_height": null,
      "max_width": null,
      "min_height": null,
      "min_width": null,
      "object_fit": null,
      "object_position": null,
      "order": null,
      "overflow": null,
      "overflow_x": null,
      "overflow_y": null,
      "padding": null,
      "right": null,
      "top": null,
      "visibility": null,
      "width": null
     }
    },
    "4691e220a8cb466bb46540f16f65e864": {
     "model_module": "@jupyter-widgets/controls",
     "model_module_version": "1.5.0",
     "model_name": "ProgressStyleModel",
     "state": {
      "_model_module": "@jupyter-widgets/controls",
      "_model_module_version": "1.5.0",
      "_model_name": "ProgressStyleModel",
      "_view_count": null,
      "_view_module": "@jupyter-widgets/base",
      "_view_module_version": "1.2.0",
      "_view_name": "StyleView",
      "bar_color": null,
      "description_width": ""
     }
    },
    "56c90ad0a7fb47d08727a7dac3f68f39": {
     "model_module": "@jupyter-widgets/base",
     "model_module_version": "1.2.0",
     "model_name": "LayoutModel",
     "state": {
      "_model_module": "@jupyter-widgets/base",
      "_model_module_version": "1.2.0",
      "_model_name": "LayoutModel",
      "_view_count": null,
      "_view_module": "@jupyter-widgets/base",
      "_view_module_version": "1.2.0",
      "_view_name": "LayoutView",
      "align_content": null,
      "align_items": null,
      "align_self": null,
      "border": null,
      "bottom": null,
      "display": null,
      "flex": null,
      "flex_flow": null,
      "grid_area": null,
      "grid_auto_columns": null,
      "grid_auto_flow": null,
      "grid_auto_rows": null,
      "grid_column": null,
      "grid_gap": null,
      "grid_row": null,
      "grid_template_areas": null,
      "grid_template_columns": null,
      "grid_template_rows": null,
      "height": null,
      "justify_content": null,
      "justify_items": null,
      "left": null,
      "margin": null,
      "max_height": null,
      "max_width": null,
      "min_height": null,
      "min_width": null,
      "object_fit": null,
      "object_position": null,
      "order": null,
      "overflow": null,
      "overflow_x": null,
      "overflow_y": null,
      "padding": null,
      "right": null,
      "top": null,
      "visibility": null,
      "width": null
     }
    },
    "619c9ef51fc5497f81b4af88db9214cc": {
     "model_module": "@jupyter-widgets/controls",
     "model_module_version": "1.5.0",
     "model_name": "DescriptionStyleModel",
     "state": {
      "_model_module": "@jupyter-widgets/controls",
      "_model_module_version": "1.5.0",
      "_model_name": "DescriptionStyleModel",
      "_view_count": null,
      "_view_module": "@jupyter-widgets/base",
      "_view_module_version": "1.2.0",
      "_view_name": "StyleView",
      "description_width": ""
     }
    },
    "7c95c188ecf242de9776dcfd3e3fc8d2": {
     "model_module": "@jupyter-widgets/base",
     "model_module_version": "1.2.0",
     "model_name": "LayoutModel",
     "state": {
      "_model_module": "@jupyter-widgets/base",
      "_model_module_version": "1.2.0",
      "_model_name": "LayoutModel",
      "_view_count": null,
      "_view_module": "@jupyter-widgets/base",
      "_view_module_version": "1.2.0",
      "_view_name": "LayoutView",
      "align_content": null,
      "align_items": null,
      "align_self": null,
      "border": null,
      "bottom": null,
      "display": null,
      "flex": null,
      "flex_flow": null,
      "grid_area": null,
      "grid_auto_columns": null,
      "grid_auto_flow": null,
      "grid_auto_rows": null,
      "grid_column": null,
      "grid_gap": null,
      "grid_row": null,
      "grid_template_areas": null,
      "grid_template_columns": null,
      "grid_template_rows": null,
      "height": null,
      "justify_content": null,
      "justify_items": null,
      "left": null,
      "margin": null,
      "max_height": null,
      "max_width": null,
      "min_height": null,
      "min_width": null,
      "object_fit": null,
      "object_position": null,
      "order": null,
      "overflow": null,
      "overflow_x": null,
      "overflow_y": null,
      "padding": null,
      "right": null,
      "top": null,
      "visibility": null,
      "width": null
     }
    },
    "8a6ed597588f4c07bff4271aeba7c1bb": {
     "model_module": "@jupyter-widgets/controls",
     "model_module_version": "1.5.0",
     "model_name": "HBoxModel",
     "state": {
      "_dom_classes": [],
      "_model_module": "@jupyter-widgets/controls",
      "_model_module_version": "1.5.0",
      "_model_name": "HBoxModel",
      "_view_count": null,
      "_view_module": "@jupyter-widgets/controls",
      "_view_module_version": "1.5.0",
      "_view_name": "HBoxView",
      "box_style": "",
      "children": [
       "IPY_MODEL_e09dd53ac3044e3097ed084354a52e13",
       "IPY_MODEL_8b2a0088b39741f6968c95f40ff787e6",
       "IPY_MODEL_cf5fb8e067be464bb14a1cf5e8b4e2de"
      ],
      "layout": "IPY_MODEL_0a3d339ba81a4f22b893250502c493af"
     }
    },
    "8b2a0088b39741f6968c95f40ff787e6": {
     "model_module": "@jupyter-widgets/controls",
     "model_module_version": "1.5.0",
     "model_name": "FloatProgressModel",
     "state": {
      "_dom_classes": [],
      "_model_module": "@jupyter-widgets/controls",
      "_model_module_version": "1.5.0",
      "_model_name": "FloatProgressModel",
      "_view_count": null,
      "_view_module": "@jupyter-widgets/controls",
      "_view_module_version": "1.5.0",
      "_view_name": "ProgressView",
      "bar_style": "success",
      "description": "",
      "description_tooltip": null,
      "layout": "IPY_MODEL_56c90ad0a7fb47d08727a7dac3f68f39",
      "max": 170498071,
      "min": 0,
      "orientation": "horizontal",
      "style": "IPY_MODEL_4691e220a8cb466bb46540f16f65e864",
      "value": 170498071
     }
    },
    "cf5fb8e067be464bb14a1cf5e8b4e2de": {
     "model_module": "@jupyter-widgets/controls",
     "model_module_version": "1.5.0",
     "model_name": "HTMLModel",
     "state": {
      "_dom_classes": [],
      "_model_module": "@jupyter-widgets/controls",
      "_model_module_version": "1.5.0",
      "_model_name": "HTMLModel",
      "_view_count": null,
      "_view_module": "@jupyter-widgets/controls",
      "_view_module_version": "1.5.0",
      "_view_name": "HTMLView",
      "description": "",
      "description_tooltip": null,
      "layout": "IPY_MODEL_7c95c188ecf242de9776dcfd3e3fc8d2",
      "placeholder": "​",
      "style": "IPY_MODEL_619c9ef51fc5497f81b4af88db9214cc",
      "value": " 170498071/170498071 [00:01&lt;00:00, 97303096.82it/s]"
     }
    },
    "e09dd53ac3044e3097ed084354a52e13": {
     "model_module": "@jupyter-widgets/controls",
     "model_module_version": "1.5.0",
     "model_name": "HTMLModel",
     "state": {
      "_dom_classes": [],
      "_model_module": "@jupyter-widgets/controls",
      "_model_module_version": "1.5.0",
      "_model_name": "HTMLModel",
      "_view_count": null,
      "_view_module": "@jupyter-widgets/controls",
      "_view_module_version": "1.5.0",
      "_view_name": "HTMLView",
      "description": "",
      "description_tooltip": null,
      "layout": "IPY_MODEL_f4c44a600db84290a51877583e18ee26",
      "placeholder": "​",
      "style": "IPY_MODEL_00397590a13d454d8b16fd8d15ae9b41",
      "value": "100%"
     }
    },
    "f4c44a600db84290a51877583e18ee26": {
     "model_module": "@jupyter-widgets/base",
     "model_module_version": "1.2.0",
     "model_name": "LayoutModel",
     "state": {
      "_model_module": "@jupyter-widgets/base",
      "_model_module_version": "1.2.0",
      "_model_name": "LayoutModel",
      "_view_count": null,
      "_view_module": "@jupyter-widgets/base",
      "_view_module_version": "1.2.0",
      "_view_name": "LayoutView",
      "align_content": null,
      "align_items": null,
      "align_self": null,
      "border": null,
      "bottom": null,
      "display": null,
      "flex": null,
      "flex_flow": null,
      "grid_area": null,
      "grid_auto_columns": null,
      "grid_auto_flow": null,
      "grid_auto_rows": null,
      "grid_column": null,
      "grid_gap": null,
      "grid_row": null,
      "grid_template_areas": null,
      "grid_template_columns": null,
      "grid_template_rows": null,
      "height": null,
      "justify_content": null,
      "justify_items": null,
      "left": null,
      "margin": null,
      "max_height": null,
      "max_width": null,
      "min_height": null,
      "min_width": null,
      "object_fit": null,
      "object_position": null,
      "order": null,
      "overflow": null,
      "overflow_x": null,
      "overflow_y": null,
      "padding": null,
      "right": null,
      "top": null,
      "visibility": null,
      "width": null
     }
    }
   }
  }
 },
 "nbformat": 4,
 "nbformat_minor": 5
}
