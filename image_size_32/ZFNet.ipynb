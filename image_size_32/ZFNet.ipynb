{
 "cells": [
  {
   "cell_type": "code",
   "execution_count": 1,
   "id": "d4e45a49-974f-4f9c-8642-42e2c45aab71",
   "metadata": {},
   "outputs": [],
   "source": [
    "import os\n",
    "os.environ['CUDA_VISIBLE_DEVICES'] = '0'\n",
    "\n",
    "import torch\n",
    "import torchvision.transforms as transforms\n",
    "import torch.nn as nn\n",
    "import torch.nn.functional as F\n",
    "\n",
    "import numpy as np\n",
    "import matplotlib.pyplot as plt\n",
    "\n",
    "from torchvision.datasets import CIFAR10\n",
    "from torch.utils.data import DataLoader \n",
    "from torch.optim import Adam\n",
    "import torchvision\n",
    "import torchvision.models as models\n",
    "from torchsummary import summary\n",
    "\n",
    "torch.manual_seed(1)\n",
    "device = 'cuda' if torch.cuda.is_available() else 'cpu'"
   ]
  },
  {
   "cell_type": "code",
   "execution_count": null,
   "metadata": {},
   "outputs": [],
   "source": []
  },
  {
   "cell_type": "markdown",
   "id": "f913360b-019e-4d69-a540-b7b5715544e1",
   "metadata": {},
   "source": [
    "## Data"
   ]
  },
  {
   "cell_type": "code",
   "execution_count": 2,
   "id": "3ad21976-2d99-49b7-b0b5-84e9ebcd371e",
   "metadata": {},
   "outputs": [
    {
     "name": "stdout",
     "output_type": "stream",
     "text": [
      "Files already downloaded and verified\n",
      "Files already downloaded and verified\n"
     ]
    }
   ],
   "source": [
    "batch_size = 256\n",
    "train_transform = transforms.Compose(\n",
    "    [\n",
    "        transforms.ToTensor(),\n",
    "        transforms.Normalize([0.4914, 0.4822, 0.4465], \n",
    "                             [0.2470, 0.2435, 0.2616]),\n",
    "    ])\n",
    "\n",
    "val_transform = transforms.Compose(\n",
    "    [\n",
    "        transforms.ToTensor(),\n",
    "        transforms.Normalize([0.4914, 0.4822, 0.4465], \n",
    "                             [0.2470, 0.2435, 0.2616])\n",
    "    ])\n",
    "\n",
    "train_set = CIFAR10(\n",
    "    root='./data', \n",
    "    train=True,\n",
    "    download=True, \n",
    "    transform=train_transform\n",
    ")\n",
    "\n",
    "val_set = CIFAR10(\n",
    "    root='./data', \n",
    "    train=False,\n",
    "    download=True, \n",
    "    transform=val_transform\n",
    ")\n",
    "\n",
    "trainloader = DataLoader(\n",
    "    train_set, \n",
    "    batch_size=batch_size,\n",
    "    shuffle=True,\n",
    "    num_workers=4,\n",
    ")\n",
    "\n",
    "testloader = DataLoader(\n",
    "    val_set, \n",
    "    batch_size=batch_size,\n",
    "    shuffle=False, \n",
    "    num_workers=4,\n",
    ")"
   ]
  },
  {
   "cell_type": "code",
   "execution_count": null,
   "id": "cf229497-4b6e-443d-b330-66b6fa139fcd",
   "metadata": {},
   "outputs": [],
   "source": []
  },
  {
   "cell_type": "markdown",
   "id": "6ea0dde8-29e7-4096-bd15-6a5ed74655f0",
   "metadata": {},
   "source": [
    "## Model"
   ]
  },
  {
   "cell_type": "code",
   "execution_count": 3,
   "metadata": {},
   "outputs": [],
   "source": [
    "class ZFNet(nn.Module):\n",
    "    def __init__(self, num_classes=10):\n",
    "        super(ZFNet, self).__init__()\n",
    "        # [out_chn, num_layer]\n",
    "        self.conv1 = nn.Conv2d(in_channels=3, out_channels=96, kernel_size=7, stride=2, padding=1)\n",
    "        self.conv2 = nn.Conv2d(in_channels=96, out_channels=256, kernel_size=5, stride=2, padding=1)\n",
    "        self.conv3 = nn.Conv2d(in_channels=256, out_channels=384, kernel_size=3, stride=1, padding=1)\n",
    "        self.conv4 = nn.Conv2d(in_channels=384, out_channels=384, kernel_size=3, stride=1, padding=1)\n",
    "        self.conv5 = nn.Conv2d(in_channels=384, out_channels=256, kernel_size=3, stride=1, padding=1)\n",
    "\n",
    "        self.max_pool1 = nn.MaxPool2d(kernel_size=2, stride=2)\n",
    "        self.max_pool2 = nn.MaxPool2d(kernel_size=2, stride=2)\n",
    "\n",
    "        self.fc1 = nn.Linear(in_features=256, out_features=4096)\n",
    "        self.fc2 = nn.Linear(in_features=4096, out_features=4096)\n",
    "        self.fc3 = nn.Linear(in_features=4096, out_features=10)\n",
    "\n",
    "    def forward(self, inputs):\n",
    "        x = F.relu(self.conv1(inputs))\n",
    "        x = self.max_pool1(x)\n",
    "\n",
    "        x = F.relu(self.conv2(x))\n",
    "        x = self.max_pool2(x)\n",
    "\n",
    "        x = F.relu(self.conv3(x))\n",
    "        x = F.relu(self.conv4(x))\n",
    "        x = F.relu(self.conv5(x))\n",
    "\n",
    "        x = x.view(x.size(0), -1)\n",
    "        x = F.dropout(F.relu(self.fc1(x)))\n",
    "        x = F.dropout(F.relu(self.fc2(x)))\n",
    "\n",
    "        model = self.fc3(x)\n",
    "\n",
    "        return model"
   ]
  },
  {
   "cell_type": "code",
   "execution_count": 4,
   "id": "81be3191-980a-4b94-8537-5dba83109866",
   "metadata": {},
   "outputs": [],
   "source": [
    "model = ZFNet(num_classes=10).to(device)"
   ]
  },
  {
   "cell_type": "code",
   "execution_count": 5,
   "id": "c8516821-d41b-42a8-9e51-ddfb8f9ec87e",
   "metadata": {},
   "outputs": [
    {
     "name": "stdout",
     "output_type": "stream",
     "text": [
      "----------------------------------------------------------------\n",
      "        Layer (type)               Output Shape         Param #\n",
      "================================================================\n",
      "            Conv2d-1           [-1, 96, 14, 14]          14,208\n",
      "         MaxPool2d-2             [-1, 96, 7, 7]               0\n",
      "            Conv2d-3            [-1, 256, 3, 3]         614,656\n",
      "         MaxPool2d-4            [-1, 256, 1, 1]               0\n",
      "            Conv2d-5            [-1, 384, 1, 1]         885,120\n",
      "            Conv2d-6            [-1, 384, 1, 1]       1,327,488\n",
      "            Conv2d-7            [-1, 256, 1, 1]         884,992\n",
      "            Linear-8                 [-1, 4096]       1,052,672\n",
      "            Linear-9                 [-1, 4096]      16,781,312\n",
      "           Linear-10                   [-1, 10]          40,970\n",
      "================================================================\n",
      "Total params: 21,601,418\n",
      "Trainable params: 21,601,418\n",
      "Non-trainable params: 0\n",
      "----------------------------------------------------------------\n",
      "Input size (MB): 0.01\n",
      "Forward/backward pass size (MB): 0.27\n",
      "Params size (MB): 82.40\n",
      "Estimated Total Size (MB): 82.68\n",
      "----------------------------------------------------------------\n"
     ]
    }
   ],
   "source": [
    "summary(model, (3, 32, 32))"
   ]
  },
  {
   "cell_type": "markdown",
   "id": "43c7b151-a199-4e2a-8015-fdfb5f166284",
   "metadata": {},
   "source": [
    "# Train"
   ]
  },
  {
   "cell_type": "code",
   "execution_count": 6,
   "id": "1464e2bd-b627-475d-9941-f2a930d69a14",
   "metadata": {},
   "outputs": [],
   "source": [
    "criterion = nn.CrossEntropyLoss()\n",
    "optimizer = Adam(model.parameters(), lr=1e-3)  "
   ]
  },
  {
   "cell_type": "code",
   "execution_count": 7,
   "id": "04744c84-1e6d-4bfb-8dd5-abbdc91f102e",
   "metadata": {},
   "outputs": [],
   "source": [
    "# Function to compute loss and accuracy for test set\n",
    "def evaluate(model, testloader, criterion):\n",
    "    model.eval()\n",
    "    test_loss = 0.0\n",
    "    running_correct = 0\n",
    "    total = 0\n",
    "    with torch.no_grad():\n",
    "        for images, labels in testloader:\n",
    "            # Move inputs and labels to the device\n",
    "            images, labels = images.to(device), labels.to(device)\n",
    "\n",
    "            outputs = model(images)\n",
    "            loss = criterion(outputs, labels)\n",
    "            test_loss += loss.item()\n",
    "            \n",
    "            _, predicted = torch.max(outputs.data, 1)\n",
    "            total += labels.size(0)\n",
    "            running_correct += (predicted == labels).sum().item()\n",
    "\n",
    "    accuracy = 100 * running_correct / total\n",
    "    test_loss = test_loss / len(testloader)\n",
    "    return test_loss, accuracy"
   ]
  },
  {
   "cell_type": "code",
   "execution_count": 8,
   "id": "f2402591-e7f7-4bdd-8962-c029cfcd9307",
   "metadata": {},
   "outputs": [],
   "source": [
    "# some parameter\n",
    "train_losses = []\n",
    "train_accuracies = []\n",
    "test_losses = []\n",
    "test_accuracies = []\n",
    "max_epoch = 150"
   ]
  },
  {
   "cell_type": "code",
   "execution_count": 9,
   "id": "190a58e1-0864-4818-a8d2-0f83212c6d13",
   "metadata": {},
   "outputs": [
    {
     "name": "stdout",
     "output_type": "stream",
     "text": [
      "Epoch [  1/150] \t Loss: 1.82024     Accuracy: 27.63% \t Test Loss: 1.65546     Test Accuracy: 34.74%\n",
      "Epoch [  2/150] \t Loss: 1.52497     Accuracy: 40.89% \t Test Loss: 1.43588     Test Accuracy: 45.82%\n",
      "Epoch [  3/150] \t Loss: 1.32846     Accuracy: 51.01% \t Test Loss: 1.25024     Test Accuracy: 54.70%\n",
      "Epoch [  4/150] \t Loss: 1.17561     Accuracy: 57.73% \t Test Loss: 1.22574     Test Accuracy: 56.75%\n",
      "Epoch [  5/150] \t Loss: 1.06205     Accuracy: 62.38% \t Test Loss: 1.16222     Test Accuracy: 59.52%\n",
      "Epoch [  6/150] \t Loss: 0.96381     Accuracy: 66.46% \t Test Loss: 1.10631     Test Accuracy: 61.72%\n",
      "Epoch [  7/150] \t Loss: 0.89020     Accuracy: 68.81% \t Test Loss: 1.05924     Test Accuracy: 64.38%\n",
      "Epoch [  8/150] \t Loss: 0.81476     Accuracy: 71.81% \t Test Loss: 1.10998     Test Accuracy: 63.85%\n",
      "Epoch [  9/150] \t Loss: 0.74012     Accuracy: 74.60% \t Test Loss: 1.07324     Test Accuracy: 65.53%\n",
      "Epoch [ 10/150] \t Loss: 0.68868     Accuracy: 76.14% \t Test Loss: 1.05693     Test Accuracy: 66.28%\n",
      "Epoch [ 11/150] \t Loss: 0.62365     Accuracy: 78.51% \t Test Loss: 1.08110     Test Accuracy: 66.08%\n",
      "Epoch [ 12/150] \t Loss: 0.57806     Accuracy: 80.17% \t Test Loss: 1.14762     Test Accuracy: 65.74%\n",
      "Epoch [ 13/150] \t Loss: 0.54472     Accuracy: 81.54% \t Test Loss: 1.18012     Test Accuracy: 66.41%\n",
      "Epoch [ 14/150] \t Loss: 0.48351     Accuracy: 83.66% \t Test Loss: 1.15933     Test Accuracy: 66.61%\n",
      "Epoch [ 15/150] \t Loss: 0.44938     Accuracy: 84.72% \t Test Loss: 1.18741     Test Accuracy: 67.01%\n",
      "Epoch [ 16/150] \t Loss: 0.43209     Accuracy: 85.33% \t Test Loss: 1.19363     Test Accuracy: 67.84%\n",
      "Epoch [ 17/150] \t Loss: 0.38542     Accuracy: 87.03% \t Test Loss: 1.28657     Test Accuracy: 67.29%\n",
      "Epoch [ 18/150] \t Loss: 0.36359     Accuracy: 87.60% \t Test Loss: 1.38284     Test Accuracy: 66.06%\n",
      "Epoch [ 19/150] \t Loss: 0.32725     Accuracy: 88.93% \t Test Loss: 1.35791     Test Accuracy: 66.40%\n",
      "Epoch [ 20/150] \t Loss: 0.30555     Accuracy: 89.68% \t Test Loss: 1.35193     Test Accuracy: 66.31%\n",
      "Epoch [ 21/150] \t Loss: 0.28515     Accuracy: 90.55% \t Test Loss: 1.32291     Test Accuracy: 66.85%\n",
      "Epoch [ 22/150] \t Loss: 0.26920     Accuracy: 90.97% \t Test Loss: 1.54729     Test Accuracy: 66.74%\n",
      "Epoch [ 23/150] \t Loss: 0.25624     Accuracy: 91.46% \t Test Loss: 1.42942     Test Accuracy: 66.88%\n",
      "Epoch [ 24/150] \t Loss: 0.24020     Accuracy: 92.13% \t Test Loss: 1.42939     Test Accuracy: 65.95%\n",
      "Epoch [ 25/150] \t Loss: 0.22089     Accuracy: 92.72% \t Test Loss: 1.63023     Test Accuracy: 67.26%\n",
      "Epoch [ 26/150] \t Loss: 0.20270     Accuracy: 93.39% \t Test Loss: 1.74852     Test Accuracy: 66.33%\n",
      "Epoch [ 27/150] \t Loss: 0.19604     Accuracy: 93.51% \t Test Loss: 1.60521     Test Accuracy: 66.19%\n",
      "Epoch [ 28/150] \t Loss: 0.20127     Accuracy: 93.40% \t Test Loss: 1.66912     Test Accuracy: 66.59%\n",
      "Epoch [ 29/150] \t Loss: 0.18235     Accuracy: 94.08% \t Test Loss: 1.83656     Test Accuracy: 66.92%\n",
      "Epoch [ 30/150] \t Loss: 0.15810     Accuracy: 94.86% \t Test Loss: 1.94922     Test Accuracy: 66.95%\n",
      "Epoch [ 31/150] \t Loss: 0.16157     Accuracy: 94.75% \t Test Loss: 1.93647     Test Accuracy: 66.31%\n",
      "Epoch [ 32/150] \t Loss: 0.15720     Accuracy: 94.95% \t Test Loss: 1.93013     Test Accuracy: 67.01%\n",
      "Epoch [ 33/150] \t Loss: 0.14948     Accuracy: 95.14% \t Test Loss: 1.84651     Test Accuracy: 66.07%\n",
      "Epoch [ 34/150] \t Loss: 0.14613     Accuracy: 95.30% \t Test Loss: 1.78124     Test Accuracy: 67.12%\n",
      "Epoch [ 35/150] \t Loss: 0.12809     Accuracy: 95.94% \t Test Loss: 1.72073     Test Accuracy: 66.15%\n",
      "Epoch [ 36/150] \t Loss: 0.14149     Accuracy: 95.47% \t Test Loss: 1.85189     Test Accuracy: 66.15%\n",
      "Epoch [ 37/150] \t Loss: 0.12185     Accuracy: 96.08% \t Test Loss: 1.95668     Test Accuracy: 65.52%\n",
      "Epoch [ 38/150] \t Loss: 0.12820     Accuracy: 95.95% \t Test Loss: 2.04358     Test Accuracy: 65.36%\n",
      "Epoch [ 39/150] \t Loss: 0.12057     Accuracy: 96.24% \t Test Loss: 2.01051     Test Accuracy: 66.17%\n",
      "Epoch [ 40/150] \t Loss: 0.11950     Accuracy: 96.27% \t Test Loss: 2.06114     Test Accuracy: 66.68%\n",
      "Epoch [ 41/150] \t Loss: 0.10473     Accuracy: 96.57% \t Test Loss: 2.01202     Test Accuracy: 66.04%\n",
      "Epoch [ 42/150] \t Loss: 0.10326     Accuracy: 96.87% \t Test Loss: 1.97066     Test Accuracy: 66.62%\n",
      "Epoch [ 43/150] \t Loss: 0.11026     Accuracy: 96.47% \t Test Loss: 2.30311     Test Accuracy: 66.02%\n",
      "Epoch [ 44/150] \t Loss: 0.10606     Accuracy: 96.74% \t Test Loss: 2.19777     Test Accuracy: 67.09%\n",
      "Epoch [ 45/150] \t Loss: 0.10719     Accuracy: 96.69% \t Test Loss: 1.98975     Test Accuracy: 67.02%\n",
      "Epoch [ 46/150] \t Loss: 0.09615     Accuracy: 97.01% \t Test Loss: 2.25072     Test Accuracy: 66.22%\n",
      "Epoch [ 47/150] \t Loss: 0.08882     Accuracy: 97.16% \t Test Loss: 2.28295     Test Accuracy: 66.57%\n",
      "Epoch [ 48/150] \t Loss: 0.10041     Accuracy: 96.81% \t Test Loss: 2.18660     Test Accuracy: 66.03%\n",
      "Epoch [ 49/150] \t Loss: 0.09483     Accuracy: 97.04% \t Test Loss: 2.42938     Test Accuracy: 67.24%\n",
      "Epoch [ 50/150] \t Loss: 0.08947     Accuracy: 97.31% \t Test Loss: 2.22797     Test Accuracy: 66.70%\n",
      "Epoch [ 51/150] \t Loss: 0.08941     Accuracy: 97.15% \t Test Loss: 2.23852     Test Accuracy: 66.82%\n",
      "Epoch [ 52/150] \t Loss: 0.08060     Accuracy: 97.45% \t Test Loss: 2.34608     Test Accuracy: 67.15%\n",
      "Epoch [ 53/150] \t Loss: 0.08447     Accuracy: 97.40% \t Test Loss: 2.33026     Test Accuracy: 67.04%\n",
      "Epoch [ 54/150] \t Loss: 0.07878     Accuracy: 97.61% \t Test Loss: 2.18991     Test Accuracy: 66.70%\n",
      "Epoch [ 55/150] \t Loss: 0.09248     Accuracy: 97.23% \t Test Loss: 2.19081     Test Accuracy: 66.04%\n",
      "Epoch [ 56/150] \t Loss: 0.07552     Accuracy: 97.66% \t Test Loss: 2.30129     Test Accuracy: 66.02%\n",
      "Epoch [ 57/150] \t Loss: 0.07945     Accuracy: 97.52% \t Test Loss: 2.33254     Test Accuracy: 66.38%\n",
      "Epoch [ 58/150] \t Loss: 0.08292     Accuracy: 97.55% \t Test Loss: 2.17102     Test Accuracy: 65.18%\n",
      "Epoch [ 59/150] \t Loss: 0.08051     Accuracy: 97.41% \t Test Loss: 2.52810     Test Accuracy: 67.06%\n",
      "Epoch [ 60/150] \t Loss: 0.07884     Accuracy: 97.57% \t Test Loss: 2.51965     Test Accuracy: 65.82%\n",
      "Epoch [ 61/150] \t Loss: 0.06146     Accuracy: 98.12% \t Test Loss: 2.58964     Test Accuracy: 65.54%\n",
      "Epoch [ 62/150] \t Loss: 0.07950     Accuracy: 97.58% \t Test Loss: 2.53978     Test Accuracy: 65.44%\n",
      "Epoch [ 63/150] \t Loss: 0.07011     Accuracy: 97.89% \t Test Loss: 2.45700     Test Accuracy: 66.01%\n",
      "Epoch [ 64/150] \t Loss: 0.08160     Accuracy: 97.55% \t Test Loss: 2.45033     Test Accuracy: 66.43%\n",
      "Epoch [ 65/150] \t Loss: 0.08429     Accuracy: 97.52% \t Test Loss: 2.23419     Test Accuracy: 66.66%\n",
      "Epoch [ 66/150] \t Loss: 0.06611     Accuracy: 98.00% \t Test Loss: 2.40514     Test Accuracy: 66.19%\n",
      "Epoch [ 67/150] \t Loss: 0.07718     Accuracy: 97.68% \t Test Loss: 2.12286     Test Accuracy: 66.61%\n",
      "Epoch [ 68/150] \t Loss: 0.06703     Accuracy: 98.04% \t Test Loss: 2.36574     Test Accuracy: 66.73%\n",
      "Epoch [ 69/150] \t Loss: 0.06655     Accuracy: 97.94% \t Test Loss: 2.38231     Test Accuracy: 66.14%\n",
      "Epoch [ 70/150] \t Loss: 0.06824     Accuracy: 97.89% \t Test Loss: 2.54528     Test Accuracy: 66.80%\n",
      "Epoch [ 71/150] \t Loss: 0.06631     Accuracy: 97.93% \t Test Loss: 2.62902     Test Accuracy: 66.28%\n",
      "Epoch [ 72/150] \t Loss: 0.06033     Accuracy: 98.13% \t Test Loss: 2.57199     Test Accuracy: 66.38%\n",
      "Epoch [ 73/150] \t Loss: 0.06567     Accuracy: 98.01% \t Test Loss: 2.60590     Test Accuracy: 66.00%\n",
      "Epoch [ 74/150] \t Loss: 0.06216     Accuracy: 98.08% \t Test Loss: 2.59042     Test Accuracy: 66.58%\n",
      "Epoch [ 75/150] \t Loss: 0.05602     Accuracy: 98.40% \t Test Loss: 2.71299     Test Accuracy: 66.74%\n",
      "Epoch [ 76/150] \t Loss: 0.06325     Accuracy: 98.18% \t Test Loss: 2.89856     Test Accuracy: 66.09%\n",
      "Epoch [ 77/150] \t Loss: 0.08534     Accuracy: 97.40% \t Test Loss: 2.92352     Test Accuracy: 67.15%\n",
      "Epoch [ 78/150] \t Loss: 0.07134     Accuracy: 97.96% \t Test Loss: 2.15303     Test Accuracy: 65.22%\n",
      "Epoch [ 79/150] \t Loss: 0.06526     Accuracy: 97.93% \t Test Loss: 2.73915     Test Accuracy: 66.73%\n",
      "Epoch [ 80/150] \t Loss: 0.05458     Accuracy: 98.37% \t Test Loss: 2.67103     Test Accuracy: 66.23%\n",
      "Epoch [ 81/150] \t Loss: 0.04885     Accuracy: 98.59% \t Test Loss: 2.94750     Test Accuracy: 65.37%\n",
      "Epoch [ 82/150] \t Loss: 0.07004     Accuracy: 98.02% \t Test Loss: 2.37570     Test Accuracy: 66.60%\n",
      "Epoch [ 83/150] \t Loss: 0.05434     Accuracy: 98.37% \t Test Loss: 2.62742     Test Accuracy: 66.56%\n",
      "Epoch [ 84/150] \t Loss: 0.05260     Accuracy: 98.45% \t Test Loss: 2.63861     Test Accuracy: 66.28%\n",
      "Epoch [ 85/150] \t Loss: 0.05663     Accuracy: 98.28% \t Test Loss: 2.48434     Test Accuracy: 66.91%\n",
      "Epoch [ 86/150] \t Loss: 0.05894     Accuracy: 98.19% \t Test Loss: 2.77114     Test Accuracy: 66.43%\n",
      "Epoch [ 87/150] \t Loss: 0.07632     Accuracy: 97.81% \t Test Loss: 2.64256     Test Accuracy: 66.63%\n",
      "Epoch [ 88/150] \t Loss: 0.05726     Accuracy: 98.27% \t Test Loss: 2.62068     Test Accuracy: 66.54%\n",
      "Epoch [ 89/150] \t Loss: 0.05667     Accuracy: 98.33% \t Test Loss: 2.58619     Test Accuracy: 66.43%\n",
      "Epoch [ 90/150] \t Loss: 0.04879     Accuracy: 98.55% \t Test Loss: 2.70789     Test Accuracy: 66.76%\n",
      "Epoch [ 91/150] \t Loss: 0.05761     Accuracy: 98.36% \t Test Loss: 2.50230     Test Accuracy: 65.38%\n",
      "Epoch [ 92/150] \t Loss: 0.04984     Accuracy: 98.47% \t Test Loss: 2.95830     Test Accuracy: 66.49%\n",
      "Epoch [ 93/150] \t Loss: 0.04891     Accuracy: 98.59% \t Test Loss: 2.76076     Test Accuracy: 65.83%\n",
      "Epoch [ 94/150] \t Loss: 0.05265     Accuracy: 98.52% \t Test Loss: 2.45924     Test Accuracy: 66.43%\n",
      "Epoch [ 95/150] \t Loss: 0.07025     Accuracy: 97.89% \t Test Loss: 2.78004     Test Accuracy: 66.99%\n",
      "Epoch [ 96/150] \t Loss: 0.11718     Accuracy: 96.68% \t Test Loss: 2.83752     Test Accuracy: 66.08%\n",
      "Epoch [ 97/150] \t Loss: 0.06286     Accuracy: 98.26% \t Test Loss: 2.82228     Test Accuracy: 66.82%\n",
      "Epoch [ 98/150] \t Loss: 0.05372     Accuracy: 98.52% \t Test Loss: 2.63803     Test Accuracy: 66.66%\n",
      "Epoch [ 99/150] \t Loss: 0.08647     Accuracy: 97.61% \t Test Loss: 2.38584     Test Accuracy: 66.54%\n",
      "Epoch [100/150] \t Loss: 0.05016     Accuracy: 98.52% \t Test Loss: 2.67133     Test Accuracy: 66.88%\n",
      "Epoch [101/150] \t Loss: 0.03658     Accuracy: 98.95% \t Test Loss: 3.02267     Test Accuracy: 66.91%\n",
      "Epoch [102/150] \t Loss: 0.04806     Accuracy: 98.57% \t Test Loss: 2.67447     Test Accuracy: 67.05%\n",
      "Epoch [103/150] \t Loss: 0.04032     Accuracy: 98.85% \t Test Loss: 2.98660     Test Accuracy: 67.37%\n",
      "Epoch [104/150] \t Loss: 0.04348     Accuracy: 98.78% \t Test Loss: 3.15078     Test Accuracy: 67.08%\n",
      "Epoch [105/150] \t Loss: 0.05108     Accuracy: 98.63% \t Test Loss: 2.63690     Test Accuracy: 67.42%\n",
      "Epoch [106/150] \t Loss: 0.04962     Accuracy: 98.51% \t Test Loss: 2.95294     Test Accuracy: 66.67%\n",
      "Epoch [107/150] \t Loss: 0.04717     Accuracy: 98.65% \t Test Loss: 3.04846     Test Accuracy: 66.50%\n",
      "Epoch [108/150] \t Loss: 0.06546     Accuracy: 98.18% \t Test Loss: 3.01079     Test Accuracy: 66.85%\n",
      "Epoch [109/150] \t Loss: 0.04237     Accuracy: 98.78% \t Test Loss: 2.94932     Test Accuracy: 66.91%\n",
      "Epoch [110/150] \t Loss: 0.04565     Accuracy: 98.74% \t Test Loss: 3.07501     Test Accuracy: 66.05%\n",
      "Epoch [111/150] \t Loss: 0.07722     Accuracy: 97.90% \t Test Loss: 2.60227     Test Accuracy: 66.66%\n",
      "Epoch [112/150] \t Loss: 0.04819     Accuracy: 98.63% \t Test Loss: 2.74752     Test Accuracy: 67.02%\n",
      "Epoch [113/150] \t Loss: 0.03778     Accuracy: 98.88% \t Test Loss: 3.25238     Test Accuracy: 66.84%\n",
      "Epoch [114/150] \t Loss: 0.03681     Accuracy: 98.98% \t Test Loss: 3.12911     Test Accuracy: 66.47%\n",
      "Epoch [115/150] \t Loss: 0.04671     Accuracy: 98.72% \t Test Loss: 3.13184     Test Accuracy: 65.67%\n",
      "Epoch [116/150] \t Loss: 0.06340     Accuracy: 98.23% \t Test Loss: 2.79409     Test Accuracy: 66.66%\n",
      "Epoch [117/150] \t Loss: 0.04907     Accuracy: 98.64% \t Test Loss: 3.10637     Test Accuracy: 66.66%\n",
      "Epoch [118/150] \t Loss: 0.06030     Accuracy: 98.33% \t Test Loss: 2.99830     Test Accuracy: 66.71%\n",
      "Epoch [119/150] \t Loss: 0.04805     Accuracy: 98.74% \t Test Loss: 3.04735     Test Accuracy: 66.65%\n",
      "Epoch [120/150] \t Loss: 0.03623     Accuracy: 99.00% \t Test Loss: 3.22707     Test Accuracy: 66.42%\n",
      "Epoch [121/150] \t Loss: 0.07158     Accuracy: 98.07% \t Test Loss: 2.99753     Test Accuracy: 67.35%\n",
      "Epoch [122/150] \t Loss: 0.03343     Accuracy: 99.04% \t Test Loss: 3.42543     Test Accuracy: 67.02%\n",
      "Epoch [123/150] \t Loss: 0.03938     Accuracy: 98.90% \t Test Loss: 3.29223     Test Accuracy: 67.28%\n",
      "Epoch [124/150] \t Loss: 0.04925     Accuracy: 98.75% \t Test Loss: 2.84142     Test Accuracy: 67.38%\n",
      "Epoch [125/150] \t Loss: 0.04151     Accuracy: 98.91% \t Test Loss: 3.03727     Test Accuracy: 67.54%\n",
      "Epoch [126/150] \t Loss: 0.04260     Accuracy: 98.88% \t Test Loss: 2.69576     Test Accuracy: 66.59%\n",
      "Epoch [127/150] \t Loss: 0.08320     Accuracy: 97.74% \t Test Loss: 2.61325     Test Accuracy: 66.58%\n",
      "Epoch [128/150] \t Loss: 0.06669     Accuracy: 98.12% \t Test Loss: 3.15850     Test Accuracy: 67.50%\n",
      "Epoch [129/150] \t Loss: 0.05482     Accuracy: 98.49% \t Test Loss: 3.00022     Test Accuracy: 66.95%\n",
      "Epoch [130/150] \t Loss: 0.03722     Accuracy: 99.02% \t Test Loss: 2.75082     Test Accuracy: 66.19%\n",
      "Epoch [131/150] \t Loss: 0.05350     Accuracy: 98.60% \t Test Loss: 2.91966     Test Accuracy: 66.12%\n",
      "Epoch [132/150] \t Loss: 0.04444     Accuracy: 98.81% \t Test Loss: 3.07606     Test Accuracy: 67.49%\n",
      "Epoch [133/150] \t Loss: 0.03190     Accuracy: 99.11% \t Test Loss: 3.36729     Test Accuracy: 67.07%\n",
      "Epoch [134/150] \t Loss: 0.04110     Accuracy: 98.88% \t Test Loss: 3.21756     Test Accuracy: 66.94%\n",
      "Epoch [135/150] \t Loss: 0.03551     Accuracy: 99.06% \t Test Loss: 3.31755     Test Accuracy: 67.51%\n",
      "Epoch [136/150] \t Loss: 0.03895     Accuracy: 98.94% \t Test Loss: 2.92029     Test Accuracy: 66.95%\n",
      "Epoch [137/150] \t Loss: 0.06715     Accuracy: 98.27% \t Test Loss: 2.79898     Test Accuracy: 66.86%\n",
      "Epoch [138/150] \t Loss: 0.03243     Accuracy: 99.10% \t Test Loss: 3.26101     Test Accuracy: 67.04%\n",
      "Epoch [139/150] \t Loss: 0.04396     Accuracy: 98.80% \t Test Loss: 3.46914     Test Accuracy: 66.56%\n",
      "Epoch [140/150] \t Loss: 0.05046     Accuracy: 98.65% \t Test Loss: 2.81269     Test Accuracy: 67.08%\n",
      "Epoch [141/150] \t Loss: 0.04395     Accuracy: 98.73% \t Test Loss: 3.36259     Test Accuracy: 66.13%\n",
      "Epoch [142/150] \t Loss: 0.03191     Accuracy: 99.12% \t Test Loss: 3.72378     Test Accuracy: 66.37%\n",
      "Epoch [143/150] \t Loss: 0.03983     Accuracy: 98.91% \t Test Loss: 3.52379     Test Accuracy: 67.02%\n",
      "Epoch [144/150] \t Loss: 0.03820     Accuracy: 99.02% \t Test Loss: 3.14875     Test Accuracy: 66.31%\n",
      "Epoch [145/150] \t Loss: 0.04326     Accuracy: 98.82% \t Test Loss: 3.62955     Test Accuracy: 66.80%\n",
      "Epoch [146/150] \t Loss: 0.05492     Accuracy: 98.50% \t Test Loss: 2.52865     Test Accuracy: 65.82%\n",
      "Epoch [147/150] \t Loss: 0.08962     Accuracy: 97.63% \t Test Loss: 2.59559     Test Accuracy: 66.13%\n",
      "Epoch [148/150] \t Loss: 0.06799     Accuracy: 98.26% \t Test Loss: 2.93427     Test Accuracy: 67.02%\n",
      "Epoch [149/150] \t Loss: 0.03091     Accuracy: 99.11% \t Test Loss: 3.28352     Test Accuracy: 66.37%\n",
      "Epoch [150/150] \t Loss: 0.03429     Accuracy: 99.04% \t Test Loss: 3.34216     Test Accuracy: 66.88%\n"
     ]
    }
   ],
   "source": [
    "# train\n",
    "for epoch in range(max_epoch):\n",
    "    model.train()\n",
    "    running_loss = 0.0\n",
    "    running_correct = 0   # to track number of correct predictions\n",
    "    total = 0             # to track total number of samples\n",
    "\n",
    "    for i, (inputs, labels) in enumerate(trainloader, 0):\n",
    "        # Move inputs and labels to the device\n",
    "        inputs, labels = inputs.to(device), labels.to(device)\n",
    "\n",
    "        # Zero the parameter gradients\n",
    "        optimizer.zero_grad()\n",
    "\n",
    "        # Forward pass\n",
    "        outputs = model(inputs)\n",
    "        loss = criterion(outputs, labels)\n",
    "        running_loss += loss.item()\n",
    "\n",
    "        # Backward pass and optimization\n",
    "        loss.backward()\n",
    "        optimizer.step()  \n",
    "    \n",
    "        # Determine class predictions and track accuracy\n",
    "        _, predicted = torch.max(outputs.data, 1)\n",
    "        total += labels.size(0)\n",
    "        running_correct += (predicted == labels).sum().item()\n",
    "\n",
    "\n",
    "    epoch_accuracy = 100 * running_correct / total\n",
    "    epoch_loss = running_loss / (i + 1)\n",
    "    \n",
    "    test_loss, test_accuracy = evaluate(model, testloader, criterion)\n",
    "    print(f\"Epoch [{(epoch + 1):3}/{max_epoch:3}] \\t Loss: {epoch_loss:<11.5f} Accuracy: {epoch_accuracy:.2f}% \\t Test Loss: {test_loss:<11.5f} Test Accuracy: {test_accuracy:.2f}%\")\n",
    "    \n",
    "    # save for plot\n",
    "    train_losses.append(epoch_loss)\n",
    "    train_accuracies.append(epoch_accuracy)\n",
    "    test_losses.append(test_loss)\n",
    "    test_accuracies.append(test_accuracy)"
   ]
  },
  {
   "cell_type": "code",
   "execution_count": 10,
   "id": "cebcb439-88f2-40b6-9a17-4990ad324731",
   "metadata": {},
   "outputs": [
    {
     "name": "stdout",
     "output_type": "stream",
     "text": [
      "\n",
      "Best epoch: 16 with test accuracy: 67.84%\n"
     ]
    }
   ],
   "source": [
    "# the best accuracy\n",
    "best_epoch = np.argmax(test_accuracies)\n",
    "print(f\"\\nBest epoch: {best_epoch + 1} with test accuracy: {test_accuracies[best_epoch]:.2f}%\")"
   ]
  },
  {
   "cell_type": "markdown",
   "metadata": {},
   "source": [
    "# Plot results"
   ]
  },
  {
   "cell_type": "code",
   "execution_count": 11,
   "id": "DkC3_902Lgn-",
   "metadata": {
    "executionInfo": {
     "elapsed": 3,
     "status": "ok",
     "timestamp": 1673091684322,
     "user": {
      "displayName": "Thắng Dương Đình",
      "userId": "02196529682032971345"
     },
     "user_tz": -420
    },
    "id": "DkC3_902Lgn-"
   },
   "outputs": [
    {
     "data": {
      "text/plain": [
       "<matplotlib.legend.Legend at 0x7f1f2d156760>"
      ]
     },
     "execution_count": 11,
     "metadata": {},
     "output_type": "execute_result"
    },
    {
     "data": {
      "image/png": "[encoded data removed]",
      "text/plain": [
       "<Figure size 640x480 with 1 Axes>"
      ]
     },
     "metadata": {},
     "output_type": "display_data"
    }
   ],
   "source": [
    "plt.plot(train_losses, label='train_losses')\n",
    "plt.plot(test_losses, label='test_losses')\n",
    "plt.legend()"
   ]
  },
  {
   "cell_type": "code",
   "execution_count": 12,
   "id": "794f4e81",
   "metadata": {
    "executionInfo": {
     "elapsed": 8,
     "status": "ok",
     "timestamp": 1673092872464,
     "user": {
      "displayName": "Thắng Dương Đình",
      "userId": "02196529682032971345"
     },
     "user_tz": -420
    },
    "id": "794f4e81"
   },
   "outputs": [
    {
     "data": {
      "text/plain": [
       "<matplotlib.legend.Legend at 0x7f1f2ceb2190>"
      ]
     },
     "execution_count": 12,
     "metadata": {},
     "output_type": "execute_result"
    },
    {
     "data": {
      "image/png": "[encoded data removed]",
      "text/plain": [
       "<Figure size 640x480 with 1 Axes>"
      ]
     },
     "metadata": {},
     "output_type": "display_data"
    }
   ],
   "source": [
    "plt.plot(train_accuracies, label='train_accuracy')\n",
    "plt.plot(test_accuracies, label='test_accuracy')\n",
    "plt.legend()"
   ]
  },
  {
   "cell_type": "code",
   "execution_count": null,
   "id": "a2ec7c96-ff05-4863-92e7-c45f2f0e3d03",
   "metadata": {},
   "outputs": [],
   "source": []
  },
  {
   "cell_type": "code",
   "execution_count": null,
   "id": "8c86325e-7b6c-43a6-b315-93e02bcdb264",
   "metadata": {},
   "outputs": [],
   "source": []
  }
 ],
 "metadata": {
  "accelerator": "GPU",
  "colab": {
   "provenance": []
  },
  "gpuClass": "standard",
  "kernelspec": {
   "display_name": "Python 3 (ipykernel)",
   "language": "python",
   "name": "python3"
  },
  "language_info": {
   "codemirror_mode": {
    "name": "ipython",
    "version": 3
   },
   "file_extension": ".py",
   "mimetype": "text/x-python",
   "name": "python",
   "nbconvert_exporter": "python",
   "pygments_lexer": "ipython3",
   "version": "3.8.0"
  },
  "widgets": {
   "application/vnd.jupyter.widget-state+json": {
    "00397590a13d454d8b16fd8d15ae9b41": {
     "model_module": "@jupyter-widgets/controls",
     "model_module_version": "1.5.0",
     "model_name": "DescriptionStyleModel",
     "state": {
      "_model_module": "@jupyter-widgets/controls",
      "_model_module_version": "1.5.0",
      "_model_name": "DescriptionStyleModel",
      "_view_count": null,
      "_view_module": "@jupyter-widgets/base",
      "_view_module_version": "1.2.0",
      "_view_name": "StyleView",
      "description_width": ""
     }
    },
    "0a3d339ba81a4f22b893250502c493af": {
     "model_module": "@jupyter-widgets/base",
     "model_module_version": "1.2.0",
     "model_name": "LayoutModel",
     "state": {
      "_model_module": "@jupyter-widgets/base",
      "_model_module_version": "1.2.0",
      "_model_name": "LayoutModel",
      "_view_count": null,
      "_view_module": "@jupyter-widgets/base",
      "_view_module_version": "1.2.0",
      "_view_name": "LayoutView",
      "align_content": null,
      "align_items": null,
      "align_self": null,
      "border": null,
      "bottom": null,
      "display": null,
      "flex": null,
      "flex_flow": null,
      "grid_area": null,
      "grid_auto_columns": null,
      "grid_auto_flow": null,
      "grid_auto_rows": null,
      "grid_column": null,
      "grid_gap": null,
      "grid_row": null,
      "grid_template_areas": null,
      "grid_template_columns": null,
      "grid_template_rows": null,
      "height": null,
      "justify_content": null,
      "justify_items": null,
      "left": null,
      "margin": null,
      "max_height": null,
      "max_width": null,
      "min_height": null,
      "min_width": null,
      "object_fit": null,
      "object_position": null,
      "order": null,
      "overflow": null,
      "overflow_x": null,
      "overflow_y": null,
      "padding": null,
      "right": null,
      "top": null,
      "visibility": null,
      "width": null
     }
    },
    "4691e220a8cb466bb46540f16f65e864": {
     "model_module": "@jupyter-widgets/controls",
     "model_module_version": "1.5.0",
     "model_name": "ProgressStyleModel",
     "state": {
      "_model_module": "@jupyter-widgets/controls",
      "_model_module_version": "1.5.0",
      "_model_name": "ProgressStyleModel",
      "_view_count": null,
      "_view_module": "@jupyter-widgets/base",
      "_view_module_version": "1.2.0",
      "_view_name": "StyleView",
      "bar_color": null,
      "description_width": ""
     }
    },
    "56c90ad0a7fb47d08727a7dac3f68f39": {
     "model_module": "@jupyter-widgets/base",
     "model_module_version": "1.2.0",
     "model_name": "LayoutModel",
     "state": {
      "_model_module": "@jupyter-widgets/base",
      "_model_module_version": "1.2.0",
      "_model_name": "LayoutModel",
      "_view_count": null,
      "_view_module": "@jupyter-widgets/base",
      "_view_module_version": "1.2.0",
      "_view_name": "LayoutView",
      "align_content": null,
      "align_items": null,
      "align_self": null,
      "border": null,
      "bottom": null,
      "display": null,
      "flex": null,
      "flex_flow": null,
      "grid_area": null,
      "grid_auto_columns": null,
      "grid_auto_flow": null,
      "grid_auto_rows": null,
      "grid_column": null,
      "grid_gap": null,
      "grid_row": null,
      "grid_template_areas": null,
      "grid_template_columns": null,
      "grid_template_rows": null,
      "height": null,
      "justify_content": null,
      "justify_items": null,
      "left": null,
      "margin": null,
      "max_height": null,
      "max_width": null,
      "min_height": null,
      "min_width": null,
      "object_fit": null,
      "object_position": null,
      "order": null,
      "overflow": null,
      "overflow_x": null,
      "overflow_y": null,
      "padding": null,
      "right": null,
      "top": null,
      "visibility": null,
      "width": null
     }
    },
    "619c9ef51fc5497f81b4af88db9214cc": {
     "model_module": "@jupyter-widgets/controls",
     "model_module_version": "1.5.0",
     "model_name": "DescriptionStyleModel",
     "state": {
      "_model_module": "@jupyter-widgets/controls",
      "_model_module_version": "1.5.0",
      "_model_name": "DescriptionStyleModel",
      "_view_count": null,
      "_view_module": "@jupyter-widgets/base",
      "_view_module_version": "1.2.0",
      "_view_name": "StyleView",
      "description_width": ""
     }
    },
    "7c95c188ecf242de9776dcfd3e3fc8d2": {
     "model_module": "@jupyter-widgets/base",
     "model_module_version": "1.2.0",
     "model_name": "LayoutModel",
     "state": {
      "_model_module": "@jupyter-widgets/base",
      "_model_module_version": "1.2.0",
      "_model_name": "LayoutModel",
      "_view_count": null,
      "_view_module": "@jupyter-widgets/base",
      "_view_module_version": "1.2.0",
      "_view_name": "LayoutView",
      "align_content": null,
      "align_items": null,
      "align_self": null,
      "border": null,
      "bottom": null,
      "display": null,
      "flex": null,
      "flex_flow": null,
      "grid_area": null,
      "grid_auto_columns": null,
      "grid_auto_flow": null,
      "grid_auto_rows": null,
      "grid_column": null,
      "grid_gap": null,
      "grid_row": null,
      "grid_template_areas": null,
      "grid_template_columns": null,
      "grid_template_rows": null,
      "height": null,
      "justify_content": null,
      "justify_items": null,
      "left": null,
      "margin": null,
      "max_height": null,
      "max_width": null,
      "min_height": null,
      "min_width": null,
      "object_fit": null,
      "object_position": null,
      "order": null,
      "overflow": null,
      "overflow_x": null,
      "overflow_y": null,
      "padding": null,
      "right": null,
      "top": null,
      "visibility": null,
      "width": null
     }
    },
    "8a6ed597588f4c07bff4271aeba7c1bb": {
     "model_module": "@jupyter-widgets/controls",
     "model_module_version": "1.5.0",
     "model_name": "HBoxModel",
     "state": {
      "_dom_classes": [],
      "_model_module": "@jupyter-widgets/controls",
      "_model_module_version": "1.5.0",
      "_model_name": "HBoxModel",
      "_view_count": null,
      "_view_module": "@jupyter-widgets/controls",
      "_view_module_version": "1.5.0",
      "_view_name": "HBoxView",
      "box_style": "",
      "children": [
       "IPY_MODEL_e09dd53ac3044e3097ed084354a52e13",
       "IPY_MODEL_8b2a0088b39741f6968c95f40ff787e6",
       "IPY_MODEL_cf5fb8e067be464bb14a1cf5e8b4e2de"
      ],
      "layout": "IPY_MODEL_0a3d339ba81a4f22b893250502c493af"
     }
    },
    "8b2a0088b39741f6968c95f40ff787e6": {
     "model_module": "@jupyter-widgets/controls",
     "model_module_version": "1.5.0",
     "model_name": "FloatProgressModel",
     "state": {
      "_dom_classes": [],
      "_model_module": "@jupyter-widgets/controls",
      "_model_module_version": "1.5.0",
      "_model_name": "FloatProgressModel",
      "_view_count": null,
      "_view_module": "@jupyter-widgets/controls",
      "_view_module_version": "1.5.0",
      "_view_name": "ProgressView",
      "bar_style": "success",
      "description": "",
      "description_tooltip": null,
      "layout": "IPY_MODEL_56c90ad0a7fb47d08727a7dac3f68f39",
      "max": 170498071,
      "min": 0,
      "orientation": "horizontal",
      "style": "IPY_MODEL_4691e220a8cb466bb46540f16f65e864",
      "value": 170498071
     }
    },
    "cf5fb8e067be464bb14a1cf5e8b4e2de": {
     "model_module": "@jupyter-widgets/controls",
     "model_module_version": "1.5.0",
     "model_name": "HTMLModel",
     "state": {
      "_dom_classes": [],
      "_model_module": "@jupyter-widgets/controls",
      "_model_module_version": "1.5.0",
      "_model_name": "HTMLModel",
      "_view_count": null,
      "_view_module": "@jupyter-widgets/controls",
      "_view_module_version": "1.5.0",
      "_view_name": "HTMLView",
      "description": "",
      "description_tooltip": null,
      "layout": "IPY_MODEL_7c95c188ecf242de9776dcfd3e3fc8d2",
      "placeholder": "​",
      "style": "IPY_MODEL_619c9ef51fc5497f81b4af88db9214cc",
      "value": " 170498071/170498071 [00:01&lt;00:00, 97303096.82it/s]"
     }
    },
    "e09dd53ac3044e3097ed084354a52e13": {
     "model_module": "@jupyter-widgets/controls",
     "model_module_version": "1.5.0",
     "model_name": "HTMLModel",
     "state": {
      "_dom_classes": [],
      "_model_module": "@jupyter-widgets/controls",
      "_model_module_version": "1.5.0",
      "_model_name": "HTMLModel",
      "_view_count": null,
      "_view_module": "@jupyter-widgets/controls",
      "_view_module_version": "1.5.0",
      "_view_name": "HTMLView",
      "description": "",
      "description_tooltip": null,
      "layout": "IPY_MODEL_f4c44a600db84290a51877583e18ee26",
      "placeholder": "​",
      "style": "IPY_MODEL_00397590a13d454d8b16fd8d15ae9b41",
      "value": "100%"
     }
    },
    "f4c44a600db84290a51877583e18ee26": {
     "model_module": "@jupyter-widgets/base",
     "model_module_version": "1.2.0",
     "model_name": "LayoutModel",
     "state": {
      "_model_module": "@jupyter-widgets/base",
      "_model_module_version": "1.2.0",
      "_model_name": "LayoutModel",
      "_view_count": null,
      "_view_module": "@jupyter-widgets/base",
      "_view_module_version": "1.2.0",
      "_view_name": "LayoutView",
      "align_content": null,
      "align_items": null,
      "align_self": null,
      "border": null,
      "bottom": null,
      "display": null,
      "flex": null,
      "flex_flow": null,
      "grid_area": null,
      "grid_auto_columns": null,
      "grid_auto_flow": null,
      "grid_auto_rows": null,
      "grid_column": null,
      "grid_gap": null,
      "grid_row": null,
      "grid_template_areas": null,
      "grid_template_columns": null,
      "grid_template_rows": null,
      "height": null,
      "justify_content": null,
      "justify_items": null,
      "left": null,
      "margin": null,
      "max_height": null,
      "max_width": null,
      "min_height": null,
      "min_width": null,
      "object_fit": null,
      "object_position": null,
      "order": null,
      "overflow": null,
      "overflow_x": null,
      "overflow_y": null,
      "padding": null,
      "right": null,
      "top": null,
      "visibility": null,
      "width": null
     }
    }
   }
  }
 },
 "nbformat": 4,
 "nbformat_minor": 5
}
