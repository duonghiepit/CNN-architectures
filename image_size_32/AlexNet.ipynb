{
 "cells": [
  {
   "cell_type": "code",
   "execution_count": 1,
   "id": "d4e45a49-974f-4f9c-8642-42e2c45aab71",
   "metadata": {},
   "outputs": [],
   "source": [
    "import os\n",
    "os.environ['CUDA_VISIBLE_DEVICES'] = '2'\n",
    "\n",
    "import torch\n",
    "import torchvision.transforms as transforms\n",
    "import torch.nn as nn\n",
    "import torch.nn.functional as F\n",
    "\n",
    "import numpy as np\n",
    "import matplotlib.pyplot as plt\n",
    "\n",
    "from torchvision.datasets import CIFAR10\n",
    "from torch.utils.data import DataLoader \n",
    "from torch.optim import Adam\n",
    "import torchvision\n",
    "import torchvision.models as models\n",
    "from torchsummary import summary\n",
    "\n",
    "torch.manual_seed(1)\n",
    "device = 'cuda' if torch.cuda.is_available() else 'cpu'"
   ]
  },
  {
   "cell_type": "code",
   "execution_count": null,
   "metadata": {},
   "outputs": [],
   "source": []
  },
  {
   "cell_type": "markdown",
   "id": "f913360b-019e-4d69-a540-b7b5715544e1",
   "metadata": {},
   "source": [
    "## Data"
   ]
  },
  {
   "cell_type": "code",
   "execution_count": 2,
   "id": "3ad21976-2d99-49b7-b0b5-84e9ebcd371e",
   "metadata": {},
   "outputs": [
    {
     "name": "stdout",
     "output_type": "stream",
     "text": [
      "Files already downloaded and verified\n",
      "Files already downloaded and verified\n"
     ]
    }
   ],
   "source": [
    "batch_size = 256\n",
    "train_transform = transforms.Compose(\n",
    "    [   \n",
    "        transforms.Resize((70, 70)),\n",
    "        transforms.RandomCrop((64, 64)),\n",
    "        transforms.ToTensor(),\n",
    "        transforms.Normalize([0.4914, 0.4822, 0.4465], \n",
    "                             [0.2470, 0.2435, 0.2616]),\n",
    "    ])\n",
    "\n",
    "val_transform = transforms.Compose(\n",
    "    [\n",
    "        transforms.Resize((70, 70)),\n",
    "        transforms.RandomCrop((64, 64)),\n",
    "        transforms.ToTensor(),\n",
    "        transforms.Normalize([0.4914, 0.4822, 0.4465], \n",
    "                             [0.2470, 0.2435, 0.2616])\n",
    "    ])\n",
    "\n",
    "train_set = CIFAR10(\n",
    "    root='./data', \n",
    "    train=True,\n",
    "    download=True, \n",
    "    transform=train_transform\n",
    ")\n",
    "\n",
    "val_set = CIFAR10(\n",
    "    root='./data', \n",
    "    train=False,\n",
    "    download=True, \n",
    "    transform=val_transform\n",
    ")\n",
    "\n",
    "trainloader = DataLoader(\n",
    "    train_set, \n",
    "    batch_size=batch_size,\n",
    "    shuffle=True,\n",
    "    num_workers=4,\n",
    ")\n",
    "\n",
    "testloader = DataLoader(\n",
    "    val_set, \n",
    "    batch_size=batch_size,\n",
    "    shuffle=False, \n",
    "    num_workers=4,\n",
    ")"
   ]
  },
  {
   "cell_type": "code",
   "execution_count": null,
   "id": "cf229497-4b6e-443d-b330-66b6fa139fcd",
   "metadata": {},
   "outputs": [],
   "source": []
  },
  {
   "cell_type": "markdown",
   "id": "6ea0dde8-29e7-4096-bd15-6a5ed74655f0",
   "metadata": {},
   "source": [
    "## Model"
   ]
  },
  {
   "cell_type": "code",
   "execution_count": 3,
   "id": "81be3191-980a-4b94-8537-5dba83109866",
   "metadata": {},
   "outputs": [
    {
     "name": "stderr",
     "output_type": "stream",
     "text": [
      "Using cache found in /home/server-96gb-ailab/.cache/torch/hub/pytorch_vision_v0.6.0\n",
      "/home/server-96gb-ailab/.local/lib/python3.8/site-packages/torchvision/models/_utils.py:208: UserWarning: The parameter 'pretrained' is deprecated since 0.13 and may be removed in the future, please use 'weights' instead.\n",
      "  warnings.warn(\n",
      "/home/server-96gb-ailab/.local/lib/python3.8/site-packages/torchvision/models/_utils.py:223: UserWarning: Arguments other than a weight enum or `None` for 'weights' are deprecated since 0.13 and may be removed in the future. The current behavior is equivalent to passing `weights=AlexNet_Weights.IMAGENET1K_V1`. You can also use `weights=AlexNet_Weights.DEFAULT` to get the most up-to-date weights.\n",
      "  warnings.warn(msg)\n"
     ]
    }
   ],
   "source": [
    "model = torch.hub.load('pytorch/vision:v0.6.0', 'alexnet', pretrained=True)\n",
    "\n",
    "# Replace the last fully-connected layer\n",
    "model.classifier[6] = nn.Linear(4096, 10)\n",
    "\n",
    "model = model.to(device)"
   ]
  },
  {
   "cell_type": "code",
   "execution_count": 4,
   "id": "c8516821-d41b-42a8-9e51-ddfb8f9ec87e",
   "metadata": {},
   "outputs": [
    {
     "name": "stdout",
     "output_type": "stream",
     "text": [
      "----------------------------------------------------------------\n",
      "        Layer (type)               Output Shape         Param #\n",
      "================================================================\n",
      "            Conv2d-1           [-1, 64, 15, 15]          23,296\n",
      "              ReLU-2           [-1, 64, 15, 15]               0\n",
      "         MaxPool2d-3             [-1, 64, 7, 7]               0\n",
      "            Conv2d-4            [-1, 192, 7, 7]         307,392\n",
      "              ReLU-5            [-1, 192, 7, 7]               0\n",
      "         MaxPool2d-6            [-1, 192, 3, 3]               0\n",
      "            Conv2d-7            [-1, 384, 3, 3]         663,936\n",
      "              ReLU-8            [-1, 384, 3, 3]               0\n",
      "            Conv2d-9            [-1, 256, 3, 3]         884,992\n",
      "             ReLU-10            [-1, 256, 3, 3]               0\n",
      "           Conv2d-11            [-1, 256, 3, 3]         590,080\n",
      "             ReLU-12            [-1, 256, 3, 3]               0\n",
      "        MaxPool2d-13            [-1, 256, 1, 1]               0\n",
      "AdaptiveAvgPool2d-14            [-1, 256, 6, 6]               0\n",
      "          Dropout-15                 [-1, 9216]               0\n",
      "           Linear-16                 [-1, 4096]      37,752,832\n",
      "             ReLU-17                 [-1, 4096]               0\n",
      "          Dropout-18                 [-1, 4096]               0\n",
      "           Linear-19                 [-1, 4096]      16,781,312\n",
      "             ReLU-20                 [-1, 4096]               0\n",
      "           Linear-21                   [-1, 10]          40,970\n",
      "================================================================\n",
      "Total params: 57,044,810\n",
      "Trainable params: 57,044,810\n",
      "Non-trainable params: 0\n",
      "----------------------------------------------------------------\n",
      "Input size (MB): 0.05\n",
      "Forward/backward pass size (MB): 0.82\n",
      "Params size (MB): 217.61\n",
      "Estimated Total Size (MB): 218.48\n",
      "----------------------------------------------------------------\n"
     ]
    }
   ],
   "source": [
    "summary(model, (3, 64, 64))"
   ]
  },
  {
   "cell_type": "markdown",
   "id": "43c7b151-a199-4e2a-8015-fdfb5f166284",
   "metadata": {},
   "source": [
    "# Train"
   ]
  },
  {
   "cell_type": "code",
   "execution_count": 5,
   "id": "1464e2bd-b627-475d-9941-f2a930d69a14",
   "metadata": {},
   "outputs": [],
   "source": [
    "criterion = nn.CrossEntropyLoss()\n",
    "optimizer = Adam(model.parameters(), lr=1e-3)  "
   ]
  },
  {
   "cell_type": "code",
   "execution_count": 6,
   "id": "04744c84-1e6d-4bfb-8dd5-abbdc91f102e",
   "metadata": {},
   "outputs": [],
   "source": [
    "# Function to compute loss and accuracy for test set\n",
    "def evaluate(model, testloader, criterion):\n",
    "    model.eval()\n",
    "    test_loss = 0.0\n",
    "    running_correct = 0\n",
    "    total = 0\n",
    "    with torch.no_grad():\n",
    "        for images, labels in testloader:\n",
    "            # Move inputs and labels to the device\n",
    "            images, labels = images.to(device), labels.to(device)\n",
    "\n",
    "            outputs = model(images)\n",
    "            loss = criterion(outputs, labels)\n",
    "            test_loss += loss.item()\n",
    "            \n",
    "            _, predicted = torch.max(outputs.data, 1)\n",
    "            total += labels.size(0)\n",
    "            running_correct += (predicted == labels).sum().item()\n",
    "\n",
    "    accuracy = 100 * running_correct / total\n",
    "    test_loss = test_loss / len(testloader)\n",
    "    return test_loss, accuracy"
   ]
  },
  {
   "cell_type": "code",
   "execution_count": 7,
   "id": "f2402591-e7f7-4bdd-8962-c029cfcd9307",
   "metadata": {},
   "outputs": [],
   "source": [
    "# some parameter\n",
    "train_losses = []\n",
    "train_accuracies = []\n",
    "test_losses = []\n",
    "test_accuracies = []\n",
    "max_epoch = 150"
   ]
  },
  {
   "cell_type": "code",
   "execution_count": 8,
   "id": "190a58e1-0864-4818-a8d2-0f83212c6d13",
   "metadata": {},
   "outputs": [
    {
     "name": "stdout",
     "output_type": "stream",
     "text": [
      "Epoch [  1/150] \t Loss: 1.93274     Accuracy: 21.97% \t Test Loss: 1.71349     Test Accuracy: 26.40%\n",
      "Epoch [  2/150] \t Loss: 1.64942     Accuracy: 32.64% \t Test Loss: 1.53313     Test Accuracy: 40.22%\n",
      "Epoch [  3/150] \t Loss: 1.23821     Accuracy: 55.94% \t Test Loss: 1.06588     Test Accuracy: 62.89%\n",
      "Epoch [  4/150] \t Loss: 0.96911     Accuracy: 67.19% \t Test Loss: 0.90966     Test Accuracy: 69.96%\n",
      "Epoch [  5/150] \t Loss: 0.85211     Accuracy: 71.41% \t Test Loss: 0.92736     Test Accuracy: 70.38%\n",
      "Epoch [  6/150] \t Loss: 0.77509     Accuracy: 74.00% \t Test Loss: 0.83004     Test Accuracy: 73.45%\n",
      "Epoch [  7/150] \t Loss: 0.70602     Accuracy: 76.41% \t Test Loss: 0.76339     Test Accuracy: 75.03%\n",
      "Epoch [  8/150] \t Loss: 0.64333     Accuracy: 78.32% \t Test Loss: 0.77897     Test Accuracy: 74.66%\n",
      "Epoch [  9/150] \t Loss: 0.61100     Accuracy: 79.67% \t Test Loss: 0.79263     Test Accuracy: 74.87%\n",
      "Epoch [ 10/150] \t Loss: 0.56680     Accuracy: 80.92% \t Test Loss: 0.78777     Test Accuracy: 75.29%\n",
      "Epoch [ 11/150] \t Loss: 0.52895     Accuracy: 82.52% \t Test Loss: 0.73226     Test Accuracy: 76.26%\n",
      "Epoch [ 12/150] \t Loss: 0.50649     Accuracy: 82.91% \t Test Loss: 0.73995     Test Accuracy: 76.59%\n",
      "Epoch [ 13/150] \t Loss: 0.47526     Accuracy: 84.26% \t Test Loss: 0.77262     Test Accuracy: 76.41%\n",
      "Epoch [ 14/150] \t Loss: 0.47236     Accuracy: 84.48% \t Test Loss: 0.78023     Test Accuracy: 77.33%\n",
      "Epoch [ 15/150] \t Loss: 0.46100     Accuracy: 84.72% \t Test Loss: 0.74422     Test Accuracy: 76.71%\n",
      "Epoch [ 16/150] \t Loss: 0.41650     Accuracy: 86.41% \t Test Loss: 0.77579     Test Accuracy: 77.01%\n",
      "Epoch [ 17/150] \t Loss: 0.40410     Accuracy: 86.60% \t Test Loss: 0.78213     Test Accuracy: 76.61%\n",
      "Epoch [ 18/150] \t Loss: 0.39675     Accuracy: 86.92% \t Test Loss: 0.76160     Test Accuracy: 77.92%\n",
      "Epoch [ 19/150] \t Loss: 0.35497     Accuracy: 88.20% \t Test Loss: 0.87046     Test Accuracy: 76.06%\n",
      "Epoch [ 20/150] \t Loss: 0.36973     Accuracy: 88.06% \t Test Loss: 0.80778     Test Accuracy: 76.82%\n",
      "Epoch [ 21/150] \t Loss: 0.33976     Accuracy: 89.00% \t Test Loss: 0.85837     Test Accuracy: 76.82%\n",
      "Epoch [ 22/150] \t Loss: 0.33808     Accuracy: 89.09% \t Test Loss: 0.89257     Test Accuracy: 77.45%\n",
      "Epoch [ 23/150] \t Loss: 0.34281     Accuracy: 88.94% \t Test Loss: 0.94245     Test Accuracy: 76.00%\n",
      "Epoch [ 24/150] \t Loss: 0.32298     Accuracy: 89.71% \t Test Loss: 0.90844     Test Accuracy: 75.37%\n",
      "Epoch [ 25/150] \t Loss: 0.29512     Accuracy: 90.71% \t Test Loss: 0.87488     Test Accuracy: 77.92%\n",
      "Epoch [ 26/150] \t Loss: 0.32287     Accuracy: 89.90% \t Test Loss: 0.84697     Test Accuracy: 77.36%\n",
      "Epoch [ 27/150] \t Loss: 0.33475     Accuracy: 89.16% \t Test Loss: 0.88376     Test Accuracy: 76.58%\n",
      "Epoch [ 28/150] \t Loss: 0.30921     Accuracy: 90.44% \t Test Loss: 0.82583     Test Accuracy: 76.76%\n",
      "Epoch [ 29/150] \t Loss: 0.28024     Accuracy: 91.23% \t Test Loss: 0.86722     Test Accuracy: 77.06%\n",
      "Epoch [ 30/150] \t Loss: 0.29544     Accuracy: 90.63% \t Test Loss: 0.87752     Test Accuracy: 77.17%\n",
      "Epoch [ 31/150] \t Loss: 0.31927     Accuracy: 90.01% \t Test Loss: 0.92371     Test Accuracy: 76.92%\n",
      "Epoch [ 32/150] \t Loss: 0.26738     Accuracy: 91.77% \t Test Loss: 0.90305     Test Accuracy: 78.06%\n",
      "Epoch [ 33/150] \t Loss: 0.25249     Accuracy: 92.14% \t Test Loss: 0.91957     Test Accuracy: 76.77%\n",
      "Epoch [ 34/150] \t Loss: 0.33178     Accuracy: 89.59% \t Test Loss: 0.88012     Test Accuracy: 78.11%\n",
      "Epoch [ 35/150] \t Loss: 0.30019     Accuracy: 90.72% \t Test Loss: 0.89585     Test Accuracy: 77.94%\n",
      "Epoch [ 36/150] \t Loss: 0.22258     Accuracy: 93.37% \t Test Loss: 0.92562     Test Accuracy: 77.97%\n",
      "Epoch [ 37/150] \t Loss: 0.19769     Accuracy: 94.17% \t Test Loss: 1.00426     Test Accuracy: 78.34%\n",
      "Epoch [ 38/150] \t Loss: 0.23065     Accuracy: 93.13% \t Test Loss: 0.94779     Test Accuracy: 77.28%\n",
      "Epoch [ 39/150] \t Loss: 0.21971     Accuracy: 93.43% \t Test Loss: 0.94227     Test Accuracy: 77.50%\n",
      "Epoch [ 40/150] \t Loss: 0.26972     Accuracy: 91.64% \t Test Loss: 0.91373     Test Accuracy: 76.94%\n",
      "Epoch [ 41/150] \t Loss: 0.22813     Accuracy: 93.44% \t Test Loss: 0.92150     Test Accuracy: 75.36%\n",
      "Epoch [ 42/150] \t Loss: 0.23390     Accuracy: 92.99% \t Test Loss: 0.96558     Test Accuracy: 76.88%\n",
      "Epoch [ 43/150] \t Loss: 0.19361     Accuracy: 94.19% \t Test Loss: 0.92269     Test Accuracy: 78.61%\n",
      "Epoch [ 44/150] \t Loss: 0.23545     Accuracy: 93.02% \t Test Loss: 0.93722     Test Accuracy: 78.44%\n",
      "Epoch [ 45/150] \t Loss: 0.22044     Accuracy: 93.48% \t Test Loss: 0.95110     Test Accuracy: 78.19%\n",
      "Epoch [ 46/150] \t Loss: 0.15479     Accuracy: 95.44% \t Test Loss: 0.93023     Test Accuracy: 78.66%\n",
      "Epoch [ 47/150] \t Loss: 0.21249     Accuracy: 93.69% \t Test Loss: 1.00286     Test Accuracy: 78.23%\n",
      "Epoch [ 48/150] \t Loss: 0.22330     Accuracy: 93.84% \t Test Loss: 0.99497     Test Accuracy: 78.06%\n",
      "Epoch [ 49/150] \t Loss: 0.18840     Accuracy: 94.47% \t Test Loss: 1.06979     Test Accuracy: 78.03%\n",
      "Epoch [ 50/150] \t Loss: 0.22391     Accuracy: 93.42% \t Test Loss: 0.98478     Test Accuracy: 77.42%\n",
      "Epoch [ 51/150] \t Loss: 0.30316     Accuracy: 91.01% \t Test Loss: 1.09169     Test Accuracy: 76.98%\n",
      "Epoch [ 52/150] \t Loss: 0.20748     Accuracy: 94.05% \t Test Loss: 0.95521     Test Accuracy: 78.81%\n",
      "Epoch [ 53/150] \t Loss: 0.17673     Accuracy: 94.87% \t Test Loss: 1.10130     Test Accuracy: 79.25%\n",
      "Epoch [ 54/150] \t Loss: 0.15210     Accuracy: 95.70% \t Test Loss: 0.97907     Test Accuracy: 76.13%\n",
      "Epoch [ 55/150] \t Loss: 0.18427     Accuracy: 94.78% \t Test Loss: 1.14441     Test Accuracy: 78.39%\n",
      "Epoch [ 56/150] \t Loss: 0.21857     Accuracy: 93.78% \t Test Loss: 1.07205     Test Accuracy: 76.98%\n",
      "Epoch [ 57/150] \t Loss: 0.21712     Accuracy: 93.88% \t Test Loss: 0.92624     Test Accuracy: 75.44%\n",
      "Epoch [ 58/150] \t Loss: 0.39564     Accuracy: 88.40% \t Test Loss: 0.89892     Test Accuracy: 76.31%\n",
      "Epoch [ 59/150] \t Loss: 0.27325     Accuracy: 92.27% \t Test Loss: 1.00574     Test Accuracy: 77.97%\n",
      "Epoch [ 60/150] \t Loss: 0.23163     Accuracy: 93.28% \t Test Loss: 1.07338     Test Accuracy: 77.69%\n",
      "Epoch [ 61/150] \t Loss: 0.22621     Accuracy: 93.35% \t Test Loss: 0.99902     Test Accuracy: 77.22%\n",
      "Epoch [ 62/150] \t Loss: 0.21723     Accuracy: 93.79% \t Test Loss: 1.15712     Test Accuracy: 78.46%\n",
      "Epoch [ 63/150] \t Loss: 0.15669     Accuracy: 95.65% \t Test Loss: 1.08295     Test Accuracy: 78.25%\n",
      "Epoch [ 64/150] \t Loss: 0.15614     Accuracy: 95.62% \t Test Loss: 1.09291     Test Accuracy: 78.54%\n",
      "Epoch [ 65/150] \t Loss: 0.29804     Accuracy: 91.38% \t Test Loss: 1.09548     Test Accuracy: 71.22%\n",
      "Epoch [ 66/150] \t Loss: 0.33163     Accuracy: 90.40% \t Test Loss: 0.95933     Test Accuracy: 76.33%\n",
      "Epoch [ 67/150] \t Loss: 0.22085     Accuracy: 93.68% \t Test Loss: 1.16147     Test Accuracy: 75.62%\n",
      "Epoch [ 68/150] \t Loss: 0.16586     Accuracy: 95.11% \t Test Loss: 1.12125     Test Accuracy: 78.83%\n",
      "Epoch [ 69/150] \t Loss: 0.19862     Accuracy: 94.31% \t Test Loss: 1.10666     Test Accuracy: 78.16%\n",
      "Epoch [ 70/150] \t Loss: 0.73355     Accuracy: 77.50% \t Test Loss: 0.91362     Test Accuracy: 72.97%\n",
      "Epoch [ 71/150] \t Loss: 0.25519     Accuracy: 92.31% \t Test Loss: 0.94644     Test Accuracy: 77.47%\n",
      "Epoch [ 72/150] \t Loss: 0.30918     Accuracy: 91.00% \t Test Loss: 1.01381     Test Accuracy: 76.95%\n",
      "Epoch [ 73/150] \t Loss: 0.18225     Accuracy: 94.89% \t Test Loss: 1.15639     Test Accuracy: 78.33%\n",
      "Epoch [ 74/150] \t Loss: 0.14660     Accuracy: 95.85% \t Test Loss: 0.96541     Test Accuracy: 78.77%\n",
      "Epoch [ 75/150] \t Loss: 0.15630     Accuracy: 95.63% \t Test Loss: 1.06770     Test Accuracy: 77.23%\n",
      "Epoch [ 76/150] \t Loss: 0.39384     Accuracy: 88.02% \t Test Loss: 1.01134     Test Accuracy: 77.48%\n",
      "Epoch [ 77/150] \t Loss: 0.20629     Accuracy: 94.07% \t Test Loss: 1.07483     Test Accuracy: 78.05%\n",
      "Epoch [ 78/150] \t Loss: 0.29141     Accuracy: 92.34% \t Test Loss: 0.91056     Test Accuracy: 75.21%\n",
      "Epoch [ 79/150] \t Loss: 0.32413     Accuracy: 90.86% \t Test Loss: 0.97456     Test Accuracy: 78.74%\n",
      "Epoch [ 80/150] \t Loss: 0.52962     Accuracy: 83.41% \t Test Loss: 0.93504     Test Accuracy: 69.52%\n",
      "Epoch [ 81/150] \t Loss: 0.37299     Accuracy: 88.16% \t Test Loss: 0.95704     Test Accuracy: 76.33%\n",
      "Epoch [ 82/150] \t Loss: 0.25309     Accuracy: 92.64% \t Test Loss: 0.95971     Test Accuracy: 78.55%\n",
      "Epoch [ 83/150] \t Loss: 0.17119     Accuracy: 95.11% \t Test Loss: 1.08882     Test Accuracy: 78.61%\n",
      "Epoch [ 84/150] \t Loss: 0.21784     Accuracy: 93.64% \t Test Loss: 0.96948     Test Accuracy: 77.08%\n",
      "Epoch [ 85/150] \t Loss: 0.22141     Accuracy: 93.61% \t Test Loss: 1.01131     Test Accuracy: 76.54%\n",
      "Epoch [ 86/150] \t Loss: 0.28995     Accuracy: 92.14% \t Test Loss: 1.20154     Test Accuracy: 76.11%\n",
      "Epoch [ 87/150] \t Loss: 0.15064     Accuracy: 95.89% \t Test Loss: 1.11966     Test Accuracy: 78.57%\n",
      "Epoch [ 88/150] \t Loss: 0.68967     Accuracy: 78.16% \t Test Loss: 1.09040     Test Accuracy: 64.50%\n",
      "Epoch [ 89/150] \t Loss: 0.48707     Accuracy: 84.81% \t Test Loss: 0.94914     Test Accuracy: 77.34%\n",
      "Epoch [ 90/150] \t Loss: 0.45465     Accuracy: 86.27% \t Test Loss: 0.97000     Test Accuracy: 76.01%\n",
      "Epoch [ 91/150] \t Loss: 0.26600     Accuracy: 92.35% \t Test Loss: 0.95548     Test Accuracy: 76.29%\n",
      "Epoch [ 92/150] \t Loss: 0.21423     Accuracy: 94.02% \t Test Loss: 1.06098     Test Accuracy: 78.17%\n",
      "Epoch [ 93/150] \t Loss: 0.89283     Accuracy: 71.23% \t Test Loss: 0.92783     Test Accuracy: 75.96%\n",
      "Epoch [ 94/150] \t Loss: 0.38164     Accuracy: 89.19% \t Test Loss: 1.20772     Test Accuracy: 60.21%\n",
      "Epoch [ 95/150] \t Loss: 0.45328     Accuracy: 86.39% \t Test Loss: 0.91360     Test Accuracy: 77.22%\n",
      "Epoch [ 96/150] \t Loss: 0.44001     Accuracy: 86.94% \t Test Loss: 1.05699     Test Accuracy: 65.43%\n",
      "Epoch [ 97/150] \t Loss: 0.48462     Accuracy: 84.94% \t Test Loss: 0.94078     Test Accuracy: 74.14%\n",
      "Epoch [ 98/150] \t Loss: 0.62654     Accuracy: 79.89% \t Test Loss: 1.03744     Test Accuracy: 71.74%\n",
      "Epoch [ 99/150] \t Loss: 0.34412     Accuracy: 89.82% \t Test Loss: 0.94661     Test Accuracy: 75.55%\n",
      "Epoch [100/150] \t Loss: 0.45523     Accuracy: 86.97% \t Test Loss: 1.03343     Test Accuracy: 74.98%\n",
      "Epoch [101/150] \t Loss: 0.34508     Accuracy: 90.04% \t Test Loss: 0.92530     Test Accuracy: 75.18%\n",
      "Epoch [102/150] \t Loss: 0.22902     Accuracy: 93.34% \t Test Loss: 1.08432     Test Accuracy: 76.97%\n",
      "Epoch [103/150] \t Loss: 0.27150     Accuracy: 92.43% \t Test Loss: 1.01540     Test Accuracy: 76.55%\n",
      "Epoch [104/150] \t Loss: 0.26753     Accuracy: 92.62% \t Test Loss: 0.97402     Test Accuracy: 76.14%\n",
      "Epoch [105/150] \t Loss: 0.38842     Accuracy: 88.77% \t Test Loss: 0.97236     Test Accuracy: 74.54%\n",
      "Epoch [106/150] \t Loss: 0.27886     Accuracy: 92.15% \t Test Loss: 1.07567     Test Accuracy: 77.54%\n",
      "Epoch [107/150] \t Loss: 0.33967     Accuracy: 90.16% \t Test Loss: 1.00511     Test Accuracy: 77.85%\n",
      "Epoch [108/150] \t Loss: 0.66290     Accuracy: 82.06% \t Test Loss: 2.13334     Test Accuracy: 21.15%\n",
      "Epoch [109/150] \t Loss: 2.34450     Accuracy: 17.77% \t Test Loss: 2.60077     Test Accuracy: 10.08%\n",
      "Epoch [110/150] \t Loss: 2.51103     Accuracy: 11.26% \t Test Loss: 2.42869     Test Accuracy: 10.00%\n",
      "Epoch [111/150] \t Loss: 2.40317     Accuracy: 10.00% \t Test Loss: 2.35858     Test Accuracy: 10.00%\n",
      "Epoch [112/150] \t Loss: 2.37398     Accuracy: 10.00% \t Test Loss: 2.33005     Test Accuracy: 10.00%\n",
      "Epoch [113/150] \t Loss: 2.30884     Accuracy: 10.15% \t Test Loss: 2.30509     Test Accuracy: 10.00%\n",
      "Epoch [114/150] \t Loss: 2.30516     Accuracy: 10.07% \t Test Loss: 2.30359     Test Accuracy: 10.00%\n",
      "Epoch [115/150] \t Loss: 2.30419     Accuracy: 9.87% \t Test Loss: 2.30369     Test Accuracy: 10.00%\n",
      "Epoch [116/150] \t Loss: 2.30364     Accuracy: 10.16% \t Test Loss: 2.30354     Test Accuracy: 10.00%\n",
      "Epoch [117/150] \t Loss: 2.30413     Accuracy: 9.95% \t Test Loss: 2.30327     Test Accuracy: 10.00%\n",
      "Epoch [118/150] \t Loss: 2.30379     Accuracy: 9.94% \t Test Loss: 2.30311     Test Accuracy: 10.00%\n",
      "Epoch [119/150] \t Loss: 2.30375     Accuracy: 9.93% \t Test Loss: 2.30338     Test Accuracy: 10.00%\n",
      "Epoch [120/150] \t Loss: 2.30391     Accuracy: 9.86% \t Test Loss: 2.30379     Test Accuracy: 10.00%\n",
      "Epoch [121/150] \t Loss: 2.30383     Accuracy: 9.94% \t Test Loss: 2.30300     Test Accuracy: 10.00%\n",
      "Epoch [122/150] \t Loss: 2.30388     Accuracy: 9.96% \t Test Loss: 2.30330     Test Accuracy: 10.00%\n",
      "Epoch [123/150] \t Loss: 2.30369     Accuracy: 9.93% \t Test Loss: 2.30301     Test Accuracy: 10.00%\n",
      "Epoch [124/150] \t Loss: 2.30358     Accuracy: 10.09% \t Test Loss: 2.30418     Test Accuracy: 10.00%\n",
      "Epoch [125/150] \t Loss: 2.30342     Accuracy: 9.97% \t Test Loss: 2.30341     Test Accuracy: 10.00%\n",
      "Epoch [126/150] \t Loss: 2.30356     Accuracy: 10.07% \t Test Loss: 2.30274     Test Accuracy: 10.00%\n",
      "Epoch [127/150] \t Loss: 2.30353     Accuracy: 10.10% \t Test Loss: 2.30304     Test Accuracy: 10.00%\n",
      "Epoch [128/150] \t Loss: 2.30332     Accuracy: 9.81% \t Test Loss: 2.30321     Test Accuracy: 10.00%\n",
      "Epoch [129/150] \t Loss: 2.30378     Accuracy: 9.95% \t Test Loss: 2.30296     Test Accuracy: 10.00%\n",
      "Epoch [130/150] \t Loss: 2.30354     Accuracy: 9.78% \t Test Loss: 2.30264     Test Accuracy: 10.00%\n",
      "Epoch [131/150] \t Loss: 2.30338     Accuracy: 9.77% \t Test Loss: 2.30307     Test Accuracy: 10.00%\n",
      "Epoch [132/150] \t Loss: 2.30350     Accuracy: 10.04% \t Test Loss: 2.30301     Test Accuracy: 10.00%\n",
      "Epoch [133/150] \t Loss: 2.30354     Accuracy: 9.88% \t Test Loss: 2.30285     Test Accuracy: 10.00%\n",
      "Epoch [134/150] \t Loss: 2.30345     Accuracy: 9.91% \t Test Loss: 2.30304     Test Accuracy: 10.00%\n",
      "Epoch [135/150] \t Loss: 2.30334     Accuracy: 10.05% \t Test Loss: 2.30306     Test Accuracy: 10.00%\n",
      "Epoch [136/150] \t Loss: 2.30315     Accuracy: 10.14% \t Test Loss: 2.30283     Test Accuracy: 10.00%\n",
      "Epoch [137/150] \t Loss: 2.30343     Accuracy: 9.94% \t Test Loss: 2.30328     Test Accuracy: 10.00%\n",
      "Epoch [138/150] \t Loss: 2.30356     Accuracy: 9.83% \t Test Loss: 2.30310     Test Accuracy: 10.00%\n",
      "Epoch [139/150] \t Loss: 2.30312     Accuracy: 9.97% \t Test Loss: 2.30262     Test Accuracy: 10.00%\n",
      "Epoch [140/150] \t Loss: 2.30349     Accuracy: 9.92% \t Test Loss: 2.30259     Test Accuracy: 10.00%\n",
      "Epoch [141/150] \t Loss: 2.30332     Accuracy: 9.93% \t Test Loss: 2.30301     Test Accuracy: 10.00%\n",
      "Epoch [142/150] \t Loss: 2.30324     Accuracy: 9.90% \t Test Loss: 2.30284     Test Accuracy: 10.00%\n",
      "Epoch [143/150] \t Loss: 2.30312     Accuracy: 9.92% \t Test Loss: 2.30285     Test Accuracy: 10.00%\n",
      "Epoch [144/150] \t Loss: 2.30336     Accuracy: 9.94% \t Test Loss: 2.30286     Test Accuracy: 10.00%\n",
      "Epoch [145/150] \t Loss: 2.30342     Accuracy: 9.83% \t Test Loss: 2.30275     Test Accuracy: 10.00%\n",
      "Epoch [146/150] \t Loss: 2.30314     Accuracy: 9.96% \t Test Loss: 2.30298     Test Accuracy: 10.00%\n",
      "Epoch [147/150] \t Loss: 2.30323     Accuracy: 9.94% \t Test Loss: 2.30295     Test Accuracy: 10.00%\n",
      "Epoch [148/150] \t Loss: 2.30305     Accuracy: 9.94% \t Test Loss: 2.30294     Test Accuracy: 10.00%\n",
      "Epoch [149/150] \t Loss: 2.30314     Accuracy: 9.97% \t Test Loss: 2.30272     Test Accuracy: 10.00%\n",
      "Epoch [150/150] \t Loss: 2.30318     Accuracy: 9.86% \t Test Loss: 2.30279     Test Accuracy: 10.00%\n"
     ]
    }
   ],
   "source": [
    "# train\n",
    "for epoch in range(max_epoch):\n",
    "    model.train()\n",
    "    running_loss = 0.0\n",
    "    running_correct = 0   # to track number of correct predictions\n",
    "    total = 0             # to track total number of samples\n",
    "\n",
    "    for i, (inputs, labels) in enumerate(trainloader, 0):\n",
    "        # Move inputs and labels to the device\n",
    "        inputs, labels = inputs.to(device), labels.to(device)\n",
    "\n",
    "        # Zero the parameter gradients\n",
    "        optimizer.zero_grad()\n",
    "\n",
    "        # Forward pass\n",
    "        outputs = model(inputs)\n",
    "        loss = criterion(outputs, labels)\n",
    "        running_loss += loss.item()\n",
    "\n",
    "        # Backward pass and optimization\n",
    "        loss.backward()\n",
    "        optimizer.step()  \n",
    "    \n",
    "        # Determine class predictions and track accuracy\n",
    "        _, predicted = torch.max(outputs.data, 1)\n",
    "        total += labels.size(0)\n",
    "        running_correct += (predicted == labels).sum().item()\n",
    "\n",
    "\n",
    "    epoch_accuracy = 100 * running_correct / total\n",
    "    epoch_loss = running_loss / (i + 1)\n",
    "    \n",
    "    test_loss, test_accuracy = evaluate(model, testloader, criterion)\n",
    "    print(f\"Epoch [{(epoch + 1):3}/{max_epoch:3}] \\t Loss: {epoch_loss:<11.5f} Accuracy: {epoch_accuracy:.2f}% \\t Test Loss: {test_loss:<11.5f} Test Accuracy: {test_accuracy:.2f}%\")\n",
    "    \n",
    "    # save for plot\n",
    "    train_losses.append(epoch_loss)\n",
    "    train_accuracies.append(epoch_accuracy)\n",
    "    test_losses.append(test_loss)\n",
    "    test_accuracies.append(test_accuracy)"
   ]
  },
  {
   "cell_type": "code",
   "execution_count": 11,
   "id": "cebcb439-88f2-40b6-9a17-4990ad324731",
   "metadata": {},
   "outputs": [
    {
     "name": "stdout",
     "output_type": "stream",
     "text": [
      "\n",
      "Best epoch: 53 with test accuracy: 79.25%\n"
     ]
    }
   ],
   "source": [
    "# the best accuracy\n",
    "best_epoch = np.argmax(test_accuracies)\n",
    "print(f\"\\nBest epoch: {best_epoch + 1} with test accuracy: {test_accuracies[best_epoch]:.2f}%\")"
   ]
  },
  {
   "cell_type": "markdown",
   "metadata": {},
   "source": [
    "# Plot results"
   ]
  },
  {
   "cell_type": "code",
   "execution_count": 9,
   "id": "DkC3_902Lgn-",
   "metadata": {
    "executionInfo": {
     "elapsed": 3,
     "status": "ok",
     "timestamp": 1673091684322,
     "user": {
      "displayName": "Thắng Dương Đình",
      "userId": "02196529682032971345"
     },
     "user_tz": -420
    },
    "id": "DkC3_902Lgn-"
   },
   "outputs": [
    {
     "data": {
      "text/plain": [
       "<matplotlib.legend.Legend at 0x7efa8e334460>"
      ]
     },
     "execution_count": 9,
     "metadata": {},
     "output_type": "execute_result"
    },
    {
     "data": {
      "image/png": "[encoded data removed]",
      "text/plain": [
       "<Figure size 640x480 with 1 Axes>"
      ]
     },
     "metadata": {},
     "output_type": "display_data"
    }
   ],
   "source": [
    "plt.plot(train_losses, label='train_losses')\n",
    "plt.plot(test_losses, label='test_losses')\n",
    "plt.legend()"
   ]
  },
  {
   "cell_type": "code",
   "execution_count": 10,
   "id": "794f4e81",
   "metadata": {
    "executionInfo": {
     "elapsed": 8,
     "status": "ok",
     "timestamp": 1673092872464,
     "user": {
      "displayName": "Thắng Dương Đình",
      "userId": "02196529682032971345"
     },
     "user_tz": -420
    },
    "id": "794f4e81"
   },
   "outputs": [
    {
     "data": {
      "text/plain": [
       "<matplotlib.legend.Legend at 0x7efb3ec80eb0>"
      ]
     },
     "execution_count": 10,
     "metadata": {},
     "output_type": "execute_result"
    },
    {
     "data": {
      "image/png": "[encoded data removed]",
      "text/plain": [
       "<Figure size 640x480 with 1 Axes>"
      ]
     },
     "metadata": {},
     "output_type": "display_data"
    }
   ],
   "source": [
    "plt.plot(train_accuracies, label='train_accuracy')\n",
    "plt.plot(test_accuracies, label='test_accuracy')\n",
    "plt.legend()"
   ]
  },
  {
   "cell_type": "code",
   "execution_count": null,
   "id": "a2ec7c96-ff05-4863-92e7-c45f2f0e3d03",
   "metadata": {},
   "outputs": [],
   "source": []
  },
  {
   "cell_type": "code",
   "execution_count": null,
   "id": "8c86325e-7b6c-43a6-b315-93e02bcdb264",
   "metadata": {},
   "outputs": [],
   "source": []
  }
 ],
 "metadata": {
  "accelerator": "GPU",
  "colab": {
   "provenance": []
  },
  "gpuClass": "standard",
  "kernelspec": {
   "display_name": "Python 3 (ipykernel)",
   "language": "python",
   "name": "python3"
  },
  "language_info": {
   "codemirror_mode": {
    "name": "ipython",
    "version": 3
   },
   "file_extension": ".py",
   "mimetype": "text/x-python",
   "name": "python",
   "nbconvert_exporter": "python",
   "pygments_lexer": "ipython3",
   "version": "3.8.0"
  },
  "widgets": {
   "application/vnd.jupyter.widget-state+json": {
    "00397590a13d454d8b16fd8d15ae9b41": {
     "model_module": "@jupyter-widgets/controls",
     "model_module_version": "1.5.0",
     "model_name": "DescriptionStyleModel",
     "state": {
      "_model_module": "@jupyter-widgets/controls",
      "_model_module_version": "1.5.0",
      "_model_name": "DescriptionStyleModel",
      "_view_count": null,
      "_view_module": "@jupyter-widgets/base",
      "_view_module_version": "1.2.0",
      "_view_name": "StyleView",
      "description_width": ""
     }
    },
    "0a3d339ba81a4f22b893250502c493af": {
     "model_module": "@jupyter-widgets/base",
     "model_module_version": "1.2.0",
     "model_name": "LayoutModel",
     "state": {
      "_model_module": "@jupyter-widgets/base",
      "_model_module_version": "1.2.0",
      "_model_name": "LayoutModel",
      "_view_count": null,
      "_view_module": "@jupyter-widgets/base",
      "_view_module_version": "1.2.0",
      "_view_name": "LayoutView",
      "align_content": null,
      "align_items": null,
      "align_self": null,
      "border": null,
      "bottom": null,
      "display": null,
      "flex": null,
      "flex_flow": null,
      "grid_area": null,
      "grid_auto_columns": null,
      "grid_auto_flow": null,
      "grid_auto_rows": null,
      "grid_column": null,
      "grid_gap": null,
      "grid_row": null,
      "grid_template_areas": null,
      "grid_template_columns": null,
      "grid_template_rows": null,
      "height": null,
      "justify_content": null,
      "justify_items": null,
      "left": null,
      "margin": null,
      "max_height": null,
      "max_width": null,
      "min_height": null,
      "min_width": null,
      "object_fit": null,
      "object_position": null,
      "order": null,
      "overflow": null,
      "overflow_x": null,
      "overflow_y": null,
      "padding": null,
      "right": null,
      "top": null,
      "visibility": null,
      "width": null
     }
    },
    "4691e220a8cb466bb46540f16f65e864": {
     "model_module": "@jupyter-widgets/controls",
     "model_module_version": "1.5.0",
     "model_name": "ProgressStyleModel",
     "state": {
      "_model_module": "@jupyter-widgets/controls",
      "_model_module_version": "1.5.0",
      "_model_name": "ProgressStyleModel",
      "_view_count": null,
      "_view_module": "@jupyter-widgets/base",
      "_view_module_version": "1.2.0",
      "_view_name": "StyleView",
      "bar_color": null,
      "description_width": ""
     }
    },
    "56c90ad0a7fb47d08727a7dac3f68f39": {
     "model_module": "@jupyter-widgets/base",
     "model_module_version": "1.2.0",
     "model_name": "LayoutModel",
     "state": {
      "_model_module": "@jupyter-widgets/base",
      "_model_module_version": "1.2.0",
      "_model_name": "LayoutModel",
      "_view_count": null,
      "_view_module": "@jupyter-widgets/base",
      "_view_module_version": "1.2.0",
      "_view_name": "LayoutView",
      "align_content": null,
      "align_items": null,
      "align_self": null,
      "border": null,
      "bottom": null,
      "display": null,
      "flex": null,
      "flex_flow": null,
      "grid_area": null,
      "grid_auto_columns": null,
      "grid_auto_flow": null,
      "grid_auto_rows": null,
      "grid_column": null,
      "grid_gap": null,
      "grid_row": null,
      "grid_template_areas": null,
      "grid_template_columns": null,
      "grid_template_rows": null,
      "height": null,
      "justify_content": null,
      "justify_items": null,
      "left": null,
      "margin": null,
      "max_height": null,
      "max_width": null,
      "min_height": null,
      "min_width": null,
      "object_fit": null,
      "object_position": null,
      "order": null,
      "overflow": null,
      "overflow_x": null,
      "overflow_y": null,
      "padding": null,
      "right": null,
      "top": null,
      "visibility": null,
      "width": null
     }
    },
    "619c9ef51fc5497f81b4af88db9214cc": {
     "model_module": "@jupyter-widgets/controls",
     "model_module_version": "1.5.0",
     "model_name": "DescriptionStyleModel",
     "state": {
      "_model_module": "@jupyter-widgets/controls",
      "_model_module_version": "1.5.0",
      "_model_name": "DescriptionStyleModel",
      "_view_count": null,
      "_view_module": "@jupyter-widgets/base",
      "_view_module_version": "1.2.0",
      "_view_name": "StyleView",
      "description_width": ""
     }
    },
    "7c95c188ecf242de9776dcfd3e3fc8d2": {
     "model_module": "@jupyter-widgets/base",
     "model_module_version": "1.2.0",
     "model_name": "LayoutModel",
     "state": {
      "_model_module": "@jupyter-widgets/base",
      "_model_module_version": "1.2.0",
      "_model_name": "LayoutModel",
      "_view_count": null,
      "_view_module": "@jupyter-widgets/base",
      "_view_module_version": "1.2.0",
      "_view_name": "LayoutView",
      "align_content": null,
      "align_items": null,
      "align_self": null,
      "border": null,
      "bottom": null,
      "display": null,
      "flex": null,
      "flex_flow": null,
      "grid_area": null,
      "grid_auto_columns": null,
      "grid_auto_flow": null,
      "grid_auto_rows": null,
      "grid_column": null,
      "grid_gap": null,
      "grid_row": null,
      "grid_template_areas": null,
      "grid_template_columns": null,
      "grid_template_rows": null,
      "height": null,
      "justify_content": null,
      "justify_items": null,
      "left": null,
      "margin": null,
      "max_height": null,
      "max_width": null,
      "min_height": null,
      "min_width": null,
      "object_fit": null,
      "object_position": null,
      "order": null,
      "overflow": null,
      "overflow_x": null,
      "overflow_y": null,
      "padding": null,
      "right": null,
      "top": null,
      "visibility": null,
      "width": null
     }
    },
    "8a6ed597588f4c07bff4271aeba7c1bb": {
     "model_module": "@jupyter-widgets/controls",
     "model_module_version": "1.5.0",
     "model_name": "HBoxModel",
     "state": {
      "_dom_classes": [],
      "_model_module": "@jupyter-widgets/controls",
      "_model_module_version": "1.5.0",
      "_model_name": "HBoxModel",
      "_view_count": null,
      "_view_module": "@jupyter-widgets/controls",
      "_view_module_version": "1.5.0",
      "_view_name": "HBoxView",
      "box_style": "",
      "children": [
       "IPY_MODEL_e09dd53ac3044e3097ed084354a52e13",
       "IPY_MODEL_8b2a0088b39741f6968c95f40ff787e6",
       "IPY_MODEL_cf5fb8e067be464bb14a1cf5e8b4e2de"
      ],
      "layout": "IPY_MODEL_0a3d339ba81a4f22b893250502c493af"
     }
    },
    "8b2a0088b39741f6968c95f40ff787e6": {
     "model_module": "@jupyter-widgets/controls",
     "model_module_version": "1.5.0",
     "model_name": "FloatProgressModel",
     "state": {
      "_dom_classes": [],
      "_model_module": "@jupyter-widgets/controls",
      "_model_module_version": "1.5.0",
      "_model_name": "FloatProgressModel",
      "_view_count": null,
      "_view_module": "@jupyter-widgets/controls",
      "_view_module_version": "1.5.0",
      "_view_name": "ProgressView",
      "bar_style": "success",
      "description": "",
      "description_tooltip": null,
      "layout": "IPY_MODEL_56c90ad0a7fb47d08727a7dac3f68f39",
      "max": 170498071,
      "min": 0,
      "orientation": "horizontal",
      "style": "IPY_MODEL_4691e220a8cb466bb46540f16f65e864",
      "value": 170498071
     }
    },
    "cf5fb8e067be464bb14a1cf5e8b4e2de": {
     "model_module": "@jupyter-widgets/controls",
     "model_module_version": "1.5.0",
     "model_name": "HTMLModel",
     "state": {
      "_dom_classes": [],
      "_model_module": "@jupyter-widgets/controls",
      "_model_module_version": "1.5.0",
      "_model_name": "HTMLModel",
      "_view_count": null,
      "_view_module": "@jupyter-widgets/controls",
      "_view_module_version": "1.5.0",
      "_view_name": "HTMLView",
      "description": "",
      "description_tooltip": null,
      "layout": "IPY_MODEL_7c95c188ecf242de9776dcfd3e3fc8d2",
      "placeholder": "​",
      "style": "IPY_MODEL_619c9ef51fc5497f81b4af88db9214cc",
      "value": " 170498071/170498071 [00:01&lt;00:00, 97303096.82it/s]"
     }
    },
    "e09dd53ac3044e3097ed084354a52e13": {
     "model_module": "@jupyter-widgets/controls",
     "model_module_version": "1.5.0",
     "model_name": "HTMLModel",
     "state": {
      "_dom_classes": [],
      "_model_module": "@jupyter-widgets/controls",
      "_model_module_version": "1.5.0",
      "_model_name": "HTMLModel",
      "_view_count": null,
      "_view_module": "@jupyter-widgets/controls",
      "_view_module_version": "1.5.0",
      "_view_name": "HTMLView",
      "description": "",
      "description_tooltip": null,
      "layout": "IPY_MODEL_f4c44a600db84290a51877583e18ee26",
      "placeholder": "​",
      "style": "IPY_MODEL_00397590a13d454d8b16fd8d15ae9b41",
      "value": "100%"
     }
    },
    "f4c44a600db84290a51877583e18ee26": {
     "model_module": "@jupyter-widgets/base",
     "model_module_version": "1.2.0",
     "model_name": "LayoutModel",
     "state": {
      "_model_module": "@jupyter-widgets/base",
      "_model_module_version": "1.2.0",
      "_model_name": "LayoutModel",
      "_view_count": null,
      "_view_module": "@jupyter-widgets/base",
      "_view_module_version": "1.2.0",
      "_view_name": "LayoutView",
      "align_content": null,
      "align_items": null,
      "align_self": null,
      "border": null,
      "bottom": null,
      "display": null,
      "flex": null,
      "flex_flow": null,
      "grid_area": null,
      "grid_auto_columns": null,
      "grid_auto_flow": null,
      "grid_auto_rows": null,
      "grid_column": null,
      "grid_gap": null,
      "grid_row": null,
      "grid_template_areas": null,
      "grid_template_columns": null,
      "grid_template_rows": null,
      "height": null,
      "justify_content": null,
      "justify_items": null,
      "left": null,
      "margin": null,
      "max_height": null,
      "max_width": null,
      "min_height": null,
      "min_width": null,
      "object_fit": null,
      "object_position": null,
      "order": null,
      "overflow": null,
      "overflow_x": null,
      "overflow_y": null,
      "padding": null,
      "right": null,
      "top": null,
      "visibility": null,
      "width": null
     }
    }
   }
  }
 },
 "nbformat": 4,
 "nbformat_minor": 5
}
