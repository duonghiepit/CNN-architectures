{
 "cells": [
  {
   "cell_type": "code",
   "execution_count": 1,
   "id": "d4e45a49-974f-4f9c-8642-42e2c45aab71",
   "metadata": {},
   "outputs": [],
   "source": [
    "import os\n",
    "os.environ['CUDA_VISIBLE_DEVICES'] = '2'\n",
    "\n",
    "import torch\n",
    "import torchvision.transforms as transforms\n",
    "import torch.nn as nn\n",
    "import torch.nn.functional as F\n",
    "\n",
    "import numpy as np\n",
    "import matplotlib.pyplot as plt\n",
    "\n",
    "from torchvision.datasets import CIFAR10\n",
    "from torch.utils.data import DataLoader \n",
    "from torch.optim import Adam\n",
    "import torchvision\n",
    "import torchvision.models as models\n",
    "from torchsummary import summary\n",
    "\n",
    "torch.manual_seed(1)\n",
    "device = 'cuda' if torch.cuda.is_available() else 'cpu'"
   ]
  },
  {
   "cell_type": "code",
   "execution_count": null,
   "metadata": {},
   "outputs": [],
   "source": []
  },
  {
   "cell_type": "markdown",
   "id": "f913360b-019e-4d69-a540-b7b5715544e1",
   "metadata": {},
   "source": [
    "## Data"
   ]
  },
  {
   "cell_type": "code",
   "execution_count": 2,
   "id": "3ad21976-2d99-49b7-b0b5-84e9ebcd371e",
   "metadata": {},
   "outputs": [
    {
     "name": "stdout",
     "output_type": "stream",
     "text": [
      "Files already downloaded and verified\n",
      "Files already downloaded and verified\n"
     ]
    }
   ],
   "source": [
    "batch_size = 64\n",
    "train_transform = transforms.Compose(\n",
    "    [\n",
    "        transforms.Resize((224,224)),\n",
    "        transforms.ToTensor(),\n",
    "        transforms.Normalize([0.4914, 0.4822, 0.4465], \n",
    "                             [0.2470, 0.2435, 0.2616]),\n",
    "    ])\n",
    "\n",
    "val_transform = transforms.Compose(\n",
    "    [\n",
    "        transforms.Resize((224,224)),\n",
    "        transforms.ToTensor(),\n",
    "        transforms.Normalize([0.4914, 0.4822, 0.4465], \n",
    "                             [0.2470, 0.2435, 0.2616])\n",
    "    ])\n",
    "\n",
    "train_set = CIFAR10(\n",
    "    root='./data', \n",
    "    train=True,\n",
    "    download=True, \n",
    "    transform=train_transform\n",
    ")\n",
    "\n",
    "val_set = CIFAR10(\n",
    "    root='./data', \n",
    "    train=False,\n",
    "    download=True, \n",
    "    transform=val_transform\n",
    ")\n",
    "\n",
    "trainloader = DataLoader(\n",
    "    train_set, \n",
    "    batch_size=batch_size,\n",
    "    shuffle=True,\n",
    "    num_workers=4,\n",
    ")\n",
    "\n",
    "testloader = DataLoader(\n",
    "    val_set, \n",
    "    batch_size=batch_size,\n",
    "    shuffle=False, \n",
    "    num_workers=4,\n",
    ")"
   ]
  },
  {
   "cell_type": "code",
   "execution_count": null,
   "id": "cf229497-4b6e-443d-b330-66b6fa139fcd",
   "metadata": {},
   "outputs": [],
   "source": []
  },
  {
   "cell_type": "markdown",
   "id": "6ea0dde8-29e7-4096-bd15-6a5ed74655f0",
   "metadata": {},
   "source": [
    "## Model"
   ]
  },
  {
   "cell_type": "code",
   "execution_count": 3,
   "id": "81be3191-980a-4b94-8537-5dba83109866",
   "metadata": {},
   "outputs": [
    {
     "name": "stderr",
     "output_type": "stream",
     "text": [
      "/home/server-96gb-ailab/.local/lib/python3.8/site-packages/torchvision/models/_utils.py:208: UserWarning: The parameter 'pretrained' is deprecated since 0.13 and may be removed in the future, please use 'weights' instead.\n",
      "  warnings.warn(\n",
      "/home/server-96gb-ailab/.local/lib/python3.8/site-packages/torchvision/models/_utils.py:223: UserWarning: Arguments other than a weight enum or `None` for 'weights' are deprecated since 0.13 and may be removed in the future. The current behavior is equivalent to passing `weights=None`.\n",
      "  warnings.warn(msg)\n"
     ]
    }
   ],
   "source": [
    "from torchvision.models import alexnet\n",
    "model = alexnet(num_classes=10, pretrained=False).to(device)"
   ]
  },
  {
   "cell_type": "code",
   "execution_count": 4,
   "id": "c8516821-d41b-42a8-9e51-ddfb8f9ec87e",
   "metadata": {},
   "outputs": [
    {
     "name": "stdout",
     "output_type": "stream",
     "text": [
      "----------------------------------------------------------------\n",
      "        Layer (type)               Output Shape         Param #\n",
      "================================================================\n",
      "            Conv2d-1           [-1, 64, 55, 55]          23,296\n",
      "              ReLU-2           [-1, 64, 55, 55]               0\n",
      "         MaxPool2d-3           [-1, 64, 27, 27]               0\n",
      "            Conv2d-4          [-1, 192, 27, 27]         307,392\n",
      "              ReLU-5          [-1, 192, 27, 27]               0\n",
      "         MaxPool2d-6          [-1, 192, 13, 13]               0\n",
      "            Conv2d-7          [-1, 384, 13, 13]         663,936\n",
      "              ReLU-8          [-1, 384, 13, 13]               0\n",
      "            Conv2d-9          [-1, 256, 13, 13]         884,992\n",
      "             ReLU-10          [-1, 256, 13, 13]               0\n",
      "           Conv2d-11          [-1, 256, 13, 13]         590,080\n",
      "             ReLU-12          [-1, 256, 13, 13]               0\n",
      "        MaxPool2d-13            [-1, 256, 6, 6]               0\n",
      "AdaptiveAvgPool2d-14            [-1, 256, 6, 6]               0\n",
      "          Dropout-15                 [-1, 9216]               0\n",
      "           Linear-16                 [-1, 4096]      37,752,832\n",
      "             ReLU-17                 [-1, 4096]               0\n",
      "          Dropout-18                 [-1, 4096]               0\n",
      "           Linear-19                 [-1, 4096]      16,781,312\n",
      "             ReLU-20                 [-1, 4096]               0\n",
      "           Linear-21                   [-1, 10]          40,970\n",
      "================================================================\n",
      "Total params: 57,044,810\n",
      "Trainable params: 57,044,810\n",
      "Non-trainable params: 0\n",
      "----------------------------------------------------------------\n",
      "Input size (MB): 0.57\n",
      "Forward/backward pass size (MB): 8.37\n",
      "Params size (MB): 217.61\n",
      "Estimated Total Size (MB): 226.55\n",
      "----------------------------------------------------------------\n"
     ]
    }
   ],
   "source": [
    "summary(model, (3, 224, 224))"
   ]
  },
  {
   "cell_type": "markdown",
   "id": "43c7b151-a199-4e2a-8015-fdfb5f166284",
   "metadata": {},
   "source": [
    "# Train"
   ]
  },
  {
   "cell_type": "code",
   "execution_count": 5,
   "id": "1464e2bd-b627-475d-9941-f2a930d69a14",
   "metadata": {},
   "outputs": [],
   "source": [
    "criterion = nn.CrossEntropyLoss()\n",
    "optimizer = Adam(model.parameters(), lr=1e-3)  "
   ]
  },
  {
   "cell_type": "code",
   "execution_count": 6,
   "id": "04744c84-1e6d-4bfb-8dd5-abbdc91f102e",
   "metadata": {},
   "outputs": [],
   "source": [
    "# Function to compute loss and accuracy for test set\n",
    "def evaluate(model, testloader, criterion):\n",
    "    model.eval()\n",
    "    test_loss = 0.0\n",
    "    running_correct = 0\n",
    "    total = 0\n",
    "    with torch.no_grad():\n",
    "        for images, labels in testloader:\n",
    "            # Move inputs and labels to the device\n",
    "            images, labels = images.to(device), labels.to(device)\n",
    "\n",
    "            outputs = model(images)\n",
    "            loss = criterion(outputs, labels)\n",
    "            test_loss += loss.item()\n",
    "            \n",
    "            _, predicted = torch.max(outputs.data, 1)\n",
    "            total += labels.size(0)\n",
    "            running_correct += (predicted == labels).sum().item()\n",
    "\n",
    "    accuracy = 100 * running_correct / total\n",
    "    test_loss = test_loss / len(testloader)\n",
    "    return test_loss, accuracy"
   ]
  },
  {
   "cell_type": "code",
   "execution_count": 7,
   "id": "f2402591-e7f7-4bdd-8962-c029cfcd9307",
   "metadata": {},
   "outputs": [],
   "source": [
    "# some parameter\n",
    "train_losses = []\n",
    "train_accuracies = []\n",
    "test_losses = []\n",
    "test_accuracies = []\n",
    "max_epoch = 100"
   ]
  },
  {
   "cell_type": "code",
   "execution_count": 8,
   "id": "190a58e1-0864-4818-a8d2-0f83212c6d13",
   "metadata": {},
   "outputs": [
    {
     "name": "stdout",
     "output_type": "stream",
     "text": [
      "Epoch [  1/100] \t Loss: 1.82670     Accuracy: 31.58% \t Test Loss: 1.59940     Test Accuracy: 40.02%\n",
      "Epoch [  2/100] \t Loss: 1.44698     Accuracy: 47.62% \t Test Loss: 1.29956     Test Accuracy: 53.34%\n",
      "Epoch [  3/100] \t Loss: 1.28386     Accuracy: 53.95% \t Test Loss: 1.12293     Test Accuracy: 59.89%\n",
      "Epoch [  4/100] \t Loss: 1.19086     Accuracy: 57.55% \t Test Loss: 1.14298     Test Accuracy: 59.48%\n",
      "Epoch [  5/100] \t Loss: 1.11598     Accuracy: 60.52% \t Test Loss: 1.10586     Test Accuracy: 60.92%\n",
      "Epoch [  6/100] \t Loss: 1.05790     Accuracy: 62.41% \t Test Loss: 1.01153     Test Accuracy: 64.28%\n",
      "Epoch [  7/100] \t Loss: 1.02135     Accuracy: 64.21% \t Test Loss: 1.00720     Test Accuracy: 64.04%\n",
      "Epoch [  8/100] \t Loss: 0.97608     Accuracy: 65.55% \t Test Loss: 0.98288     Test Accuracy: 65.40%\n",
      "Epoch [  9/100] \t Loss: 0.93956     Accuracy: 66.82% \t Test Loss: 1.06659     Test Accuracy: 62.45%\n",
      "Epoch [ 10/100] \t Loss: 0.90936     Accuracy: 68.04% \t Test Loss: 0.93557     Test Accuracy: 67.05%\n",
      "Epoch [ 11/100] \t Loss: 0.88244     Accuracy: 69.01% \t Test Loss: 0.95507     Test Accuracy: 66.54%\n",
      "Epoch [ 12/100] \t Loss: 0.85602     Accuracy: 69.99% \t Test Loss: 0.92831     Test Accuracy: 67.75%\n",
      "Epoch [ 13/100] \t Loss: 0.82962     Accuracy: 70.81% \t Test Loss: 0.92574     Test Accuracy: 67.75%\n",
      "Epoch [ 14/100] \t Loss: 0.84561     Accuracy: 70.60% \t Test Loss: 0.92740     Test Accuracy: 67.75%\n",
      "Epoch [ 15/100] \t Loss: 0.79248     Accuracy: 72.18% \t Test Loss: 0.89890     Test Accuracy: 68.34%\n",
      "Epoch [ 16/100] \t Loss: 0.76227     Accuracy: 73.24% \t Test Loss: 0.93436     Test Accuracy: 68.51%\n",
      "Epoch [ 17/100] \t Loss: 0.75466     Accuracy: 73.56% \t Test Loss: 0.88696     Test Accuracy: 69.59%\n",
      "Epoch [ 18/100] \t Loss: 0.71684     Accuracy: 74.86% \t Test Loss: 0.88562     Test Accuracy: 69.33%\n",
      "Epoch [ 19/100] \t Loss: 0.70301     Accuracy: 75.52% \t Test Loss: 0.90084     Test Accuracy: 69.41%\n",
      "Epoch [ 20/100] \t Loss: 0.67269     Accuracy: 76.45% \t Test Loss: 0.88962     Test Accuracy: 69.94%\n",
      "Epoch [ 21/100] \t Loss: 0.65843     Accuracy: 77.01% \t Test Loss: 0.89070     Test Accuracy: 69.82%\n",
      "Epoch [ 22/100] \t Loss: 0.62822     Accuracy: 78.23% \t Test Loss: 0.89885     Test Accuracy: 69.78%\n",
      "Epoch [ 23/100] \t Loss: 0.61697     Accuracy: 78.69% \t Test Loss: 0.90539     Test Accuracy: 69.82%\n",
      "Epoch [ 24/100] \t Loss: 0.58734     Accuracy: 79.64% \t Test Loss: 0.88553     Test Accuracy: 70.83%\n",
      "Epoch [ 25/100] \t Loss: 0.55879     Accuracy: 80.52% \t Test Loss: 0.92058     Test Accuracy: 69.80%\n",
      "Epoch [ 26/100] \t Loss: 0.54246     Accuracy: 81.29% \t Test Loss: 0.88866     Test Accuracy: 71.72%\n",
      "Epoch [ 27/100] \t Loss: 0.51879     Accuracy: 82.41% \t Test Loss: 0.94326     Test Accuracy: 70.09%\n",
      "Epoch [ 28/100] \t Loss: 0.50268     Accuracy: 82.74% \t Test Loss: 0.89053     Test Accuracy: 71.19%\n",
      "Epoch [ 29/100] \t Loss: 0.48520     Accuracy: 83.34% \t Test Loss: 0.92298     Test Accuracy: 71.64%\n",
      "Epoch [ 30/100] \t Loss: 0.46852     Accuracy: 84.02% \t Test Loss: 0.91311     Test Accuracy: 70.92%\n",
      "Epoch [ 31/100] \t Loss: 0.44834     Accuracy: 84.79% \t Test Loss: 0.93725     Test Accuracy: 70.89%\n",
      "Epoch [ 32/100] \t Loss: 0.44066     Accuracy: 85.13% \t Test Loss: 0.98397     Test Accuracy: 68.68%\n",
      "Epoch [ 33/100] \t Loss: 0.42913     Accuracy: 85.63% \t Test Loss: 0.94549     Test Accuracy: 70.58%\n",
      "Epoch [ 34/100] \t Loss: 0.40338     Accuracy: 86.69% \t Test Loss: 0.96367     Test Accuracy: 70.72%\n",
      "Epoch [ 35/100] \t Loss: 0.37807     Accuracy: 87.34% \t Test Loss: 0.93479     Test Accuracy: 71.42%\n",
      "Epoch [ 36/100] \t Loss: 0.37629     Accuracy: 87.42% \t Test Loss: 0.98539     Test Accuracy: 69.93%\n",
      "Epoch [ 37/100] \t Loss: 0.36196     Accuracy: 88.01% \t Test Loss: 0.96059     Test Accuracy: 71.69%\n",
      "Epoch [ 38/100] \t Loss: 0.36181     Accuracy: 87.95% \t Test Loss: 1.04197     Test Accuracy: 70.69%\n",
      "Epoch [ 39/100] \t Loss: 0.36398     Accuracy: 88.13% \t Test Loss: 0.98542     Test Accuracy: 71.09%\n",
      "Epoch [ 40/100] \t Loss: 0.32524     Accuracy: 89.40% \t Test Loss: 1.03473     Test Accuracy: 71.07%\n",
      "Epoch [ 41/100] \t Loss: 0.33498     Accuracy: 88.99% \t Test Loss: 0.99047     Test Accuracy: 70.66%\n",
      "Epoch [ 42/100] \t Loss: 0.33177     Accuracy: 89.24% \t Test Loss: 1.04263     Test Accuracy: 70.42%\n",
      "Epoch [ 43/100] \t Loss: 0.31156     Accuracy: 89.96% \t Test Loss: 1.01036     Test Accuracy: 70.99%\n",
      "Epoch [ 44/100] \t Loss: 0.29972     Accuracy: 90.44% \t Test Loss: 0.99705     Test Accuracy: 71.35%\n",
      "Epoch [ 45/100] \t Loss: 0.29484     Accuracy: 90.40% \t Test Loss: 1.03629     Test Accuracy: 71.13%\n",
      "Epoch [ 46/100] \t Loss: 0.31685     Accuracy: 89.98% \t Test Loss: 0.98218     Test Accuracy: 71.09%\n",
      "Epoch [ 47/100] \t Loss: 0.30136     Accuracy: 90.43% \t Test Loss: 1.02790     Test Accuracy: 71.84%\n",
      "Epoch [ 48/100] \t Loss: 0.28145     Accuracy: 91.04% \t Test Loss: 0.99927     Test Accuracy: 71.23%\n",
      "Epoch [ 49/100] \t Loss: 0.27922     Accuracy: 90.95% \t Test Loss: 1.05689     Test Accuracy: 71.30%\n",
      "Epoch [ 50/100] \t Loss: 0.30170     Accuracy: 90.51% \t Test Loss: 1.11844     Test Accuracy: 70.41%\n",
      "Epoch [ 51/100] \t Loss: 0.27240     Accuracy: 91.49% \t Test Loss: 1.02010     Test Accuracy: 71.52%\n",
      "Epoch [ 52/100] \t Loss: 0.26657     Accuracy: 91.83% \t Test Loss: 1.07604     Test Accuracy: 70.51%\n",
      "Epoch [ 53/100] \t Loss: 0.25912     Accuracy: 91.98% \t Test Loss: 1.05891     Test Accuracy: 71.25%\n",
      "Epoch [ 54/100] \t Loss: 0.26144     Accuracy: 91.70% \t Test Loss: 1.12560     Test Accuracy: 70.55%\n",
      "Epoch [ 55/100] \t Loss: 0.27676     Accuracy: 91.60% \t Test Loss: 1.04647     Test Accuracy: 71.20%\n",
      "Epoch [ 56/100] \t Loss: 0.25170     Accuracy: 92.26% \t Test Loss: 1.10504     Test Accuracy: 71.12%\n",
      "Epoch [ 57/100] \t Loss: 0.25545     Accuracy: 92.32% \t Test Loss: 1.13092     Test Accuracy: 68.47%\n",
      "Epoch [ 58/100] \t Loss: 0.24771     Accuracy: 92.47% \t Test Loss: 1.09503     Test Accuracy: 70.23%\n",
      "Epoch [ 59/100] \t Loss: 0.24408     Accuracy: 92.69% \t Test Loss: 1.15683     Test Accuracy: 70.58%\n",
      "Epoch [ 60/100] \t Loss: 0.26487     Accuracy: 92.09% \t Test Loss: 1.15175     Test Accuracy: 70.39%\n",
      "Epoch [ 61/100] \t Loss: 0.24567     Accuracy: 92.56% \t Test Loss: 1.06065     Test Accuracy: 71.68%\n",
      "Epoch [ 62/100] \t Loss: 0.24826     Accuracy: 92.68% \t Test Loss: 1.12619     Test Accuracy: 70.12%\n",
      "Epoch [ 63/100] \t Loss: 0.26322     Accuracy: 92.25% \t Test Loss: 1.17139     Test Accuracy: 70.16%\n",
      "Epoch [ 64/100] \t Loss: 0.26704     Accuracy: 92.07% \t Test Loss: 1.15530     Test Accuracy: 71.00%\n",
      "Epoch [ 65/100] \t Loss: 0.24542     Accuracy: 92.86% \t Test Loss: 1.13806     Test Accuracy: 70.60%\n",
      "Epoch [ 66/100] \t Loss: 0.22397     Accuracy: 93.44% \t Test Loss: 1.14767     Test Accuracy: 71.55%\n",
      "Epoch [ 67/100] \t Loss: 0.22482     Accuracy: 93.54% \t Test Loss: 1.17731     Test Accuracy: 71.44%\n",
      "Epoch [ 68/100] \t Loss: 0.23956     Accuracy: 93.19% \t Test Loss: 1.11816     Test Accuracy: 70.52%\n",
      "Epoch [ 69/100] \t Loss: 0.23906     Accuracy: 93.00% \t Test Loss: 1.14416     Test Accuracy: 70.48%\n",
      "Epoch [ 70/100] \t Loss: 0.24968     Accuracy: 92.88% \t Test Loss: 1.11611     Test Accuracy: 71.37%\n",
      "Epoch [ 71/100] \t Loss: 0.22572     Accuracy: 93.51% \t Test Loss: 1.07534     Test Accuracy: 71.61%\n",
      "Epoch [ 72/100] \t Loss: 0.22197     Accuracy: 93.53% \t Test Loss: 1.11186     Test Accuracy: 70.98%\n",
      "Epoch [ 73/100] \t Loss: 0.22645     Accuracy: 93.53% \t Test Loss: 1.14510     Test Accuracy: 70.96%\n",
      "Epoch [ 74/100] \t Loss: 0.26174     Accuracy: 92.66% \t Test Loss: 1.06665     Test Accuracy: 71.12%\n",
      "Epoch [ 75/100] \t Loss: 0.22753     Accuracy: 93.58% \t Test Loss: 1.12963     Test Accuracy: 71.55%\n",
      "Epoch [ 76/100] \t Loss: 0.20646     Accuracy: 94.18% \t Test Loss: 1.16519     Test Accuracy: 71.05%\n",
      "Epoch [ 77/100] \t Loss: 0.23284     Accuracy: 93.66% \t Test Loss: 1.08384     Test Accuracy: 71.24%\n",
      "Epoch [ 78/100] \t Loss: 0.20920     Accuracy: 94.10% \t Test Loss: 1.17370     Test Accuracy: 71.02%\n",
      "Epoch [ 79/100] \t Loss: 0.22854     Accuracy: 93.46% \t Test Loss: 1.17109     Test Accuracy: 71.60%\n",
      "Epoch [ 80/100] \t Loss: 0.20143     Accuracy: 94.44% \t Test Loss: 1.18017     Test Accuracy: 71.68%\n",
      "Epoch [ 81/100] \t Loss: 0.20859     Accuracy: 94.22% \t Test Loss: 1.14662     Test Accuracy: 71.78%\n",
      "Epoch [ 82/100] \t Loss: 0.23237     Accuracy: 93.59% \t Test Loss: 1.15957     Test Accuracy: 70.13%\n",
      "Epoch [ 83/100] \t Loss: 0.21962     Accuracy: 94.06% \t Test Loss: 1.20996     Test Accuracy: 71.75%\n",
      "Epoch [ 84/100] \t Loss: 0.27421     Accuracy: 92.79% \t Test Loss: 1.15445     Test Accuracy: 71.80%\n",
      "Epoch [ 85/100] \t Loss: 0.22256     Accuracy: 94.10% \t Test Loss: 1.19539     Test Accuracy: 70.63%\n",
      "Epoch [ 86/100] \t Loss: 0.21288     Accuracy: 94.37% \t Test Loss: 1.12235     Test Accuracy: 70.26%\n",
      "Epoch [ 87/100] \t Loss: 0.22899     Accuracy: 93.80% \t Test Loss: 1.16397     Test Accuracy: 71.60%\n",
      "Epoch [ 88/100] \t Loss: 0.21854     Accuracy: 94.16% \t Test Loss: 1.18073     Test Accuracy: 71.77%\n",
      "Epoch [ 89/100] \t Loss: 0.19840     Accuracy: 94.77% \t Test Loss: 1.13680     Test Accuracy: 71.23%\n",
      "Epoch [ 90/100] \t Loss: 0.20858     Accuracy: 94.39% \t Test Loss: 1.15358     Test Accuracy: 71.27%\n",
      "Epoch [ 91/100] \t Loss: 0.21049     Accuracy: 94.40% \t Test Loss: 1.18908     Test Accuracy: 71.75%\n",
      "Epoch [ 92/100] \t Loss: 0.20160     Accuracy: 94.71% \t Test Loss: 1.10410     Test Accuracy: 71.99%\n",
      "Epoch [ 93/100] \t Loss: 0.21723     Accuracy: 94.26% \t Test Loss: 1.14854     Test Accuracy: 71.41%\n",
      "Epoch [ 94/100] \t Loss: 0.21374     Accuracy: 94.30% \t Test Loss: 1.15749     Test Accuracy: 71.75%\n",
      "Epoch [ 95/100] \t Loss: 0.22327     Accuracy: 94.36% \t Test Loss: 1.17968     Test Accuracy: 71.52%\n",
      "Epoch [ 96/100] \t Loss: 0.20965     Accuracy: 94.56% \t Test Loss: 1.19386     Test Accuracy: 71.67%\n",
      "Epoch [ 97/100] \t Loss: 0.20890     Accuracy: 94.66% \t Test Loss: 1.13591     Test Accuracy: 71.74%\n",
      "Epoch [ 98/100] \t Loss: 0.35262     Accuracy: 91.83% \t Test Loss: 1.17069     Test Accuracy: 71.94%\n",
      "Epoch [ 99/100] \t Loss: 0.21409     Accuracy: 94.41% \t Test Loss: 1.43753     Test Accuracy: 68.52%\n",
      "Epoch [100/100] \t Loss: 0.20425     Accuracy: 94.61% \t Test Loss: 1.18336     Test Accuracy: 71.14%\n"
     ]
    }
   ],
   "source": [
    "# train\n",
    "for epoch in range(max_epoch):\n",
    "    model.train()\n",
    "    running_loss = 0.0\n",
    "    running_correct = 0   # to track number of correct predictions\n",
    "    total = 0             # to track total number of samples\n",
    "\n",
    "    for i, (inputs, labels) in enumerate(trainloader, 0):\n",
    "        # Move inputs and labels to the device\n",
    "        inputs, labels = inputs.to(device), labels.to(device)\n",
    "\n",
    "        # Zero the parameter gradients\n",
    "        optimizer.zero_grad()\n",
    "\n",
    "        # Forward pass\n",
    "        outputs = model(inputs)\n",
    "        loss = criterion(outputs, labels)\n",
    "        running_loss += loss.item()\n",
    "\n",
    "        # Backward pass and optimization\n",
    "        loss.backward()\n",
    "        optimizer.step()  \n",
    "    \n",
    "        # Determine class predictions and track accuracy\n",
    "        _, predicted = torch.max(outputs.data, 1)\n",
    "        total += labels.size(0)\n",
    "        running_correct += (predicted == labels).sum().item()\n",
    "\n",
    "\n",
    "    epoch_accuracy = 100 * running_correct / total\n",
    "    epoch_loss = running_loss / (i + 1)\n",
    "    \n",
    "    test_loss, test_accuracy = evaluate(model, testloader, criterion)\n",
    "    print(f\"Epoch [{(epoch + 1):3}/{max_epoch:3}] \\t Loss: {epoch_loss:<11.5f} Accuracy: {epoch_accuracy:.2f}% \\t Test Loss: {test_loss:<11.5f} Test Accuracy: {test_accuracy:.2f}%\")\n",
    "    \n",
    "    # save for plot\n",
    "    train_losses.append(epoch_loss)\n",
    "    train_accuracies.append(epoch_accuracy)\n",
    "    test_losses.append(test_loss)\n",
    "    test_accuracies.append(test_accuracy)"
   ]
  },
  {
   "cell_type": "code",
   "execution_count": 9,
   "id": "cebcb439-88f2-40b6-9a17-4990ad324731",
   "metadata": {},
   "outputs": [
    {
     "name": "stdout",
     "output_type": "stream",
     "text": [
      "\n",
      "Best epoch: 92 with test accuracy: 71.99%\n"
     ]
    }
   ],
   "source": [
    "# the best accuracy\n",
    "best_epoch = np.argmax(test_accuracies)\n",
    "print(f\"\\nBest epoch: {best_epoch + 1} with test accuracy: {test_accuracies[best_epoch]:.2f}%\")"
   ]
  },
  {
   "cell_type": "markdown",
   "metadata": {},
   "source": [
    "# Plot results"
   ]
  },
  {
   "cell_type": "code",
   "execution_count": 10,
   "id": "DkC3_902Lgn-",
   "metadata": {
    "executionInfo": {
     "elapsed": 3,
     "status": "ok",
     "timestamp": 1673091684322,
     "user": {
      "displayName": "Thắng Dương Đình",
      "userId": "02196529682032971345"
     },
     "user_tz": -420
    },
    "id": "DkC3_902Lgn-"
   },
   "outputs": [
    {
     "data": {
      "text/plain": [
       "<matplotlib.legend.Legend at 0x7f248fbdc400>"
      ]
     },
     "execution_count": 10,
     "metadata": {},
     "output_type": "execute_result"
    },
    {
     "data": {
      "image/png": "[encoded data removed]",
      "text/plain": [
       "<Figure size 640x480 with 1 Axes>"
      ]
     },
     "metadata": {},
     "output_type": "display_data"
    }
   ],
   "source": [
    "plt.plot(train_losses, label='train_losses')\n",
    "plt.plot(test_losses, label='test_losses')\n",
    "plt.legend()"
   ]
  },
  {
   "cell_type": "code",
   "execution_count": 11,
   "id": "794f4e81",
   "metadata": {
    "executionInfo": {
     "elapsed": 8,
     "status": "ok",
     "timestamp": 1673092872464,
     "user": {
      "displayName": "Thắng Dương Đình",
      "userId": "02196529682032971345"
     },
     "user_tz": -420
    },
    "id": "794f4e81"
   },
   "outputs": [
    {
     "data": {
      "text/plain": [
       "<matplotlib.legend.Legend at 0x7f248f92e100>"
      ]
     },
     "execution_count": 11,
     "metadata": {},
     "output_type": "execute_result"
    },
    {
     "data": {
      "image/png": "[encoded data removed]",
      "text/plain": [
       "<Figure size 640x480 with 1 Axes>"
      ]
     },
     "metadata": {},
     "output_type": "display_data"
    }
   ],
   "source": [
    "plt.plot(train_accuracies, label='train_accuracy')\n",
    "plt.plot(test_accuracies, label='test_accuracy')\n",
    "plt.legend()"
   ]
  },
  {
   "cell_type": "code",
   "execution_count": null,
   "id": "a2ec7c96-ff05-4863-92e7-c45f2f0e3d03",
   "metadata": {},
   "outputs": [],
   "source": []
  },
  {
   "cell_type": "code",
   "execution_count": null,
   "id": "8c86325e-7b6c-43a6-b315-93e02bcdb264",
   "metadata": {},
   "outputs": [],
   "source": []
  }
 ],
 "metadata": {
  "accelerator": "GPU",
  "colab": {
   "provenance": []
  },
  "gpuClass": "standard",
  "kernelspec": {
   "display_name": "Python 3 (ipykernel)",
   "language": "python",
   "name": "python3"
  },
  "language_info": {
   "codemirror_mode": {
    "name": "ipython",
    "version": 3
   },
   "file_extension": ".py",
   "mimetype": "text/x-python",
   "name": "python",
   "nbconvert_exporter": "python",
   "pygments_lexer": "ipython3",
   "version": "3.8.0"
  },
  "widgets": {
   "application/vnd.jupyter.widget-state+json": {
    "00397590a13d454d8b16fd8d15ae9b41": {
     "model_module": "@jupyter-widgets/controls",
     "model_module_version": "1.5.0",
     "model_name": "DescriptionStyleModel",
     "state": {
      "_model_module": "@jupyter-widgets/controls",
      "_model_module_version": "1.5.0",
      "_model_name": "DescriptionStyleModel",
      "_view_count": null,
      "_view_module": "@jupyter-widgets/base",
      "_view_module_version": "1.2.0",
      "_view_name": "StyleView",
      "description_width": ""
     }
    },
    "0a3d339ba81a4f22b893250502c493af": {
     "model_module": "@jupyter-widgets/base",
     "model_module_version": "1.2.0",
     "model_name": "LayoutModel",
     "state": {
      "_model_module": "@jupyter-widgets/base",
      "_model_module_version": "1.2.0",
      "_model_name": "LayoutModel",
      "_view_count": null,
      "_view_module": "@jupyter-widgets/base",
      "_view_module_version": "1.2.0",
      "_view_name": "LayoutView",
      "align_content": null,
      "align_items": null,
      "align_self": null,
      "border": null,
      "bottom": null,
      "display": null,
      "flex": null,
      "flex_flow": null,
      "grid_area": null,
      "grid_auto_columns": null,
      "grid_auto_flow": null,
      "grid_auto_rows": null,
      "grid_column": null,
      "grid_gap": null,
      "grid_row": null,
      "grid_template_areas": null,
      "grid_template_columns": null,
      "grid_template_rows": null,
      "height": null,
      "justify_content": null,
      "justify_items": null,
      "left": null,
      "margin": null,
      "max_height": null,
      "max_width": null,
      "min_height": null,
      "min_width": null,
      "object_fit": null,
      "object_position": null,
      "order": null,
      "overflow": null,
      "overflow_x": null,
      "overflow_y": null,
      "padding": null,
      "right": null,
      "top": null,
      "visibility": null,
      "width": null
     }
    },
    "4691e220a8cb466bb46540f16f65e864": {
     "model_module": "@jupyter-widgets/controls",
     "model_module_version": "1.5.0",
     "model_name": "ProgressStyleModel",
     "state": {
      "_model_module": "@jupyter-widgets/controls",
      "_model_module_version": "1.5.0",
      "_model_name": "ProgressStyleModel",
      "_view_count": null,
      "_view_module": "@jupyter-widgets/base",
      "_view_module_version": "1.2.0",
      "_view_name": "StyleView",
      "bar_color": null,
      "description_width": ""
     }
    },
    "56c90ad0a7fb47d08727a7dac3f68f39": {
     "model_module": "@jupyter-widgets/base",
     "model_module_version": "1.2.0",
     "model_name": "LayoutModel",
     "state": {
      "_model_module": "@jupyter-widgets/base",
      "_model_module_version": "1.2.0",
      "_model_name": "LayoutModel",
      "_view_count": null,
      "_view_module": "@jupyter-widgets/base",
      "_view_module_version": "1.2.0",
      "_view_name": "LayoutView",
      "align_content": null,
      "align_items": null,
      "align_self": null,
      "border": null,
      "bottom": null,
      "display": null,
      "flex": null,
      "flex_flow": null,
      "grid_area": null,
      "grid_auto_columns": null,
      "grid_auto_flow": null,
      "grid_auto_rows": null,
      "grid_column": null,
      "grid_gap": null,
      "grid_row": null,
      "grid_template_areas": null,
      "grid_template_columns": null,
      "grid_template_rows": null,
      "height": null,
      "justify_content": null,
      "justify_items": null,
      "left": null,
      "margin": null,
      "max_height": null,
      "max_width": null,
      "min_height": null,
      "min_width": null,
      "object_fit": null,
      "object_position": null,
      "order": null,
      "overflow": null,
      "overflow_x": null,
      "overflow_y": null,
      "padding": null,
      "right": null,
      "top": null,
      "visibility": null,
      "width": null
     }
    },
    "619c9ef51fc5497f81b4af88db9214cc": {
     "model_module": "@jupyter-widgets/controls",
     "model_module_version": "1.5.0",
     "model_name": "DescriptionStyleModel",
     "state": {
      "_model_module": "@jupyter-widgets/controls",
      "_model_module_version": "1.5.0",
      "_model_name": "DescriptionStyleModel",
      "_view_count": null,
      "_view_module": "@jupyter-widgets/base",
      "_view_module_version": "1.2.0",
      "_view_name": "StyleView",
      "description_width": ""
     }
    },
    "7c95c188ecf242de9776dcfd3e3fc8d2": {
     "model_module": "@jupyter-widgets/base",
     "model_module_version": "1.2.0",
     "model_name": "LayoutModel",
     "state": {
      "_model_module": "@jupyter-widgets/base",
      "_model_module_version": "1.2.0",
      "_model_name": "LayoutModel",
      "_view_count": null,
      "_view_module": "@jupyter-widgets/base",
      "_view_module_version": "1.2.0",
      "_view_name": "LayoutView",
      "align_content": null,
      "align_items": null,
      "align_self": null,
      "border": null,
      "bottom": null,
      "display": null,
      "flex": null,
      "flex_flow": null,
      "grid_area": null,
      "grid_auto_columns": null,
      "grid_auto_flow": null,
      "grid_auto_rows": null,
      "grid_column": null,
      "grid_gap": null,
      "grid_row": null,
      "grid_template_areas": null,
      "grid_template_columns": null,
      "grid_template_rows": null,
      "height": null,
      "justify_content": null,
      "justify_items": null,
      "left": null,
      "margin": null,
      "max_height": null,
      "max_width": null,
      "min_height": null,
      "min_width": null,
      "object_fit": null,
      "object_position": null,
      "order": null,
      "overflow": null,
      "overflow_x": null,
      "overflow_y": null,
      "padding": null,
      "right": null,
      "top": null,
      "visibility": null,
      "width": null
     }
    },
    "8a6ed597588f4c07bff4271aeba7c1bb": {
     "model_module": "@jupyter-widgets/controls",
     "model_module_version": "1.5.0",
     "model_name": "HBoxModel",
     "state": {
      "_dom_classes": [],
      "_model_module": "@jupyter-widgets/controls",
      "_model_module_version": "1.5.0",
      "_model_name": "HBoxModel",
      "_view_count": null,
      "_view_module": "@jupyter-widgets/controls",
      "_view_module_version": "1.5.0",
      "_view_name": "HBoxView",
      "box_style": "",
      "children": [
       "IPY_MODEL_e09dd53ac3044e3097ed084354a52e13",
       "IPY_MODEL_8b2a0088b39741f6968c95f40ff787e6",
       "IPY_MODEL_cf5fb8e067be464bb14a1cf5e8b4e2de"
      ],
      "layout": "IPY_MODEL_0a3d339ba81a4f22b893250502c493af"
     }
    },
    "8b2a0088b39741f6968c95f40ff787e6": {
     "model_module": "@jupyter-widgets/controls",
     "model_module_version": "1.5.0",
     "model_name": "FloatProgressModel",
     "state": {
      "_dom_classes": [],
      "_model_module": "@jupyter-widgets/controls",
      "_model_module_version": "1.5.0",
      "_model_name": "FloatProgressModel",
      "_view_count": null,
      "_view_module": "@jupyter-widgets/controls",
      "_view_module_version": "1.5.0",
      "_view_name": "ProgressView",
      "bar_style": "success",
      "description": "",
      "description_tooltip": null,
      "layout": "IPY_MODEL_56c90ad0a7fb47d08727a7dac3f68f39",
      "max": 170498071,
      "min": 0,
      "orientation": "horizontal",
      "style": "IPY_MODEL_4691e220a8cb466bb46540f16f65e864",
      "value": 170498071
     }
    },
    "cf5fb8e067be464bb14a1cf5e8b4e2de": {
     "model_module": "@jupyter-widgets/controls",
     "model_module_version": "1.5.0",
     "model_name": "HTMLModel",
     "state": {
      "_dom_classes": [],
      "_model_module": "@jupyter-widgets/controls",
      "_model_module_version": "1.5.0",
      "_model_name": "HTMLModel",
      "_view_count": null,
      "_view_module": "@jupyter-widgets/controls",
      "_view_module_version": "1.5.0",
      "_view_name": "HTMLView",
      "description": "",
      "description_tooltip": null,
      "layout": "IPY_MODEL_7c95c188ecf242de9776dcfd3e3fc8d2",
      "placeholder": "​",
      "style": "IPY_MODEL_619c9ef51fc5497f81b4af88db9214cc",
      "value": " 170498071/170498071 [00:01&lt;00:00, 97303096.82it/s]"
     }
    },
    "e09dd53ac3044e3097ed084354a52e13": {
     "model_module": "@jupyter-widgets/controls",
     "model_module_version": "1.5.0",
     "model_name": "HTMLModel",
     "state": {
      "_dom_classes": [],
      "_model_module": "@jupyter-widgets/controls",
      "_model_module_version": "1.5.0",
      "_model_name": "HTMLModel",
      "_view_count": null,
      "_view_module": "@jupyter-widgets/controls",
      "_view_module_version": "1.5.0",
      "_view_name": "HTMLView",
      "description": "",
      "description_tooltip": null,
      "layout": "IPY_MODEL_f4c44a600db84290a51877583e18ee26",
      "placeholder": "​",
      "style": "IPY_MODEL_00397590a13d454d8b16fd8d15ae9b41",
      "value": "100%"
     }
    },
    "f4c44a600db84290a51877583e18ee26": {
     "model_module": "@jupyter-widgets/base",
     "model_module_version": "1.2.0",
     "model_name": "LayoutModel",
     "state": {
      "_model_module": "@jupyter-widgets/base",
      "_model_module_version": "1.2.0",
      "_model_name": "LayoutModel",
      "_view_count": null,
      "_view_module": "@jupyter-widgets/base",
      "_view_module_version": "1.2.0",
      "_view_name": "LayoutView",
      "align_content": null,
      "align_items": null,
      "align_self": null,
      "border": null,
      "bottom": null,
      "display": null,
      "flex": null,
      "flex_flow": null,
      "grid_area": null,
      "grid_auto_columns": null,
      "grid_auto_flow": null,
      "grid_auto_rows": null,
      "grid_column": null,
      "grid_gap": null,
      "grid_row": null,
      "grid_template_areas": null,
      "grid_template_columns": null,
      "grid_template_rows": null,
      "height": null,
      "justify_content": null,
      "justify_items": null,
      "left": null,
      "margin": null,
      "max_height": null,
      "max_width": null,
      "min_height": null,
      "min_width": null,
      "object_fit": null,
      "object_position": null,
      "order": null,
      "overflow": null,
      "overflow_x": null,
      "overflow_y": null,
      "padding": null,
      "right": null,
      "top": null,
      "visibility": null,
      "width": null
     }
    }
   }
  }
 },
 "nbformat": 4,
 "nbformat_minor": 5
}
