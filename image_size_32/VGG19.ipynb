{
 "cells": [
  {
   "cell_type": "code",
   "execution_count": 1,
   "id": "d4e45a49-974f-4f9c-8642-42e2c45aab71",
   "metadata": {},
   "outputs": [],
   "source": [
    "import os\n",
    "os.environ['CUDA_VISIBLE_DEVICES'] = '3'\n",
    "\n",
    "import torch\n",
    "import torchvision.transforms as transforms\n",
    "import torch.nn as nn\n",
    "import torch.nn.functional as F\n",
    "\n",
    "import numpy as np\n",
    "import matplotlib.pyplot as plt\n",
    "\n",
    "from torchvision.datasets import CIFAR10\n",
    "from torch.utils.data import DataLoader \n",
    "from torch.optim import Adam\n",
    "import torchvision\n",
    "import torchvision.models as models\n",
    "from torchsummary import summary\n",
    "\n",
    "torch.manual_seed(1)\n",
    "device = 'cuda' if torch.cuda.is_available() else 'cpu'"
   ]
  },
  {
   "cell_type": "code",
   "execution_count": null,
   "metadata": {},
   "outputs": [],
   "source": []
  },
  {
   "cell_type": "markdown",
   "id": "f913360b-019e-4d69-a540-b7b5715544e1",
   "metadata": {},
   "source": [
    "## Data"
   ]
  },
  {
   "cell_type": "code",
   "execution_count": 2,
   "id": "3ad21976-2d99-49b7-b0b5-84e9ebcd371e",
   "metadata": {},
   "outputs": [
    {
     "name": "stdout",
     "output_type": "stream",
     "text": [
      "Files already downloaded and verified\n",
      "Files already downloaded and verified\n"
     ]
    }
   ],
   "source": [
    "batch_size = 256\n",
    "train_transform = transforms.Compose(\n",
    "    [\n",
    "        transforms.ToTensor(),\n",
    "        transforms.Normalize([0.4914, 0.4822, 0.4465], \n",
    "                             [0.2470, 0.2435, 0.2616]),\n",
    "    ])\n",
    "\n",
    "val_transform = transforms.Compose(\n",
    "    [\n",
    "        transforms.ToTensor(),\n",
    "        transforms.Normalize([0.4914, 0.4822, 0.4465], \n",
    "                             [0.2470, 0.2435, 0.2616])\n",
    "    ])\n",
    "\n",
    "train_set = CIFAR10(\n",
    "    root='./data', \n",
    "    train=True,\n",
    "    download=True, \n",
    "    transform=train_transform\n",
    ")\n",
    "\n",
    "val_set = CIFAR10(\n",
    "    root='./data', \n",
    "    train=False,\n",
    "    download=True, \n",
    "    transform=val_transform\n",
    ")\n",
    "\n",
    "trainloader = DataLoader(\n",
    "    train_set, \n",
    "    batch_size=batch_size,\n",
    "    shuffle=True,\n",
    "    num_workers=4,\n",
    ")\n",
    "\n",
    "testloader = DataLoader(\n",
    "    val_set, \n",
    "    batch_size=batch_size,\n",
    "    shuffle=False, \n",
    "    num_workers=4,\n",
    ")"
   ]
  },
  {
   "cell_type": "code",
   "execution_count": null,
   "id": "cf229497-4b6e-443d-b330-66b6fa139fcd",
   "metadata": {},
   "outputs": [],
   "source": []
  },
  {
   "cell_type": "markdown",
   "id": "6ea0dde8-29e7-4096-bd15-6a5ed74655f0",
   "metadata": {},
   "source": [
    "## Model"
   ]
  },
  {
   "cell_type": "code",
   "execution_count": 3,
   "metadata": {},
   "outputs": [],
   "source": [
    "from torchvision.models import vgg19\n",
    "model = vgg19()\n",
    "model.classifier[-1] = nn.Linear(in_features=4096, out_features=10)\n",
    "\n",
    "model = model.to(device)"
   ]
  },
  {
   "cell_type": "code",
   "execution_count": 4,
   "id": "c8516821-d41b-42a8-9e51-ddfb8f9ec87e",
   "metadata": {},
   "outputs": [
    {
     "name": "stdout",
     "output_type": "stream",
     "text": [
      "----------------------------------------------------------------\n",
      "        Layer (type)               Output Shape         Param #\n",
      "================================================================\n",
      "            Conv2d-1           [-1, 64, 32, 32]           1,792\n",
      "              ReLU-2           [-1, 64, 32, 32]               0\n",
      "            Conv2d-3           [-1, 64, 32, 32]          36,928\n",
      "              ReLU-4           [-1, 64, 32, 32]               0\n",
      "         MaxPool2d-5           [-1, 64, 16, 16]               0\n",
      "            Conv2d-6          [-1, 128, 16, 16]          73,856\n",
      "              ReLU-7          [-1, 128, 16, 16]               0\n",
      "            Conv2d-8          [-1, 128, 16, 16]         147,584\n",
      "              ReLU-9          [-1, 128, 16, 16]               0\n",
      "        MaxPool2d-10            [-1, 128, 8, 8]               0\n",
      "           Conv2d-11            [-1, 256, 8, 8]         295,168\n",
      "             ReLU-12            [-1, 256, 8, 8]               0\n",
      "           Conv2d-13            [-1, 256, 8, 8]         590,080\n",
      "             ReLU-14            [-1, 256, 8, 8]               0\n",
      "           Conv2d-15            [-1, 256, 8, 8]         590,080\n",
      "             ReLU-16            [-1, 256, 8, 8]               0\n",
      "           Conv2d-17            [-1, 256, 8, 8]         590,080\n",
      "             ReLU-18            [-1, 256, 8, 8]               0\n",
      "        MaxPool2d-19            [-1, 256, 4, 4]               0\n",
      "           Conv2d-20            [-1, 512, 4, 4]       1,180,160\n",
      "             ReLU-21            [-1, 512, 4, 4]               0\n",
      "           Conv2d-22            [-1, 512, 4, 4]       2,359,808\n",
      "             ReLU-23            [-1, 512, 4, 4]               0\n",
      "           Conv2d-24            [-1, 512, 4, 4]       2,359,808\n",
      "             ReLU-25            [-1, 512, 4, 4]               0\n",
      "           Conv2d-26            [-1, 512, 4, 4]       2,359,808\n",
      "             ReLU-27            [-1, 512, 4, 4]               0\n",
      "        MaxPool2d-28            [-1, 512, 2, 2]               0\n",
      "           Conv2d-29            [-1, 512, 2, 2]       2,359,808\n",
      "             ReLU-30            [-1, 512, 2, 2]               0\n",
      "           Conv2d-31            [-1, 512, 2, 2]       2,359,808\n",
      "             ReLU-32            [-1, 512, 2, 2]               0\n",
      "           Conv2d-33            [-1, 512, 2, 2]       2,359,808\n",
      "             ReLU-34            [-1, 512, 2, 2]               0\n",
      "           Conv2d-35            [-1, 512, 2, 2]       2,359,808\n",
      "             ReLU-36            [-1, 512, 2, 2]               0\n",
      "        MaxPool2d-37            [-1, 512, 1, 1]               0\n",
      "AdaptiveAvgPool2d-38            [-1, 512, 7, 7]               0\n",
      "           Linear-39                 [-1, 4096]     102,764,544\n",
      "             ReLU-40                 [-1, 4096]               0\n",
      "          Dropout-41                 [-1, 4096]               0\n",
      "           Linear-42                 [-1, 4096]      16,781,312\n",
      "             ReLU-43                 [-1, 4096]               0\n",
      "          Dropout-44                 [-1, 4096]               0\n",
      "           Linear-45                   [-1, 10]          40,970\n",
      "================================================================\n",
      "Total params: 139,611,210\n",
      "Trainable params: 139,611,210\n",
      "Non-trainable params: 0\n",
      "----------------------------------------------------------------\n",
      "Input size (MB): 0.01\n",
      "Forward/backward pass size (MB): 5.24\n",
      "Params size (MB): 532.57\n",
      "Estimated Total Size (MB): 537.83\n",
      "----------------------------------------------------------------\n"
     ]
    }
   ],
   "source": [
    "summary(model, (3, 32, 32))"
   ]
  },
  {
   "cell_type": "markdown",
   "id": "43c7b151-a199-4e2a-8015-fdfb5f166284",
   "metadata": {},
   "source": [
    "# Train"
   ]
  },
  {
   "cell_type": "code",
   "execution_count": 5,
   "id": "1464e2bd-b627-475d-9941-f2a930d69a14",
   "metadata": {},
   "outputs": [],
   "source": [
    "criterion = nn.CrossEntropyLoss()\n",
    "optimizer = Adam(model.parameters(), lr=2e-4)"
   ]
  },
  {
   "cell_type": "code",
   "execution_count": 6,
   "id": "04744c84-1e6d-4bfb-8dd5-abbdc91f102e",
   "metadata": {},
   "outputs": [],
   "source": [
    "# Function to compute loss and accuracy for test set\n",
    "def evaluate(model, testloader, criterion):\n",
    "    model.eval()\n",
    "    test_loss = 0.0\n",
    "    running_correct = 0\n",
    "    total = 0\n",
    "    with torch.no_grad():\n",
    "        for images, labels in testloader:\n",
    "            # Move inputs and labels to the device\n",
    "            images, labels = images.to(device), labels.to(device)\n",
    "\n",
    "            outputs = model(images)\n",
    "            loss = criterion(outputs, labels)\n",
    "            test_loss += loss.item()\n",
    "            \n",
    "            _, predicted = torch.max(outputs.data, 1)\n",
    "            total += labels.size(0)\n",
    "            running_correct += (predicted == labels).sum().item()\n",
    "\n",
    "    accuracy = 100 * running_correct / total\n",
    "    test_loss = test_loss / len(testloader)\n",
    "    return test_loss, accuracy"
   ]
  },
  {
   "cell_type": "code",
   "execution_count": 7,
   "id": "f2402591-e7f7-4bdd-8962-c029cfcd9307",
   "metadata": {},
   "outputs": [],
   "source": [
    "# some parameter\n",
    "train_losses = []\n",
    "train_accuracies = []\n",
    "test_losses = []\n",
    "test_accuracies = []\n",
    "max_epoch = 150"
   ]
  },
  {
   "cell_type": "code",
   "execution_count": 8,
   "id": "190a58e1-0864-4818-a8d2-0f83212c6d13",
   "metadata": {},
   "outputs": [
    {
     "name": "stdout",
     "output_type": "stream",
     "text": [
      "Epoch [  1/150] \t Loss: 1.99650     Accuracy: 19.03% \t Test Loss: 1.73308     Test Accuracy: 27.86%\n",
      "Epoch [  2/150] \t Loss: 1.60129     Accuracy: 35.45% \t Test Loss: 1.41513     Test Accuracy: 46.01%\n",
      "Epoch [  3/150] \t Loss: 1.28077     Accuracy: 51.93% \t Test Loss: 1.17325     Test Accuracy: 58.24%\n",
      "Epoch [  4/150] \t Loss: 1.03467     Accuracy: 62.66% \t Test Loss: 1.05806     Test Accuracy: 63.16%\n",
      "Epoch [  5/150] \t Loss: 0.86411     Accuracy: 69.45% \t Test Loss: 0.97890     Test Accuracy: 66.35%\n",
      "Epoch [  6/150] \t Loss: 0.71824     Accuracy: 74.75% \t Test Loss: 0.95577     Test Accuracy: 67.70%\n",
      "Epoch [  7/150] \t Loss: 0.59185     Accuracy: 79.45% \t Test Loss: 0.87608     Test Accuracy: 72.02%\n",
      "Epoch [  8/150] \t Loss: 0.49180     Accuracy: 82.91% \t Test Loss: 0.95698     Test Accuracy: 70.00%\n",
      "Epoch [  9/150] \t Loss: 0.40486     Accuracy: 86.15% \t Test Loss: 0.91545     Test Accuracy: 72.06%\n",
      "Epoch [ 10/150] \t Loss: 0.32454     Accuracy: 89.02% \t Test Loss: 0.90725     Test Accuracy: 73.16%\n",
      "Epoch [ 11/150] \t Loss: 0.27043     Accuracy: 90.91% \t Test Loss: 1.03457     Test Accuracy: 74.16%\n",
      "Epoch [ 12/150] \t Loss: 0.21763     Accuracy: 92.81% \t Test Loss: 1.01838     Test Accuracy: 74.18%\n",
      "Epoch [ 13/150] \t Loss: 0.18392     Accuracy: 93.97% \t Test Loss: 1.05559     Test Accuracy: 74.86%\n",
      "Epoch [ 14/150] \t Loss: 0.15327     Accuracy: 95.12% \t Test Loss: 1.14885     Test Accuracy: 73.89%\n",
      "Epoch [ 15/150] \t Loss: 0.14651     Accuracy: 95.29% \t Test Loss: 1.27769     Test Accuracy: 74.35%\n",
      "Epoch [ 16/150] \t Loss: 0.12223     Accuracy: 96.04% \t Test Loss: 1.22971     Test Accuracy: 74.02%\n",
      "Epoch [ 17/150] \t Loss: 0.10980     Accuracy: 96.57% \t Test Loss: 1.23657     Test Accuracy: 73.44%\n",
      "Epoch [ 18/150] \t Loss: 0.09838     Accuracy: 96.84% \t Test Loss: 1.34760     Test Accuracy: 74.63%\n",
      "Epoch [ 19/150] \t Loss: 0.08236     Accuracy: 97.35% \t Test Loss: 1.32985     Test Accuracy: 74.13%\n",
      "Epoch [ 20/150] \t Loss: 0.08974     Accuracy: 97.16% \t Test Loss: 1.17817     Test Accuracy: 75.00%\n",
      "Epoch [ 21/150] \t Loss: 0.08127     Accuracy: 97.42% \t Test Loss: 1.29610     Test Accuracy: 73.56%\n",
      "Epoch [ 22/150] \t Loss: 0.07353     Accuracy: 97.67% \t Test Loss: 1.26860     Test Accuracy: 74.57%\n",
      "Epoch [ 23/150] \t Loss: 0.07522     Accuracy: 97.60% \t Test Loss: 1.35803     Test Accuracy: 75.31%\n",
      "Epoch [ 24/150] \t Loss: 0.06478     Accuracy: 98.00% \t Test Loss: 1.36378     Test Accuracy: 75.72%\n",
      "Epoch [ 25/150] \t Loss: 0.05668     Accuracy: 98.18% \t Test Loss: 1.22837     Test Accuracy: 75.48%\n",
      "Epoch [ 26/150] \t Loss: 0.05874     Accuracy: 98.15% \t Test Loss: 1.38207     Test Accuracy: 74.77%\n",
      "Epoch [ 27/150] \t Loss: 0.05720     Accuracy: 98.29% \t Test Loss: 1.30265     Test Accuracy: 76.12%\n",
      "Epoch [ 28/150] \t Loss: 0.05608     Accuracy: 98.26% \t Test Loss: 1.38267     Test Accuracy: 75.23%\n",
      "Epoch [ 29/150] \t Loss: 0.05797     Accuracy: 98.26% \t Test Loss: 1.23794     Test Accuracy: 75.17%\n",
      "Epoch [ 30/150] \t Loss: 0.06540     Accuracy: 98.04% \t Test Loss: 1.27436     Test Accuracy: 75.48%\n",
      "Epoch [ 31/150] \t Loss: 0.04646     Accuracy: 98.61% \t Test Loss: 1.51163     Test Accuracy: 75.87%\n",
      "Epoch [ 32/150] \t Loss: 0.05562     Accuracy: 98.35% \t Test Loss: 1.33406     Test Accuracy: 74.54%\n",
      "Epoch [ 33/150] \t Loss: 0.05634     Accuracy: 98.31% \t Test Loss: 1.24870     Test Accuracy: 74.71%\n",
      "Epoch [ 34/150] \t Loss: 0.04987     Accuracy: 98.42% \t Test Loss: 1.49765     Test Accuracy: 76.12%\n",
      "Epoch [ 35/150] \t Loss: 0.05672     Accuracy: 98.38% \t Test Loss: 1.49100     Test Accuracy: 76.32%\n",
      "Epoch [ 36/150] \t Loss: 0.04802     Accuracy: 98.56% \t Test Loss: 1.57215     Test Accuracy: 76.13%\n",
      "Epoch [ 37/150] \t Loss: 0.04939     Accuracy: 98.55% \t Test Loss: 1.51820     Test Accuracy: 74.28%\n",
      "Epoch [ 38/150] \t Loss: 0.05528     Accuracy: 98.36% \t Test Loss: 1.65305     Test Accuracy: 75.85%\n",
      "Epoch [ 39/150] \t Loss: 0.04136     Accuracy: 98.78% \t Test Loss: 1.37062     Test Accuracy: 76.85%\n",
      "Epoch [ 40/150] \t Loss: 0.05120     Accuracy: 98.50% \t Test Loss: 1.66025     Test Accuracy: 75.22%\n",
      "Epoch [ 41/150] \t Loss: 0.04112     Accuracy: 98.76% \t Test Loss: 1.40308     Test Accuracy: 76.54%\n",
      "Epoch [ 42/150] \t Loss: 0.03714     Accuracy: 98.95% \t Test Loss: 1.62162     Test Accuracy: 76.32%\n",
      "Epoch [ 43/150] \t Loss: 0.05108     Accuracy: 98.62% \t Test Loss: 1.41989     Test Accuracy: 75.59%\n",
      "Epoch [ 44/150] \t Loss: 0.04243     Accuracy: 98.80% \t Test Loss: 1.59634     Test Accuracy: 76.75%\n",
      "Epoch [ 45/150] \t Loss: 0.02876     Accuracy: 99.17% \t Test Loss: 1.57450     Test Accuracy: 75.97%\n",
      "Epoch [ 46/150] \t Loss: 0.04282     Accuracy: 98.70% \t Test Loss: 1.54158     Test Accuracy: 75.64%\n",
      "Epoch [ 47/150] \t Loss: 0.04634     Accuracy: 98.72% \t Test Loss: 1.45897     Test Accuracy: 76.23%\n",
      "Epoch [ 48/150] \t Loss: 0.03542     Accuracy: 98.93% \t Test Loss: 1.44388     Test Accuracy: 76.63%\n",
      "Epoch [ 49/150] \t Loss: 0.04318     Accuracy: 98.74% \t Test Loss: 1.38190     Test Accuracy: 76.31%\n",
      "Epoch [ 50/150] \t Loss: 0.03454     Accuracy: 99.01% \t Test Loss: 1.50121     Test Accuracy: 76.93%\n",
      "Epoch [ 51/150] \t Loss: 0.04316     Accuracy: 98.75% \t Test Loss: 1.21005     Test Accuracy: 75.79%\n",
      "Epoch [ 52/150] \t Loss: 0.03821     Accuracy: 98.85% \t Test Loss: 1.54424     Test Accuracy: 76.21%\n",
      "Epoch [ 53/150] \t Loss: 0.03783     Accuracy: 98.97% \t Test Loss: 1.41088     Test Accuracy: 76.67%\n",
      "Epoch [ 54/150] \t Loss: 0.03952     Accuracy: 98.88% \t Test Loss: 1.79124     Test Accuracy: 76.45%\n",
      "Epoch [ 55/150] \t Loss: 0.02564     Accuracy: 99.26% \t Test Loss: 1.52773     Test Accuracy: 76.70%\n",
      "Epoch [ 56/150] \t Loss: 0.03872     Accuracy: 98.87% \t Test Loss: 1.47993     Test Accuracy: 76.34%\n",
      "Epoch [ 57/150] \t Loss: 0.03234     Accuracy: 99.05% \t Test Loss: 1.47995     Test Accuracy: 76.71%\n",
      "Epoch [ 58/150] \t Loss: 0.03005     Accuracy: 99.15% \t Test Loss: 1.35508     Test Accuracy: 76.42%\n",
      "Epoch [ 59/150] \t Loss: 0.03526     Accuracy: 99.01% \t Test Loss: 1.44466     Test Accuracy: 77.15%\n",
      "Epoch [ 60/150] \t Loss: 0.03122     Accuracy: 99.06% \t Test Loss: 1.50001     Test Accuracy: 76.25%\n",
      "Epoch [ 61/150] \t Loss: 0.03200     Accuracy: 99.10% \t Test Loss: 1.34999     Test Accuracy: 76.35%\n",
      "Epoch [ 62/150] \t Loss: 0.03297     Accuracy: 99.04% \t Test Loss: 1.55151     Test Accuracy: 77.19%\n",
      "Epoch [ 63/150] \t Loss: 0.03817     Accuracy: 98.93% \t Test Loss: 1.34139     Test Accuracy: 76.63%\n",
      "Epoch [ 64/150] \t Loss: 0.02798     Accuracy: 99.19% \t Test Loss: 1.64261     Test Accuracy: 76.58%\n",
      "Epoch [ 65/150] \t Loss: 0.02939     Accuracy: 99.15% \t Test Loss: 1.48005     Test Accuracy: 76.58%\n",
      "Epoch [ 66/150] \t Loss: 0.02888     Accuracy: 99.14% \t Test Loss: 1.59687     Test Accuracy: 74.04%\n",
      "Epoch [ 67/150] \t Loss: 0.03484     Accuracy: 99.03% \t Test Loss: 1.73845     Test Accuracy: 76.49%\n",
      "Epoch [ 68/150] \t Loss: 0.03617     Accuracy: 99.05% \t Test Loss: 1.49232     Test Accuracy: 77.31%\n",
      "Epoch [ 69/150] \t Loss: 0.02728     Accuracy: 99.18% \t Test Loss: 1.54292     Test Accuracy: 76.81%\n",
      "Epoch [ 70/150] \t Loss: 0.02419     Accuracy: 99.31% \t Test Loss: 1.53933     Test Accuracy: 76.60%\n",
      "Epoch [ 71/150] \t Loss: 0.03174     Accuracy: 99.08% \t Test Loss: 1.51656     Test Accuracy: 76.25%\n",
      "Epoch [ 72/150] \t Loss: 0.02773     Accuracy: 99.16% \t Test Loss: 1.56935     Test Accuracy: 76.85%\n",
      "Epoch [ 73/150] \t Loss: 0.02896     Accuracy: 99.19% \t Test Loss: 1.65991     Test Accuracy: 76.96%\n",
      "Epoch [ 74/150] \t Loss: 0.02745     Accuracy: 99.25% \t Test Loss: 1.62105     Test Accuracy: 76.76%\n",
      "Epoch [ 75/150] \t Loss: 0.02410     Accuracy: 99.33% \t Test Loss: 1.36329     Test Accuracy: 76.68%\n",
      "Epoch [ 76/150] \t Loss: 0.02881     Accuracy: 99.16% \t Test Loss: 1.43670     Test Accuracy: 76.99%\n",
      "Epoch [ 77/150] \t Loss: 0.02496     Accuracy: 99.29% \t Test Loss: 1.61136     Test Accuracy: 77.37%\n",
      "Epoch [ 78/150] \t Loss: 0.02262     Accuracy: 99.34% \t Test Loss: 1.75995     Test Accuracy: 77.81%\n",
      "Epoch [ 79/150] \t Loss: 0.03156     Accuracy: 99.10% \t Test Loss: 1.58069     Test Accuracy: 77.33%\n",
      "Epoch [ 80/150] \t Loss: 0.02355     Accuracy: 99.31% \t Test Loss: 2.20474     Test Accuracy: 77.76%\n",
      "Epoch [ 81/150] \t Loss: 0.01955     Accuracy: 99.41% \t Test Loss: 1.96015     Test Accuracy: 76.92%\n",
      "Epoch [ 82/150] \t Loss: 0.03911     Accuracy: 98.91% \t Test Loss: 1.69439     Test Accuracy: 77.32%\n",
      "Epoch [ 83/150] \t Loss: 0.03078     Accuracy: 99.14% \t Test Loss: 1.68828     Test Accuracy: 76.82%\n",
      "Epoch [ 84/150] \t Loss: 0.01656     Accuracy: 99.47% \t Test Loss: 1.70892     Test Accuracy: 77.10%\n",
      "Epoch [ 85/150] \t Loss: 0.02595     Accuracy: 99.27% \t Test Loss: 1.83973     Test Accuracy: 77.18%\n",
      "Epoch [ 86/150] \t Loss: 0.02429     Accuracy: 99.31% \t Test Loss: 2.03051     Test Accuracy: 77.22%\n",
      "Epoch [ 87/150] \t Loss: 0.02911     Accuracy: 99.18% \t Test Loss: 1.70642     Test Accuracy: 77.08%\n",
      "Epoch [ 88/150] \t Loss: 0.02901     Accuracy: 99.19% \t Test Loss: 1.45541     Test Accuracy: 77.20%\n",
      "Epoch [ 89/150] \t Loss: 0.03100     Accuracy: 99.17% \t Test Loss: 1.59752     Test Accuracy: 77.03%\n",
      "Epoch [ 90/150] \t Loss: 0.01440     Accuracy: 99.60% \t Test Loss: 1.50370     Test Accuracy: 77.59%\n",
      "Epoch [ 91/150] \t Loss: 0.03012     Accuracy: 99.19% \t Test Loss: 1.70213     Test Accuracy: 77.25%\n",
      "Epoch [ 92/150] \t Loss: 0.02390     Accuracy: 99.31% \t Test Loss: 1.62091     Test Accuracy: 77.26%\n",
      "Epoch [ 93/150] \t Loss: 0.02237     Accuracy: 99.39% \t Test Loss: 1.58693     Test Accuracy: 76.90%\n",
      "Epoch [ 94/150] \t Loss: 0.01963     Accuracy: 99.44% \t Test Loss: 2.24499     Test Accuracy: 77.23%\n",
      "Epoch [ 95/150] \t Loss: 0.02372     Accuracy: 99.40% \t Test Loss: 1.63006     Test Accuracy: 77.13%\n",
      "Epoch [ 96/150] \t Loss: 0.02694     Accuracy: 99.23% \t Test Loss: 1.95327     Test Accuracy: 77.78%\n",
      "Epoch [ 97/150] \t Loss: 0.01541     Accuracy: 99.50% \t Test Loss: 2.09357     Test Accuracy: 77.36%\n",
      "Epoch [ 98/150] \t Loss: 0.02776     Accuracy: 99.22% \t Test Loss: 1.57986     Test Accuracy: 77.59%\n",
      "Epoch [ 99/150] \t Loss: 0.02254     Accuracy: 99.35% \t Test Loss: 1.89374     Test Accuracy: 78.37%\n",
      "Epoch [100/150] \t Loss: 0.02162     Accuracy: 99.40% \t Test Loss: 1.69814     Test Accuracy: 77.85%\n",
      "Epoch [101/150] \t Loss: 0.02699     Accuracy: 99.18% \t Test Loss: 1.72721     Test Accuracy: 77.36%\n",
      "Epoch [102/150] \t Loss: 0.02349     Accuracy: 99.35% \t Test Loss: 1.51445     Test Accuracy: 76.55%\n",
      "Epoch [103/150] \t Loss: 0.02732     Accuracy: 99.21% \t Test Loss: 1.68732     Test Accuracy: 77.34%\n",
      "Epoch [104/150] \t Loss: 0.01348     Accuracy: 99.63% \t Test Loss: 2.05450     Test Accuracy: 78.29%\n",
      "Epoch [105/150] \t Loss: 0.04201     Accuracy: 98.90% \t Test Loss: 2.03651     Test Accuracy: 77.18%\n",
      "Epoch [106/150] \t Loss: 0.02344     Accuracy: 99.43% \t Test Loss: 1.18585     Test Accuracy: 74.95%\n",
      "Epoch [107/150] \t Loss: 0.03268     Accuracy: 99.10% \t Test Loss: 1.73185     Test Accuracy: 78.37%\n",
      "Epoch [108/150] \t Loss: 0.01499     Accuracy: 99.59% \t Test Loss: 1.76622     Test Accuracy: 78.64%\n",
      "Epoch [109/150] \t Loss: 0.01729     Accuracy: 99.55% \t Test Loss: 1.67663     Test Accuracy: 77.68%\n",
      "Epoch [110/150] \t Loss: 0.01640     Accuracy: 99.52% \t Test Loss: 1.81172     Test Accuracy: 77.41%\n",
      "Epoch [111/150] \t Loss: 0.04431     Accuracy: 98.80% \t Test Loss: 1.55699     Test Accuracy: 77.06%\n",
      "Epoch [112/150] \t Loss: 0.01917     Accuracy: 99.44% \t Test Loss: 1.54520     Test Accuracy: 77.33%\n",
      "Epoch [113/150] \t Loss: 0.01370     Accuracy: 99.62% \t Test Loss: 1.72435     Test Accuracy: 77.99%\n",
      "Epoch [114/150] \t Loss: 0.01174     Accuracy: 99.64% \t Test Loss: 1.70925     Test Accuracy: 77.89%\n",
      "Epoch [115/150] \t Loss: 0.01509     Accuracy: 99.57% \t Test Loss: 1.65668     Test Accuracy: 77.71%\n",
      "Epoch [116/150] \t Loss: 0.02526     Accuracy: 99.32% \t Test Loss: 1.84118     Test Accuracy: 77.23%\n",
      "Epoch [117/150] \t Loss: 0.02205     Accuracy: 99.36% \t Test Loss: 1.79654     Test Accuracy: 77.43%\n",
      "Epoch [118/150] \t Loss: 0.00959     Accuracy: 99.71% \t Test Loss: 2.27566     Test Accuracy: 77.28%\n",
      "Epoch [119/150] \t Loss: 0.01819     Accuracy: 99.46% \t Test Loss: 1.75709     Test Accuracy: 76.57%\n",
      "Epoch [120/150] \t Loss: 0.01810     Accuracy: 99.49% \t Test Loss: 2.31281     Test Accuracy: 78.17%\n",
      "Epoch [121/150] \t Loss: 0.01955     Accuracy: 99.44% \t Test Loss: 2.23321     Test Accuracy: 78.05%\n",
      "Epoch [122/150] \t Loss: 0.01500     Accuracy: 99.59% \t Test Loss: 2.18535     Test Accuracy: 77.02%\n",
      "Epoch [123/150] \t Loss: 0.02377     Accuracy: 99.39% \t Test Loss: 1.92453     Test Accuracy: 77.81%\n",
      "Epoch [124/150] \t Loss: 0.01822     Accuracy: 99.51% \t Test Loss: 2.24540     Test Accuracy: 77.94%\n",
      "Epoch [125/150] \t Loss: 0.02733     Accuracy: 99.27% \t Test Loss: 2.43990     Test Accuracy: 77.72%\n",
      "Epoch [126/150] \t Loss: 0.06512     Accuracy: 98.27% \t Test Loss: 1.27297     Test Accuracy: 77.67%\n",
      "Epoch [127/150] \t Loss: 0.03864     Accuracy: 99.07% \t Test Loss: 1.12802     Test Accuracy: 75.99%\n",
      "Epoch [128/150] \t Loss: 0.02716     Accuracy: 99.20% \t Test Loss: 1.66600     Test Accuracy: 78.25%\n",
      "Epoch [129/150] \t Loss: 0.01190     Accuracy: 99.65% \t Test Loss: 1.48921     Test Accuracy: 78.47%\n",
      "Epoch [130/150] \t Loss: 0.01156     Accuracy: 99.67% \t Test Loss: 1.54664     Test Accuracy: 78.44%\n",
      "Epoch [131/150] \t Loss: 0.00655     Accuracy: 99.77% \t Test Loss: 1.90284     Test Accuracy: 78.36%\n",
      "Epoch [132/150] \t Loss: 0.00877     Accuracy: 99.71% \t Test Loss: 2.02947     Test Accuracy: 78.18%\n",
      "Epoch [133/150] \t Loss: 0.01517     Accuracy: 99.59% \t Test Loss: 1.98692     Test Accuracy: 78.35%\n",
      "Epoch [134/150] \t Loss: 0.02063     Accuracy: 99.48% \t Test Loss: 1.58700     Test Accuracy: 76.78%\n",
      "Epoch [135/150] \t Loss: 0.01305     Accuracy: 99.61% \t Test Loss: 1.94873     Test Accuracy: 77.77%\n",
      "Epoch [136/150] \t Loss: 0.01949     Accuracy: 99.50% \t Test Loss: 1.79767     Test Accuracy: 78.19%\n",
      "Epoch [137/150] \t Loss: 0.01680     Accuracy: 99.56% \t Test Loss: 1.95237     Test Accuracy: 78.18%\n",
      "Epoch [138/150] \t Loss: 0.01467     Accuracy: 99.55% \t Test Loss: 1.68125     Test Accuracy: 77.91%\n",
      "Epoch [139/150] \t Loss: 0.01721     Accuracy: 99.53% \t Test Loss: 1.52955     Test Accuracy: 76.90%\n",
      "Epoch [140/150] \t Loss: 0.01221     Accuracy: 99.67% \t Test Loss: 2.04887     Test Accuracy: 78.18%\n",
      "Epoch [141/150] \t Loss: 0.01604     Accuracy: 99.52% \t Test Loss: 2.25828     Test Accuracy: 78.37%\n",
      "Epoch [142/150] \t Loss: 0.01284     Accuracy: 99.70% \t Test Loss: 1.55779     Test Accuracy: 77.91%\n",
      "Epoch [143/150] \t Loss: 0.01750     Accuracy: 99.55% \t Test Loss: 1.82532     Test Accuracy: 77.23%\n",
      "Epoch [144/150] \t Loss: 0.01608     Accuracy: 99.56% \t Test Loss: 2.23774     Test Accuracy: 78.15%\n",
      "Epoch [145/150] \t Loss: 0.02718     Accuracy: 99.27% \t Test Loss: 1.45663     Test Accuracy: 78.12%\n",
      "Epoch [146/150] \t Loss: 0.01527     Accuracy: 99.57% \t Test Loss: 1.46370     Test Accuracy: 77.77%\n",
      "Epoch [147/150] \t Loss: 0.01204     Accuracy: 99.66% \t Test Loss: 1.89570     Test Accuracy: 78.20%\n",
      "Epoch [148/150] \t Loss: 0.01210     Accuracy: 99.63% \t Test Loss: 2.01336     Test Accuracy: 78.41%\n",
      "Epoch [149/150] \t Loss: 0.02517     Accuracy: 99.34% \t Test Loss: 1.60287     Test Accuracy: 77.86%\n",
      "Epoch [150/150] \t Loss: 0.02184     Accuracy: 99.36% \t Test Loss: 1.68744     Test Accuracy: 78.15%\n"
     ]
    }
   ],
   "source": [
    "# train\n",
    "for epoch in range(max_epoch):\n",
    "    model.train()\n",
    "    running_loss = 0.0\n",
    "    running_correct = 0   # to track number of correct predictions\n",
    "    total = 0             # to track total number of samples\n",
    "\n",
    "    for i, (inputs, labels) in enumerate(trainloader, 0):\n",
    "        # Move inputs and labels to the device\n",
    "        inputs, labels = inputs.to(device), labels.to(device)\n",
    "\n",
    "        # Zero the parameter gradients\n",
    "        optimizer.zero_grad()\n",
    "\n",
    "        # Forward pass\n",
    "        outputs = model(inputs)\n",
    "        loss = criterion(outputs, labels)\n",
    "        running_loss += loss.item()\n",
    "\n",
    "        # Backward pass and optimization\n",
    "        loss.backward()\n",
    "        optimizer.step()  \n",
    "    \n",
    "        # Determine class predictions and track accuracy\n",
    "        _, predicted = torch.max(outputs.data, 1)\n",
    "        total += labels.size(0)\n",
    "        running_correct += (predicted == labels).sum().item()\n",
    "\n",
    "\n",
    "    epoch_accuracy = 100 * running_correct / total\n",
    "    epoch_loss = running_loss / (i + 1)\n",
    "    \n",
    "    test_loss, test_accuracy = evaluate(model, testloader, criterion)\n",
    "    print(f\"Epoch [{(epoch + 1):3}/{max_epoch:3}] \\t Loss: {epoch_loss:<11.5f} Accuracy: {epoch_accuracy:.2f}% \\t Test Loss: {test_loss:<11.5f} Test Accuracy: {test_accuracy:.2f}%\")\n",
    "    \n",
    "    # save for plot\n",
    "    train_losses.append(epoch_loss)\n",
    "    train_accuracies.append(epoch_accuracy)\n",
    "    test_losses.append(test_loss)\n",
    "    test_accuracies.append(test_accuracy)"
   ]
  },
  {
   "cell_type": "code",
   "execution_count": 9,
   "id": "cebcb439-88f2-40b6-9a17-4990ad324731",
   "metadata": {},
   "outputs": [
    {
     "name": "stdout",
     "output_type": "stream",
     "text": [
      "\n",
      "Best epoch: 108 with test accuracy: 78.64%\n"
     ]
    }
   ],
   "source": [
    "# the best accuracy\n",
    "best_epoch = np.argmax(test_accuracies)\n",
    "print(f\"\\nBest epoch: {best_epoch + 1} with test accuracy: {test_accuracies[best_epoch]:.2f}%\")"
   ]
  },
  {
   "cell_type": "markdown",
   "metadata": {},
   "source": [
    "# Plot results"
   ]
  },
  {
   "cell_type": "code",
   "execution_count": 10,
   "id": "DkC3_902Lgn-",
   "metadata": {
    "executionInfo": {
     "elapsed": 3,
     "status": "ok",
     "timestamp": 1673091684322,
     "user": {
      "displayName": "Thắng Dương Đình",
      "userId": "02196529682032971345"
     },
     "user_tz": -420
    },
    "id": "DkC3_902Lgn-"
   },
   "outputs": [
    {
     "data": {
      "text/plain": [
       "<matplotlib.legend.Legend at 0x7fbcb2e2a5e0>"
      ]
     },
     "execution_count": 10,
     "metadata": {},
     "output_type": "execute_result"
    },
    {
     "data": {
      "image/png": "[encoded data removed]",
      "text/plain": [
       "<Figure size 640x480 with 1 Axes>"
      ]
     },
     "metadata": {},
     "output_type": "display_data"
    }
   ],
   "source": [
    "plt.plot(train_losses, label='train_losses')\n",
    "plt.plot(test_losses, label='test_losses')\n",
    "plt.legend()"
   ]
  },
  {
   "cell_type": "code",
   "execution_count": 11,
   "id": "794f4e81",
   "metadata": {
    "executionInfo": {
     "elapsed": 8,
     "status": "ok",
     "timestamp": 1673092872464,
     "user": {
      "displayName": "Thắng Dương Đình",
      "userId": "02196529682032971345"
     },
     "user_tz": -420
    },
    "id": "794f4e81"
   },
   "outputs": [
    {
     "data": {
      "text/plain": [
       "<matplotlib.legend.Legend at 0x7fbcb2f7faf0>"
      ]
     },
     "execution_count": 11,
     "metadata": {},
     "output_type": "execute_result"
    },
    {
     "data": {
      "image/png": "[encoded data removed]",
      "text/plain": [
       "<Figure size 640x480 with 1 Axes>"
      ]
     },
     "metadata": {},
     "output_type": "display_data"
    }
   ],
   "source": [
    "plt.plot(train_accuracies, label='train_accuracy')\n",
    "plt.plot(test_accuracies, label='test_accuracy')\n",
    "plt.legend()"
   ]
  },
  {
   "cell_type": "code",
   "execution_count": null,
   "id": "a2ec7c96-ff05-4863-92e7-c45f2f0e3d03",
   "metadata": {},
   "outputs": [],
   "source": []
  },
  {
   "cell_type": "code",
   "execution_count": null,
   "id": "8c86325e-7b6c-43a6-b315-93e02bcdb264",
   "metadata": {},
   "outputs": [],
   "source": []
  }
 ],
 "metadata": {
  "accelerator": "GPU",
  "colab": {
   "provenance": []
  },
  "gpuClass": "standard",
  "kernelspec": {
   "display_name": "Python 3 (ipykernel)",
   "language": "python",
   "name": "python3"
  },
  "language_info": {
   "codemirror_mode": {
    "name": "ipython",
    "version": 3
   },
   "file_extension": ".py",
   "mimetype": "text/x-python",
   "name": "python",
   "nbconvert_exporter": "python",
   "pygments_lexer": "ipython3",
   "version": "3.8.0"
  },
  "widgets": {
   "application/vnd.jupyter.widget-state+json": {
    "00397590a13d454d8b16fd8d15ae9b41": {
     "model_module": "@jupyter-widgets/controls",
     "model_module_version": "1.5.0",
     "model_name": "DescriptionStyleModel",
     "state": {
      "_model_module": "@jupyter-widgets/controls",
      "_model_module_version": "1.5.0",
      "_model_name": "DescriptionStyleModel",
      "_view_count": null,
      "_view_module": "@jupyter-widgets/base",
      "_view_module_version": "1.2.0",
      "_view_name": "StyleView",
      "description_width": ""
     }
    },
    "0a3d339ba81a4f22b893250502c493af": {
     "model_module": "@jupyter-widgets/base",
     "model_module_version": "1.2.0",
     "model_name": "LayoutModel",
     "state": {
      "_model_module": "@jupyter-widgets/base",
      "_model_module_version": "1.2.0",
      "_model_name": "LayoutModel",
      "_view_count": null,
      "_view_module": "@jupyter-widgets/base",
      "_view_module_version": "1.2.0",
      "_view_name": "LayoutView",
      "align_content": null,
      "align_items": null,
      "align_self": null,
      "border": null,
      "bottom": null,
      "display": null,
      "flex": null,
      "flex_flow": null,
      "grid_area": null,
      "grid_auto_columns": null,
      "grid_auto_flow": null,
      "grid_auto_rows": null,
      "grid_column": null,
      "grid_gap": null,
      "grid_row": null,
      "grid_template_areas": null,
      "grid_template_columns": null,
      "grid_template_rows": null,
      "height": null,
      "justify_content": null,
      "justify_items": null,
      "left": null,
      "margin": null,
      "max_height": null,
      "max_width": null,
      "min_height": null,
      "min_width": null,
      "object_fit": null,
      "object_position": null,
      "order": null,
      "overflow": null,
      "overflow_x": null,
      "overflow_y": null,
      "padding": null,
      "right": null,
      "top": null,
      "visibility": null,
      "width": null
     }
    },
    "4691e220a8cb466bb46540f16f65e864": {
     "model_module": "@jupyter-widgets/controls",
     "model_module_version": "1.5.0",
     "model_name": "ProgressStyleModel",
     "state": {
      "_model_module": "@jupyter-widgets/controls",
      "_model_module_version": "1.5.0",
      "_model_name": "ProgressStyleModel",
      "_view_count": null,
      "_view_module": "@jupyter-widgets/base",
      "_view_module_version": "1.2.0",
      "_view_name": "StyleView",
      "bar_color": null,
      "description_width": ""
     }
    },
    "56c90ad0a7fb47d08727a7dac3f68f39": {
     "model_module": "@jupyter-widgets/base",
     "model_module_version": "1.2.0",
     "model_name": "LayoutModel",
     "state": {
      "_model_module": "@jupyter-widgets/base",
      "_model_module_version": "1.2.0",
      "_model_name": "LayoutModel",
      "_view_count": null,
      "_view_module": "@jupyter-widgets/base",
      "_view_module_version": "1.2.0",
      "_view_name": "LayoutView",
      "align_content": null,
      "align_items": null,
      "align_self": null,
      "border": null,
      "bottom": null,
      "display": null,
      "flex": null,
      "flex_flow": null,
      "grid_area": null,
      "grid_auto_columns": null,
      "grid_auto_flow": null,
      "grid_auto_rows": null,
      "grid_column": null,
      "grid_gap": null,
      "grid_row": null,
      "grid_template_areas": null,
      "grid_template_columns": null,
      "grid_template_rows": null,
      "height": null,
      "justify_content": null,
      "justify_items": null,
      "left": null,
      "margin": null,
      "max_height": null,
      "max_width": null,
      "min_height": null,
      "min_width": null,
      "object_fit": null,
      "object_position": null,
      "order": null,
      "overflow": null,
      "overflow_x": null,
      "overflow_y": null,
      "padding": null,
      "right": null,
      "top": null,
      "visibility": null,
      "width": null
     }
    },
    "619c9ef51fc5497f81b4af88db9214cc": {
     "model_module": "@jupyter-widgets/controls",
     "model_module_version": "1.5.0",
     "model_name": "DescriptionStyleModel",
     "state": {
      "_model_module": "@jupyter-widgets/controls",
      "_model_module_version": "1.5.0",
      "_model_name": "DescriptionStyleModel",
      "_view_count": null,
      "_view_module": "@jupyter-widgets/base",
      "_view_module_version": "1.2.0",
      "_view_name": "StyleView",
      "description_width": ""
     }
    },
    "7c95c188ecf242de9776dcfd3e3fc8d2": {
     "model_module": "@jupyter-widgets/base",
     "model_module_version": "1.2.0",
     "model_name": "LayoutModel",
     "state": {
      "_model_module": "@jupyter-widgets/base",
      "_model_module_version": "1.2.0",
      "_model_name": "LayoutModel",
      "_view_count": null,
      "_view_module": "@jupyter-widgets/base",
      "_view_module_version": "1.2.0",
      "_view_name": "LayoutView",
      "align_content": null,
      "align_items": null,
      "align_self": null,
      "border": null,
      "bottom": null,
      "display": null,
      "flex": null,
      "flex_flow": null,
      "grid_area": null,
      "grid_auto_columns": null,
      "grid_auto_flow": null,
      "grid_auto_rows": null,
      "grid_column": null,
      "grid_gap": null,
      "grid_row": null,
      "grid_template_areas": null,
      "grid_template_columns": null,
      "grid_template_rows": null,
      "height": null,
      "justify_content": null,
      "justify_items": null,
      "left": null,
      "margin": null,
      "max_height": null,
      "max_width": null,
      "min_height": null,
      "min_width": null,
      "object_fit": null,
      "object_position": null,
      "order": null,
      "overflow": null,
      "overflow_x": null,
      "overflow_y": null,
      "padding": null,
      "right": null,
      "top": null,
      "visibility": null,
      "width": null
     }
    },
    "8a6ed597588f4c07bff4271aeba7c1bb": {
     "model_module": "@jupyter-widgets/controls",
     "model_module_version": "1.5.0",
     "model_name": "HBoxModel",
     "state": {
      "_dom_classes": [],
      "_model_module": "@jupyter-widgets/controls",
      "_model_module_version": "1.5.0",
      "_model_name": "HBoxModel",
      "_view_count": null,
      "_view_module": "@jupyter-widgets/controls",
      "_view_module_version": "1.5.0",
      "_view_name": "HBoxView",
      "box_style": "",
      "children": [
       "IPY_MODEL_e09dd53ac3044e3097ed084354a52e13",
       "IPY_MODEL_8b2a0088b39741f6968c95f40ff787e6",
       "IPY_MODEL_cf5fb8e067be464bb14a1cf5e8b4e2de"
      ],
      "layout": "IPY_MODEL_0a3d339ba81a4f22b893250502c493af"
     }
    },
    "8b2a0088b39741f6968c95f40ff787e6": {
     "model_module": "@jupyter-widgets/controls",
     "model_module_version": "1.5.0",
     "model_name": "FloatProgressModel",
     "state": {
      "_dom_classes": [],
      "_model_module": "@jupyter-widgets/controls",
      "_model_module_version": "1.5.0",
      "_model_name": "FloatProgressModel",
      "_view_count": null,
      "_view_module": "@jupyter-widgets/controls",
      "_view_module_version": "1.5.0",
      "_view_name": "ProgressView",
      "bar_style": "success",
      "description": "",
      "description_tooltip": null,
      "layout": "IPY_MODEL_56c90ad0a7fb47d08727a7dac3f68f39",
      "max": 170498071,
      "min": 0,
      "orientation": "horizontal",
      "style": "IPY_MODEL_4691e220a8cb466bb46540f16f65e864",
      "value": 170498071
     }
    },
    "cf5fb8e067be464bb14a1cf5e8b4e2de": {
     "model_module": "@jupyter-widgets/controls",
     "model_module_version": "1.5.0",
     "model_name": "HTMLModel",
     "state": {
      "_dom_classes": [],
      "_model_module": "@jupyter-widgets/controls",
      "_model_module_version": "1.5.0",
      "_model_name": "HTMLModel",
      "_view_count": null,
      "_view_module": "@jupyter-widgets/controls",
      "_view_module_version": "1.5.0",
      "_view_name": "HTMLView",
      "description": "",
      "description_tooltip": null,
      "layout": "IPY_MODEL_7c95c188ecf242de9776dcfd3e3fc8d2",
      "placeholder": "​",
      "style": "IPY_MODEL_619c9ef51fc5497f81b4af88db9214cc",
      "value": " 170498071/170498071 [00:01&lt;00:00, 97303096.82it/s]"
     }
    },
    "e09dd53ac3044e3097ed084354a52e13": {
     "model_module": "@jupyter-widgets/controls",
     "model_module_version": "1.5.0",
     "model_name": "HTMLModel",
     "state": {
      "_dom_classes": [],
      "_model_module": "@jupyter-widgets/controls",
      "_model_module_version": "1.5.0",
      "_model_name": "HTMLModel",
      "_view_count": null,
      "_view_module": "@jupyter-widgets/controls",
      "_view_module_version": "1.5.0",
      "_view_name": "HTMLView",
      "description": "",
      "description_tooltip": null,
      "layout": "IPY_MODEL_f4c44a600db84290a51877583e18ee26",
      "placeholder": "​",
      "style": "IPY_MODEL_00397590a13d454d8b16fd8d15ae9b41",
      "value": "100%"
     }
    },
    "f4c44a600db84290a51877583e18ee26": {
     "model_module": "@jupyter-widgets/base",
     "model_module_version": "1.2.0",
     "model_name": "LayoutModel",
     "state": {
      "_model_module": "@jupyter-widgets/base",
      "_model_module_version": "1.2.0",
      "_model_name": "LayoutModel",
      "_view_count": null,
      "_view_module": "@jupyter-widgets/base",
      "_view_module_version": "1.2.0",
      "_view_name": "LayoutView",
      "align_content": null,
      "align_items": null,
      "align_self": null,
      "border": null,
      "bottom": null,
      "display": null,
      "flex": null,
      "flex_flow": null,
      "grid_area": null,
      "grid_auto_columns": null,
      "grid_auto_flow": null,
      "grid_auto_rows": null,
      "grid_column": null,
      "grid_gap": null,
      "grid_row": null,
      "grid_template_areas": null,
      "grid_template_columns": null,
      "grid_template_rows": null,
      "height": null,
      "justify_content": null,
      "justify_items": null,
      "left": null,
      "margin": null,
      "max_height": null,
      "max_width": null,
      "min_height": null,
      "min_width": null,
      "object_fit": null,
      "object_position": null,
      "order": null,
      "overflow": null,
      "overflow_x": null,
      "overflow_y": null,
      "padding": null,
      "right": null,
      "top": null,
      "visibility": null,
      "width": null
     }
    }
   }
  }
 },
 "nbformat": 4,
 "nbformat_minor": 5
}
