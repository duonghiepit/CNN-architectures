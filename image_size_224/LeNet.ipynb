{
 "cells": [
  {
   "cell_type": "code",
   "execution_count": 1,
   "id": "d4e45a49-974f-4f9c-8642-42e2c45aab71",
   "metadata": {},
   "outputs": [],
   "source": [
    "import os\n",
    "os.environ['CUDA_VISIBLE_DEVICES'] = '2'\n",
    "\n",
    "import torch\n",
    "import torchvision.transforms as transforms\n",
    "import torch.nn as nn\n",
    "import torch.nn.functional as F\n",
    "\n",
    "import numpy as np\n",
    "import matplotlib.pyplot as plt\n",
    "\n",
    "from torchvision.datasets import CIFAR10\n",
    "from torch.utils.data import DataLoader \n",
    "from torch.optim import Adam\n",
    "import torchvision\n",
    "from torchsummary import summary\n",
    "\n",
    "torch.manual_seed(1)\n",
    "device = 'cuda' if torch.cuda.is_available() else 'cpu'"
   ]
  },
  {
   "cell_type": "code",
   "execution_count": null,
   "metadata": {},
   "outputs": [],
   "source": []
  },
  {
   "cell_type": "markdown",
   "id": "f913360b-019e-4d69-a540-b7b5715544e1",
   "metadata": {},
   "source": [
    "## Data"
   ]
  },
  {
   "cell_type": "code",
   "execution_count": 2,
   "id": "3ad21976-2d99-49b7-b0b5-84e9ebcd371e",
   "metadata": {},
   "outputs": [
    {
     "name": "stdout",
     "output_type": "stream",
     "text": [
      "Files already downloaded and verified\n",
      "Files already downloaded and verified\n"
     ]
    }
   ],
   "source": [
    "batch_size = 64\n",
    "train_transform = transforms.Compose(\n",
    "    [\n",
    "        transforms.Resize((224,224)),\n",
    "        transforms.ToTensor(),\n",
    "        transforms.Normalize([0.4914, 0.4822, 0.4465], \n",
    "                             [0.2470, 0.2435, 0.2616]),\n",
    "    ])\n",
    "\n",
    "val_transform = transforms.Compose(\n",
    "    [\n",
    "        transforms.Resize((224,224)),\n",
    "        transforms.ToTensor(),\n",
    "        transforms.Normalize([0.4914, 0.4822, 0.4465], \n",
    "                             [0.2470, 0.2435, 0.2616])\n",
    "    ])\n",
    "\n",
    "train_set = CIFAR10(\n",
    "    root='./data', \n",
    "    train=True,\n",
    "    download=True, \n",
    "    transform=train_transform\n",
    ")\n",
    "\n",
    "val_set = CIFAR10(\n",
    "    root='./data', \n",
    "    train=False,\n",
    "    download=True, \n",
    "    transform=val_transform\n",
    ")\n",
    "\n",
    "trainloader = DataLoader(\n",
    "    train_set, \n",
    "    batch_size=batch_size,\n",
    "    shuffle=True,\n",
    "    num_workers=4,\n",
    ")\n",
    "\n",
    "testloader = DataLoader(\n",
    "    val_set, \n",
    "    batch_size=batch_size,\n",
    "    shuffle=False, \n",
    "    num_workers=4,\n",
    ")"
   ]
  },
  {
   "cell_type": "code",
   "execution_count": null,
   "id": "cf229497-4b6e-443d-b330-66b6fa139fcd",
   "metadata": {},
   "outputs": [],
   "source": []
  },
  {
   "cell_type": "markdown",
   "id": "6ea0dde8-29e7-4096-bd15-6a5ed74655f0",
   "metadata": {},
   "source": [
    "## Model"
   ]
  },
  {
   "cell_type": "code",
   "execution_count": 3,
   "metadata": {},
   "outputs": [],
   "source": [
    "class LeNet(nn.Module):\n",
    "    def __init__(self, imdim=3, num_classes=10):\n",
    "        super(LeNet, self).__init__()\n",
    "\n",
    "        self.conv1 = nn.Conv2d(imdim, 64, kernel_size=5, stride=3, padding=0)\n",
    "        self.mp = nn.MaxPool2d(2)\n",
    "        self.relu1 = nn.ReLU(inplace=True)\n",
    "        self.conv2 = nn.Conv2d(64, 128, kernel_size=5, stride=3, padding=0)\n",
    "        self.relu2 = nn.ReLU(inplace=True)\n",
    "        self.fc1 = nn.Linear(128*5*5, 1024)\n",
    "        self.relu3 = nn.ReLU(inplace=True)\n",
    "        self.fc2 = nn.Linear(1024, 1024)\n",
    "        self.relu4 = nn.ReLU(inplace=True)\n",
    "        \n",
    "        self.fc3 = nn.Linear(1024, num_classes)\n",
    "\n",
    "    def forward(self, x):\n",
    "        in_size = x.size(0)\n",
    "        out1 = self.mp(self.relu1(self.conv1(x)))\n",
    "        out2 = self.mp(self.relu2(self.conv2(out1)))\n",
    "        out2 = out2.view(in_size, -1)\n",
    "        out3 = self.relu3(self.fc1(out2))\n",
    "        out = self.relu4(self.fc2(out3))\n",
    "        \n",
    "        return self.fc3(out)"
   ]
  },
  {
   "cell_type": "code",
   "execution_count": 4,
   "id": "81be3191-980a-4b94-8537-5dba83109866",
   "metadata": {},
   "outputs": [],
   "source": [
    "model = LeNet(num_classes=10).to(device)"
   ]
  },
  {
   "cell_type": "code",
   "execution_count": 5,
   "id": "c8516821-d41b-42a8-9e51-ddfb8f9ec87e",
   "metadata": {},
   "outputs": [
    {
     "name": "stdout",
     "output_type": "stream",
     "text": [
      "----------------------------------------------------------------\n",
      "        Layer (type)               Output Shape         Param #\n",
      "================================================================\n",
      "            Conv2d-1           [-1, 64, 74, 74]           4,864\n",
      "              ReLU-2           [-1, 64, 74, 74]               0\n",
      "         MaxPool2d-3           [-1, 64, 37, 37]               0\n",
      "            Conv2d-4          [-1, 128, 11, 11]         204,928\n",
      "              ReLU-5          [-1, 128, 11, 11]               0\n",
      "         MaxPool2d-6            [-1, 128, 5, 5]               0\n",
      "            Linear-7                 [-1, 1024]       3,277,824\n",
      "              ReLU-8                 [-1, 1024]               0\n",
      "            Linear-9                 [-1, 1024]       1,049,600\n",
      "             ReLU-10                 [-1, 1024]               0\n",
      "           Linear-11                   [-1, 10]          10,250\n",
      "================================================================\n",
      "Total params: 4,547,466\n",
      "Trainable params: 4,547,466\n",
      "Non-trainable params: 0\n",
      "----------------------------------------------------------------\n",
      "Input size (MB): 0.57\n",
      "Forward/backward pass size (MB): 6.31\n",
      "Params size (MB): 17.35\n",
      "Estimated Total Size (MB): 24.23\n",
      "----------------------------------------------------------------\n"
     ]
    }
   ],
   "source": [
    "summary(model, (3, 224, 224))"
   ]
  },
  {
   "cell_type": "markdown",
   "id": "43c7b151-a199-4e2a-8015-fdfb5f166284",
   "metadata": {},
   "source": [
    "# Train"
   ]
  },
  {
   "cell_type": "code",
   "execution_count": 6,
   "id": "1464e2bd-b627-475d-9941-f2a930d69a14",
   "metadata": {},
   "outputs": [],
   "source": [
    "criterion = nn.CrossEntropyLoss()\n",
    "optimizer = Adam(model.parameters(), lr=1e-3)  "
   ]
  },
  {
   "cell_type": "code",
   "execution_count": 7,
   "id": "04744c84-1e6d-4bfb-8dd5-abbdc91f102e",
   "metadata": {},
   "outputs": [],
   "source": [
    "# Function to compute loss and accuracy for test set\n",
    "def evaluate(model, testloader, criterion):\n",
    "    model.eval()\n",
    "    test_loss = 0.0\n",
    "    running_correct = 0\n",
    "    total = 0\n",
    "    with torch.no_grad():\n",
    "        for images, labels in testloader:\n",
    "            # Move inputs and labels to the device\n",
    "            images, labels = images.to(device), labels.to(device)\n",
    "\n",
    "            outputs = model(images)\n",
    "            loss = criterion(outputs, labels)\n",
    "            test_loss += loss.item()\n",
    "            \n",
    "            _, predicted = torch.max(outputs.data, 1)\n",
    "            total += labels.size(0)\n",
    "            running_correct += (predicted == labels).sum().item()\n",
    "\n",
    "    accuracy = 100 * running_correct / total\n",
    "    test_loss = test_loss / len(testloader)\n",
    "    return test_loss, accuracy"
   ]
  },
  {
   "cell_type": "code",
   "execution_count": 8,
   "id": "f2402591-e7f7-4bdd-8962-c029cfcd9307",
   "metadata": {},
   "outputs": [],
   "source": [
    "# some parameter\n",
    "train_losses = []\n",
    "train_accuracies = []\n",
    "test_losses = []\n",
    "test_accuracies = []\n",
    "max_epoch = 30"
   ]
  },
  {
   "cell_type": "code",
   "execution_count": 9,
   "id": "190a58e1-0864-4818-a8d2-0f83212c6d13",
   "metadata": {},
   "outputs": [
    {
     "name": "stdout",
     "output_type": "stream",
     "text": [
      "Epoch [  1/ 30] \t Loss: 1.47392     Accuracy: 46.89% \t Test Loss: 1.21434     Test Accuracy: 56.44%\n",
      "Epoch [  2/ 30] \t Loss: 1.12012     Accuracy: 60.11% \t Test Loss: 1.13283     Test Accuracy: 60.60%\n",
      "Epoch [  3/ 30] \t Loss: 0.92077     Accuracy: 67.70% \t Test Loss: 1.01628     Test Accuracy: 64.22%\n",
      "Epoch [  4/ 30] \t Loss: 0.75249     Accuracy: 73.30% \t Test Loss: 1.03906     Test Accuracy: 66.04%\n",
      "Epoch [  5/ 30] \t Loss: 0.60004     Accuracy: 78.76% \t Test Loss: 1.08302     Test Accuracy: 66.35%\n",
      "Epoch [  6/ 30] \t Loss: 0.45577     Accuracy: 83.78% \t Test Loss: 1.16954     Test Accuracy: 65.95%\n",
      "Epoch [  7/ 30] \t Loss: 0.32711     Accuracy: 88.37% \t Test Loss: 1.37542     Test Accuracy: 66.37%\n",
      "Epoch [  8/ 30] \t Loss: 0.25315     Accuracy: 91.08% \t Test Loss: 1.56393     Test Accuracy: 65.19%\n",
      "Epoch [  9/ 30] \t Loss: 0.20447     Accuracy: 92.87% \t Test Loss: 1.66880     Test Accuracy: 65.82%\n",
      "Epoch [ 10/ 30] \t Loss: 0.16252     Accuracy: 94.50% \t Test Loss: 1.93956     Test Accuracy: 65.66%\n",
      "Epoch [ 11/ 30] \t Loss: 0.16156     Accuracy: 94.51% \t Test Loss: 1.86800     Test Accuracy: 65.34%\n",
      "Epoch [ 12/ 30] \t Loss: 0.13676     Accuracy: 95.49% \t Test Loss: 2.22975     Test Accuracy: 66.39%\n",
      "Epoch [ 13/ 30] \t Loss: 0.13116     Accuracy: 95.73% \t Test Loss: 2.15068     Test Accuracy: 65.63%\n",
      "Epoch [ 14/ 30] \t Loss: 0.11535     Accuracy: 96.27% \t Test Loss: 2.39834     Test Accuracy: 65.77%\n",
      "Epoch [ 15/ 30] \t Loss: 0.11283     Accuracy: 96.35% \t Test Loss: 2.35290     Test Accuracy: 64.85%\n",
      "Epoch [ 16/ 30] \t Loss: 0.11976     Accuracy: 96.16% \t Test Loss: 2.44569     Test Accuracy: 65.76%\n",
      "Epoch [ 17/ 30] \t Loss: 0.10554     Accuracy: 96.63% \t Test Loss: 2.54901     Test Accuracy: 64.67%\n",
      "Epoch [ 18/ 30] \t Loss: 0.10087     Accuracy: 96.79% \t Test Loss: 2.66997     Test Accuracy: 65.19%\n",
      "Epoch [ 19/ 30] \t Loss: 0.11002     Accuracy: 96.65% \t Test Loss: 2.72054     Test Accuracy: 65.34%\n",
      "Epoch [ 20/ 30] \t Loss: 0.09169     Accuracy: 97.21% \t Test Loss: 2.74550     Test Accuracy: 65.03%\n",
      "Epoch [ 21/ 30] \t Loss: 0.09623     Accuracy: 97.07% \t Test Loss: 2.79607     Test Accuracy: 65.58%\n",
      "Epoch [ 22/ 30] \t Loss: 0.09612     Accuracy: 97.12% \t Test Loss: 2.94393     Test Accuracy: 65.09%\n",
      "Epoch [ 23/ 30] \t Loss: 0.09091     Accuracy: 97.32% \t Test Loss: 3.08404     Test Accuracy: 64.87%\n",
      "Epoch [ 24/ 30] \t Loss: 0.08315     Accuracy: 97.48% \t Test Loss: 3.20237     Test Accuracy: 63.88%\n",
      "Epoch [ 25/ 30] \t Loss: 0.09835     Accuracy: 97.08% \t Test Loss: 3.12012     Test Accuracy: 63.72%\n",
      "Epoch [ 26/ 30] \t Loss: 0.08686     Accuracy: 97.49% \t Test Loss: 2.92078     Test Accuracy: 64.46%\n",
      "Epoch [ 27/ 30] \t Loss: 0.08129     Accuracy: 97.58% \t Test Loss: 3.13765     Test Accuracy: 65.11%\n",
      "Epoch [ 28/ 30] \t Loss: 0.09655     Accuracy: 97.28% \t Test Loss: 3.24174     Test Accuracy: 65.49%\n",
      "Epoch [ 29/ 30] \t Loss: 0.08035     Accuracy: 97.70% \t Test Loss: 3.31921     Test Accuracy: 66.11%\n",
      "Epoch [ 30/ 30] \t Loss: 0.07674     Accuracy: 97.84% \t Test Loss: 3.49506     Test Accuracy: 65.34%\n"
     ]
    }
   ],
   "source": [
    "# train\n",
    "for epoch in range(max_epoch):\n",
    "    model.train()\n",
    "    running_loss = 0.0\n",
    "    running_correct = 0   # to track number of correct predictions\n",
    "    total = 0             # to track total number of samples\n",
    "\n",
    "    for i, (inputs, labels) in enumerate(trainloader, 0):\n",
    "        # Move inputs and labels to the device\n",
    "        inputs, labels = inputs.to(device), labels.to(device)\n",
    "\n",
    "        # Zero the parameter gradients\n",
    "        optimizer.zero_grad()\n",
    "\n",
    "        # Forward pass\n",
    "        outputs = model(inputs)\n",
    "        loss = criterion(outputs, labels)\n",
    "        running_loss += loss.item()\n",
    "\n",
    "        # Backward pass and optimization\n",
    "        loss.backward()\n",
    "        optimizer.step()  \n",
    "    \n",
    "        # Determine class predictions and track accuracy\n",
    "        _, predicted = torch.max(outputs.data, 1)\n",
    "        total += labels.size(0)\n",
    "        running_correct += (predicted == labels).sum().item()\n",
    "\n",
    "\n",
    "    epoch_accuracy = 100 * running_correct / total\n",
    "    epoch_loss = running_loss / (i + 1)\n",
    "    \n",
    "    test_loss, test_accuracy = evaluate(model, testloader, criterion)\n",
    "    print(f\"Epoch [{(epoch + 1):3}/{max_epoch:3}] \\t Loss: {epoch_loss:<11.5f} Accuracy: {epoch_accuracy:.2f}% \\t Test Loss: {test_loss:<11.5f} Test Accuracy: {test_accuracy:.2f}%\")\n",
    "    \n",
    "    # save for plot\n",
    "    train_losses.append(epoch_loss)\n",
    "    train_accuracies.append(epoch_accuracy)\n",
    "    test_losses.append(test_loss)\n",
    "    test_accuracies.append(test_accuracy)"
   ]
  },
  {
   "cell_type": "code",
   "execution_count": 10,
   "id": "cebcb439-88f2-40b6-9a17-4990ad324731",
   "metadata": {},
   "outputs": [
    {
     "name": "stdout",
     "output_type": "stream",
     "text": [
      "\n",
      "Best epoch: 12 with test accuracy: 66.39%\n"
     ]
    }
   ],
   "source": [
    "# the best accuracy\n",
    "best_epoch = np.argmax(test_accuracies)\n",
    "print(f\"\\nBest epoch: {best_epoch + 1} with test accuracy: {test_accuracies[best_epoch]:.2f}%\")"
   ]
  },
  {
   "cell_type": "markdown",
   "metadata": {},
   "source": [
    "# Plot results"
   ]
  },
  {
   "cell_type": "code",
   "execution_count": 11,
   "id": "DkC3_902Lgn-",
   "metadata": {
    "executionInfo": {
     "elapsed": 3,
     "status": "ok",
     "timestamp": 1673091684322,
     "user": {
      "displayName": "Thắng Dương Đình",
      "userId": "02196529682032971345"
     },
     "user_tz": -420
    },
    "id": "DkC3_902Lgn-"
   },
   "outputs": [
    {
     "data": {
      "text/plain": [
       "<matplotlib.legend.Legend at 0x7f4111004d90>"
      ]
     },
     "execution_count": 11,
     "metadata": {},
     "output_type": "execute_result"
    },
    {
     "data": {
      "image/png": "[encoded data removed]",
      "text/plain": [
       "<Figure size 640x480 with 1 Axes>"
      ]
     },
     "metadata": {},
     "output_type": "display_data"
    }
   ],
   "source": [
    "plt.plot(train_losses, label='train_losses')\n",
    "plt.plot(test_losses, label='test_losses')\n",
    "plt.legend()"
   ]
  },
  {
   "cell_type": "code",
   "execution_count": 12,
   "id": "794f4e81",
   "metadata": {
    "executionInfo": {
     "elapsed": 8,
     "status": "ok",
     "timestamp": 1673092872464,
     "user": {
      "displayName": "Thắng Dương Đình",
      "userId": "02196529682032971345"
     },
     "user_tz": -420
    },
    "id": "794f4e81"
   },
   "outputs": [
    {
     "data": {
      "text/plain": [
       "<matplotlib.legend.Legend at 0x7f4111133af0>"
      ]
     },
     "execution_count": 12,
     "metadata": {},
     "output_type": "execute_result"
    },
    {
     "data": {
      "image/png": "[encoded data removed]",
      "text/plain": [
       "<Figure size 640x480 with 1 Axes>"
      ]
     },
     "metadata": {},
     "output_type": "display_data"
    }
   ],
   "source": [
    "plt.plot(train_accuracies, label='train_accuracy')\n",
    "plt.plot(test_accuracies, label='test_accuracy')\n",
    "plt.legend()"
   ]
  },
  {
   "cell_type": "code",
   "execution_count": null,
   "id": "a2ec7c96-ff05-4863-92e7-c45f2f0e3d03",
   "metadata": {},
   "outputs": [],
   "source": []
  },
  {
   "cell_type": "code",
   "execution_count": null,
   "id": "8c86325e-7b6c-43a6-b315-93e02bcdb264",
   "metadata": {},
   "outputs": [],
   "source": []
  }
 ],
 "metadata": {
  "accelerator": "GPU",
  "colab": {
   "provenance": []
  },
  "gpuClass": "standard",
  "kernelspec": {
   "display_name": "Python 3 (ipykernel)",
   "language": "python",
   "name": "python3"
  },
  "language_info": {
   "codemirror_mode": {
    "name": "ipython",
    "version": 3
   },
   "file_extension": ".py",
   "mimetype": "text/x-python",
   "name": "python",
   "nbconvert_exporter": "python",
   "pygments_lexer": "ipython3",
   "version": "3.8.0"
  },
  "widgets": {
   "application/vnd.jupyter.widget-state+json": {
    "00397590a13d454d8b16fd8d15ae9b41": {
     "model_module": "@jupyter-widgets/controls",
     "model_module_version": "1.5.0",
     "model_name": "DescriptionStyleModel",
     "state": {
      "_model_module": "@jupyter-widgets/controls",
      "_model_module_version": "1.5.0",
      "_model_name": "DescriptionStyleModel",
      "_view_count": null,
      "_view_module": "@jupyter-widgets/base",
      "_view_module_version": "1.2.0",
      "_view_name": "StyleView",
      "description_width": ""
     }
    },
    "0a3d339ba81a4f22b893250502c493af": {
     "model_module": "@jupyter-widgets/base",
     "model_module_version": "1.2.0",
     "model_name": "LayoutModel",
     "state": {
      "_model_module": "@jupyter-widgets/base",
      "_model_module_version": "1.2.0",
      "_model_name": "LayoutModel",
      "_view_count": null,
      "_view_module": "@jupyter-widgets/base",
      "_view_module_version": "1.2.0",
      "_view_name": "LayoutView",
      "align_content": null,
      "align_items": null,
      "align_self": null,
      "border": null,
      "bottom": null,
      "display": null,
      "flex": null,
      "flex_flow": null,
      "grid_area": null,
      "grid_auto_columns": null,
      "grid_auto_flow": null,
      "grid_auto_rows": null,
      "grid_column": null,
      "grid_gap": null,
      "grid_row": null,
      "grid_template_areas": null,
      "grid_template_columns": null,
      "grid_template_rows": null,
      "height": null,
      "justify_content": null,
      "justify_items": null,
      "left": null,
      "margin": null,
      "max_height": null,
      "max_width": null,
      "min_height": null,
      "min_width": null,
      "object_fit": null,
      "object_position": null,
      "order": null,
      "overflow": null,
      "overflow_x": null,
      "overflow_y": null,
      "padding": null,
      "right": null,
      "top": null,
      "visibility": null,
      "width": null
     }
    },
    "4691e220a8cb466bb46540f16f65e864": {
     "model_module": "@jupyter-widgets/controls",
     "model_module_version": "1.5.0",
     "model_name": "ProgressStyleModel",
     "state": {
      "_model_module": "@jupyter-widgets/controls",
      "_model_module_version": "1.5.0",
      "_model_name": "ProgressStyleModel",
      "_view_count": null,
      "_view_module": "@jupyter-widgets/base",
      "_view_module_version": "1.2.0",
      "_view_name": "StyleView",
      "bar_color": null,
      "description_width": ""
     }
    },
    "56c90ad0a7fb47d08727a7dac3f68f39": {
     "model_module": "@jupyter-widgets/base",
     "model_module_version": "1.2.0",
     "model_name": "LayoutModel",
     "state": {
      "_model_module": "@jupyter-widgets/base",
      "_model_module_version": "1.2.0",
      "_model_name": "LayoutModel",
      "_view_count": null,
      "_view_module": "@jupyter-widgets/base",
      "_view_module_version": "1.2.0",
      "_view_name": "LayoutView",
      "align_content": null,
      "align_items": null,
      "align_self": null,
      "border": null,
      "bottom": null,
      "display": null,
      "flex": null,
      "flex_flow": null,
      "grid_area": null,
      "grid_auto_columns": null,
      "grid_auto_flow": null,
      "grid_auto_rows": null,
      "grid_column": null,
      "grid_gap": null,
      "grid_row": null,
      "grid_template_areas": null,
      "grid_template_columns": null,
      "grid_template_rows": null,
      "height": null,
      "justify_content": null,
      "justify_items": null,
      "left": null,
      "margin": null,
      "max_height": null,
      "max_width": null,
      "min_height": null,
      "min_width": null,
      "object_fit": null,
      "object_position": null,
      "order": null,
      "overflow": null,
      "overflow_x": null,
      "overflow_y": null,
      "padding": null,
      "right": null,
      "top": null,
      "visibility": null,
      "width": null
     }
    },
    "619c9ef51fc5497f81b4af88db9214cc": {
     "model_module": "@jupyter-widgets/controls",
     "model_module_version": "1.5.0",
     "model_name": "DescriptionStyleModel",
     "state": {
      "_model_module": "@jupyter-widgets/controls",
      "_model_module_version": "1.5.0",
      "_model_name": "DescriptionStyleModel",
      "_view_count": null,
      "_view_module": "@jupyter-widgets/base",
      "_view_module_version": "1.2.0",
      "_view_name": "StyleView",
      "description_width": ""
     }
    },
    "7c95c188ecf242de9776dcfd3e3fc8d2": {
     "model_module": "@jupyter-widgets/base",
     "model_module_version": "1.2.0",
     "model_name": "LayoutModel",
     "state": {
      "_model_module": "@jupyter-widgets/base",
      "_model_module_version": "1.2.0",
      "_model_name": "LayoutModel",
      "_view_count": null,
      "_view_module": "@jupyter-widgets/base",
      "_view_module_version": "1.2.0",
      "_view_name": "LayoutView",
      "align_content": null,
      "align_items": null,
      "align_self": null,
      "border": null,
      "bottom": null,
      "display": null,
      "flex": null,
      "flex_flow": null,
      "grid_area": null,
      "grid_auto_columns": null,
      "grid_auto_flow": null,
      "grid_auto_rows": null,
      "grid_column": null,
      "grid_gap": null,
      "grid_row": null,
      "grid_template_areas": null,
      "grid_template_columns": null,
      "grid_template_rows": null,
      "height": null,
      "justify_content": null,
      "justify_items": null,
      "left": null,
      "margin": null,
      "max_height": null,
      "max_width": null,
      "min_height": null,
      "min_width": null,
      "object_fit": null,
      "object_position": null,
      "order": null,
      "overflow": null,
      "overflow_x": null,
      "overflow_y": null,
      "padding": null,
      "right": null,
      "top": null,
      "visibility": null,
      "width": null
     }
    },
    "8a6ed597588f4c07bff4271aeba7c1bb": {
     "model_module": "@jupyter-widgets/controls",
     "model_module_version": "1.5.0",
     "model_name": "HBoxModel",
     "state": {
      "_dom_classes": [],
      "_model_module": "@jupyter-widgets/controls",
      "_model_module_version": "1.5.0",
      "_model_name": "HBoxModel",
      "_view_count": null,
      "_view_module": "@jupyter-widgets/controls",
      "_view_module_version": "1.5.0",
      "_view_name": "HBoxView",
      "box_style": "",
      "children": [
       "IPY_MODEL_e09dd53ac3044e3097ed084354a52e13",
       "IPY_MODEL_8b2a0088b39741f6968c95f40ff787e6",
       "IPY_MODEL_cf5fb8e067be464bb14a1cf5e8b4e2de"
      ],
      "layout": "IPY_MODEL_0a3d339ba81a4f22b893250502c493af"
     }
    },
    "8b2a0088b39741f6968c95f40ff787e6": {
     "model_module": "@jupyter-widgets/controls",
     "model_module_version": "1.5.0",
     "model_name": "FloatProgressModel",
     "state": {
      "_dom_classes": [],
      "_model_module": "@jupyter-widgets/controls",
      "_model_module_version": "1.5.0",
      "_model_name": "FloatProgressModel",
      "_view_count": null,
      "_view_module": "@jupyter-widgets/controls",
      "_view_module_version": "1.5.0",
      "_view_name": "ProgressView",
      "bar_style": "success",
      "description": "",
      "description_tooltip": null,
      "layout": "IPY_MODEL_56c90ad0a7fb47d08727a7dac3f68f39",
      "max": 170498071,
      "min": 0,
      "orientation": "horizontal",
      "style": "IPY_MODEL_4691e220a8cb466bb46540f16f65e864",
      "value": 170498071
     }
    },
    "cf5fb8e067be464bb14a1cf5e8b4e2de": {
     "model_module": "@jupyter-widgets/controls",
     "model_module_version": "1.5.0",
     "model_name": "HTMLModel",
     "state": {
      "_dom_classes": [],
      "_model_module": "@jupyter-widgets/controls",
      "_model_module_version": "1.5.0",
      "_model_name": "HTMLModel",
      "_view_count": null,
      "_view_module": "@jupyter-widgets/controls",
      "_view_module_version": "1.5.0",
      "_view_name": "HTMLView",
      "description": "",
      "description_tooltip": null,
      "layout": "IPY_MODEL_7c95c188ecf242de9776dcfd3e3fc8d2",
      "placeholder": "​",
      "style": "IPY_MODEL_619c9ef51fc5497f81b4af88db9214cc",
      "value": " 170498071/170498071 [00:01&lt;00:00, 97303096.82it/s]"
     }
    },
    "e09dd53ac3044e3097ed084354a52e13": {
     "model_module": "@jupyter-widgets/controls",
     "model_module_version": "1.5.0",
     "model_name": "HTMLModel",
     "state": {
      "_dom_classes": [],
      "_model_module": "@jupyter-widgets/controls",
      "_model_module_version": "1.5.0",
      "_model_name": "HTMLModel",
      "_view_count": null,
      "_view_module": "@jupyter-widgets/controls",
      "_view_module_version": "1.5.0",
      "_view_name": "HTMLView",
      "description": "",
      "description_tooltip": null,
      "layout": "IPY_MODEL_f4c44a600db84290a51877583e18ee26",
      "placeholder": "​",
      "style": "IPY_MODEL_00397590a13d454d8b16fd8d15ae9b41",
      "value": "100%"
     }
    },
    "f4c44a600db84290a51877583e18ee26": {
     "model_module": "@jupyter-widgets/base",
     "model_module_version": "1.2.0",
     "model_name": "LayoutModel",
     "state": {
      "_model_module": "@jupyter-widgets/base",
      "_model_module_version": "1.2.0",
      "_model_name": "LayoutModel",
      "_view_count": null,
      "_view_module": "@jupyter-widgets/base",
      "_view_module_version": "1.2.0",
      "_view_name": "LayoutView",
      "align_content": null,
      "align_items": null,
      "align_self": null,
      "border": null,
      "bottom": null,
      "display": null,
      "flex": null,
      "flex_flow": null,
      "grid_area": null,
      "grid_auto_columns": null,
      "grid_auto_flow": null,
      "grid_auto_rows": null,
      "grid_column": null,
      "grid_gap": null,
      "grid_row": null,
      "grid_template_areas": null,
      "grid_template_columns": null,
      "grid_template_rows": null,
      "height": null,
      "justify_content": null,
      "justify_items": null,
      "left": null,
      "margin": null,
      "max_height": null,
      "max_width": null,
      "min_height": null,
      "min_width": null,
      "object_fit": null,
      "object_position": null,
      "order": null,
      "overflow": null,
      "overflow_x": null,
      "overflow_y": null,
      "padding": null,
      "right": null,
      "top": null,
      "visibility": null,
      "width": null
     }
    }
   }
  }
 },
 "nbformat": 4,
 "nbformat_minor": 5
}
