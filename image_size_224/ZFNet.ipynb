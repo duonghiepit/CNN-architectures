{
 "cells": [
  {
   "cell_type": "code",
   "execution_count": 1,
   "id": "d4e45a49-974f-4f9c-8642-42e2c45aab71",
   "metadata": {},
   "outputs": [],
   "source": [
    "import os\n",
    "os.environ['CUDA_VISIBLE_DEVICES'] = '2'\n",
    "\n",
    "import torch\n",
    "import torchvision.transforms as transforms\n",
    "import torch.nn as nn\n",
    "import torch.nn.functional as F\n",
    "\n",
    "import numpy as np\n",
    "import matplotlib.pyplot as plt\n",
    "\n",
    "from torchvision.datasets import CIFAR10\n",
    "from torch.utils.data import DataLoader \n",
    "from torch.optim import Adam\n",
    "import torchvision\n",
    "import torchvision.models as models\n",
    "from torchsummary import summary\n",
    "\n",
    "torch.manual_seed(1)\n",
    "device = 'cuda' if torch.cuda.is_available() else 'cpu'"
   ]
  },
  {
   "cell_type": "code",
   "execution_count": null,
   "metadata": {},
   "outputs": [],
   "source": []
  },
  {
   "cell_type": "markdown",
   "id": "f913360b-019e-4d69-a540-b7b5715544e1",
   "metadata": {},
   "source": [
    "## Data"
   ]
  },
  {
   "cell_type": "code",
   "execution_count": 2,
   "id": "3ad21976-2d99-49b7-b0b5-84e9ebcd371e",
   "metadata": {},
   "outputs": [
    {
     "name": "stdout",
     "output_type": "stream",
     "text": [
      "Files already downloaded and verified\n",
      "Files already downloaded and verified\n"
     ]
    }
   ],
   "source": [
    "batch_size = 64\n",
    "train_transform = transforms.Compose(\n",
    "    [\n",
    "        transforms.Resize((224,224)),\n",
    "        transforms.ToTensor(),\n",
    "        transforms.Normalize([0.4914, 0.4822, 0.4465], \n",
    "                             [0.2470, 0.2435, 0.2616]),\n",
    "    ])\n",
    "\n",
    "val_transform = transforms.Compose(\n",
    "    [\n",
    "        transforms.Resize((224,224)),\n",
    "        transforms.ToTensor(),\n",
    "        transforms.Normalize([0.4914, 0.4822, 0.4465], \n",
    "                             [0.2470, 0.2435, 0.2616])\n",
    "    ])\n",
    "\n",
    "train_set = CIFAR10(\n",
    "    root='./data', \n",
    "    train=True,\n",
    "    download=True, \n",
    "    transform=train_transform\n",
    ")\n",
    "\n",
    "val_set = CIFAR10(\n",
    "    root='./data', \n",
    "    train=False,\n",
    "    download=True, \n",
    "    transform=val_transform\n",
    ")\n",
    "\n",
    "trainloader = DataLoader(\n",
    "    train_set, \n",
    "    batch_size=batch_size,\n",
    "    shuffle=True,\n",
    "    num_workers=4,\n",
    ")\n",
    "\n",
    "testloader = DataLoader(\n",
    "    val_set, \n",
    "    batch_size=batch_size,\n",
    "    shuffle=False, \n",
    "    num_workers=4,\n",
    ")"
   ]
  },
  {
   "cell_type": "code",
   "execution_count": null,
   "id": "cf229497-4b6e-443d-b330-66b6fa139fcd",
   "metadata": {},
   "outputs": [],
   "source": []
  },
  {
   "cell_type": "markdown",
   "id": "6ea0dde8-29e7-4096-bd15-6a5ed74655f0",
   "metadata": {},
   "source": [
    "## Model"
   ]
  },
  {
   "cell_type": "code",
   "execution_count": 3,
   "metadata": {},
   "outputs": [],
   "source": [
    "class ZFNet(nn.Module):\n",
    "    \"\"\" A implementation of the ZFNet architecture from the paper 'Visualizing and \n",
    "        Understanding Convolutional Networks' by Zeiler and Fergus\"\"\"\n",
    "    def __init__(self, num_classes=10):\n",
    "        super().__init__()\n",
    "        self.conv1 = nn.Conv2d(3, 96, kernel_size=7, stride=2, padding=3, padding_mode='reflect') \n",
    "        self.conv2 = nn.Conv2d(96, 256, kernel_size=5, stride=2, padding=2, padding_mode='reflect')\n",
    "        self.conv3 = nn.Conv2d(256, 384, kernel_size=3, stride=1, padding=1, padding_mode='reflect')\n",
    "        self.conv4 = nn.Conv2d(384, 384, kernel_size=3, stride=1, padding=1, padding_mode='reflect')\n",
    "        self.conv5 = nn.Conv2d(384, 256, kernel_size=3, stride=1, padding=1, padding_mode='reflect')\n",
    "        self.fc6 = nn.Linear(9216,4096)\n",
    "        self.fc7 = nn.Linear(4096,4096)\n",
    "        self.fc8 = nn.Linear(4096,num_classes)\n",
    "        self.pool1 = nn.MaxPool2d(3,stride=2)\n",
    "        self.pool2 = nn.MaxPool2d(3,stride=2)\n",
    "        self.drop = nn.Dropout(0.5)\n",
    "        self.drop = nn.Dropout(0.5)\n",
    "        self.lrn = nn.LocalResponseNorm(size=5,alpha=10e-4,beta=0.75,k=2.0)\n",
    "\n",
    "    def forward(self, x):\n",
    "        x = self.lrn(self.pool1(F.relu(self.conv1(x))))\n",
    "        x = self.lrn(self.pool2(F.relu(self.conv2(x))))\n",
    "        x = F.relu(self.conv3(x))\n",
    "        x = F.relu(self.conv4(x))\n",
    "        x = self.pool2(F.relu(self.conv5(x)))\n",
    "        x = x.view(-1,9216)\n",
    "        x = F.relu(self.drop(self.fc6(x)))\n",
    "        x = F.relu(self.drop(self.fc7(x)))\n",
    "        x = self.fc8(x)\n",
    "        return x"
   ]
  },
  {
   "cell_type": "code",
   "execution_count": 4,
   "id": "81be3191-980a-4b94-8537-5dba83109866",
   "metadata": {},
   "outputs": [],
   "source": [
    "model = ZFNet(num_classes=10).to(device)"
   ]
  },
  {
   "cell_type": "code",
   "execution_count": 5,
   "id": "c8516821-d41b-42a8-9e51-ddfb8f9ec87e",
   "metadata": {},
   "outputs": [
    {
     "name": "stdout",
     "output_type": "stream",
     "text": [
      "----------------------------------------------------------------\n",
      "        Layer (type)               Output Shape         Param #\n",
      "================================================================\n",
      "            Conv2d-1         [-1, 96, 112, 112]          14,208\n",
      "         MaxPool2d-2           [-1, 96, 55, 55]               0\n",
      " LocalResponseNorm-3           [-1, 96, 55, 55]               0\n",
      "            Conv2d-4          [-1, 256, 28, 28]         614,656\n",
      "         MaxPool2d-5          [-1, 256, 13, 13]               0\n",
      " LocalResponseNorm-6          [-1, 256, 13, 13]               0\n",
      "            Conv2d-7          [-1, 384, 13, 13]         885,120\n",
      "            Conv2d-8          [-1, 384, 13, 13]       1,327,488\n",
      "            Conv2d-9          [-1, 256, 13, 13]         884,992\n",
      "        MaxPool2d-10            [-1, 256, 6, 6]               0\n",
      "           Linear-11                 [-1, 4096]      37,752,832\n",
      "          Dropout-12                 [-1, 4096]               0\n",
      "           Linear-13                 [-1, 4096]      16,781,312\n",
      "          Dropout-14                 [-1, 4096]               0\n",
      "           Linear-15                   [-1, 10]          40,970\n",
      "================================================================\n",
      "Total params: 58,301,578\n",
      "Trainable params: 58,301,578\n",
      "Non-trainable params: 0\n",
      "----------------------------------------------------------------\n",
      "Input size (MB): 0.57\n",
      "Forward/backward pass size (MB): 17.33\n",
      "Params size (MB): 222.40\n",
      "Estimated Total Size (MB): 240.30\n",
      "----------------------------------------------------------------\n"
     ]
    }
   ],
   "source": [
    "summary(model, (3, 224, 224))"
   ]
  },
  {
   "cell_type": "markdown",
   "id": "43c7b151-a199-4e2a-8015-fdfb5f166284",
   "metadata": {},
   "source": [
    "# Train"
   ]
  },
  {
   "cell_type": "code",
   "execution_count": 6,
   "id": "1464e2bd-b627-475d-9941-f2a930d69a14",
   "metadata": {},
   "outputs": [],
   "source": [
    "criterion = nn.CrossEntropyLoss()\n",
    "optimizer = Adam(model.parameters(), lr=1e-3)  "
   ]
  },
  {
   "cell_type": "code",
   "execution_count": 7,
   "id": "04744c84-1e6d-4bfb-8dd5-abbdc91f102e",
   "metadata": {},
   "outputs": [],
   "source": [
    "# Function to compute loss and accuracy for test set\n",
    "def evaluate(model, testloader, criterion):\n",
    "    model.eval()\n",
    "    test_loss = 0.0\n",
    "    running_correct = 0\n",
    "    total = 0\n",
    "    with torch.no_grad():\n",
    "        for images, labels in testloader:\n",
    "            # Move inputs and labels to the device\n",
    "            images, labels = images.to(device), labels.to(device)\n",
    "\n",
    "            outputs = model(images)\n",
    "            loss = criterion(outputs, labels)\n",
    "            test_loss += loss.item()\n",
    "            \n",
    "            _, predicted = torch.max(outputs.data, 1)\n",
    "            total += labels.size(0)\n",
    "            running_correct += (predicted == labels).sum().item()\n",
    "\n",
    "    accuracy = 100 * running_correct / total\n",
    "    test_loss = test_loss / len(testloader)\n",
    "    return test_loss, accuracy"
   ]
  },
  {
   "cell_type": "code",
   "execution_count": 8,
   "id": "f2402591-e7f7-4bdd-8962-c029cfcd9307",
   "metadata": {},
   "outputs": [],
   "source": [
    "# some parameter\n",
    "train_losses = []\n",
    "train_accuracies = []\n",
    "test_losses = []\n",
    "test_accuracies = []\n",
    "max_epoch = 150"
   ]
  },
  {
   "cell_type": "code",
   "execution_count": 9,
   "id": "190a58e1-0864-4818-a8d2-0f83212c6d13",
   "metadata": {},
   "outputs": [
    {
     "name": "stdout",
     "output_type": "stream",
     "text": [
      "Epoch [  1/150] \t Loss: 1.71538     Accuracy: 36.47% \t Test Loss: 1.41600     Test Accuracy: 48.30%\n",
      "Epoch [  2/150] \t Loss: 1.37770     Accuracy: 50.45% \t Test Loss: 1.24684     Test Accuracy: 55.67%\n",
      "Epoch [  3/150] \t Loss: 1.23797     Accuracy: 55.89% \t Test Loss: 1.23605     Test Accuracy: 57.05%\n",
      "Epoch [  4/150] \t Loss: 1.14273     Accuracy: 59.76% \t Test Loss: 1.11094     Test Accuracy: 60.77%\n",
      "Epoch [  5/150] \t Loss: 1.06057     Accuracy: 62.68% \t Test Loss: 1.14292     Test Accuracy: 59.00%\n",
      "Epoch [  6/150] \t Loss: 0.97882     Accuracy: 65.67% \t Test Loss: 1.04974     Test Accuracy: 63.89%\n",
      "Epoch [  7/150] \t Loss: 0.92624     Accuracy: 67.43% \t Test Loss: 1.03885     Test Accuracy: 63.77%\n",
      "Epoch [  8/150] \t Loss: 0.86210     Accuracy: 69.59% \t Test Loss: 1.01439     Test Accuracy: 65.59%\n",
      "Epoch [  9/150] \t Loss: 0.80977     Accuracy: 71.55% \t Test Loss: 1.06166     Test Accuracy: 63.12%\n",
      "Epoch [ 10/150] \t Loss: 0.75609     Accuracy: 73.25% \t Test Loss: 0.99456     Test Accuracy: 65.38%\n",
      "Epoch [ 11/150] \t Loss: 0.71277     Accuracy: 74.92% \t Test Loss: 0.98514     Test Accuracy: 66.38%\n",
      "Epoch [ 12/150] \t Loss: 0.65720     Accuracy: 76.94% \t Test Loss: 1.02504     Test Accuracy: 65.51%\n",
      "Epoch [ 13/150] \t Loss: 0.61911     Accuracy: 78.02% \t Test Loss: 0.99868     Test Accuracy: 66.16%\n",
      "Epoch [ 14/150] \t Loss: 0.57170     Accuracy: 79.87% \t Test Loss: 1.02963     Test Accuracy: 66.21%\n",
      "Epoch [ 15/150] \t Loss: 0.54368     Accuracy: 81.00% \t Test Loss: 1.01385     Test Accuracy: 66.63%\n",
      "Epoch [ 16/150] \t Loss: 0.51389     Accuracy: 82.35% \t Test Loss: 1.10861     Test Accuracy: 64.76%\n",
      "Epoch [ 17/150] \t Loss: 0.48700     Accuracy: 83.26% \t Test Loss: 1.06779     Test Accuracy: 66.77%\n",
      "Epoch [ 18/150] \t Loss: 0.45720     Accuracy: 84.26% \t Test Loss: 1.06186     Test Accuracy: 66.17%\n",
      "Epoch [ 19/150] \t Loss: 0.44572     Accuracy: 84.87% \t Test Loss: 1.08434     Test Accuracy: 65.85%\n",
      "Epoch [ 20/150] \t Loss: 0.43137     Accuracy: 85.34% \t Test Loss: 1.09279     Test Accuracy: 66.26%\n",
      "Epoch [ 21/150] \t Loss: 0.41676     Accuracy: 85.96% \t Test Loss: 1.07650     Test Accuracy: 67.08%\n",
      "Epoch [ 22/150] \t Loss: 0.40186     Accuracy: 86.39% \t Test Loss: 1.11713     Test Accuracy: 65.74%\n",
      "Epoch [ 23/150] \t Loss: 0.36824     Accuracy: 87.56% \t Test Loss: 1.11735     Test Accuracy: 66.76%\n",
      "Epoch [ 24/150] \t Loss: 0.35993     Accuracy: 88.09% \t Test Loss: 1.09649     Test Accuracy: 67.13%\n",
      "Epoch [ 25/150] \t Loss: 0.36105     Accuracy: 88.09% \t Test Loss: 1.17549     Test Accuracy: 64.84%\n",
      "Epoch [ 26/150] \t Loss: 0.35039     Accuracy: 88.48% \t Test Loss: 1.18961     Test Accuracy: 65.90%\n",
      "Epoch [ 27/150] \t Loss: 0.33401     Accuracy: 88.97% \t Test Loss: 1.15900     Test Accuracy: 65.64%\n",
      "Epoch [ 28/150] \t Loss: 0.32162     Accuracy: 89.40% \t Test Loss: 1.17991     Test Accuracy: 66.63%\n",
      "Epoch [ 29/150] \t Loss: 0.32613     Accuracy: 89.33% \t Test Loss: 1.15262     Test Accuracy: 67.26%\n",
      "Epoch [ 30/150] \t Loss: 0.30799     Accuracy: 89.80% \t Test Loss: 1.18751     Test Accuracy: 66.06%\n",
      "Epoch [ 31/150] \t Loss: 0.31647     Accuracy: 89.65% \t Test Loss: 1.15575     Test Accuracy: 66.68%\n",
      "Epoch [ 32/150] \t Loss: 0.30119     Accuracy: 90.14% \t Test Loss: 1.24685     Test Accuracy: 66.33%\n",
      "Epoch [ 33/150] \t Loss: 0.29156     Accuracy: 90.62% \t Test Loss: 1.19017     Test Accuracy: 66.05%\n",
      "Epoch [ 34/150] \t Loss: 0.28402     Accuracy: 90.72% \t Test Loss: 1.22303     Test Accuracy: 65.67%\n",
      "Epoch [ 35/150] \t Loss: 0.29212     Accuracy: 90.74% \t Test Loss: 1.18577     Test Accuracy: 65.42%\n",
      "Epoch [ 36/150] \t Loss: 0.27573     Accuracy: 91.17% \t Test Loss: 1.18476     Test Accuracy: 66.30%\n",
      "Epoch [ 37/150] \t Loss: 0.28070     Accuracy: 91.07% \t Test Loss: 1.19622     Test Accuracy: 66.68%\n",
      "Epoch [ 38/150] \t Loss: 0.27866     Accuracy: 91.21% \t Test Loss: 1.26971     Test Accuracy: 65.09%\n",
      "Epoch [ 39/150] \t Loss: 0.27872     Accuracy: 91.28% \t Test Loss: 1.28263     Test Accuracy: 65.38%\n",
      "Epoch [ 40/150] \t Loss: 0.27587     Accuracy: 91.28% \t Test Loss: 1.21265     Test Accuracy: 66.37%\n",
      "Epoch [ 41/150] \t Loss: 0.26320     Accuracy: 91.74% \t Test Loss: 1.22582     Test Accuracy: 66.75%\n",
      "Epoch [ 42/150] \t Loss: 0.28149     Accuracy: 91.40% \t Test Loss: 1.19986     Test Accuracy: 65.40%\n",
      "Epoch [ 43/150] \t Loss: 0.24800     Accuracy: 92.29% \t Test Loss: 1.20907     Test Accuracy: 66.47%\n",
      "Epoch [ 44/150] \t Loss: 0.24686     Accuracy: 92.41% \t Test Loss: 1.28382     Test Accuracy: 66.58%\n",
      "Epoch [ 45/150] \t Loss: 0.27301     Accuracy: 91.64% \t Test Loss: 1.24618     Test Accuracy: 66.77%\n",
      "Epoch [ 46/150] \t Loss: 0.24841     Accuracy: 92.17% \t Test Loss: 1.29723     Test Accuracy: 65.80%\n",
      "Epoch [ 47/150] \t Loss: 0.24232     Accuracy: 92.43% \t Test Loss: 1.22463     Test Accuracy: 66.55%\n",
      "Epoch [ 48/150] \t Loss: 0.25026     Accuracy: 92.47% \t Test Loss: 1.22742     Test Accuracy: 66.55%\n",
      "Epoch [ 49/150] \t Loss: 0.23976     Accuracy: 92.46% \t Test Loss: 1.27601     Test Accuracy: 66.30%\n",
      "Epoch [ 50/150] \t Loss: 0.23721     Accuracy: 92.75% \t Test Loss: 1.29119     Test Accuracy: 66.53%\n",
      "Epoch [ 51/150] \t Loss: 0.22219     Accuracy: 92.97% \t Test Loss: 1.25247     Test Accuracy: 66.74%\n",
      "Epoch [ 52/150] \t Loss: 0.22421     Accuracy: 93.16% \t Test Loss: 1.32891     Test Accuracy: 66.05%\n",
      "Epoch [ 53/150] \t Loss: 0.24949     Accuracy: 92.53% \t Test Loss: 1.21646     Test Accuracy: 66.46%\n",
      "Epoch [ 54/150] \t Loss: 0.22685     Accuracy: 93.10% \t Test Loss: 1.23478     Test Accuracy: 65.87%\n",
      "Epoch [ 55/150] \t Loss: 0.24135     Accuracy: 92.72% \t Test Loss: 1.23997     Test Accuracy: 65.59%\n",
      "Epoch [ 56/150] \t Loss: 0.23334     Accuracy: 92.96% \t Test Loss: 1.18913     Test Accuracy: 66.20%\n",
      "Epoch [ 57/150] \t Loss: 0.22135     Accuracy: 93.15% \t Test Loss: 1.36837     Test Accuracy: 65.75%\n",
      "Epoch [ 58/150] \t Loss: 0.23419     Accuracy: 92.98% \t Test Loss: 1.28453     Test Accuracy: 66.44%\n",
      "Epoch [ 59/150] \t Loss: 0.21844     Accuracy: 93.48% \t Test Loss: 1.18918     Test Accuracy: 66.23%\n",
      "Epoch [ 60/150] \t Loss: 0.23404     Accuracy: 92.89% \t Test Loss: 1.34465     Test Accuracy: 65.88%\n",
      "Epoch [ 61/150] \t Loss: 0.22409     Accuracy: 93.21% \t Test Loss: 1.22558     Test Accuracy: 66.64%\n",
      "Epoch [ 62/150] \t Loss: 0.22939     Accuracy: 93.19% \t Test Loss: 1.28481     Test Accuracy: 66.74%\n",
      "Epoch [ 63/150] \t Loss: 0.21691     Accuracy: 93.48% \t Test Loss: 1.24693     Test Accuracy: 67.03%\n",
      "Epoch [ 64/150] \t Loss: 0.22351     Accuracy: 93.31% \t Test Loss: 1.26643     Test Accuracy: 66.14%\n",
      "Epoch [ 65/150] \t Loss: 0.21382     Accuracy: 93.53% \t Test Loss: 1.27075     Test Accuracy: 65.48%\n",
      "Epoch [ 66/150] \t Loss: 0.22152     Accuracy: 93.44% \t Test Loss: 1.39731     Test Accuracy: 64.84%\n",
      "Epoch [ 67/150] \t Loss: 0.22103     Accuracy: 93.54% \t Test Loss: 1.26314     Test Accuracy: 66.73%\n",
      "Epoch [ 68/150] \t Loss: 0.20879     Accuracy: 93.76% \t Test Loss: 1.32041     Test Accuracy: 66.33%\n",
      "Epoch [ 69/150] \t Loss: 0.21759     Accuracy: 93.60% \t Test Loss: 1.31289     Test Accuracy: 65.93%\n",
      "Epoch [ 70/150] \t Loss: 0.20223     Accuracy: 94.06% \t Test Loss: 1.33507     Test Accuracy: 65.33%\n",
      "Epoch [ 71/150] \t Loss: 0.21316     Accuracy: 93.68% \t Test Loss: 1.34649     Test Accuracy: 66.14%\n",
      "Epoch [ 72/150] \t Loss: 0.21074     Accuracy: 93.86% \t Test Loss: 1.38489     Test Accuracy: 64.86%\n",
      "Epoch [ 73/150] \t Loss: 0.21393     Accuracy: 93.74% \t Test Loss: 1.26875     Test Accuracy: 65.74%\n",
      "Epoch [ 74/150] \t Loss: 0.21854     Accuracy: 93.73% \t Test Loss: 1.31103     Test Accuracy: 67.12%\n",
      "Epoch [ 75/150] \t Loss: 0.19607     Accuracy: 94.33% \t Test Loss: 1.40954     Test Accuracy: 65.95%\n",
      "Epoch [ 76/150] \t Loss: 0.22257     Accuracy: 93.53% \t Test Loss: 1.43513     Test Accuracy: 66.26%\n",
      "Epoch [ 77/150] \t Loss: 0.20359     Accuracy: 94.15% \t Test Loss: 1.29213     Test Accuracy: 67.30%\n",
      "Epoch [ 78/150] \t Loss: 0.19208     Accuracy: 94.40% \t Test Loss: 1.29558     Test Accuracy: 66.21%\n",
      "Epoch [ 79/150] \t Loss: 0.21177     Accuracy: 93.79% \t Test Loss: 1.33810     Test Accuracy: 66.37%\n",
      "Epoch [ 80/150] \t Loss: 0.20938     Accuracy: 94.07% \t Test Loss: 1.27856     Test Accuracy: 66.28%\n",
      "Epoch [ 81/150] \t Loss: 0.19286     Accuracy: 94.36% \t Test Loss: 1.43103     Test Accuracy: 66.16%\n",
      "Epoch [ 82/150] \t Loss: 0.21407     Accuracy: 93.88% \t Test Loss: 1.33052     Test Accuracy: 65.89%\n",
      "Epoch [ 83/150] \t Loss: 0.19077     Accuracy: 94.53% \t Test Loss: 1.38443     Test Accuracy: 65.65%\n",
      "Epoch [ 84/150] \t Loss: 0.19692     Accuracy: 94.43% \t Test Loss: 1.34610     Test Accuracy: 66.65%\n",
      "Epoch [ 85/150] \t Loss: 0.19966     Accuracy: 94.44% \t Test Loss: 1.35582     Test Accuracy: 65.94%\n",
      "Epoch [ 86/150] \t Loss: 0.21942     Accuracy: 93.69% \t Test Loss: 1.29088     Test Accuracy: 65.36%\n",
      "Epoch [ 87/150] \t Loss: 0.19617     Accuracy: 94.45% \t Test Loss: 1.45707     Test Accuracy: 64.85%\n",
      "Epoch [ 88/150] \t Loss: 0.20160     Accuracy: 94.28% \t Test Loss: 1.28971     Test Accuracy: 65.82%\n",
      "Epoch [ 89/150] \t Loss: 0.21594     Accuracy: 93.94% \t Test Loss: 1.41480     Test Accuracy: 66.05%\n",
      "Epoch [ 90/150] \t Loss: 0.19323     Accuracy: 94.57% \t Test Loss: 1.40045     Test Accuracy: 66.32%\n",
      "Epoch [ 91/150] \t Loss: 0.19632     Accuracy: 94.47% \t Test Loss: 1.33281     Test Accuracy: 66.12%\n",
      "Epoch [ 92/150] \t Loss: 0.19264     Accuracy: 94.43% \t Test Loss: 1.46481     Test Accuracy: 65.65%\n",
      "Epoch [ 93/150] \t Loss: 0.20142     Accuracy: 94.30% \t Test Loss: 1.36216     Test Accuracy: 66.11%\n",
      "Epoch [ 94/150] \t Loss: 0.20569     Accuracy: 94.21% \t Test Loss: 1.37215     Test Accuracy: 66.37%\n",
      "Epoch [ 95/150] \t Loss: 0.20502     Accuracy: 94.24% \t Test Loss: 1.31873     Test Accuracy: 65.35%\n",
      "Epoch [ 96/150] \t Loss: 0.18680     Accuracy: 94.72% \t Test Loss: 1.40568     Test Accuracy: 65.78%\n",
      "Epoch [ 97/150] \t Loss: 0.21103     Accuracy: 93.99% \t Test Loss: 1.28509     Test Accuracy: 67.01%\n",
      "Epoch [ 98/150] \t Loss: 0.18738     Accuracy: 94.72% \t Test Loss: 1.43526     Test Accuracy: 66.00%\n",
      "Epoch [ 99/150] \t Loss: 0.17320     Accuracy: 95.08% \t Test Loss: 1.46053     Test Accuracy: 66.62%\n",
      "Epoch [100/150] \t Loss: 0.19186     Accuracy: 94.48% \t Test Loss: 1.36694     Test Accuracy: 66.08%\n",
      "Epoch [101/150] \t Loss: 0.19997     Accuracy: 94.45% \t Test Loss: 1.42686     Test Accuracy: 66.41%\n",
      "Epoch [102/150] \t Loss: 0.19087     Accuracy: 94.45% \t Test Loss: 1.40315     Test Accuracy: 64.70%\n",
      "Epoch [103/150] \t Loss: 0.19423     Accuracy: 94.53% \t Test Loss: 1.43804     Test Accuracy: 66.11%\n",
      "Epoch [104/150] \t Loss: 0.18742     Accuracy: 94.85% \t Test Loss: 1.32818     Test Accuracy: 65.42%\n",
      "Epoch [105/150] \t Loss: 0.19814     Accuracy: 94.49% \t Test Loss: 1.30242     Test Accuracy: 66.38%\n",
      "Epoch [106/150] \t Loss: 0.17147     Accuracy: 95.16% \t Test Loss: 1.43053     Test Accuracy: 65.85%\n",
      "Epoch [107/150] \t Loss: 0.19605     Accuracy: 94.55% \t Test Loss: 1.29844     Test Accuracy: 65.77%\n",
      "Epoch [108/150] \t Loss: 0.19496     Accuracy: 94.63% \t Test Loss: 1.45923     Test Accuracy: 65.92%\n",
      "Epoch [109/150] \t Loss: 0.19457     Accuracy: 94.51% \t Test Loss: 1.33070     Test Accuracy: 65.46%\n",
      "Epoch [110/150] \t Loss: 0.20981     Accuracy: 94.55% \t Test Loss: 1.42470     Test Accuracy: 55.86%\n",
      "Epoch [111/150] \t Loss: 0.29735     Accuracy: 91.34% \t Test Loss: 1.24776     Test Accuracy: 66.69%\n",
      "Epoch [112/150] \t Loss: 0.16289     Accuracy: 95.34% \t Test Loss: 1.44275     Test Accuracy: 66.67%\n",
      "Epoch [113/150] \t Loss: 0.18832     Accuracy: 94.75% \t Test Loss: 1.53597     Test Accuracy: 65.24%\n",
      "Epoch [114/150] \t Loss: 0.16953     Accuracy: 95.13% \t Test Loss: 1.37074     Test Accuracy: 66.62%\n",
      "Epoch [115/150] \t Loss: 0.17570     Accuracy: 95.06% \t Test Loss: 1.52578     Test Accuracy: 66.32%\n",
      "Epoch [116/150] \t Loss: 0.17398     Accuracy: 95.10% \t Test Loss: 1.40204     Test Accuracy: 66.23%\n",
      "Epoch [117/150] \t Loss: 0.19610     Accuracy: 94.51% \t Test Loss: 1.42294     Test Accuracy: 65.13%\n",
      "Epoch [118/150] \t Loss: 0.15512     Accuracy: 95.51% \t Test Loss: 1.47233     Test Accuracy: 66.62%\n",
      "Epoch [119/150] \t Loss: 0.22691     Accuracy: 94.12% \t Test Loss: 1.42933     Test Accuracy: 66.14%\n",
      "Epoch [120/150] \t Loss: 0.17702     Accuracy: 95.01% \t Test Loss: 1.40156     Test Accuracy: 65.30%\n",
      "Epoch [121/150] \t Loss: 0.17990     Accuracy: 95.06% \t Test Loss: 1.40514     Test Accuracy: 65.16%\n",
      "Epoch [122/150] \t Loss: 0.16967     Accuracy: 95.29% \t Test Loss: 1.42045     Test Accuracy: 65.71%\n",
      "Epoch [123/150] \t Loss: 0.18523     Accuracy: 94.87% \t Test Loss: 1.47257     Test Accuracy: 66.32%\n",
      "Epoch [124/150] \t Loss: 0.17615     Accuracy: 95.20% \t Test Loss: 1.38241     Test Accuracy: 67.02%\n"
     ]
    },
    {
     "ename": "KeyboardInterrupt",
     "evalue": "",
     "output_type": "error",
     "traceback": [
      "\u001b[0;31m---------------------------------------------------------------------------\u001b[0m",
      "\u001b[0;31mKeyboardInterrupt\u001b[0m                         Traceback (most recent call last)",
      "\u001b[1;32m/home/server-96gb-ailab/Desktop/Duc/Cross/arch_in_CNNs/image_size_224/ZFNet.ipynb Cell 14\u001b[0m line \u001b[0;36m2\n\u001b[1;32m     <a href='vscode-notebook-cell://ssh-remote%2B%5Cx41%5Cx44_%5Cx56inh_96%5Cx47%5Cx42/home/server-96gb-ailab/Desktop/Duc/Cross/arch_in_CNNs/image_size_224/ZFNet.ipynb#X16sdnNjb2RlLXJlbW90ZQ%3D%3D?line=24'>25</a>\u001b[0m     _, predicted \u001b[39m=\u001b[39m torch\u001b[39m.\u001b[39mmax(outputs\u001b[39m.\u001b[39mdata, \u001b[39m1\u001b[39m)\n\u001b[1;32m     <a href='vscode-notebook-cell://ssh-remote%2B%5Cx41%5Cx44_%5Cx56inh_96%5Cx47%5Cx42/home/server-96gb-ailab/Desktop/Duc/Cross/arch_in_CNNs/image_size_224/ZFNet.ipynb#X16sdnNjb2RlLXJlbW90ZQ%3D%3D?line=25'>26</a>\u001b[0m     total \u001b[39m+\u001b[39m\u001b[39m=\u001b[39m labels\u001b[39m.\u001b[39msize(\u001b[39m0\u001b[39m)\n\u001b[0;32m---> <a href='vscode-notebook-cell://ssh-remote%2B%5Cx41%5Cx44_%5Cx56inh_96%5Cx47%5Cx42/home/server-96gb-ailab/Desktop/Duc/Cross/arch_in_CNNs/image_size_224/ZFNet.ipynb#X16sdnNjb2RlLXJlbW90ZQ%3D%3D?line=26'>27</a>\u001b[0m     running_correct \u001b[39m+\u001b[39m\u001b[39m=\u001b[39m (predicted \u001b[39m==\u001b[39;49m labels)\u001b[39m.\u001b[39;49msum()\u001b[39m.\u001b[39;49mitem()\n\u001b[1;32m     <a href='vscode-notebook-cell://ssh-remote%2B%5Cx41%5Cx44_%5Cx56inh_96%5Cx47%5Cx42/home/server-96gb-ailab/Desktop/Duc/Cross/arch_in_CNNs/image_size_224/ZFNet.ipynb#X16sdnNjb2RlLXJlbW90ZQ%3D%3D?line=29'>30</a>\u001b[0m epoch_accuracy \u001b[39m=\u001b[39m \u001b[39m100\u001b[39m \u001b[39m*\u001b[39m running_correct \u001b[39m/\u001b[39m total\n\u001b[1;32m     <a href='vscode-notebook-cell://ssh-remote%2B%5Cx41%5Cx44_%5Cx56inh_96%5Cx47%5Cx42/home/server-96gb-ailab/Desktop/Duc/Cross/arch_in_CNNs/image_size_224/ZFNet.ipynb#X16sdnNjb2RlLXJlbW90ZQ%3D%3D?line=30'>31</a>\u001b[0m epoch_loss \u001b[39m=\u001b[39m running_loss \u001b[39m/\u001b[39m (i \u001b[39m+\u001b[39m \u001b[39m1\u001b[39m)\n",
      "\u001b[0;31mKeyboardInterrupt\u001b[0m: "
     ]
    }
   ],
   "source": [
    "# train\n",
    "for epoch in range(max_epoch):\n",
    "    model.train()\n",
    "    running_loss = 0.0\n",
    "    running_correct = 0   # to track number of correct predictions\n",
    "    total = 0             # to track total number of samples\n",
    "\n",
    "    for i, (inputs, labels) in enumerate(trainloader, 0):\n",
    "        # Move inputs and labels to the device\n",
    "        inputs, labels = inputs.to(device), labels.to(device)\n",
    "\n",
    "        # Zero the parameter gradients\n",
    "        optimizer.zero_grad()\n",
    "\n",
    "        # Forward pass\n",
    "        outputs = model(inputs)\n",
    "        loss = criterion(outputs, labels)\n",
    "        running_loss += loss.item()\n",
    "\n",
    "        # Backward pass and optimization\n",
    "        loss.backward()\n",
    "        optimizer.step()  \n",
    "    \n",
    "        # Determine class predictions and track accuracy\n",
    "        _, predicted = torch.max(outputs.data, 1)\n",
    "        total += labels.size(0)\n",
    "        running_correct += (predicted == labels).sum().item()\n",
    "\n",
    "\n",
    "    epoch_accuracy = 100 * running_correct / total\n",
    "    epoch_loss = running_loss / (i + 1)\n",
    "    \n",
    "    test_loss, test_accuracy = evaluate(model, testloader, criterion)\n",
    "    print(f\"Epoch [{(epoch + 1):3}/{max_epoch:3}] \\t Loss: {epoch_loss:<11.5f} Accuracy: {epoch_accuracy:.2f}% \\t Test Loss: {test_loss:<11.5f} Test Accuracy: {test_accuracy:.2f}%\")\n",
    "    \n",
    "    # save for plot\n",
    "    train_losses.append(epoch_loss)\n",
    "    train_accuracies.append(epoch_accuracy)\n",
    "    test_losses.append(test_loss)\n",
    "    test_accuracies.append(test_accuracy)"
   ]
  },
  {
   "cell_type": "code",
   "execution_count": 10,
   "id": "cebcb439-88f2-40b6-9a17-4990ad324731",
   "metadata": {},
   "outputs": [
    {
     "name": "stdout",
     "output_type": "stream",
     "text": [
      "\n",
      "Best epoch: 77 with test accuracy: 67.30%\n"
     ]
    }
   ],
   "source": [
    "# the best accuracy\n",
    "best_epoch = np.argmax(test_accuracies)\n",
    "print(f\"\\nBest epoch: {best_epoch + 1} with test accuracy: {test_accuracies[best_epoch]:.2f}%\")"
   ]
  },
  {
   "cell_type": "markdown",
   "metadata": {},
   "source": [
    "# Plot results"
   ]
  },
  {
   "cell_type": "code",
   "execution_count": null,
   "id": "DkC3_902Lgn-",
   "metadata": {
    "executionInfo": {
     "elapsed": 3,
     "status": "ok",
     "timestamp": 1673091684322,
     "user": {
      "displayName": "Thắng Dương Đình",
      "userId": "02196529682032971345"
     },
     "user_tz": -420
    },
    "id": "DkC3_902Lgn-"
   },
   "outputs": [
    {
     "data": {
      "text/plain": [
       "<matplotlib.legend.Legend at 0x7fa7efd4e880>"
      ]
     },
     "execution_count": 11,
     "metadata": {},
     "output_type": "execute_result"
    },
    {
     "data": {
      "image/png": "[encoded data removed]",
      "text/plain": [
       "<Figure size 640x480 with 1 Axes>"
      ]
     },
     "metadata": {},
     "output_type": "display_data"
    }
   ],
   "source": [
    "plt.plot(train_losses, label='train_losses')\n",
    "plt.plot(test_losses, label='test_losses')\n",
    "plt.legend()"
   ]
  },
  {
   "cell_type": "code",
   "execution_count": null,
   "id": "794f4e81",
   "metadata": {
    "executionInfo": {
     "elapsed": 8,
     "status": "ok",
     "timestamp": 1673092872464,
     "user": {
      "displayName": "Thắng Dương Đình",
      "userId": "02196529682032971345"
     },
     "user_tz": -420
    },
    "id": "794f4e81"
   },
   "outputs": [
    {
     "data": {
      "text/plain": [
       "<matplotlib.legend.Legend at 0x7fa74069ad90>"
      ]
     },
     "execution_count": 12,
     "metadata": {},
     "output_type": "execute_result"
    },
    {
     "data": {
      "image/png": "[encoded data removed]",
      "text/plain": [
       "<Figure size 640x480 with 1 Axes>"
      ]
     },
     "metadata": {},
     "output_type": "display_data"
    }
   ],
   "source": [
    "plt.plot(train_accuracies, label='train_accuracy')\n",
    "plt.plot(test_accuracies, label='test_accuracy')\n",
    "plt.legend()"
   ]
  },
  {
   "cell_type": "code",
   "execution_count": null,
   "id": "a2ec7c96-ff05-4863-92e7-c45f2f0e3d03",
   "metadata": {},
   "outputs": [],
   "source": []
  },
  {
   "cell_type": "code",
   "execution_count": null,
   "id": "8c86325e-7b6c-43a6-b315-93e02bcdb264",
   "metadata": {},
   "outputs": [],
   "source": []
  }
 ],
 "metadata": {
  "accelerator": "GPU",
  "colab": {
   "provenance": []
  },
  "gpuClass": "standard",
  "kernelspec": {
   "display_name": "Python 3 (ipykernel)",
   "language": "python",
   "name": "python3"
  },
  "language_info": {
   "codemirror_mode": {
    "name": "ipython",
    "version": 3
   },
   "file_extension": ".py",
   "mimetype": "text/x-python",
   "name": "python",
   "nbconvert_exporter": "python",
   "pygments_lexer": "ipython3",
   "version": "3.8.0"
  },
  "widgets": {
   "application/vnd.jupyter.widget-state+json": {
    "00397590a13d454d8b16fd8d15ae9b41": {
     "model_module": "@jupyter-widgets/controls",
     "model_module_version": "1.5.0",
     "model_name": "DescriptionStyleModel",
     "state": {
      "_model_module": "@jupyter-widgets/controls",
      "_model_module_version": "1.5.0",
      "_model_name": "DescriptionStyleModel",
      "_view_count": null,
      "_view_module": "@jupyter-widgets/base",
      "_view_module_version": "1.2.0",
      "_view_name": "StyleView",
      "description_width": ""
     }
    },
    "0a3d339ba81a4f22b893250502c493af": {
     "model_module": "@jupyter-widgets/base",
     "model_module_version": "1.2.0",
     "model_name": "LayoutModel",
     "state": {
      "_model_module": "@jupyter-widgets/base",
      "_model_module_version": "1.2.0",
      "_model_name": "LayoutModel",
      "_view_count": null,
      "_view_module": "@jupyter-widgets/base",
      "_view_module_version": "1.2.0",
      "_view_name": "LayoutView",
      "align_content": null,
      "align_items": null,
      "align_self": null,
      "border": null,
      "bottom": null,
      "display": null,
      "flex": null,
      "flex_flow": null,
      "grid_area": null,
      "grid_auto_columns": null,
      "grid_auto_flow": null,
      "grid_auto_rows": null,
      "grid_column": null,
      "grid_gap": null,
      "grid_row": null,
      "grid_template_areas": null,
      "grid_template_columns": null,
      "grid_template_rows": null,
      "height": null,
      "justify_content": null,
      "justify_items": null,
      "left": null,
      "margin": null,
      "max_height": null,
      "max_width": null,
      "min_height": null,
      "min_width": null,
      "object_fit": null,
      "object_position": null,
      "order": null,
      "overflow": null,
      "overflow_x": null,
      "overflow_y": null,
      "padding": null,
      "right": null,
      "top": null,
      "visibility": null,
      "width": null
     }
    },
    "4691e220a8cb466bb46540f16f65e864": {
     "model_module": "@jupyter-widgets/controls",
     "model_module_version": "1.5.0",
     "model_name": "ProgressStyleModel",
     "state": {
      "_model_module": "@jupyter-widgets/controls",
      "_model_module_version": "1.5.0",
      "_model_name": "ProgressStyleModel",
      "_view_count": null,
      "_view_module": "@jupyter-widgets/base",
      "_view_module_version": "1.2.0",
      "_view_name": "StyleView",
      "bar_color": null,
      "description_width": ""
     }
    },
    "56c90ad0a7fb47d08727a7dac3f68f39": {
     "model_module": "@jupyter-widgets/base",
     "model_module_version": "1.2.0",
     "model_name": "LayoutModel",
     "state": {
      "_model_module": "@jupyter-widgets/base",
      "_model_module_version": "1.2.0",
      "_model_name": "LayoutModel",
      "_view_count": null,
      "_view_module": "@jupyter-widgets/base",
      "_view_module_version": "1.2.0",
      "_view_name": "LayoutView",
      "align_content": null,
      "align_items": null,
      "align_self": null,
      "border": null,
      "bottom": null,
      "display": null,
      "flex": null,
      "flex_flow": null,
      "grid_area": null,
      "grid_auto_columns": null,
      "grid_auto_flow": null,
      "grid_auto_rows": null,
      "grid_column": null,
      "grid_gap": null,
      "grid_row": null,
      "grid_template_areas": null,
      "grid_template_columns": null,
      "grid_template_rows": null,
      "height": null,
      "justify_content": null,
      "justify_items": null,
      "left": null,
      "margin": null,
      "max_height": null,
      "max_width": null,
      "min_height": null,
      "min_width": null,
      "object_fit": null,
      "object_position": null,
      "order": null,
      "overflow": null,
      "overflow_x": null,
      "overflow_y": null,
      "padding": null,
      "right": null,
      "top": null,
      "visibility": null,
      "width": null
     }
    },
    "619c9ef51fc5497f81b4af88db9214cc": {
     "model_module": "@jupyter-widgets/controls",
     "model_module_version": "1.5.0",
     "model_name": "DescriptionStyleModel",
     "state": {
      "_model_module": "@jupyter-widgets/controls",
      "_model_module_version": "1.5.0",
      "_model_name": "DescriptionStyleModel",
      "_view_count": null,
      "_view_module": "@jupyter-widgets/base",
      "_view_module_version": "1.2.0",
      "_view_name": "StyleView",
      "description_width": ""
     }
    },
    "7c95c188ecf242de9776dcfd3e3fc8d2": {
     "model_module": "@jupyter-widgets/base",
     "model_module_version": "1.2.0",
     "model_name": "LayoutModel",
     "state": {
      "_model_module": "@jupyter-widgets/base",
      "_model_module_version": "1.2.0",
      "_model_name": "LayoutModel",
      "_view_count": null,
      "_view_module": "@jupyter-widgets/base",
      "_view_module_version": "1.2.0",
      "_view_name": "LayoutView",
      "align_content": null,
      "align_items": null,
      "align_self": null,
      "border": null,
      "bottom": null,
      "display": null,
      "flex": null,
      "flex_flow": null,
      "grid_area": null,
      "grid_auto_columns": null,
      "grid_auto_flow": null,
      "grid_auto_rows": null,
      "grid_column": null,
      "grid_gap": null,
      "grid_row": null,
      "grid_template_areas": null,
      "grid_template_columns": null,
      "grid_template_rows": null,
      "height": null,
      "justify_content": null,
      "justify_items": null,
      "left": null,
      "margin": null,
      "max_height": null,
      "max_width": null,
      "min_height": null,
      "min_width": null,
      "object_fit": null,
      "object_position": null,
      "order": null,
      "overflow": null,
      "overflow_x": null,
      "overflow_y": null,
      "padding": null,
      "right": null,
      "top": null,
      "visibility": null,
      "width": null
     }
    },
    "8a6ed597588f4c07bff4271aeba7c1bb": {
     "model_module": "@jupyter-widgets/controls",
     "model_module_version": "1.5.0",
     "model_name": "HBoxModel",
     "state": {
      "_dom_classes": [],
      "_model_module": "@jupyter-widgets/controls",
      "_model_module_version": "1.5.0",
      "_model_name": "HBoxModel",
      "_view_count": null,
      "_view_module": "@jupyter-widgets/controls",
      "_view_module_version": "1.5.0",
      "_view_name": "HBoxView",
      "box_style": "",
      "children": [
       "IPY_MODEL_e09dd53ac3044e3097ed084354a52e13",
       "IPY_MODEL_8b2a0088b39741f6968c95f40ff787e6",
       "IPY_MODEL_cf5fb8e067be464bb14a1cf5e8b4e2de"
      ],
      "layout": "IPY_MODEL_0a3d339ba81a4f22b893250502c493af"
     }
    },
    "8b2a0088b39741f6968c95f40ff787e6": {
     "model_module": "@jupyter-widgets/controls",
     "model_module_version": "1.5.0",
     "model_name": "FloatProgressModel",
     "state": {
      "_dom_classes": [],
      "_model_module": "@jupyter-widgets/controls",
      "_model_module_version": "1.5.0",
      "_model_name": "FloatProgressModel",
      "_view_count": null,
      "_view_module": "@jupyter-widgets/controls",
      "_view_module_version": "1.5.0",
      "_view_name": "ProgressView",
      "bar_style": "success",
      "description": "",
      "description_tooltip": null,
      "layout": "IPY_MODEL_56c90ad0a7fb47d08727a7dac3f68f39",
      "max": 170498071,
      "min": 0,
      "orientation": "horizontal",
      "style": "IPY_MODEL_4691e220a8cb466bb46540f16f65e864",
      "value": 170498071
     }
    },
    "cf5fb8e067be464bb14a1cf5e8b4e2de": {
     "model_module": "@jupyter-widgets/controls",
     "model_module_version": "1.5.0",
     "model_name": "HTMLModel",
     "state": {
      "_dom_classes": [],
      "_model_module": "@jupyter-widgets/controls",
      "_model_module_version": "1.5.0",
      "_model_name": "HTMLModel",
      "_view_count": null,
      "_view_module": "@jupyter-widgets/controls",
      "_view_module_version": "1.5.0",
      "_view_name": "HTMLView",
      "description": "",
      "description_tooltip": null,
      "layout": "IPY_MODEL_7c95c188ecf242de9776dcfd3e3fc8d2",
      "placeholder": "​",
      "style": "IPY_MODEL_619c9ef51fc5497f81b4af88db9214cc",
      "value": " 170498071/170498071 [00:01&lt;00:00, 97303096.82it/s]"
     }
    },
    "e09dd53ac3044e3097ed084354a52e13": {
     "model_module": "@jupyter-widgets/controls",
     "model_module_version": "1.5.0",
     "model_name": "HTMLModel",
     "state": {
      "_dom_classes": [],
      "_model_module": "@jupyter-widgets/controls",
      "_model_module_version": "1.5.0",
      "_model_name": "HTMLModel",
      "_view_count": null,
      "_view_module": "@jupyter-widgets/controls",
      "_view_module_version": "1.5.0",
      "_view_name": "HTMLView",
      "description": "",
      "description_tooltip": null,
      "layout": "IPY_MODEL_f4c44a600db84290a51877583e18ee26",
      "placeholder": "​",
      "style": "IPY_MODEL_00397590a13d454d8b16fd8d15ae9b41",
      "value": "100%"
     }
    },
    "f4c44a600db84290a51877583e18ee26": {
     "model_module": "@jupyter-widgets/base",
     "model_module_version": "1.2.0",
     "model_name": "LayoutModel",
     "state": {
      "_model_module": "@jupyter-widgets/base",
      "_model_module_version": "1.2.0",
      "_model_name": "LayoutModel",
      "_view_count": null,
      "_view_module": "@jupyter-widgets/base",
      "_view_module_version": "1.2.0",
      "_view_name": "LayoutView",
      "align_content": null,
      "align_items": null,
      "align_self": null,
      "border": null,
      "bottom": null,
      "display": null,
      "flex": null,
      "flex_flow": null,
      "grid_area": null,
      "grid_auto_columns": null,
      "grid_auto_flow": null,
      "grid_auto_rows": null,
      "grid_column": null,
      "grid_gap": null,
      "grid_row": null,
      "grid_template_areas": null,
      "grid_template_columns": null,
      "grid_template_rows": null,
      "height": null,
      "justify_content": null,
      "justify_items": null,
      "left": null,
      "margin": null,
      "max_height": null,
      "max_width": null,
      "min_height": null,
      "min_width": null,
      "object_fit": null,
      "object_position": null,
      "order": null,
      "overflow": null,
      "overflow_x": null,
      "overflow_y": null,
      "padding": null,
      "right": null,
      "top": null,
      "visibility": null,
      "width": null
     }
    }
   }
  }
 },
 "nbformat": 4,
 "nbformat_minor": 5
}
